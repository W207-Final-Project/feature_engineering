{
 "cells": [
  {
   "cell_type": "code",
   "execution_count": 88,
   "metadata": {},
   "outputs": [],
   "source": [
    "import re\n",
    "import numpy as np\n",
    "import pandas as pd\n",
    "import os\n",
    "import matplotlib.pyplot as plt\n",
    "from wordcloud import WordCloud\n",
    "\n",
    "# SK-learn libraries for learning.\n",
    "from sklearn.pipeline import Pipeline\n",
    "from sklearn.neighbors import KNeighborsClassifier\n",
    "from sklearn.linear_model import LogisticRegression\n",
    "from sklearn.naive_bayes import BernoulliNB\n",
    "from sklearn.naive_bayes import MultinomialNB\n",
    "from sklearn.grid_search import GridSearchCV\n",
    "from sklearn.ensemble import RandomForestClassifier as RF\n",
    "from sklearn.svm import SVC\n",
    "from sklearn.svm import LinearSVC as LSVC\n",
    "from sklearn.decomposition import TruncatedSVD as TSVD\n",
    "from scipy.sparse import hstack\n",
    "from sklearn.feature_selection import SelectFromModel\n",
    "from sklearn.preprocessing import StandardScaler\n",
    "\n",
    "# SK-learn libraries for evaluation.\n",
    "from sklearn.metrics import confusion_matrix\n",
    "from sklearn import metrics\n",
    "from sklearn.metrics import classification_report\n",
    "from sklearn.metrics import roc_auc_score\n",
    "\n",
    "# SK-learn libraries for feature extraction from text.\n",
    "from sklearn.feature_extraction.text import *\n",
    "\n",
    "# SK-learn libraries for model selection \n",
    "from sklearn.model_selection import train_test_split\n",
    "\n",
    "# json libraries to parse json file\n",
    "import json\n",
    "from pandas.io.json import json_normalize\n",
    "\n",
    "import gensim\n",
    "from gensim import utils\n"
   ]
  },
  {
   "cell_type": "code",
   "execution_count": 17,
   "metadata": {},
   "outputs": [
    {
     "name": "stdout",
     "output_type": "stream",
     "text": [
      "Train shape:  (4040, 32)\n",
      "Test shape:  (1631, 17)\n",
      "Columns in Train but not Test:\n",
      " {'request_text', 'number_of_downvotes_of_request_at_retrieval', 'requester_account_age_in_days_at_retrieval', 'requester_upvotes_plus_downvotes_at_retrieval', 'requester_number_of_posts_on_raop_at_retrieval', 'requester_number_of_comments_in_raop_at_retrieval', 'requester_received_pizza', 'request_number_of_comments_at_retrieval', 'post_was_edited', 'requester_user_flair', 'requester_number_of_comments_at_retrieval', 'number_of_upvotes_of_request_at_retrieval', 'requester_upvotes_minus_downvotes_at_retrieval', 'requester_days_since_first_post_on_raop_at_retrieval', 'requester_number_of_posts_at_retrieval'}\n",
      "\n",
      "Columns in Test but not Train: set()\n"
     ]
    }
   ],
   "source": [
    "os.chdir(\"/Users/gurditchahal/W207/coursework/Final_Project_Random_Acts/EDA\")\n",
    "# read json file\n",
    "train_json = json.load(open('train.json'))\n",
    "\n",
    "# normalize data and put in a dataframe\n",
    "train_json_df = json_normalize(train_json)\n",
    "\n",
    "# read json file\n",
    "test_json = json.load(open('test.json'))\n",
    "\n",
    "# normalize data and put in a dataframe\n",
    "test_json_df = json_normalize(test_json)\n",
    "\n",
    "print(\"Train shape: \", train_json_df.shape)\n",
    "print(\"Test shape: \", test_json_df.shape)\n",
    "\n",
    "train_only_columns = set(train_json_df.columns.values)-set(test_json_df.columns.values)\n",
    "print(\"Columns in Train but not Test:\\n\",train_only_columns)\n",
    "test_only_columns = set(test_json_df.columns.values)-set(train_json_df.columns.values)\n",
    "print(\"\\nColumns in Test but not Train:\",test_only_columns)\n",
    "test_w_train_col = train_json_df[test_json_df.columns.values]"
   ]
  },
  {
   "cell_type": "code",
   "execution_count": 18,
   "metadata": {},
   "outputs": [],
   "source": [
    "# 0 means the user doesn't receive pizza & 1 means the user receives pizza\n",
    "train_labels = train_json_df.requester_received_pizza.astype(int).as_matrix()\n",
    "\n",
    "# split the training data into training data and dev data \n",
    "train_data, dev_data, train_labels, dev_labels = \\\n",
    "            train_test_split(test_w_train_col, train_labels, test_size=0.2, random_state=12)\n",
    "    "
   ]
  },
  {
   "cell_type": "code",
   "execution_count": 19,
   "metadata": {},
   "outputs": [],
   "source": [
    "train_text=train_data['request_text_edit_aware'] +' '+train_data['request_title']\n",
    "dev_text=dev_data['request_text_edit_aware'] +' '+dev_data['request_title']"
   ]
  },
  {
   "cell_type": "code",
   "execution_count": 20,
   "metadata": {},
   "outputs": [],
   "source": [
    "# Narratives per Standford paper\n",
    "money = [\"money\", \"now\", \"broke\", \"week\", \"until\", \"time\",\n",
    "          \"last\", \"day\", \"when\", \"today\", \"tonight\", \"paid\", \"next\",\n",
    "          \"first\", \"night\", \"after\", \"tomorrow\", \"month\", \"while\",\n",
    "          \"account\", \"before\", \"long\", \"Friday\", \"rent\", \"buy\",\n",
    "          \"bank\", \"still\", \"bills\", \"ago\", \"cash\", \"due\",\n",
    "          \"soon\", \"past\", \"never\", \"paycheck\", \"check\", \"spent\",\n",
    "          \"years\", \"poor\", \"till\", \"yesterday\", \"morning\", \"dollars\",\n",
    "          \"financial\", \"hour\", \"bill\", \"evening\", \"credit\",\n",
    "          \"budget\", \"loan\", \"bucks\", \"deposit\", \"dollar\", \"current\",\n",
    "          \"payed\"]\n",
    "job =[\"work\", \"job\", \"paycheck\", \"unemployment\", \"interview\",\n",
    "          \"fired\", \"employment\", \"hired\", \"hire\"]\n",
    "student = [\"college\", \"student\", \"school\", \"roommate\",\n",
    "          \"studying\", \"university\", \"finals\", \"semester\",\n",
    "          \"class\", \"study\", \"project\", \"dorm\", \"tuition\"]\n",
    "family =[\"family\", \"mom\", \"wife\", \"parents\", \"mother\", \"husband\",\n",
    "           \"dad\", \"son\", \"daughter\", \"father\", \"parent\",\n",
    "           \"mum\"]\n",
    "craving = [\"friend\", \"girlfriend\", \"craving\", \"birthday\",\n",
    "          \"boyfriend\", \"celebrate\", \"party\", \"game\", \"games\",\n",
    "          \"movie\", \"date\", \"drunk\", \"beer\", \"celebrating\", \"invited\",\n",
    "          \"drinks\", \"crave\", \"wasted\", \"invite\"]\n",
    "\n",
    "narratives = [money, job, student, family, craving]\n",
    "\n",
    "\n"
   ]
  },
  {
   "cell_type": "code",
   "execution_count": 21,
   "metadata": {},
   "outputs": [],
   "source": [
    "import string\n",
    "\n",
    "def pre_proccess(s):\n",
    "    s = re.sub(\"[^\\w']|_\", \" \", s) \n",
    "    s=s.translate(str.maketrans(' ',' ',string.punctuation))#strip punctuation before looking\n",
    "    s=s.lower()\n",
    "    return s\n"
   ]
  },
  {
   "cell_type": "code",
   "execution_count": 31,
   "metadata": {},
   "outputs": [],
   "source": [
    "def construct_ft_mat(train_data):\n",
    "    feat_mat=pd.DataFrame()\n",
    "    feat_mat['hour_request']=pd.to_datetime(train_data['unix_timestamp_of_request_utc'],unit = 's').dt.hour\n",
    "    feat_mat['hour_request']=pd.to_datetime(train_data['unix_timestamp_of_request_utc'],unit = 's').dt.day\n",
    "    feat_mat['hour_request']=pd.to_datetime(train_data['unix_timestamp_of_request_utc'],unit = 's').dt.month\n",
    "    #feat_mat['month_request']=pd.to_datetime(train_data['unix_timestamp_of_request'],unit = 's').dt.month\n",
    "    feat_mat['first_post']=np.log(train_data['requester_days_since_first_post_on_raop_at_request']+1)\n",
    "    feat_mat['upvotes_minus_downvotes']=train_data['requester_upvotes_minus_downvotes_at_request']\n",
    "    feat_mat['upvotes_plus_downvotes_at_request']=np.log(train_data['requester_upvotes_plus_downvotes_at_request']+1)\n",
    "    upvotes=train_data.apply(lambda row: (row['requester_upvotes_plus_downvotes_at_request'] + row['requester_upvotes_minus_downvotes_at_request'])/2,axis=1)\n",
    "    downvotes=train_data.apply(lambda row: (row['requester_upvotes_plus_downvotes_at_request']- row['requester_upvotes_minus_downvotes_at_request'])/2,axis=1)\n",
    "    feat_mat['upvotes']=upvotes\n",
    "    feat_mat['vote_ratio']=upvotes/(upvotes+downvotes+1)\n",
    "    feat_mat['req_age']=np.log(train_data['requester_account_age_in_days_at_request']+1)\n",
    "    feat_mat['num_subs']=np.log(train_data['requester_number_of_subreddits_at_request']+1)\n",
    "    feat_mat['num_posts']=np.log(train_data['requester_number_of_posts_at_request']+1)\n",
    "    feat_mat['pizza_activity']=np.log(train_data['requester_number_of_posts_on_raop_at_request']+1)\n",
    "    feat_mat['len_request']=np.log(train_data['request_text_edit_aware'].apply(len)+1)\n",
    "    feat_mat['len_title']=np.log(train_data['request_title'].apply(len)+1)\n",
    "    #feat_mat['len_name']=train_data['requester_username'].apply(len)\n",
    "    feat_mat['pizza_comments']=np.log(train_data['requester_number_of_comments_in_raop_at_request']+1)\n",
    "    feat_mat['hyperlink'] = train_data['request_text_edit_aware'].apply(lambda x: 1 if re.search(\"http|www\", x) else 0)\n",
    "    # reciprocity indicator\n",
    "    feat_mat['reciprocity'] = train_data['request_text_edit_aware'].apply(lambda x:1 if re.search(\"repay|pay.+back|pay.+forward|return.+favor\", x) \n",
    "                                               else 0)\n",
    "    feat_mat['politeness'] = train_data['request_text_edit_aware'].apply(lambda x: 1 if re.search(\"thank|appreciate|advance\", x) else 0)\n",
    "    \n",
    "    return feat_mat"
   ]
  },
  {
   "cell_type": "code",
   "execution_count": 32,
   "metadata": {},
   "outputs": [],
   "source": [
    "def find_narr(narr,s):\n",
    "    ct=0\n",
    "    for word in narr:\n",
    "        ct+=s.split().count(word)\n",
    "    return ct/len(s.split())"
   ]
  },
  {
   "cell_type": "code",
   "execution_count": 33,
   "metadata": {},
   "outputs": [],
   "source": [
    "feat_mat=construct_ft_mat(train_data)\n",
    "\n",
    "dev_mat=construct_ft_mat(dev_data)\n"
   ]
  },
  {
   "cell_type": "code",
   "execution_count": 34,
   "metadata": {},
   "outputs": [],
   "source": [
    "train_text_clean=train_text.apply(lambda s:pre_proccess(s))\n",
    "dev_text_clean=dev_text.apply(lambda s: pre_proccess(s))     \n",
    "for n in narratives:\n",
    "    feat_mat[n[0]]=train_text_clean.apply(lambda s: find_narr(n,s))\n",
    "    dev_mat[n[0]]=dev_text_clean.apply(lambda s: find_narr(n,s))\n",
    "    \n",
    "\n",
    "t_mat=feat_mat.as_matrix()\n",
    "\n",
    "d_mat=dev_mat.as_matrix()\n",
    "   "
   ]
  },
  {
   "cell_type": "code",
   "execution_count": 57,
   "metadata": {},
   "outputs": [],
   "source": [
    "vectorizer = CountVectorizer(min_df=5,ngram_range=(1,2), preprocessor=pre_proccess,stop_words='english') \n",
    "train_bag_of_words = vectorizer.fit_transform(train_text)\n",
    "dev_bag_of_words = vectorizer.transform(dev_text)"
   ]
  },
  {
   "cell_type": "code",
   "execution_count": 36,
   "metadata": {},
   "outputs": [
    {
     "data": {
      "text/plain": [
       "\"rf=RF()\\n#from sklearn.preprocessing import StandardScaler\\n#S=StandardScaler()\\n#clf=LogisticRegression()\\nr_parameters = {'n_estimators':[64,100,128],'criterion':['gini','entropy'],'random_state':[42],'max_depth':[None,1,3,5,7],'max_features':[None,'auto'],'min_samples_leaf':[1,3,5]}\\nclf=GridSearchCV(rf, r_parameters,scoring='roc_auc')\\nclf.fit(t_mat,train_labels)\\npreds=clf.predict(d_mat)\\nroc_auc_score(dev_labels, preds, average='micro')\""
      ]
     },
     "execution_count": 36,
     "metadata": {},
     "output_type": "execute_result"
    }
   ],
   "source": [
    "'''rf=RF()\n",
    "#from sklearn.preprocessing import StandardScaler\n",
    "#S=StandardScaler()\n",
    "#clf=LogisticRegression()\n",
    "r_parameters = {'n_estimators':[64,100,128],'criterion':['gini','entropy'],'random_state':[42],'max_depth':[None,1,3,5,7],'max_features':[None,'auto'],'min_samples_leaf':[1,3,5]}\n",
    "clf=GridSearchCV(rf, r_parameters,scoring='roc_auc')\n",
    "clf.fit(t_mat,train_labels)\n",
    "preds=clf.predict(d_mat)\n",
    "roc_auc_score(dev_labels, preds, average='micro')'''"
   ]
  },
  {
   "cell_type": "code",
   "execution_count": 93,
   "metadata": {},
   "outputs": [
    {
     "name": "stdout",
     "output_type": "stream",
     "text": [
      "(3232, 60)\n"
     ]
    },
    {
     "name": "stderr",
     "output_type": "stream",
     "text": [
      "/Users/gurditchahal/anaconda/lib/python3.5/site-packages/sklearn/utils/validation.py:475: DataConversionWarning: Data with input dtype int64 was converted to float64 by StandardScaler.\n",
      "  warnings.warn(msg, DataConversionWarning)\n"
     ]
    }
   ],
   "source": [
    "lsvc = LSVC(C=0.024, penalty=\"l1\", dual=False).fit(train_bag_of_words,train_labels)\n",
    "model = SelectFromModel(lsvc, prefit=True)\n",
    "S=StandardScaler(with_mean=False)\n",
    "X_new = model.transform(S.fit_transform(train_bag_of_words))\n",
    "print(X_new.shape)\n",
    "\n",
    "d_new=model.transform(S.transform(dev_bag_of_words))\n",
    "\n",
    "f_new=hstack([X_new,t_mat])\n",
    "dev_new=hstack([d_new,d_mat])"
   ]
  },
  {
   "cell_type": "code",
   "execution_count": 94,
   "metadata": {},
   "outputs": [
    {
     "name": "stdout",
     "output_type": "stream",
     "text": [
      "{'binarize': 1.0, 'alpha': 10.0}\n",
      "0.5942763157894737\n"
     ]
    }
   ],
   "source": [
    "nb=BernoulliNB()\n",
    "#nb=MultinomialNB()\n",
    "n_parameters = {'alpha': np.linspace(0.01, 10, 100),'binarize':np.linspace(0.0, 1, 10)}\n",
    "clf2 = GridSearchCV(nb, n_parameters,scoring='roc_auc',cv=5)\n",
    "clf2.fit(f_new,train_labels)\n",
    "preds=clf2.predict(dev_new)\n",
    "print(clf2.best_params_)\n",
    "print(roc_auc_score(dev_labels, preds, average='micro'))\n"
   ]
  },
  {
   "cell_type": "code",
   "execution_count": 95,
   "metadata": {},
   "outputs": [
    {
     "data": {
      "text/plain": [
       "0.5542434210526316"
      ]
     },
     "execution_count": 95,
     "metadata": {},
     "output_type": "execute_result"
    }
   ],
   "source": [
    "from sklearn.ensemble import GradientBoostingClassifier\n",
    "GBC = GradientBoostingClassifier(\n",
    "    n_estimators=500, \n",
    "    learning_rate=0.01, \n",
    "    max_depth=4, \n",
    "    random_state=123)\n",
    "\n",
    "GBC.fit(f_new,train_labels)\n",
    "preds=GBC.predict(dev_new)\n",
    "roc_auc_score(dev_labels, preds, average='micro')"
   ]
  },
  {
   "cell_type": "code",
   "execution_count": 90,
   "metadata": {},
   "outputs": [
    {
     "data": {
      "text/plain": [
       "0.5580592105263158"
      ]
     },
     "execution_count": 90,
     "metadata": {},
     "output_type": "execute_result"
    }
   ],
   "source": [
    "lsvm=LSVC(penalty='l2',dual=True)\n",
    "l_param={'C':np.linspace(0.001,1,100),'class_weight':['balanced',None]}\n",
    "csvm=GridSearchCV(lsvm,l_param,scoring='roc_auc',cv=5)\n",
    "S=StandardScaler(with_mean=False)\n",
    "csvm.fit(S.fit_transform(f_new),train_labels)\n",
    "preds=csvm.predict(S.transform(dev_new))\n",
    "roc_auc_score(dev_labels, preds, average='micro')"
   ]
  },
  {
   "cell_type": "code",
   "execution_count": null,
   "metadata": {},
   "outputs": [],
   "source": []
  }
 ],
 "metadata": {
  "kernelspec": {
   "display_name": "Python [conda root]",
   "language": "python",
   "name": "conda-root-py"
  },
  "language_info": {
   "codemirror_mode": {
    "name": "ipython",
    "version": 3
   },
   "file_extension": ".py",
   "mimetype": "text/x-python",
   "name": "python",
   "nbconvert_exporter": "python",
   "pygments_lexer": "ipython3",
   "version": "3.5.5"
  }
 },
 "nbformat": 4,
 "nbformat_minor": 2
}
