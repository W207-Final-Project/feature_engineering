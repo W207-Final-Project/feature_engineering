{
 "cells": [
  {
   "cell_type": "markdown",
   "metadata": {},
   "source": [
    "# Project 4: Final Project - Random Acts of Pizza\n",
    "### Predicting altruism through free pizza\n",
    "\n",
    "This project is originated from the Kaggle competition https://www.kaggle.com/c/random-acts-of-pizza. We will create an algorithm to predict which requests will recieve pizza and which on will not.  The competition contains a dataset with 5671 textual requests for pizza from the Reddit community Random Acts of Pizza together with their outcome (successful/unsuccessful) and meta-data. This data was collected and graciously shared by Althoff et al (http://www.timalthoff.com/). \n",
    "\n",
    "**Reference Paper:**\n",
    "Tim Althoff, Cristian Danescu-Niculescu-Mizil, Dan Jurafsky. How to Ask for a Favor: A Case Study on the Success of Altruistic Requests, Proceedings of ICWSM, 2014. (http://cs.stanford.edu/~althoff/raop-dataset/altruistic_requests_icwsm.pdf)\n"
   ]
  },
  {
   "cell_type": "markdown",
   "metadata": {},
   "source": [
    "## Approach \n",
    "\n",
    "\n",
    "**Step 1:  Exploratory Data Analysis **\n",
    "\n",
    "**Step 2:  Create a Baseline Model **\n",
    "\n",
    "**Step 3:  Feature Engineering **\n",
    "\n",
    "- Preprocessing data \n",
    "    - data cleansing \n",
    "    - data transformation\n",
    "\n",
    "- Use other meta-data from the data set, such as,\n",
    "    - request_text_edit_aware\n",
    "    - request_title\n",
    "    - requester_account_age_in_days_at_request\n",
    "    - requester_days_since_first_post_on_raop_at_request\n",
    "    - requester_number_of_comments_at_request\n",
    "    - requester_number_of_comments_in_raop_at_request\n",
    "    - requester_number_of_posts_at_request\n",
    "    - requester_number_of_posts_on_raop_at_request\n",
    "    - requester_number_of_subreddits_at_request\n",
    "    - requester_subreddits_at_request\n",
    "    - requester_upvotes_minus_downvotes_at_request\n",
    "    - requester_upvotes_plus_downvotes_at_request\n",
    "    - requester_username\n",
    "    - unix_timestamp_of_request\n",
    "    - unix_timestamp_of_request_utc\n",
    "    - other features includes:\n",
    "        - number of requests made by the same user\n",
    "        - number of requests fulfilled or % of requests fulfilled, etc\n",
    "    \n",
    "- Generate new features from the data set such as, \n",
    "    - Politeness, \n",
    "    - Evidentiality, \n",
    "    - Reciprocity, \n",
    "    - Sentiment, \n",
    "    - Length, etc\n",
    "\n",
    "**Step 4:  Algorithm / Model Selection **\n",
    "\n",
    "- Generative Models \n",
    "    - Naive Bayes \n",
    "- Discriminative Models\n",
    "    - Logistic Regression \n",
    "    - SVM \n",
    "- Neural Network \n",
    "\n",
    "\n",
    "**Step 5:  Error Analysis & Optimization ** \n",
    "\n",
    "\n",
    "**Step 6:  Final Model ** \n",
    "\n",
    "\n"
   ]
  },
  {
   "cell_type": "markdown",
   "metadata": {},
   "source": [
    "## Load Data"
   ]
  },
  {
   "cell_type": "code",
   "execution_count": 1,
   "metadata": {},
   "outputs": [
    {
     "name": "stderr",
     "output_type": "stream",
     "text": [
      "/Users/lauc136/anaconda3/lib/python3.6/site-packages/sklearn/cross_validation.py:41: DeprecationWarning: This module was deprecated in version 0.18 in favor of the model_selection module into which all the refactored classes and functions are moved. Also note that the interface of the new CV iterators are different from that of this module. This module will be removed in 0.20.\n",
      "  \"This module will be removed in 0.20.\", DeprecationWarning)\n",
      "/Users/lauc136/anaconda3/lib/python3.6/site-packages/sklearn/grid_search.py:42: DeprecationWarning: This module was deprecated in version 0.18 in favor of the model_selection module into which all the refactored classes and functions are moved. This module will be removed in 0.20.\n",
      "  DeprecationWarning)\n"
     ]
    }
   ],
   "source": [
    "import re\n",
    "import numpy as np\n",
    "import pandas as pd\n",
    "import os\n",
    "import matplotlib.pyplot as plt\n",
    "from wordcloud import WordCloud\n",
    "\n",
    "# SK-learn libraries for learning.\n",
    "from sklearn.pipeline import Pipeline\n",
    "from sklearn.neighbors import KNeighborsClassifier\n",
    "from sklearn.linear_model import LogisticRegression\n",
    "from sklearn.naive_bayes import BernoulliNB\n",
    "from sklearn.naive_bayes import MultinomialNB\n",
    "from sklearn.grid_search import GridSearchCV\n",
    "from sklearn.ensemble import RandomForestClassifier as RF\n",
    "from sklearn.svm import SVC\n",
    "from sklearn.svm import LinearSVC as LSVC\n",
    "from sklearn.decomposition import TruncatedSVD as TSVD\n",
    "from scipy.sparse import hstack\n",
    "from sklearn.feature_selection import SelectFromModel\n",
    "from sklearn.preprocessing import StandardScaler\n",
    "\n",
    "# SK-learn libraries for evaluation.\n",
    "from sklearn.metrics import confusion_matrix\n",
    "from sklearn import metrics\n",
    "from sklearn.metrics import classification_report\n",
    "from sklearn.metrics import roc_auc_score\n",
    "\n",
    "# SK-learn libraries for feature extraction from text.\n",
    "from sklearn.feature_extraction.text import *\n",
    "\n",
    "# SK-learn libraries for model selection \n",
    "from sklearn.model_selection import train_test_split\n",
    "\n",
    "# json libraries to parse json file\n",
    "import json\n",
    "from pandas.io.json import json_normalize\n",
    "\n",
    "import gensim\n",
    "from gensim import utils"
   ]
  },
  {
   "cell_type": "code",
   "execution_count": 2,
   "metadata": {
    "collapsed": true
   },
   "outputs": [],
   "source": [
    "# read json file\n",
    "train_json = json.load(open('train.json'))\n",
    "\n",
    "# normalize data and put in a dataframe\n",
    "train_json_df = json_normalize(train_json)\n",
    "\n",
    "# read json file\n",
    "test_json = json.load(open('test.json'))\n",
    "\n",
    "# normalize data and put in a dataframe\n",
    "test_json_df = json_normalize(test_json)"
   ]
  },
  {
   "cell_type": "code",
   "execution_count": 3,
   "metadata": {
    "collapsed": true
   },
   "outputs": [],
   "source": [
    "columns = test_json_df.columns.values\n",
    "columns = np.append(columns, ['requester_received_pizza'])\n",
    "\n",
    "train_json_with_test_df = train_json_df[columns]\n"
   ]
  },
  {
   "cell_type": "markdown",
   "metadata": {},
   "source": [
    "# 1.0 EDA "
   ]
  },
  {
   "cell_type": "code",
   "execution_count": 4,
   "metadata": {},
   "outputs": [
    {
     "data": {
      "image/png": "[encoded data removed]",
      "text/plain": [
       "<matplotlib.figure.Figure at 0x1a1cdc8860>"
      ]
     },
     "metadata": {},
     "output_type": "display_data"
    }
   ],
   "source": [
    "\n",
    "plt.plot(train_json_df[train_json_df.requester_received_pizza].requester_account_age_in_days_at_request, \n",
    "        train_json_df[train_json_df.requester_received_pizza].requester_days_since_first_post_on_raop_at_request, \"b.\")\n",
    "plt.plot(train_json_df[~train_json_df.requester_received_pizza].requester_account_age_in_days_at_request, \n",
    "        train_json_df[~train_json_df.requester_received_pizza].requester_days_since_first_post_on_raop_at_request, \"r.\")\n",
    "plt.show()"
   ]
  },
  {
   "cell_type": "code",
   "execution_count": 5,
   "metadata": {},
   "outputs": [
    {
     "data": {
      "image/png": "[encoded data removed]",
      "text/plain": [
       "<matplotlib.figure.Figure at 0x1a1c47e6a0>"
      ]
     },
     "metadata": {},
     "output_type": "display_data"
    }
   ],
   "source": [
    "plt.plot(train_json_df[train_json_df.requester_received_pizza].requester_number_of_comments_at_request, \n",
    "        train_json_df[train_json_df.requester_received_pizza].requester_number_of_comments_in_raop_at_request, \"b.\")\n",
    "plt.plot(train_json_df[~train_json_df.requester_received_pizza].requester_number_of_comments_at_request, \n",
    "        train_json_df[~train_json_df.requester_received_pizza].requester_number_of_comments_in_raop_at_request, \"r.\")\n",
    "plt.show()\n",
    "\n"
   ]
  },
  {
   "cell_type": "code",
   "execution_count": 6,
   "metadata": {},
   "outputs": [
    {
     "data": {
      "image/png": "[encoded data removed]",
      "text/plain": [
       "<matplotlib.figure.Figure at 0x1a1ce1bb70>"
      ]
     },
     "metadata": {},
     "output_type": "display_data"
    }
   ],
   "source": [
    "plt.plot(train_json_df[train_json_df.requester_received_pizza].requester_number_of_posts_at_request, \n",
    "        train_json_df[train_json_df.requester_received_pizza].requester_number_of_posts_on_raop_at_request, \"b.\")\n",
    "plt.plot(train_json_df[~train_json_df.requester_received_pizza].requester_number_of_posts_at_request, \n",
    "        train_json_df[~train_json_df.requester_received_pizza].requester_number_of_posts_on_raop_at_request, \"r.\")\n",
    "plt.show()\n"
   ]
  },
  {
   "cell_type": "code",
   "execution_count": 7,
   "metadata": {},
   "outputs": [
    {
     "data": {
      "image/png": "[encoded data removed]",
      "text/plain": [
       "<matplotlib.figure.Figure at 0x1a1d10cdd8>"
      ]
     },
     "metadata": {},
     "output_type": "display_data"
    }
   ],
   "source": [
    "plt.plot(train_json_df[train_json_df.requester_received_pizza].requester_number_of_subreddits_at_request, \"b.\")\n",
    "plt.plot(train_json_df[~train_json_df.requester_received_pizza].requester_number_of_subreddits_at_request, \"r.\")\n",
    "plt.show()"
   ]
  },
  {
   "cell_type": "code",
   "execution_count": 8,
   "metadata": {},
   "outputs": [
    {
     "data": {
      "text/plain": [
       "0                                                      []\n",
       "1       [AskReddit, Eve, IAmA, MontereyBay, RandomKind...\n",
       "2                                                      []\n",
       "3            [AskReddit, DJs, IAmA, Random_Acts_Of_Pizza]\n",
       "4       [GayBrosWeightLoss, RandomActsOfCookies, Rando...\n",
       "5       [AdviceAnimals, AskReddit, Autos, IAmA, Random...\n",
       "6                                                      []\n",
       "7       [AskReddit, IAmA, Music, Random_Acts_Of_Pizza,...\n",
       "8       [AlisonBrie, AskReddit, Games, IAmA, Naruto, N...\n",
       "9                                             [AskReddit]\n",
       "10      [4chan, AskReddit, IAmA, ImGoingToHellForThis,...\n",
       "11                                                     []\n",
       "12                                                     []\n",
       "13      [AskReddit, Atlanta, GaState, Jokes, MMA, OkCu...\n",
       "14      [Random_Acts_Of_Pizza, pics, reddit.com, tipof...\n",
       "15      [AdviceAnimals, AskReddit, IAmA, WTF, WritersG...\n",
       "16          [AskReddit, Random_Acts_Of_Pizza, aww, trees]\n",
       "17      [Random_Acts_Of_Pizza, TeraOnline, gameswap, l...\n",
       "18      [AskReddit, IAmA, Rateme, StopSelfHarm, TEFL, ...\n",
       "19      [AdviceAnimals, AskReddit, Calgary, Dreams, Ea...\n",
       "20                                                     []\n",
       "21      [AskReddit, DoesAnybodyElse, Drugs, IAmA, Mari...\n",
       "22                                                [funny]\n",
       "23                                                     []\n",
       "24      [AskReddit, AutumnPlaylist, Guitar, Random_Act...\n",
       "25                                              [nosleep]\n",
       "26                          [Random_Acts_Of_Pizza, trees]\n",
       "27                                                     []\n",
       "28      [AmISexy, AskReddit, GlobalOffensive, IAmA, Ra...\n",
       "29      [AskReddit, LadyBoners, MakeupAddiction, Maple...\n",
       "                              ...                        \n",
       "4010    [AskReddit, Diablo, Diablo3Strategy, Games, Su...\n",
       "4011    [AdviceAnimals, Animals, AskReddit, Atlanta, D...\n",
       "4012    [AskReddit, IAmA, Minecraft, Music, Quebec, Ra...\n",
       "4013    [4chan, AdviceAnimals, Art, AskReddit, DIY, Fe...\n",
       "4014    [Advice, AskReddit, IAmA, Random_Acts_Of_Pizza...\n",
       "4015                                                   []\n",
       "4016    [AdviceAnimals, ArcherFX, AskReddit, AskScienc...\n",
       "4017    [Random_Acts_Of_Pizza, fffffffuuuuuuuuuuuu, fu...\n",
       "4018    [AdviceAnimals, AskWomen, Bass, HIMYM, IAmA, M...\n",
       "4019                                                   []\n",
       "4020    [AskMen, AskReddit, AskWomen, BDSMcommunity, D...\n",
       "4021    [AskMen, AskReddit, BostonTerrier, DIY, Fitnes...\n",
       "4022    [AskReddit, DebateReligion, Fallout, FiftyFift...\n",
       "4023    [AdviceAnimals, Android, AskReddit, BeautyDiag...\n",
       "4024    [AskReddit, DAE, Drugs, HardcoreSMP, RandomAct...\n",
       "4025    [52weeksofcooking, AskCulinary, AskReddit, Aut...\n",
       "4026    [AskReddit, GoneWildPlus, IAmA, ImGoingToHellF...\n",
       "4027    [AskReddit, fffffffuuuuuuuuuuuu, funny, gaming...\n",
       "4028    [AdviceAnimals, AskReddit, IAmA, Music, Userna...\n",
       "4029    [AdviceAnimals, AskReddit, GameDeals, IAmA, Mu...\n",
       "4030    [AskReddit, BeardPorn, IAmA, Music, Random_Act...\n",
       "4031    [AdviceAnimals, AskReddit, IAmA, Random_Acts_O...\n",
       "4032    [AdviceAnimals, Animals, AskReddit, CSULB, Chr...\n",
       "4033    [AdviceAnimals, AskReddit, Diablo, DotA2, Eve,...\n",
       "4034    [AskReddit, Minecraft, firstworldproblems, mag...\n",
       "4035                                                   []\n",
       "4036    [AskReddit, CoffeeWithJesus, IAmA, RandomKindn...\n",
       "4037    [AdviceAnimals, Android, AskReddit, Diablo, HT...\n",
       "4038                               [Random_Acts_Of_Pizza]\n",
       "4039    [AskReddit, Drugs, IAmA, LongDistance, Minecra...\n",
       "Name: requester_subreddits_at_request, Length: 4040, dtype: object"
      ]
     },
     "execution_count": 8,
     "metadata": {},
     "output_type": "execute_result"
    }
   ],
   "source": [
    "train_json_df.requester_subreddits_at_request"
   ]
  },
  {
   "cell_type": "code",
   "execution_count": 9,
   "metadata": {},
   "outputs": [
    {
     "data": {
      "image/png": "[encoded data removed]",
      "text/plain": [
       "<matplotlib.figure.Figure at 0x1a1d2a41d0>"
      ]
     },
     "metadata": {},
     "output_type": "display_data"
    }
   ],
   "source": [
    "plt.plot(train_json_df[train_json_df.requester_received_pizza].requester_upvotes_minus_downvotes_at_request, \n",
    "        train_json_df[train_json_df.requester_received_pizza].requester_upvotes_plus_downvotes_at_request, \"b.\")\n",
    "plt.plot(train_json_df[~train_json_df.requester_received_pizza].requester_upvotes_minus_downvotes_at_request, \n",
    "        train_json_df[~train_json_df.requester_received_pizza].requester_upvotes_plus_downvotes_at_request, \"r.\")\n",
    "plt.show()"
   ]
  },
  {
   "cell_type": "markdown",
   "metadata": {},
   "source": [
    "# 2.0 Feature Exploration"
   ]
  },
  {
   "cell_type": "markdown",
   "metadata": {},
   "source": [
    "## 2.1 Just Bag of Words"
   ]
  },
  {
   "cell_type": "code",
   "execution_count": 10,
   "metadata": {},
   "outputs": [
    {
     "name": "stdout",
     "output_type": "stream",
     "text": [
      "training data shape: (3232,)\n",
      "dev data shape: (808,)\n"
     ]
    }
   ],
   "source": [
    "\n",
    "train_data = train_json_df.request_text_edit_aware.as_matrix()\n",
    "train_labels = train_json_df.requester_received_pizza.astype(int).as_matrix()\n",
    "\n",
    "train_data, dev_data, train_labels, dev_labels = \\\n",
    "            train_test_split(train_data, train_labels, test_size=0.2, random_state=42)\n",
    "    \n",
    "print('training data shape:', train_data.shape)\n",
    "print('dev data shape:', dev_data.shape)"
   ]
  },
  {
   "cell_type": "code",
   "execution_count": 11,
   "metadata": {},
   "outputs": [
    {
     "name": "stdout",
     "output_type": "stream",
     "text": [
      "{'C': 0.0001}\n"
     ]
    },
    {
     "data": {
      "text/plain": [
       "0.59738661712988328"
      ]
     },
     "execution_count": 11,
     "metadata": {},
     "output_type": "execute_result"
    }
   ],
   "source": [
    "vectorizer = CountVectorizer(stop_words='english', ngram_range = (1, 2))\n",
    "train_bag_of_words = vectorizer.fit_transform(train_data)\n",
    "dev_bag_of_words = vectorizer.transform(dev_data)\n",
    "\n",
    "lr = LogisticRegression(tol=0.01)\n",
    "parameters = {'C':np.linspace(0.0001, 0.001, 10)}\n",
    "clf = GridSearchCV(lr, parameters)\n",
    "clf.fit(train_bag_of_words, train_labels) \n",
    "pred_dev_prob = clf.predict_proba(dev_bag_of_words)[:,0]\n",
    "\n",
    "print(clf.best_params_)\n",
    "roc_auc_score(dev_labels, pred_dev_prob, average='micro')"
   ]
  },
  {
   "cell_type": "markdown",
   "metadata": {},
   "source": [
    "## 2.2 Bag of words + additional features"
   ]
  },
  {
   "cell_type": "code",
   "execution_count": 12,
   "metadata": {},
   "outputs": [
    {
     "name": "stdout",
     "output_type": "stream",
     "text": [
      "(4040, 101153)\n",
      "(4040, 9)\n"
     ]
    }
   ],
   "source": [
    "from sklearn.decomposition import PCA\n",
    "\n",
    "# training labels\n",
    "train_labels = train_json_with_test_df.requester_received_pizza.astype(int)\n",
    "\n",
    "# text factors\n",
    "vectorizer = CountVectorizer(stop_words='english', ngram_range = (1, 2))\n",
    "train_bag_of_words = vectorizer.fit_transform(train_json_with_test_df.request_text_edit_aware.as_matrix(), train_labels)\n",
    "\n",
    "# other factors\n",
    "train_other_data = train_json_with_test_df[['requester_account_age_in_days_at_request', \\\n",
    "                                    'requester_days_since_first_post_on_raop_at_request', \\\n",
    "                                    'requester_number_of_comments_at_request', \\\n",
    "                                    'requester_number_of_comments_in_raop_at_request', \\\n",
    "                                    'requester_number_of_posts_at_request', \\\n",
    "                                    'requester_number_of_posts_on_raop_at_request', \\\n",
    "                                    'requester_number_of_subreddits_at_request', \\\n",
    "                                    'requester_upvotes_minus_downvotes_at_request', \\\n",
    "                                    'requester_upvotes_plus_downvotes_at_request']].as_matrix()\n",
    "\n",
    "print(train_bag_of_words.shape)\n",
    "print(train_other_data.shape)\n",
    "train_data = np.hstack((train_bag_of_words.todense(), train_other_data))\n",
    "\n",
    "\n",
    "# split the training data into training data and dev data \n",
    "train_data, dev_data, train_labels, dev_labels = \\\n",
    "            train_test_split(train_data, train_labels, test_size=0.2, random_state=42)\n",
    "    "
   ]
  },
  {
   "cell_type": "code",
   "execution_count": 13,
   "metadata": {},
   "outputs": [
    {
     "name": "stdout",
     "output_type": "stream",
     "text": [
      "{'C': 0.01}\n"
     ]
    },
    {
     "data": {
      "text/plain": [
       "0.58156501305897579"
      ]
     },
     "execution_count": 13,
     "metadata": {},
     "output_type": "execute_result"
    }
   ],
   "source": [
    "lr = LogisticRegression()\n",
    "parameters = {'C':[0.001, 0.01, 0.1, 1]}\n",
    "clf = GridSearchCV(lr, parameters)\n",
    "clf.fit(train_data, train_labels)\n",
    "pred_dev_prob = clf.predict_proba(dev_data)[:,1]\n",
    "\n",
    "print(clf.best_params_)\n",
    "roc_auc_score(dev_labels, pred_dev_prob, average='micro')"
   ]
  },
  {
   "cell_type": "markdown",
   "metadata": {},
   "source": [
    "## 2.3 NMF of TFIDF "
   ]
  },
  {
   "cell_type": "code",
   "execution_count": 14,
   "metadata": {},
   "outputs": [
    {
     "name": "stdout",
     "output_type": "stream",
     "text": [
      "training data shape: (3232,)\n",
      "dev data shape: (808,)\n"
     ]
    }
   ],
   "source": [
    "\n",
    "train_data = train_json_df.request_text_edit_aware.as_matrix()\n",
    "train_labels = train_json_df.requester_received_pizza.astype(int).as_matrix()\n",
    "\n",
    "train_data, dev_data, train_labels, dev_labels = \\\n",
    "            train_test_split(train_data, train_labels, test_size=0.2, random_state=42)\n",
    "    \n",
    "print('training data shape:', train_data.shape)\n",
    "print('dev data shape:', dev_data.shape)"
   ]
  },
  {
   "cell_type": "code",
   "execution_count": 15,
   "metadata": {
    "collapsed": true
   },
   "outputs": [],
   "source": [
    "TfidfTransformer;\n",
    "from sklearn.decomposition import NMF;\n",
    "from sklearn.preprocessing import normalize;\n",
    "import pandas as pd;\n",
    "\n",
    "vectorizer = CountVectorizer(analyzer='word', stop_words='english');\n",
    "x_counts = vectorizer.fit_transform(train_data);"
   ]
  },
  {
   "cell_type": "code",
   "execution_count": 16,
   "metadata": {
    "collapsed": true
   },
   "outputs": [],
   "source": [
    "transformer = TfidfTransformer(smooth_idf=False);\n",
    "x_tfidf = transformer.fit_transform(x_counts);"
   ]
  },
  {
   "cell_type": "code",
   "execution_count": 17,
   "metadata": {
    "collapsed": true
   },
   "outputs": [],
   "source": [
    "xtfidf_norm = normalize(x_tfidf, norm='l1', axis=1)"
   ]
  },
  {
   "cell_type": "code",
   "execution_count": 18,
   "metadata": {},
   "outputs": [
    {
     "data": {
      "text/plain": [
       "NMF(alpha=0.0, beta_loss='frobenius', init='nndsvd', l1_ratio=0.0,\n",
       "  max_iter=200, n_components=10, random_state=None, shuffle=False,\n",
       "  solver='cd', tol=0.0001, verbose=0)"
      ]
     },
     "execution_count": 18,
     "metadata": {},
     "output_type": "execute_result"
    }
   ],
   "source": [
    "num_topics=10\n",
    "model = NMF(n_components=num_topics, init='nndsvd');\n",
    "\n",
    "#fit the model\n",
    "model.fit(xtfidf_norm)"
   ]
  },
  {
   "cell_type": "code",
   "execution_count": 19,
   "metadata": {},
   "outputs": [
    {
     "data": {
      "text/html": [
       "<div>\n",
       "<style>\n",
       "    .dataframe thead tr:only-child th {\n",
       "        text-align: right;\n",
       "    }\n",
       "\n",
       "    .dataframe thead th {\n",
       "        text-align: left;\n",
       "    }\n",
       "\n",
       "    .dataframe tbody tr th {\n",
       "        vertical-align: top;\n",
       "    }\n",
       "</style>\n",
       "<table border=\"1\" class=\"dataframe\">\n",
       "  <thead>\n",
       "    <tr style=\"text-align: right;\">\n",
       "      <th></th>\n",
       "      <th>Topic # 01</th>\n",
       "      <th>Topic # 02</th>\n",
       "      <th>Topic # 03</th>\n",
       "      <th>Topic # 04</th>\n",
       "      <th>Topic # 05</th>\n",
       "      <th>Topic # 06</th>\n",
       "      <th>Topic # 07</th>\n",
       "      <th>Topic # 08</th>\n",
       "      <th>Topic # 09</th>\n",
       "      <th>Topic # 10</th>\n",
       "    </tr>\n",
       "  </thead>\n",
       "  <tbody>\n",
       "    <tr>\n",
       "      <th>0</th>\n",
       "      <td>pay</td>\n",
       "      <td>pizza</td>\n",
       "      <td>thank</td>\n",
       "      <td>appreciated</td>\n",
       "      <td>love</td>\n",
       "      <td>hungry</td>\n",
       "      <td>buy</td>\n",
       "      <td>appreciate</td>\n",
       "      <td>help</td>\n",
       "      <td>edit</td>\n",
       "    </tr>\n",
       "    <tr>\n",
       "      <th>1</th>\n",
       "      <td>money</td>\n",
       "      <td>just</td>\n",
       "      <td>consideration</td>\n",
       "      <td>greatly</td>\n",
       "      <td>forever</td>\n",
       "      <td>student</td>\n",
       "      <td>cheese</td>\n",
       "      <td>thanks</td>\n",
       "      <td>thanks</td>\n",
       "      <td>nevermind</td>\n",
       "    </tr>\n",
       "    <tr>\n",
       "      <th>2</th>\n",
       "      <td>forward</td>\n",
       "      <td>like</td>\n",
       "      <td>reddit</td>\n",
       "      <td>reciprocated</td>\n",
       "      <td>pie</td>\n",
       "      <td>help</td>\n",
       "      <td>people</td>\n",
       "      <td>greatly</td>\n",
       "      <td>eat</td>\n",
       "      <td>california</td>\n",
       "    </tr>\n",
       "    <tr>\n",
       "      <th>3</th>\n",
       "      <td>food</td>\n",
       "      <td>good</td>\n",
       "      <td>hope</td>\n",
       "      <td>payed</td>\n",
       "      <td>family</td>\n",
       "      <td>just</td>\n",
       "      <td>works</td>\n",
       "      <td>really</td>\n",
       "      <td>redditors</td>\n",
       "      <td>location</td>\n",
       "    </tr>\n",
       "    <tr>\n",
       "      <th>4</th>\n",
       "      <td>just</td>\n",
       "      <td>want</td>\n",
       "      <td>guys</td>\n",
       "      <td>later</td>\n",
       "      <td>really</td>\n",
       "      <td>college</td>\n",
       "      <td>week</td>\n",
       "      <td>brother</td>\n",
       "      <td>yall</td>\n",
       "      <td>adding</td>\n",
       "    </tr>\n",
       "    <tr>\n",
       "      <th>5</th>\n",
       "      <td>really</td>\n",
       "      <td>haven</td>\n",
       "      <td>pizzareceived</td>\n",
       "      <td>super</td>\n",
       "      <td>wired</td>\n",
       "      <td>broke</td>\n",
       "      <td>soul</td>\n",
       "      <td>college</td>\n",
       "      <td>advance</td>\n",
       "      <td>pie</td>\n",
       "    </tr>\n",
       "    <tr>\n",
       "      <th>6</th>\n",
       "      <td>friday</td>\n",
       "      <td>celebrate</td>\n",
       "      <td>raop</td>\n",
       "      <td>max</td>\n",
       "      <td>tonight</td>\n",
       "      <td>pretty</td>\n",
       "      <td>great</td>\n",
       "      <td>reading</td>\n",
       "      <td>broke</td>\n",
       "      <td>spelling</td>\n",
       "    </tr>\n",
       "    <tr>\n",
       "      <th>7</th>\n",
       "      <td>paid</td>\n",
       "      <td>hut</td>\n",
       "      <td>weeks</td>\n",
       "      <td>monies</td>\n",
       "      <td>sister</td>\n",
       "      <td>blasting</td>\n",
       "      <td>hopefully</td>\n",
       "      <td>home</td>\n",
       "      <td>house</td>\n",
       "      <td>error</td>\n",
       "    </tr>\n",
       "    <tr>\n",
       "      <th>8</th>\n",
       "      <td>don</td>\n",
       "      <td>craving</td>\n",
       "      <td>advance</td>\n",
       "      <td>weeks</td>\n",
       "      <td>gift</td>\n",
       "      <td>say</td>\n",
       "      <td>pizza</td>\n",
       "      <td>student</td>\n",
       "      <td>dinner</td>\n",
       "      <td>imagine</td>\n",
       "    </tr>\n",
       "    <tr>\n",
       "      <th>9</th>\n",
       "      <td>ll</td>\n",
       "      <td>really</td>\n",
       "      <td>suffolk</td>\n",
       "      <td>help</td>\n",
       "      <td>lt</td>\n",
       "      <td>nice</td>\n",
       "      <td>advance</td>\n",
       "      <td>right</td>\n",
       "      <td>today</td>\n",
       "      <td>illustrator</td>\n",
       "    </tr>\n",
       "    <tr>\n",
       "      <th>10</th>\n",
       "      <td>week</td>\n",
       "      <td>eat</td>\n",
       "      <td>hopefully</td>\n",
       "      <td>pulling</td>\n",
       "      <td>reading</td>\n",
       "      <td>music</td>\n",
       "      <td>coupon</td>\n",
       "      <td>dope</td>\n",
       "      <td>really</td>\n",
       "      <td>night</td>\n",
       "    </tr>\n",
       "    <tr>\n",
       "      <th>11</th>\n",
       "      <td>right</td>\n",
       "      <td>nice</td>\n",
       "      <td>use</td>\n",
       "      <td>paid</td>\n",
       "      <td>says</td>\n",
       "      <td>super</td>\n",
       "      <td>kind</td>\n",
       "      <td>hey</td>\n",
       "      <td>year</td>\n",
       "      <td>great</td>\n",
       "    </tr>\n",
       "    <tr>\n",
       "      <th>12</th>\n",
       "      <td>job</td>\n",
       "      <td>cheese</td>\n",
       "      <td>nighters</td>\n",
       "      <td>nighter</td>\n",
       "      <td>favor</td>\n",
       "      <td>sooooo</td>\n",
       "      <td>groceries</td>\n",
       "      <td>roommates</td>\n",
       "      <td>greatly</td>\n",
       "      <td>forgot</td>\n",
       "    </tr>\n",
       "    <tr>\n",
       "      <th>13</th>\n",
       "      <td>day</td>\n",
       "      <td>family</td>\n",
       "      <td>soul</td>\n",
       "      <td>noodles</td>\n",
       "      <td>action</td>\n",
       "      <td>im</td>\n",
       "      <td>able</td>\n",
       "      <td>picky</td>\n",
       "      <td>wants</td>\n",
       "      <td>bestow</td>\n",
       "    </tr>\n",
       "    <tr>\n",
       "      <th>14</th>\n",
       "      <td>broke</td>\n",
       "      <td>reddit</td>\n",
       "      <td>ny</td>\n",
       "      <td>title</td>\n",
       "      <td>title</td>\n",
       "      <td>sob</td>\n",
       "      <td>im</td>\n",
       "      <td>nighters</td>\n",
       "      <td>lexically</td>\n",
       "      <td>wishes</td>\n",
       "    </tr>\n",
       "    <tr>\n",
       "      <th>15</th>\n",
       "      <td>ve</td>\n",
       "      <td>people</td>\n",
       "      <td>responds</td>\n",
       "      <td>food</td>\n",
       "      <td>little</td>\n",
       "      <td>black</td>\n",
       "      <td>love</td>\n",
       "      <td>plans</td>\n",
       "      <td>boyfriend</td>\n",
       "      <td>usa</td>\n",
       "    </tr>\n",
       "    <tr>\n",
       "      <th>16</th>\n",
       "      <td>today</td>\n",
       "      <td>right</td>\n",
       "      <td>kind</td>\n",
       "      <td>hugely</td>\n",
       "      <td>firehouse</td>\n",
       "      <td>story</td>\n",
       "      <td>unfortunately</td>\n",
       "      <td>hut</td>\n",
       "      <td>mwaahhh</td>\n",
       "      <td>father</td>\n",
       "    </tr>\n",
       "    <tr>\n",
       "      <th>17</th>\n",
       "      <td>work</td>\n",
       "      <td>cheer</td>\n",
       "      <td>try</td>\n",
       "      <td>grearly</td>\n",
       "      <td>pockets</td>\n",
       "      <td>monies</td>\n",
       "      <td>forgot</td>\n",
       "      <td>kindness</td>\n",
       "      <td>complete</td>\n",
       "      <td>surprised</td>\n",
       "    </tr>\n",
       "    <tr>\n",
       "      <th>18</th>\n",
       "      <td>time</td>\n",
       "      <td>don</td>\n",
       "      <td>live</td>\n",
       "      <td>finals</td>\n",
       "      <td>return</td>\n",
       "      <td>nom</td>\n",
       "      <td>second</td>\n",
       "      <td>super</td>\n",
       "      <td>pretty</td>\n",
       "      <td>trek</td>\n",
       "    </tr>\n",
       "    <tr>\n",
       "      <th>19</th>\n",
       "      <td>tonight</td>\n",
       "      <td>gift</td>\n",
       "      <td>kids</td>\n",
       "      <td>tomorrow</td>\n",
       "      <td>meals</td>\n",
       "      <td>food</td>\n",
       "      <td>food</td>\n",
       "      <td>close</td>\n",
       "      <td>dont</td>\n",
       "      <td>say</td>\n",
       "    </tr>\n",
       "  </tbody>\n",
       "</table>\n",
       "</div>"
      ],
      "text/plain": [
       "   Topic # 01 Topic # 02     Topic # 03    Topic # 04 Topic # 05 Topic # 06  \\\n",
       "0         pay      pizza          thank   appreciated       love     hungry   \n",
       "1       money       just  consideration       greatly    forever    student   \n",
       "2     forward       like         reddit  reciprocated        pie       help   \n",
       "3        food       good           hope         payed     family       just   \n",
       "4        just       want           guys         later     really    college   \n",
       "5      really      haven  pizzareceived         super      wired      broke   \n",
       "6      friday  celebrate           raop           max    tonight     pretty   \n",
       "7        paid        hut          weeks        monies     sister   blasting   \n",
       "8         don    craving        advance         weeks       gift        say   \n",
       "9          ll     really        suffolk          help         lt       nice   \n",
       "10       week        eat      hopefully       pulling    reading      music   \n",
       "11      right       nice            use          paid       says      super   \n",
       "12        job     cheese       nighters       nighter      favor     sooooo   \n",
       "13        day     family           soul       noodles     action         im   \n",
       "14      broke     reddit             ny         title      title        sob   \n",
       "15         ve     people       responds          food     little      black   \n",
       "16      today      right           kind        hugely  firehouse      story   \n",
       "17       work      cheer            try       grearly    pockets     monies   \n",
       "18       time        don           live        finals     return        nom   \n",
       "19    tonight       gift           kids      tomorrow      meals       food   \n",
       "\n",
       "       Topic # 07  Topic # 08 Topic # 09   Topic # 10  \n",
       "0             buy  appreciate       help         edit  \n",
       "1          cheese      thanks     thanks    nevermind  \n",
       "2          people     greatly        eat   california  \n",
       "3           works      really  redditors     location  \n",
       "4            week     brother       yall       adding  \n",
       "5            soul     college    advance          pie  \n",
       "6           great     reading      broke     spelling  \n",
       "7       hopefully        home      house        error  \n",
       "8           pizza     student     dinner      imagine  \n",
       "9         advance       right      today  illustrator  \n",
       "10         coupon        dope     really        night  \n",
       "11           kind         hey       year        great  \n",
       "12      groceries   roommates    greatly       forgot  \n",
       "13           able       picky      wants       bestow  \n",
       "14             im    nighters  lexically       wishes  \n",
       "15           love       plans  boyfriend          usa  \n",
       "16  unfortunately         hut    mwaahhh       father  \n",
       "17         forgot    kindness   complete    surprised  \n",
       "18         second       super     pretty         trek  \n",
       "19           food       close       dont          say  "
      ]
     },
     "execution_count": 19,
     "metadata": {},
     "output_type": "execute_result"
    }
   ],
   "source": [
    "def get_nmf_topics(model, n_top_words):\n",
    "    \n",
    "    #the word ids obtained need to be reverse-mapped to the words so we can print the topic names.\n",
    "    feat_names = vectorizer.get_feature_names()\n",
    "    \n",
    "    word_dict = {};\n",
    "    for i in range(num_topics):\n",
    "        \n",
    "        #for each topic, obtain the largest values, and add the words they map to into the dictionary.\n",
    "        words_ids = model.components_[i].argsort()[:-20 - 1:-1]\n",
    "        words = [feat_names[key] for key in words_ids]\n",
    "        word_dict['Topic # ' + '{:02d}'.format(i+1)] = words;\n",
    "    \n",
    "    return pd.DataFrame(word_dict);\n",
    "get_nmf_topics(model, 10)"
   ]
  },
  {
   "cell_type": "code",
   "execution_count": 20,
   "metadata": {
    "collapsed": true
   },
   "outputs": [],
   "source": [
    "train_data_with_topics = model.transform(xtfidf_norm)"
   ]
  },
  {
   "cell_type": "code",
   "execution_count": 21,
   "metadata": {},
   "outputs": [
    {
     "name": "stdout",
     "output_type": "stream",
     "text": [
      "success rate for topic #1 = 0.2332920792079208\n",
      "success rate for topic #2 = 0.19709158415841585\n",
      "success rate for topic #3 = 0.13366336633663367\n",
      "success rate for topic #4 = 0.1188118811881188\n",
      "success rate for topic #5 = 0.12530940594059406\n",
      "success rate for topic #6 = 0.10798267326732673\n",
      "success rate for topic #7 = 0.11138613861386139\n",
      "success rate for topic #8 = 0.12004950495049505\n",
      "success rate for topic #9 = 0.16120049504950495\n",
      "success rate for topic #10 = 0.14820544554455445\n"
     ]
    }
   ],
   "source": [
    "for i in range(0, 10, 1):\n",
    "    print(\"success rate for topic #{} = {}\".format(i+1, \\\n",
    "                                    np.sum(train_labels[train_data_with_topics[:, i] > 0])/train_labels.size))"
   ]
  },
  {
   "cell_type": "markdown",
   "metadata": {},
   "source": [
    "# 3. Stanford Paper - Copy From GC (with minor changes)"
   ]
  },
  {
   "cell_type": "code",
   "execution_count": 470,
   "metadata": {},
   "outputs": [
    {
     "name": "stdout",
     "output_type": "stream",
     "text": [
      "Train shape:  (4040, 32)\n",
      "Test shape:  (1631, 17)\n",
      "Columns in Train but not Test:\n",
      " {'requester_received_pizza', 'number_of_upvotes_of_request_at_retrieval', 'requester_user_flair', 'requester_number_of_posts_at_retrieval', 'requester_upvotes_plus_downvotes_at_retrieval', 'requester_number_of_comments_in_raop_at_retrieval', 'requester_number_of_posts_on_raop_at_retrieval', 'number_of_downvotes_of_request_at_retrieval', 'requester_number_of_comments_at_retrieval', 'post_was_edited', 'request_text', 'requester_days_since_first_post_on_raop_at_retrieval', 'requester_upvotes_minus_downvotes_at_retrieval', 'request_number_of_comments_at_retrieval', 'requester_account_age_in_days_at_retrieval'}\n",
      "\n",
      "Columns in Test but not Train: set()\n"
     ]
    }
   ],
   "source": [
    "# read json file\n",
    "train_json = json.load(open('train.json'))\n",
    "\n",
    "# normalize data and put in a dataframe\n",
    "train_json_df = json_normalize(train_json)\n",
    "\n",
    "# read json file\n",
    "test_json = json.load(open('test.json'))\n",
    "\n",
    "# normalize data and put in a dataframe\n",
    "test_json_df = json_normalize(test_json)\n",
    "\n",
    "print(\"Train shape: \", train_json_df.shape)\n",
    "print(\"Test shape: \", test_json_df.shape)\n",
    "\n",
    "train_only_columns = set(train_json_df.columns.values)-set(test_json_df.columns.values)\n",
    "print(\"Columns in Train but not Test:\\n\",train_only_columns)\n",
    "test_only_columns = set(test_json_df.columns.values)-set(train_json_df.columns.values)\n",
    "print(\"\\nColumns in Test but not Train:\",test_only_columns)\n",
    "test_w_train_col = train_json_df[test_json_df.columns.values]"
   ]
  },
  {
   "cell_type": "code",
   "execution_count": 471,
   "metadata": {
    "collapsed": true
   },
   "outputs": [],
   "source": [
    "# 0 means the user doesn't receive pizza & 1 means the user receives pizza\n",
    "train_labels = train_json_df.requester_received_pizza.astype(int).as_matrix()\n",
    "\n",
    "# split the training data into training data and dev data \n",
    "train_data, dev_data, train_labels, dev_labels = \\\n",
    "            train_test_split(test_w_train_col, train_labels, test_size=0.2, random_state=12)"
   ]
  },
  {
   "cell_type": "code",
   "execution_count": 472,
   "metadata": {
    "collapsed": true
   },
   "outputs": [],
   "source": [
    "train_text=train_data['request_text_edit_aware'] +' '+train_data['request_title']\n",
    "dev_text=dev_data['request_text_edit_aware'] +' '+dev_data['request_title']"
   ]
  },
  {
   "cell_type": "code",
   "execution_count": 473,
   "metadata": {
    "collapsed": true
   },
   "outputs": [],
   "source": [
    "# Narratives per Standford paper\n",
    "money = [\"money\", \"now\", \"broke\", \"week\", \"until\", \"time\",\n",
    "          \"last\", \"day\", \"when\", \"today\", \"tonight\", \"paid\", \"next\",\n",
    "          \"first\", \"night\", \"after\", \"tomorrow\", \"month\", \"while\",\n",
    "          \"account\", \"before\", \"long\", \"Friday\", \"rent\", \"buy\",\n",
    "          \"bank\", \"still\", \"bills\", \"ago\", \"cash\", \"due\",\n",
    "          \"soon\", \"past\", \"never\", \"paycheck\", \"check\", \"spent\",\n",
    "          \"years\", \"poor\", \"till\", \"yesterday\", \"morning\", \"dollars\",\n",
    "          \"financial\", \"hour\", \"bill\", \"evening\", \"credit\",\n",
    "          \"budget\", \"loan\", \"bucks\", \"deposit\", \"dollar\", \"current\",\n",
    "          \"payed\"]\n",
    "job =[\"work\", \"job\", \"paycheck\", \"unemployment\", \"interview\",\n",
    "          \"fired\", \"employment\", \"hired\", \"hire\"]\n",
    "student = [\"college\", \"student\", \"school\", \"roommate\",\n",
    "          \"studying\", \"university\", \"finals\", \"semester\",\n",
    "          \"class\", \"study\", \"project\", \"dorm\", \"tuition\"]\n",
    "family =[\"family\", \"mom\", \"wife\", \"parents\", \"mother\", \"husband\",\n",
    "           \"dad\", \"son\", \"daughter\", \"father\", \"parent\",\n",
    "           \"mum\"]\n",
    "craving = [\"friend\", \"girlfriend\", \"craving\", \"birthday\",\n",
    "          \"boyfriend\", \"celebrate\", \"party\", \"game\", \"games\",\n",
    "          \"movie\", \"date\", \"drunk\", \"beer\", \"celebrating\", \"invited\",\n",
    "          \"drinks\", \"crave\", \"wasted\", \"invite\"]\n",
    "\n",
    "narratives = [money, job, student, family, craving]\n"
   ]
  },
  {
   "cell_type": "code",
   "execution_count": 474,
   "metadata": {
    "collapsed": true
   },
   "outputs": [],
   "source": [
    "import string\n",
    "from nltk.stem.porter import PorterStemmer\n",
    "def pre_proccess(s):\n",
    "    s = re.sub(\"[^\\w']|_\", \" \", s) \n",
    "    s=s.translate(str.maketrans(' ',' ',string.punctuation))#strip punctuation before looking\n",
    "    s=s.lower()\n",
    "   # p_stemmer = PorterStemmer()\n",
    "    #s = ' '.join([p_stemmer.stem(i) for i in s.split()])    \n",
    "    return s"
   ]
  },
  {
   "cell_type": "code",
   "execution_count": 475,
   "metadata": {
    "collapsed": true
   },
   "outputs": [],
   "source": [
    "def construct_ft_mat(train_data):\n",
    "    feat_mat=pd.DataFrame()\n",
    "    \n",
    "    feat_mat['hour_request']=pd.to_datetime(train_data['unix_timestamp_of_request_utc'],unit = 's').dt.hour\n",
    "    feat_mat['day_request']=pd.to_datetime(train_data['unix_timestamp_of_request_utc'],unit = 's').dt.day \n",
    "    feat_mat['month_request']=pd.to_datetime(train_data['unix_timestamp_of_request_utc'],unit = 's').dt.month\n",
    "    feat_mat['community_age'] = (pd.to_datetime(train_data['unix_timestamp_of_request_utc'],utc = True, unit = 's') - \\\n",
    "                                pd.to_datetime('2010-12-8', format='%Y-%m-%d')).astype('timedelta64[D]')\n",
    "\n",
    "    feat_mat['first_post']=np.log(train_data['requester_days_since_first_post_on_raop_at_request']+1)\n",
    "    feat_mat['upvotes_minus_downvotes']=train_data['requester_upvotes_minus_downvotes_at_request']\n",
    "    feat_mat['upvotes_plus_downvotes_at_request']=np.log(train_data['requester_upvotes_plus_downvotes_at_request']+1)\n",
    "    upvotes=train_data.apply(lambda row: (row['requester_upvotes_plus_downvotes_at_request'] + row['requester_upvotes_minus_downvotes_at_request'])/2,axis=1)\n",
    "    downvotes=train_data.apply(lambda row: (row['requester_upvotes_plus_downvotes_at_request']- row['requester_upvotes_minus_downvotes_at_request'])/2,axis=1)\n",
    "    feat_mat['upvotes']=upvotes\n",
    "    feat_mat['vote_ratio']=upvotes/(upvotes+downvotes+1)\n",
    "    feat_mat['req_age']=np.log(train_data['requester_account_age_in_days_at_request']+1)\n",
    "    feat_mat['num_subs']=np.log(train_data['requester_number_of_subreddits_at_request']+1)\n",
    "    feat_mat['num_posts']=np.log(train_data['requester_number_of_posts_at_request']+1)\n",
    "    feat_mat['pizza_activity']=np.log(train_data['requester_number_of_posts_on_raop_at_request']+1)\n",
    "    feat_mat['len_request']=np.log(train_data['request_text_edit_aware'].apply(len)+1)\n",
    "    feat_mat['len_title']=np.log(train_data['request_title'].apply(len)+1)\n",
    "    #feat_mat['len_name']=train_data['requester_username'].apply(len)\n",
    "    feat_mat['pizza_comments']=np.log(train_data['requester_number_of_comments_in_raop_at_request']+1)\n",
    "    feat_mat['hyperlink'] = train_data['request_text_edit_aware'].apply(lambda x: 1 if re.search(\"http|www\", x) else 0)\n",
    "    # reciprocity indicator\n",
    "    feat_mat['reciprocity'] = train_data['request_text_edit_aware'].apply(lambda x:1 if re.search(\"repay|pay.+back|pay.+forward|return.+favor|reciprocate\", x) \n",
    "                                               else 0)\n",
    "    feat_mat['politeness'] = train_data['request_text_edit_aware'].apply(lambda x: 1 if re.search(\"thank|appreciate|advance|appreciated|consideration\", x) else 0)\n",
    "    \n",
    "    return feat_mat\n",
    "\n",
    "def find_narr(narr,s):\n",
    "    ct=0\n",
    "    for word in narr:\n",
    "        ct+=s.split().count(word)\n",
    "    return ct/len(s.split())\n",
    "    #return int(ct > 0)\n",
    "\n"
   ]
  },
  {
   "cell_type": "code",
   "execution_count": 476,
   "metadata": {
    "collapsed": true
   },
   "outputs": [],
   "source": [
    "feat_mat=construct_ft_mat(train_data)\n",
    "dev_mat=construct_ft_mat(dev_data)"
   ]
  },
  {
   "cell_type": "code",
   "execution_count": 485,
   "metadata": {
    "collapsed": true
   },
   "outputs": [],
   "source": [
    "train_text_clean=train_text.apply(lambda s:pre_proccess(s))\n",
    "dev_text_clean=dev_text.apply(lambda s: pre_proccess(s))     \n",
    "for n in narratives:\n",
    "    feat_mat[n[0]]=train_text_clean.apply(lambda s: find_narr(n,s))\n",
    "    dev_mat[n[0]]=dev_text_clean.apply(lambda s: find_narr(n,s))\n",
    "    \n",
    "\n",
    "t_mat=feat_mat.as_matrix()\n",
    "d_mat=dev_mat.as_matrix()"
   ]
  },
  {
   "cell_type": "code",
   "execution_count": 486,
   "metadata": {
    "collapsed": true
   },
   "outputs": [],
   "source": [
    "vectorizer = TfidfVectorizer(ngram_range=(1,1), preprocessor=pre_proccess,stop_words='english',norm='l2',sublinear_tf=True) \n",
    "train_bag_of_words = vectorizer.fit_transform(train_text)\n",
    "dev_bag_of_words = vectorizer.transform(dev_text)"
   ]
  },
  {
   "cell_type": "code",
   "execution_count": 487,
   "metadata": {},
   "outputs": [
    {
     "name": "stdout",
     "output_type": "stream",
     "text": [
      "(3232, 944)\n"
     ]
    }
   ],
   "source": [
    "lsvc = LSVC(C=1, penalty=\"l1\", dual=False,random_state=42).fit(train_bag_of_words,train_labels)\n",
    "model = SelectFromModel(lsvc, prefit=True)\n",
    "#S=StandardScaler(with_mean=False)\n",
    "#X_new = model.transform(S.fit_transform(train_bag_of_words))\n",
    "X_new = model.transform(train_bag_of_words)\n",
    "print(X_new.shape)\n",
    "\n",
    "#d_new=model.transform(S.transform(dev_bag_of_words))\n",
    "d_new=model.transform(dev_bag_of_words)\n",
    "\n",
    "f_new=hstack([X_new,t_mat])\n",
    "dev_new=hstack([d_new,d_mat])"
   ]
  },
  {
   "cell_type": "code",
   "execution_count": 488,
   "metadata": {},
   "outputs": [
    {
     "name": "stdout",
     "output_type": "stream",
     "text": [
      "{'C': 2.5454545454545454}\n"
     ]
    },
    {
     "data": {
      "text/plain": [
       "0.69213815789473687"
      ]
     },
     "execution_count": 488,
     "metadata": {},
     "output_type": "execute_result"
    }
   ],
   "source": [
    "lr = LogisticRegression()\n",
    "parameters = {'C':np.linspace(2, 3, 100)}\n",
    "clf = GridSearchCV(lr, parameters)\n",
    "clf.fit(f_new, train_labels)\n",
    "pred_dev_prob = clf.predict_proba(dev_new)[:,1]\n",
    "pred_dev_label = clf.predict(dev_new)\n",
    "\n",
    "print(clf.best_params_)\n",
    "roc_auc_score(dev_labels, pred_dev_prob, average='micro')"
   ]
  },
  {
   "cell_type": "code",
   "execution_count": 489,
   "metadata": {},
   "outputs": [
    {
     "data": {
      "text/plain": [
       "array([1, 1, 1, 1, 0, 1, 1, 0, 1, 1, 1, 1, 1, 1, 1, 1, 1, 1, 1, 1, 1, 1, 1,\n",
       "       1, 1, 0, 1, 1, 1, 0, 1, 1, 1, 1, 1, 1, 1, 1, 1, 0, 1, 1, 1, 1, 0, 1,\n",
       "       1, 0, 1, 0, 1, 1, 1, 1, 1, 1, 1, 1, 1, 1, 1, 1, 1, 1, 1, 1, 1, 1, 1,\n",
       "       1, 1, 1, 1, 1, 1, 1, 1, 1, 1, 1, 1, 0, 0, 1, 1, 1, 1, 1, 1, 1, 1, 1,\n",
       "       1, 1, 1, 0, 1, 1, 0, 1, 1, 1, 1, 1, 1, 1, 1, 1, 1, 1, 1, 1, 1, 1, 1,\n",
       "       1, 1, 1, 1, 1, 1, 1, 1, 1, 1, 1, 1, 1, 1, 1, 1, 1, 1, 1, 1, 0, 1, 0,\n",
       "       1, 1, 1, 1, 0, 1, 1, 1, 1, 0, 1, 1, 1, 1, 1, 1, 0, 0, 1, 0, 0, 1, 1,\n",
       "       1, 1, 0, 1, 1, 1, 1, 1, 1, 1, 1, 1, 1, 1, 1, 0, 1, 1, 1, 0, 1, 1, 1,\n",
       "       1, 1, 1, 1, 1, 1])"
      ]
     },
     "execution_count": 489,
     "metadata": {},
     "output_type": "execute_result"
    }
   ],
   "source": [
    "dev_labels[dev_labels != pred_dev_label]"
   ]
  },
  {
   "cell_type": "code",
   "execution_count": 490,
   "metadata": {
    "collapsed": true
   },
   "outputs": [],
   "source": [
    "vectorizer = TfidfVectorizer(min_df=5,ngram_range=(1,2), preprocessor=pre_proccess,stop_words='english',norm='l2',sublinear_tf=True) \n",
    "train_bag_of_words = vectorizer.fit_transform(train_text)\n",
    "dev_bag_of_words = vectorizer.transform(dev_text)"
   ]
  },
  {
   "cell_type": "code",
   "execution_count": 491,
   "metadata": {},
   "outputs": [
    {
     "name": "stdout",
     "output_type": "stream",
     "text": [
      "(3232, 1037)\n"
     ]
    }
   ],
   "source": [
    "lsvc = LSVC(C=1, penalty=\"l1\", dual=False,random_state=42).fit(train_bag_of_words,train_labels)\n",
    "model = SelectFromModel(lsvc, prefit=True)\n",
    "#S=StandardScaler(with_mean=False)\n",
    "#X_new = model.transform(S.fit_transform(train_bag_of_words))\n",
    "X_new = model.transform(train_bag_of_words)\n",
    "print(X_new.shape)\n",
    "\n",
    "#d_new=model.transform(S.transform(dev_bag_of_words))\n",
    "d_new=model.transform(dev_bag_of_words)\n",
    "\n",
    "f_new=hstack([X_new,t_mat])\n",
    "dev_new=hstack([d_new,d_mat])"
   ]
  },
  {
   "cell_type": "code",
   "execution_count": 492,
   "metadata": {},
   "outputs": [
    {
     "name": "stdout",
     "output_type": "stream",
     "text": [
      "[0]\teval-auc:0.596271\ttrain-auc:0.756954\n",
      "[1]\teval-auc:0.625337\ttrain-auc:0.815551\n",
      "[2]\teval-auc:0.634548\ttrain-auc:0.845353\n",
      "[3]\teval-auc:0.634079\ttrain-auc:0.871819\n",
      "[4]\teval-auc:0.643035\ttrain-auc:0.895077\n",
      "[5]\teval-auc:0.636435\ttrain-auc:0.906916\n",
      "[6]\teval-auc:0.636608\ttrain-auc:0.916473\n",
      "[7]\teval-auc:0.638602\ttrain-auc:0.934033\n",
      "[8]\teval-auc:0.639864\ttrain-auc:0.944047\n",
      "[9]\teval-auc:0.645037\ttrain-auc:0.953804\n",
      "[10]\teval-auc:0.642216\ttrain-auc:0.961064\n",
      "[11]\teval-auc:0.652533\ttrain-auc:0.966652\n",
      "[12]\teval-auc:0.655099\ttrain-auc:0.971863\n",
      "[13]\teval-auc:0.657977\ttrain-auc:0.974616\n",
      "[14]\teval-auc:0.655559\ttrain-auc:0.978691\n",
      "[15]\teval-auc:0.649951\ttrain-auc:0.980079\n",
      "[16]\teval-auc:0.643676\ttrain-auc:0.983286\n",
      "[17]\teval-auc:0.6469\ttrain-auc:0.986077\n",
      "[18]\teval-auc:0.648602\ttrain-auc:0.988374\n",
      "[19]\teval-auc:0.654646\ttrain-auc:0.991933\n",
      "[20]\teval-auc:0.65713\ttrain-auc:0.992882\n",
      "[21]\teval-auc:0.654326\ttrain-auc:0.994082\n",
      "[22]\teval-auc:0.652344\ttrain-auc:0.994679\n",
      "[23]\teval-auc:0.6481\ttrain-auc:0.996173\n",
      "[24]\teval-auc:0.641077\ttrain-auc:0.996823\n",
      "[25]\teval-auc:0.64116\ttrain-auc:0.997482\n",
      "[26]\teval-auc:0.639737\ttrain-auc:0.998473\n",
      "[27]\teval-auc:0.641924\ttrain-auc:0.998504\n",
      "[28]\teval-auc:0.639926\ttrain-auc:0.998944\n",
      "[29]\teval-auc:0.639342\ttrain-auc:0.999002\n",
      "[30]\teval-auc:0.645485\ttrain-auc:0.999261\n",
      "[31]\teval-auc:0.646571\ttrain-auc:0.999373\n",
      "[32]\teval-auc:0.646283\ttrain-auc:0.999524\n",
      "[33]\teval-auc:0.64403\ttrain-auc:0.999767\n",
      "[34]\teval-auc:0.645954\ttrain-auc:0.9999\n",
      "[35]\teval-auc:0.648298\ttrain-auc:0.999937\n",
      "[36]\teval-auc:0.652862\ttrain-auc:0.999956\n",
      "[37]\teval-auc:0.654704\ttrain-auc:0.999964\n",
      "[38]\teval-auc:0.65153\ttrain-auc:0.999975\n",
      "[39]\teval-auc:0.647253\ttrain-auc:0.999994\n",
      "[40]\teval-auc:0.652878\ttrain-auc:0.999999\n",
      "[41]\teval-auc:0.653273\ttrain-auc:1\n",
      "[42]\teval-auc:0.659021\ttrain-auc:0.999997\n",
      "[43]\teval-auc:0.65884\ttrain-auc:1\n",
      "[44]\teval-auc:0.657566\ttrain-auc:1\n",
      "[45]\teval-auc:0.65472\ttrain-auc:1\n",
      "[46]\teval-auc:0.657393\ttrain-auc:1\n",
      "[47]\teval-auc:0.660855\ttrain-auc:1\n",
      "[48]\teval-auc:0.661201\ttrain-auc:1\n",
      "[49]\teval-auc:0.660937\ttrain-auc:1\n",
      "[50]\teval-auc:0.662081\ttrain-auc:1\n",
      "[51]\teval-auc:0.667401\ttrain-auc:1\n",
      "[52]\teval-auc:0.667706\ttrain-auc:1\n",
      "[53]\teval-auc:0.669137\ttrain-auc:1\n",
      "[54]\teval-auc:0.670493\ttrain-auc:1\n",
      "[55]\teval-auc:0.669663\ttrain-auc:1\n",
      "[56]\teval-auc:0.669482\ttrain-auc:1\n",
      "[57]\teval-auc:0.667385\ttrain-auc:1\n",
      "[58]\teval-auc:0.668002\ttrain-auc:1\n",
      "[59]\teval-auc:0.668594\ttrain-auc:1\n",
      "[60]\teval-auc:0.670641\ttrain-auc:1\n",
      "[61]\teval-auc:0.671373\ttrain-auc:1\n",
      "[62]\teval-auc:0.669071\ttrain-auc:1\n",
      "[63]\teval-auc:0.671143\ttrain-auc:1\n",
      "[64]\teval-auc:0.673076\ttrain-auc:1\n",
      "[65]\teval-auc:0.671275\ttrain-auc:1\n",
      "[66]\teval-auc:0.671801\ttrain-auc:1\n",
      "[67]\teval-auc:0.673577\ttrain-auc:1\n",
      "[68]\teval-auc:0.670814\ttrain-auc:1\n",
      "[69]\teval-auc:0.674317\ttrain-auc:1\n",
      "[70]\teval-auc:0.67634\ttrain-auc:1\n",
      "[71]\teval-auc:0.675954\ttrain-auc:1\n",
      "[72]\teval-auc:0.675016\ttrain-auc:1\n",
      "[73]\teval-auc:0.673709\ttrain-auc:1\n",
      "[74]\teval-auc:0.67403\ttrain-auc:1\n",
      "[75]\teval-auc:0.675658\ttrain-auc:1\n",
      "[76]\teval-auc:0.674293\ttrain-auc:1\n",
      "[77]\teval-auc:0.673618\ttrain-auc:1\n",
      "[78]\teval-auc:0.673512\ttrain-auc:1\n",
      "[79]\teval-auc:0.674523\ttrain-auc:1\n",
      "[80]\teval-auc:0.674498\ttrain-auc:1\n",
      "[81]\teval-auc:0.671924\ttrain-auc:1\n",
      "[82]\teval-auc:0.672706\ttrain-auc:1\n",
      "[83]\teval-auc:0.670822\ttrain-auc:1\n",
      "[84]\teval-auc:0.6694\ttrain-auc:1\n",
      "[85]\teval-auc:0.670625\ttrain-auc:1\n",
      "[86]\teval-auc:0.667007\ttrain-auc:1\n",
      "[87]\teval-auc:0.670913\ttrain-auc:1\n",
      "[88]\teval-auc:0.670354\ttrain-auc:1\n",
      "[89]\teval-auc:0.67111\ttrain-auc:1\n",
      "[90]\teval-auc:0.669753\ttrain-auc:1\n",
      "[91]\teval-auc:0.666817\ttrain-auc:1\n",
      "[92]\teval-auc:0.665658\ttrain-auc:1\n",
      "[93]\teval-auc:0.665271\ttrain-auc:1\n",
      "[94]\teval-auc:0.667319\ttrain-auc:1\n",
      "[95]\teval-auc:0.666283\ttrain-auc:1\n",
      "[96]\teval-auc:0.665559\ttrain-auc:1\n",
      "[97]\teval-auc:0.666562\ttrain-auc:1\n",
      "[98]\teval-auc:0.667697\ttrain-auc:1\n",
      "[99]\teval-auc:0.66898\ttrain-auc:1\n"
     ]
    }
   ],
   "source": [
    "import xgboost as xgb\n",
    "#create dmatrices\n",
    "dtrain = xgb.DMatrix(f_new, train_labels)\n",
    "dtest = xgb.DMatrix(dev_new, dev_labels)\n",
    "\n",
    "#booster parameter\n",
    "param = {'max_depth': 7, 'eta': 1, 'silent': 1, 'objective': 'binary:logistic'\n",
    "         , 'scale_pos_weight': 3.06,'max_delta_step':1,'subsample':.8}#9 depth if sublin false\n",
    "param['nthread'] = 4\n",
    "param['eval_metric'] = 'auc'\n",
    "\n",
    "#specify validation set to watch performance\n",
    "evallist = [(dtest, 'eval'), (dtrain, 'train')]\n",
    "\n",
    "#train model\n",
    "num_round = 100\n",
    "bst = xgb.train(param.items(), dtrain, num_round, evallist)"
   ]
  },
  {
   "cell_type": "markdown",
   "metadata": {
    "collapsed": true
   },
   "source": [
    "## 4. Follow the Stanford Paper exactly\n"
   ]
  },
  {
   "cell_type": "code",
   "execution_count": 533,
   "metadata": {},
   "outputs": [
    {
     "name": "stdout",
     "output_type": "stream",
     "text": [
      "Train shape:  (4040, 32)\n",
      "Test shape:  (1631, 17)\n"
     ]
    }
   ],
   "source": [
    "# read json file\n",
    "train_json = json.load(open('train.json'))\n",
    "\n",
    "# normalize data and put in a dataframe\n",
    "train_json_df = json_normalize(train_json)\n",
    "\n",
    "# read json file\n",
    "test_json = json.load(open('test.json'))\n",
    "\n",
    "# normalize data and put in a dataframe\n",
    "test_json_df = json_normalize(test_json)\n",
    "\n",
    "print(\"Train shape: \", train_json_df.shape)\n",
    "print(\"Test shape: \", test_json_df.shape)\n"
   ]
  },
  {
   "cell_type": "code",
   "execution_count": 534,
   "metadata": {
    "collapsed": true
   },
   "outputs": [],
   "source": [
    "# 0 means the user doesn't receive pizza & 1 means the user receives pizza\n",
    "train_labels = train_json_df.requester_received_pizza.astype(int).as_matrix()\n",
    "\n",
    "# split the training data into training data and dev data \n",
    "train_data, dev_data, train_labels, dev_labels = \\\n",
    "            train_test_split(test_w_train_col, train_labels, test_size=0.2, random_state=12)"
   ]
  },
  {
   "cell_type": "code",
   "execution_count": 535,
   "metadata": {
    "collapsed": true
   },
   "outputs": [],
   "source": [
    "train_text=train_data['request_text_edit_aware'] + ' ' + train_data['request_title']\n",
    "dev_text=dev_data['request_text_edit_aware'] + ' ' + dev_data['request_title']"
   ]
  },
  {
   "cell_type": "code",
   "execution_count": 536,
   "metadata": {
    "collapsed": true
   },
   "outputs": [],
   "source": [
    "# Narratives per Standford paper\n",
    "money = [\"money\", \"now\", \"broke\", \"week\", \"until\", \"time\",\n",
    "          \"last\", \"day\", \"when\", \"today\", \"tonight\", \"paid\", \"next\",\n",
    "          \"first\", \"night\", \"after\", \"tomorrow\", \"month\", \"while\",\n",
    "          \"account\", \"before\", \"long\", \"Friday\", \"rent\", \"buy\",\n",
    "          \"bank\", \"still\", \"bills\", \"ago\", \"cash\", \"due\",\n",
    "          \"soon\", \"past\", \"never\", \"paycheck\", \"check\", \"spent\",\n",
    "          \"years\", \"poor\", \"till\", \"yesterday\", \"morning\", \"dollars\",\n",
    "          \"financial\", \"hour\", \"bill\", \"evening\", \"credit\",\n",
    "          \"budget\", \"loan\", \"bucks\", \"deposit\", \"dollar\", \"current\",\n",
    "          \"payed\"]\n",
    "job =[\"work\", \"job\", \"paycheck\", \"unemployment\", \"interview\",\n",
    "          \"fired\", \"employment\", \"hired\", \"hire\"]\n",
    "student = [\"college\", \"student\", \"school\", \"roommate\",\n",
    "          \"studying\", \"university\", \"finals\", \"semester\",\n",
    "          \"class\", \"study\", \"project\", \"dorm\", \"tuition\"]\n",
    "family =[\"family\", \"mom\", \"wife\", \"parents\", \"mother\", \"husband\",\n",
    "           \"dad\", \"son\", \"daughter\", \"father\", \"parent\",\n",
    "           \"mum\"]\n",
    "craving = [\"friend\", \"girlfriend\", \"craving\", \"birthday\",\n",
    "          \"boyfriend\", \"celebrate\", \"party\", \"game\", \"games\",\n",
    "          \"movie\", \"date\", \"drunk\", \"beer\", \"celebrating\", \"invited\",\n",
    "          \"drinks\", \"crave\", \"wasted\", \"invite\"]\n",
    "\n",
    "narratives = [money, job, student, family, craving]"
   ]
  },
  {
   "cell_type": "code",
   "execution_count": 537,
   "metadata": {
    "collapsed": true
   },
   "outputs": [],
   "source": [
    "import string\n",
    "from nltk.stem.porter import PorterStemmer\n",
    "def pre_proccess(s):\n",
    "    s = re.sub(\"[^\\w']|_\", \" \", s) \n",
    "    s=s.translate(str.maketrans(' ',' ',string.punctuation))#strip punctuation before looking\n",
    "    s=s.lower()\n",
    "    #p_stemmer = PorterStemmer()\n",
    "    #s = ' '.join([p_stemmer.stem(i) for i in s.split()])    \n",
    "    return s"
   ]
  },
  {
   "cell_type": "code",
   "execution_count": 556,
   "metadata": {
    "collapsed": true
   },
   "outputs": [],
   "source": [
    "def construct_ft_mat(train_data):\n",
    "    feat_mat=pd.DataFrame()\n",
    "    \n",
    "    feat_mat['community_age'] = (pd.to_datetime(train_data['unix_timestamp_of_request_utc'],utc = True, unit = 's') - \\\n",
    "                                pd.to_datetime('2010-12-8', format='%Y-%m-%d')).astype('timedelta64[D]')\n",
    "    \n",
    "    feat_mat['community_age'] = (feat_mat['community_age'] * 10./feat_mat.community_age.max()).astype(int)\n",
    "\n",
    "    feat_mat['first_half_of_month']=(pd.to_datetime(train_data['unix_timestamp_of_request_utc'],unit = 's').dt.day <= 15).astype(int) \n",
    "\n",
    "    feat_mat['gratitude'] = train_data['request_text_edit_aware'].apply( \\\n",
    "                                    lambda x: 1 if re.search(\"thank|appreciate|advance|consider\", x) else 0)\n",
    "    feat_mat['include_image'] = train_data['request_text_edit_aware'].apply(lambda x: 1 if re.search(\"http|www\", x) else 0)\n",
    "\n",
    "    feat_mat['reciprocity'] = train_data['request_text_edit_aware'].apply(\\\n",
    "                                    lambda x:1 if re.search(\"repay|pay.+back|pay.+forward|return.+favor|reciprocate\", x) else 0)\n",
    "    feat_mat['len_request']= (train_data['request_text_edit_aware'].apply(len) > 100).astype(int)\n",
    "\n",
    "    feat_mat['karma']=(train_data['requester_upvotes_minus_downvotes_at_request']* 10.\\\n",
    "                                         /train_data.requester_upvotes_minus_downvotes_at_request.max()).astype(int)\n",
    "\n",
    "    feat_mat['posted_in_raop_before']= (train_data['requester_number_of_posts_on_raop_at_request'] > 0).astype(int)\n",
    "    \n",
    "    feat_mat['posted_before']= (train_data['requester_number_of_posts_at_request'] > 0).astype(int)\n",
    "    \n",
    "    return feat_mat\n",
    "\n",
    "def find_narr(narr,s):\n",
    "    ct=0\n",
    "    for word in narr:\n",
    "        ct+=s.split().count(word)\n",
    "    #return ct/len(s.split())\n",
    "    return int(ct > 0)\n"
   ]
  },
  {
   "cell_type": "code",
   "execution_count": 557,
   "metadata": {
    "collapsed": true
   },
   "outputs": [],
   "source": [
    "feat_mat=construct_ft_mat(train_data)\n",
    "dev_mat=construct_ft_mat(dev_data)"
   ]
  },
  {
   "cell_type": "code",
   "execution_count": 558,
   "metadata": {
    "collapsed": true
   },
   "outputs": [],
   "source": [
    "train_text_clean=train_text.apply(lambda s:pre_proccess(s))\n",
    "dev_text_clean=dev_text.apply(lambda s: pre_proccess(s))     \n",
    "for n in narratives:\n",
    "    feat_mat[n[0]]=train_text_clean.apply(lambda s: find_narr(n,s))\n",
    "    dev_mat[n[0]]=dev_text_clean.apply(lambda s: find_narr(n,s))"
   ]
  },
  {
   "cell_type": "code",
   "execution_count": 559,
   "metadata": {},
   "outputs": [],
   "source": [
    "vectorizer = TfidfVectorizer(min_df = 2, ngram_range=(1,1), preprocessor=pre_proccess,stop_words='english',norm='l1',sublinear_tf=True)\n",
    "train_bag_of_words = vectorizer.fit_transform(train_text)\n",
    "dev_bag_of_words = vectorizer.transform(dev_text)"
   ]
  },
  {
   "cell_type": "code",
   "execution_count": 560,
   "metadata": {
    "collapsed": true
   },
   "outputs": [],
   "source": [
    "t_mat = feat_mat.as_matrix()\n",
    "d_mat = dev_mat.as_matrix()\n",
    "f_new=hstack([train_bag_of_words,t_mat])\n",
    "dev_new=hstack([dev_bag_of_words,d_mat])"
   ]
  },
  {
   "cell_type": "code",
   "execution_count": 563,
   "metadata": {},
   "outputs": [
    {
     "name": "stdout",
     "output_type": "stream",
     "text": [
      "{'C': 18.18181818181818}\n"
     ]
    },
    {
     "data": {
      "text/plain": [
       "0.63738486842105258"
      ]
     },
     "execution_count": 563,
     "metadata": {},
     "output_type": "execute_result"
    }
   ],
   "source": [
    "lr = LogisticRegression()\n",
    "#parameters = {'C':[0.01, 0.1, 1, 10, 100, 1000]}\n",
    "parameters = {'C':np.linspace(10, 100, 100)}\n",
    "clf = GridSearchCV(lr, parameters)\n",
    "clf.fit(f_new, train_labels)\n",
    "pred_dev_prob = clf.predict_proba(dev_new)[:,1]\n",
    "pred_dev_labels = clf.predict(dev_new)\n",
    "\n",
    "print(clf.best_params_)\n",
    "roc_auc_score(dev_labels, pred_dev_prob, average='micro')"
   ]
  },
  {
   "cell_type": "code",
   "execution_count": 564,
   "metadata": {},
   "outputs": [
    {
     "data": {
      "text/plain": [
       "array([1, 1, 0, 1, 0, 1, 0, 1, 1, 1, 1, 1, 1, 1, 1, 1, 1, 1, 1, 1, 1, 1, 1,\n",
       "       1, 1, 1, 1, 1, 1, 1, 1, 1, 1, 1, 1, 1, 1, 1, 1, 0, 1, 1, 0, 1, 1, 1,\n",
       "       0, 1, 1, 1, 0, 1, 1, 0, 0, 1, 1, 1, 1, 1, 1, 1, 1, 0, 1, 1, 1, 1, 1,\n",
       "       1, 1, 1, 1, 1, 1, 1, 1, 1, 1, 1, 1, 1, 1, 1, 1, 1, 1, 0, 1, 1, 1, 1,\n",
       "       1, 1, 1, 1, 1, 1, 1, 1, 1, 1, 1, 1, 1, 1, 1, 0, 1, 1, 1, 1, 1, 1, 1,\n",
       "       1, 1, 1, 1, 1, 1, 1, 1, 1, 1, 0, 1, 1, 1, 1, 1, 1, 1, 1, 1, 1, 1, 1,\n",
       "       1, 1, 1, 1, 1, 1, 0, 1, 1, 1, 1, 1, 1, 1, 0, 1, 1, 1, 1, 1, 1, 1, 1,\n",
       "       1, 1, 1, 0, 1, 1, 1, 1, 0, 0, 1, 1, 1, 1, 1, 1, 1, 1, 1, 1, 1, 1, 1,\n",
       "       0, 1, 1, 1, 1, 1, 1, 1, 1, 1, 1, 1, 1, 1])"
      ]
     },
     "execution_count": 564,
     "metadata": {},
     "output_type": "execute_result"
    }
   ],
   "source": [
    "dev_labels[dev_labels != pred_dev_labels]"
   ]
  },
  {
   "cell_type": "markdown",
   "metadata": {},
   "source": [
    "### Try to augment the data to have more positive repsonse observations"
   ]
  },
  {
   "cell_type": "code",
   "execution_count": 545,
   "metadata": {},
   "outputs": [],
   "source": [
    "# mean for each non-text feature that gets pizza \n",
    "mean_features = feat_mat[train_labels == 1].mean()\n",
    "std_features = feat_mat[train_labels == 1].std()\n",
    "\n",
    "mean_text_len = train_data[train_labels == 1]['request_text_edit_aware'].apply(lambda x: len(x.split())).mean()\n",
    "std_text_len = train_data[train_labels == 1]['request_text_edit_aware'].apply(lambda x: len(x.split())).std()"
   ]
  },
  {
   "cell_type": "code",
   "execution_count": 546,
   "metadata": {},
   "outputs": [],
   "source": [
    "augment_sample_size = 1000\n",
    "\n",
    "# probability for bag of words\n",
    "nb = MultinomialNB()\n",
    "nb.fit(train_bag_of_words, train_labels)\n",
    "\n",
    "prob = np.zeros(nb.feature_log_prob_.shape)\n",
    "\n",
    "for i in range(nb.feature_log_prob_.shape[0]): \n",
    "    for j in range(nb.feature_log_prob_.shape[1]):\n",
    "        prob[i,j] = np.exp(nb.feature_log_prob_[i][j])\n",
    "\n",
    "\n",
    "# generate new samples\n",
    "new_train_other = pd.DataFrame(columns = ['community_age', 'first_half_of_month', 'gratitude', 'include_image', \\\n",
    "                                         'reciprocity', 'len_request', 'karma', 'posted_in_raop_before', \\\n",
    "                                         'posted_before', 'money', 'work', 'college', 'family', 'friend'])\n",
    "new_train_text = pd.DataFrame(columns = ['request_text_edit_aware'])\n",
    "\n",
    "\n",
    "for i in range(augment_sample_size):\n",
    "    # generate other features\n",
    "    community_age = int(std_features.community_age * np.random.rand() + mean_features.community_age)\n",
    "    first_half_of_month = np.random.choice(2, 1, p = [1-mean_features.first_half_of_month, mean_features.first_half_of_month])[0]\n",
    "    gratitude = np.random.choice(2, 1, p = [1-mean_features.gratitude, mean_features.gratitude])[0]\n",
    "    include_image = np.random.choice(2, 1, p = [1-mean_features.include_image, mean_features.include_image])[0]\n",
    "    reciprocity = np.random.choice(2, 1, p = [1-mean_features.reciprocity, mean_features.reciprocity])[0]\n",
    "    length = int(std_text_len * np.random.rand() + mean_text_len)\n",
    "    len_request = int(length > 100)\n",
    "    karma = int(std_features.karma * np.random.rand() + mean_features.karma)\n",
    "    posted_in_raop_before = np.random.choice(2, 1, p = [1-mean_features.posted_in_raop_before, mean_features.posted_in_raop_before])[0]\n",
    "    posted_before = np.random.choice(2, 1, p = [1-mean_features.posted_before, mean_features.posted_before])[0]\n",
    "    money = np.random.choice(2, 1, p = [1-mean_features.money, mean_features.money])[0]\n",
    "    work = np.random.choice(2, 1, p = [1-mean_features.work, mean_features.work])[0]\n",
    "    college = np.random.choice(2, 1, p = [1-mean_features.college, mean_features.college])[0]\n",
    "    family = np.random.choice(2, 1, p = [1-mean_features.family, mean_features.family])[0]\n",
    "    friend = np.random.choice(2, 1, p = [1-mean_features.friend, mean_features.friend])[0]\n",
    "    \n",
    "    new_train_other.loc[i] = [community_age, first_half_of_month, gratitude, include_image, \\\n",
    "                                reciprocity, len_request, karma, posted_in_raop_before, \\\n",
    "                                posted_before, money, work, college, family, friend]\n",
    "    \n",
    "    # generate text\n",
    "    new_text = []\n",
    "    for j in np.random.choice(len(vectorizer.vocabulary_), size=length, p=prob[1,:]):\n",
    "        new_text.append(list(vectorizer.vocabulary_.keys())[list(vectorizer.vocabulary_.values()).index(j)])\n",
    "    \n",
    "    new_train_text.loc[i] = \" \".join(new_text)\n",
    "    \n",
    "new_train_other = new_train_other.astype(int)"
   ]
  },
  {
   "cell_type": "code",
   "execution_count": 549,
   "metadata": {},
   "outputs": [
    {
     "name": "stdout",
     "output_type": "stream",
     "text": [
      "(4232, 155)\n"
     ]
    }
   ],
   "source": [
    "new_train_labels = np.append(train_labels, [1] * augment_sample_size)\n",
    "\n",
    "t_mat = feat_mat.append(new_train_other).as_matrix()\n",
    "d_mat = dev_mat.as_matrix()\n",
    "\n",
    "vectorizer = TfidfVectorizer(min_df = 2, ngram_range=(1,1), preprocessor=pre_proccess,stop_words='english',norm='l1',sublinear_tf=True)\n",
    "train_bag_of_words = vectorizer.fit_transform(train_text.append(new_train_text.request_text_edit_aware))\n",
    "dev_bag_of_words = vectorizer.transform(dev_text)\n",
    "\n",
    "lsvc = LSVC(C=1, penalty=\"l1\", dual=False,random_state=42).fit(train_bag_of_words,new_train_labels)\n",
    "model = SelectFromModel(lsvc, prefit=True)\n",
    "#S=StandardScaler(with_mean=False)\n",
    "#X_new = model.transform(S.fit_transform(train_bag_of_words))\n",
    "X_new = model.transform(train_bag_of_words)\n",
    "print(X_new.shape)\n",
    "\n",
    "#d_new=model.transform(S.transform(dev_bag_of_words))\n",
    "d_new=model.transform(dev_bag_of_words)\n",
    "\n",
    "f_new=hstack([X_new,t_mat])\n",
    "dev_new=hstack([d_new,d_mat])\n"
   ]
  },
  {
   "cell_type": "code",
   "execution_count": 554,
   "metadata": {},
   "outputs": [
    {
     "name": "stdout",
     "output_type": "stream",
     "text": [
      "{'C': 245.45454545454547}\n"
     ]
    },
    {
     "data": {
      "text/plain": [
       "0.61134046052631574"
      ]
     },
     "execution_count": 554,
     "metadata": {},
     "output_type": "execute_result"
    }
   ],
   "source": [
    "lr = LogisticRegression()\n",
    "#parameters = {'C':[0.01, 0.1, 1, 10, 100, 1000]}\n",
    "parameters = {'C':np.linspace(100, 1000, 100)}\n",
    "clf = GridSearchCV(lr, parameters)\n",
    "clf.fit(f_new, new_train_labels)\n",
    "pred_dev_prob = clf.predict_proba(dev_new)[:,1]\n",
    "pred_dev_labels = clf.predict(dev_new)\n",
    "\n",
    "print(clf.best_params_)\n",
    "roc_auc_score(dev_labels, pred_dev_prob, average='micro')"
   ]
  },
  {
   "cell_type": "code",
   "execution_count": null,
   "metadata": {},
   "outputs": [],
   "source": [
    "dev_labels[dev_labels != pred_dev_labels]"
   ]
  },
  {
   "cell_type": "code",
   "execution_count": null,
   "metadata": {
    "collapsed": true
   },
   "outputs": [],
   "source": []
  },
  {
   "cell_type": "code",
   "execution_count": null,
   "metadata": {
    "collapsed": true
   },
   "outputs": [],
   "source": []
  },
  {
   "cell_type": "code",
   "execution_count": null,
   "metadata": {
    "collapsed": true
   },
   "outputs": [],
   "source": []
  },
  {
   "cell_type": "code",
   "execution_count": null,
   "metadata": {
    "collapsed": true
   },
   "outputs": [],
   "source": []
  },
  {
   "cell_type": "code",
   "execution_count": null,
   "metadata": {
    "collapsed": true
   },
   "outputs": [],
   "source": []
  },
  {
   "cell_type": "code",
   "execution_count": null,
   "metadata": {
    "collapsed": true
   },
   "outputs": [],
   "source": []
  },
  {
   "cell_type": "code",
   "execution_count": null,
   "metadata": {
    "collapsed": true
   },
   "outputs": [],
   "source": []
  },
  {
   "cell_type": "code",
   "execution_count": null,
   "metadata": {
    "collapsed": true
   },
   "outputs": [],
   "source": []
  },
  {
   "cell_type": "code",
   "execution_count": null,
   "metadata": {
    "collapsed": true
   },
   "outputs": [],
   "source": []
  },
  {
   "cell_type": "code",
   "execution_count": null,
   "metadata": {
    "collapsed": true
   },
   "outputs": [],
   "source": []
  },
  {
   "cell_type": "code",
   "execution_count": null,
   "metadata": {
    "collapsed": true
   },
   "outputs": [],
   "source": []
  },
  {
   "cell_type": "code",
   "execution_count": null,
   "metadata": {
    "collapsed": true
   },
   "outputs": [],
   "source": []
  },
  {
   "cell_type": "code",
   "execution_count": null,
   "metadata": {
    "collapsed": true
   },
   "outputs": [],
   "source": []
  },
  {
   "cell_type": "code",
   "execution_count": null,
   "metadata": {
    "collapsed": true
   },
   "outputs": [],
   "source": []
  },
  {
   "cell_type": "code",
   "execution_count": null,
   "metadata": {
    "collapsed": true
   },
   "outputs": [],
   "source": []
  },
  {
   "cell_type": "markdown",
   "metadata": {},
   "source": [
    "## Questions\n",
    "\n",
    "1) ML doesn't need to be parsimony but will it hurt because of overfitting?"
   ]
  },
  {
   "cell_type": "code",
   "execution_count": null,
   "metadata": {
    "collapsed": true
   },
   "outputs": [],
   "source": []
  }
 ],
 "metadata": {
  "kernelspec": {
   "display_name": "Python [conda env:anaconda3]",
   "language": "python",
   "name": "conda-env-anaconda3-py"
  },
  "language_info": {
   "codemirror_mode": {
    "name": "ipython",
    "version": 3
   },
   "file_extension": ".py",
   "mimetype": "text/x-python",
   "name": "python",
   "nbconvert_exporter": "python",
   "pygments_lexer": "ipython3",
   "version": "3.6.4"
  }
 },
 "nbformat": 4,
 "nbformat_minor": 2
}
