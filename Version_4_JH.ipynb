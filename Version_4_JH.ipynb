{
 "cells": [
  {
   "cell_type": "markdown",
   "metadata": {},
   "source": [
    "# Project 4: Final Project - Random Acts of Pizza\n",
    "### Predicting altruism through free pizza\n",
    "\n",
    "#### Team Members: Gurdit Chahal, Shan He, Joanna Huang,  Emmy Lau\n",
    "\n",
    "This project is originated from the Kaggle competition https://www.kaggle.com/c/random-acts-of-pizza. We will create an algorithm to predict which requests will recieve pizza and which on will not.  The competition contains a dataset with 5671 textual requests for pizza from the Reddit community Random Acts of Pizza together with their outcome (successful/unsuccessful) and meta-data. This data was collected and graciously shared by Althoff et al (http://www.timalthoff.com/). \n",
    "\n",
    "**Reference Paper:**\n",
    "Tim Althoff, Cristian Danescu-Niculescu-Mizil, Dan Jurafsky. How to Ask for a Favor: A Case Study on the Success of Altruistic Requests, Proceedings of ICWSM, 2014. (http://cs.stanford.edu/~althoff/raop-dataset/altruistic_requests_icwsm.pdf)"
   ]
  },
  {
   "cell_type": "markdown",
   "metadata": {},
   "source": [
    "### Initialize packages and load in data"
   ]
  },
  {
   "cell_type": "code",
   "execution_count": 1,
   "metadata": {},
   "outputs": [
    {
     "name": "stderr",
     "output_type": "stream",
     "text": [
      "/Users/arthur/anaconda/lib/python3.6/site-packages/sklearn/cross_validation.py:41: DeprecationWarning: This module was deprecated in version 0.18 in favor of the model_selection module into which all the refactored classes and functions are moved. Also note that the interface of the new CV iterators are different from that of this module. This module will be removed in 0.20.\n",
      "  \"This module will be removed in 0.20.\", DeprecationWarning)\n",
      "/Users/arthur/anaconda/lib/python3.6/site-packages/sklearn/grid_search.py:42: DeprecationWarning: This module was deprecated in version 0.18 in favor of the model_selection module into which all the refactored classes and functions are moved. This module will be removed in 0.20.\n",
      "  DeprecationWarning)\n"
     ]
    }
   ],
   "source": [
    "import re\n",
    "import numpy as np\n",
    "import pandas as pd\n",
    "import os\n",
    "import string\n",
    "import matplotlib.pyplot as plt\n",
    "from wordcloud import WordCloud\n",
    "\n",
    "# SK-learn libraries for learning.\n",
    "from sklearn.pipeline import Pipeline\n",
    "from sklearn.neighbors import KNeighborsClassifier\n",
    "from sklearn.linear_model import LogisticRegression\n",
    "from sklearn.naive_bayes import BernoulliNB\n",
    "from sklearn.naive_bayes import MultinomialNB\n",
    "from sklearn.grid_search import GridSearchCV\n",
    "from sklearn.ensemble import RandomForestClassifier as RF\n",
    "from sklearn.svm import SVC\n",
    "from sklearn.svm import LinearSVC as LSVC\n",
    "from sklearn.decomposition import TruncatedSVD as TSVD\n",
    "from sklearn.decomposition import PCA\n",
    "from scipy.sparse import hstack\n",
    "from sklearn.feature_selection import SelectFromModel\n",
    "from sklearn.preprocessing import StandardScaler\n",
    "\n",
    "# SK-learn libraries for evaluation.\n",
    "from sklearn.metrics import confusion_matrix\n",
    "from sklearn import metrics\n",
    "from sklearn.metrics import classification_report\n",
    "from sklearn.metrics import roc_auc_score\n",
    "\n",
    "# SK-learn libraries for feature extraction from text.\n",
    "from sklearn.feature_extraction.text import *\n",
    "\n",
    "# SK-learn libraries for model selection \n",
    "from sklearn.model_selection import train_test_split\n",
    "\n",
    "# json libraries to parse json file\n",
    "import json\n",
    "from pandas.io.json import json_normalize\n",
    "\n",
    "from sklearn.decomposition import LatentDirichletAllocation as LDA\n",
    "import lda\n",
    "import gensim\n",
    "from gensim import utils\n",
    "import xgboost as xgb"
   ]
  },
  {
   "cell_type": "code",
   "execution_count": 2,
   "metadata": {},
   "outputs": [
    {
     "name": "stdout",
     "output_type": "stream",
     "text": [
      "Train shape:  (4040, 32)\n",
      "Test shape:  (1631, 17)\n"
     ]
    }
   ],
   "source": [
    "# read json file\n",
    "train_json = json.load(open('train.json'))\n",
    "\n",
    "# normalize data and put in a dataframe\n",
    "train_json_df = json_normalize(train_json)\n",
    "\n",
    "# read json file\n",
    "test_json = json.load(open('test.json'))\n",
    "\n",
    "# normalize data and put in a dataframe\n",
    "test_json_df = json_normalize(test_json)\n",
    "\n",
    "print(\"Train shape: \", train_json_df.shape)\n",
    "print(\"Test shape: \", test_json_df.shape)"
   ]
  },
  {
   "cell_type": "markdown",
   "metadata": {},
   "source": [
    "There appears to be a discrepancy between the train and test datasets shapes, with the training set having 32 columns and the test set only having 17. Let's take a closer look at the significance of these columns."
   ]
  },
  {
   "cell_type": "code",
   "execution_count": 3,
   "metadata": {},
   "outputs": [
    {
     "name": "stdout",
     "output_type": "stream",
     "text": [
      "Columns in Train but not Test:\n",
      " {'requester_days_since_first_post_on_raop_at_retrieval', 'number_of_downvotes_of_request_at_retrieval', 'requester_upvotes_minus_downvotes_at_retrieval', 'requester_user_flair', 'request_text', 'requester_number_of_comments_in_raop_at_retrieval', 'requester_upvotes_plus_downvotes_at_retrieval', 'requester_number_of_posts_on_raop_at_retrieval', 'request_number_of_comments_at_retrieval', 'requester_received_pizza', 'post_was_edited', 'requester_account_age_in_days_at_retrieval', 'number_of_upvotes_of_request_at_retrieval', 'requester_number_of_comments_at_retrieval', 'requester_number_of_posts_at_retrieval'}\n",
      "\n",
      "Columns in Test but not Train: set()\n"
     ]
    }
   ],
   "source": [
    "train_only_columns = set(train_json_df.columns.values)-set(test_json_df.columns.values)\n",
    "print(\"Columns in Train but not Test:\\n\",train_only_columns)\n",
    "test_only_columns = set(test_json_df.columns.values)-set(train_json_df.columns.values)\n",
    "print(\"\\nColumns in Test but not Train:\",test_only_columns)\n",
    "test_w_train_col = train_json_df[test_json_df.columns.values]"
   ]
  },
  {
   "cell_type": "markdown",
   "metadata": {},
   "source": [
    "#### Details on the additional columns in the train set:\n",
    "\n",
    "* request_text/post_was_edited: Since posts are often edited after a successful request, this request_text column is not the most accurate. Instead, request_text_edit_aware, which is available in both the train and test sets, will be used. This edit aware version of \"request_text\" strips edited comments indicating the success of the request.\n",
    "\n",
    "* *_at_retrieval: For our purposes of real-time prediction, _at_request columns are more relevant.\n",
    "\n",
    "* requester_user_flair: This is a post-receipt of pizza feature and thus will not be a useful indicator of results.\n",
    "\n",
    "* requester_received_pizza: To be predicted\n",
    "\n",
    "We will move forward with only the columns in both the train and test set. "
   ]
  },
  {
   "cell_type": "markdown",
   "metadata": {},
   "source": [
    "#### Split the data into train and dev for model testing"
   ]
  },
  {
   "cell_type": "code",
   "execution_count": 4,
   "metadata": {
    "collapsed": true
   },
   "outputs": [],
   "source": [
    "# 0 means the user doesn't receive pizza & 1 means the user receives pizza\n",
    "train_labels = train_json_df.requester_received_pizza.astype(int).as_matrix()\n",
    "\n",
    "# split the training data into training data and dev data \n",
    "train_data, dev_data, train_labels, dev_labels = \\\n",
    "            train_test_split(test_w_train_col, train_labels, test_size=0.2, random_state=12)"
   ]
  },
  {
   "cell_type": "markdown",
   "metadata": {},
   "source": [
    "### Feature Engineering"
   ]
  },
  {
   "cell_type": "markdown",
   "metadata": {},
   "source": [
    "We begin by prepping our text data, creating a new column \"full text\" that combines all the relevant text fields."
   ]
  },
  {
   "cell_type": "code",
   "execution_count": 5,
   "metadata": {},
   "outputs": [
    {
     "name": "stderr",
     "output_type": "stream",
     "text": [
      "/Users/arthur/anaconda/lib/python3.6/site-packages/ipykernel_launcher.py:1: SettingWithCopyWarning: \n",
      "A value is trying to be set on a copy of a slice from a DataFrame.\n",
      "Try using .loc[row_indexer,col_indexer] = value instead\n",
      "\n",
      "See the caveats in the documentation: http://pandas.pydata.org/pandas-docs/stable/indexing.html#indexing-view-versus-copy\n",
      "  \"\"\"Entry point for launching an IPython kernel.\n",
      "/Users/arthur/anaconda/lib/python3.6/site-packages/ipykernel_launcher.py:2: SettingWithCopyWarning: \n",
      "A value is trying to be set on a copy of a slice from a DataFrame.\n",
      "Try using .loc[row_indexer,col_indexer] = value instead\n",
      "\n",
      "See the caveats in the documentation: http://pandas.pydata.org/pandas-docs/stable/indexing.html#indexing-view-versus-copy\n",
      "  \n"
     ]
    }
   ],
   "source": [
    "train_data['full_text']=train_data['request_text_edit_aware'] +' '+train_data['request_title']\n",
    "dev_data['full_text']=dev_data['request_text_edit_aware'] +' '+dev_data['request_title']"
   ]
  },
  {
   "cell_type": "markdown",
   "metadata": {},
   "source": [
    "In preparation of further processing, we will preprocess our text in the following ways: converting all text to lowercase, removing punctuation, non-alphanumeric characters and extra spaces."
   ]
  },
  {
   "cell_type": "code",
   "execution_count": 6,
   "metadata": {},
   "outputs": [
    {
     "name": "stderr",
     "output_type": "stream",
     "text": [
      "/Users/arthur/anaconda/lib/python3.6/site-packages/ipykernel_launcher.py:48: SettingWithCopyWarning: \n",
      "A value is trying to be set on a copy of a slice from a DataFrame.\n",
      "Try using .loc[row_indexer,col_indexer] = value instead\n",
      "\n",
      "See the caveats in the documentation: http://pandas.pydata.org/pandas-docs/stable/indexing.html#indexing-view-versus-copy\n"
     ]
    }
   ],
   "source": [
    "#from nltk.stem import SnowballStemmer\n",
    "def pre_process(s):\n",
    "    s = re.sub(\"[^\\w']|_\", \" \", s) \n",
    "    s=s.translate(str.maketrans(' ',' ',string.punctuation))# Strip punctuation before looking\n",
    "    s= re.sub(' +',' ', s) # Remove extra spaces\n",
    "    s=s.lower()\n",
    "    #s = ' '.join(word[:6] if len(word)>6 else word \n",
    "                        # for word in s.split()) # Shorten long words\n",
    "    #s = re.sub(r'\\b\\d+\\b', r' ', s) # Replace sequences of numbers with a single token\n",
    "    \n",
    "    #s_stemmer = SnowballStemmer('english')\n",
    "    #s = ' '.join([s_stemmer.stem(i) for i in s.split()])\n",
    "    return s\n",
    "\n",
    "money = [\"money\", \"now\", \"broke\", \"week\", \"until\", \"time\",\n",
    "          \"last\", \"day\", \"when\", \"today\", \"tonight\", \"paid\", \"next\",\n",
    "          \"first\", \"night\", \"after\", \"tomorrow\", \"month\", \"while\",\n",
    "          \"account\", \"before\", \"long\", \"Friday\", \"rent\", \"buy\",\n",
    "          \"bank\", \"still\", \"bills\", \"ago\", \"cash\", \"due\",\n",
    "          \"soon\", \"past\", \"never\", \"paycheck\", \"check\", \"spent\",\n",
    "          \"years\", \"poor\", \"till\", \"yesterday\", \"morning\", \"dollars\",\n",
    "          \"financial\", \"hour\", \"bill\", \"evening\", \"credit\",\n",
    "          \"budget\", \"loan\", \"bucks\", \"deposit\", \"dollar\", \"current\",\n",
    "          \"payed\"]\n",
    "job =[\"work\", \"job\", \"paycheck\", \"unemployment\", \"interview\",\n",
    "          \"fired\", \"employment\", \"hired\", \"hire\"]\n",
    "student = [\"college\", \"student\", \"school\", \"roommate\",\n",
    "          \"studying\", \"university\", \"finals\", \"semester\",\n",
    "          \"class\", \"study\", \"project\", \"dorm\", \"tuition\"]\n",
    "family =[\"family\", \"mom\", \"wife\", \"parents\", \"mother\", \"husband\",\n",
    "           \"dad\", \"son\", \"daughter\", \"father\", \"parent\",\n",
    "           \"mum\"]\n",
    "craving = [\"friend\", \"girlfriend\", \"craving\", \"birthday\",\n",
    "          \"boyfriend\", \"celebrate\", \"party\", \"game\", \"games\",\n",
    "          \"movie\", \"date\", \"drunk\", \"beer\", \"celebrating\", \"invited\",\n",
    "          \"drinks\", \"crave\", \"wasted\", \"invite\"]\n",
    "\n",
    "narratives = [money, job, student, family, craving]\n",
    "\n",
    "def find_narr(narr,s):\n",
    "    ct=0\n",
    "    for word in narr:\n",
    "        ct+=s.split().count(word)\n",
    "    return ct/len(s.split())\n",
    "\n",
    "def construct_topic_features(data): \n",
    "    \n",
    "    data['full_text'] = data['request_text_edit_aware'] + ' ' + data['request_title']\n",
    "    clean_text = data['full_text'].apply(lambda s: pre_process(s))\n",
    "\n",
    "    features = pd.DataFrame()\n",
    "\n",
    "    for n in narratives:\n",
    "        features[n[0]] = clean_text.apply(lambda s: find_narr(n,s))\n",
    "    return features\n",
    "\n",
    "train_topic_features = construct_topic_features(train_data)\n",
    "dev_topic_features = construct_topic_features(dev_data)"
   ]
  },
  {
   "cell_type": "markdown",
   "metadata": {},
   "source": [
    "Create a function extract the seasonality information from our post metadata."
   ]
  },
  {
   "cell_type": "code",
   "execution_count": 7,
   "metadata": {
    "collapsed": true
   },
   "outputs": [],
   "source": [
    "#https://www.timeanddate.com/calendar/aboutseasons.html\n",
    "def ts_to_season(month):\n",
    "    if month>=3 and month<=5:\n",
    "        return \"spring\"\n",
    "    elif month>=6 and month <=8:\n",
    "        return \"summer\"\n",
    "    elif month>=9 and month <=11:\n",
    "        return \"fall\"\n",
    "    else:\n",
    "        return \"winter\""
   ]
  },
  {
   "cell_type": "markdown",
   "metadata": {},
   "source": [
    "Create features for both train and dev set to leverage the metadata provided within the dataset."
   ]
  },
  {
   "cell_type": "code",
   "execution_count": 8,
   "metadata": {},
   "outputs": [],
   "source": [
    "def construct_ft_mat(train_data):\n",
    "    feat_mat=pd.DataFrame()\n",
    "    \n",
    "    # Extract temporal features\n",
    "    feat_mat['hour_request']=pd.to_datetime(train_data['unix_timestamp_of_request_utc'],unit = 's').dt.hour\n",
    "    feat_mat['day_request']=pd.to_datetime(train_data['unix_timestamp_of_request_utc'],unit = 's').dt.day\n",
    "    feat_mat['day_request']=feat_mat['day_request'].apply(lambda x: 0 if x<16 else 1)\n",
    "    feat_mat['season_request']=pd.to_datetime(train_data['unix_timestamp_of_request_utc'],unit = 's').dt.month\n",
    "    feat_mat['season_request']=feat_mat['season_request'].apply(ts_to_season)\n",
    "    feat_mat['is_spring']=feat_mat['season_request'].apply(lambda x: 1 if x=='spring' else 0)\n",
    "    feat_mat['is_summer']=feat_mat['season_request'].apply(lambda x: 1 if x=='summer' else 0)\n",
    "    feat_mat['is_fall']=feat_mat['season_request'].apply(lambda x: 1 if x=='fall' else 0)\n",
    "    feat_mat['is_winter']=feat_mat['season_request'].apply(lambda x: 1 if x=='winter' else 0)\n",
    "    del feat_mat['season_request']\n",
    "    \n",
    "    # Extract post popularity features\n",
    "    feat_mat['first_post']=np.log(train_data['requester_days_since_first_post_on_raop_at_request']+1)\n",
    "    feat_mat['upvotes_minus_downvotes']=train_data['requester_upvotes_minus_downvotes_at_request']\n",
    "    feat_mat['upvotes_plus_downvotes_at_request']=np.log(train_data['requester_upvotes_plus_downvotes_at_request']+1)\n",
    "    upvotes=train_data.apply(lambda row: (row['requester_upvotes_plus_downvotes_at_request'] + row['requester_upvotes_minus_downvotes_at_request'])/2,axis=1)\n",
    "    downvotes=train_data.apply(lambda row: (row['requester_upvotes_plus_downvotes_at_request']- row['requester_upvotes_minus_downvotes_at_request'])/2,axis=1)\n",
    "    feat_mat['upvotes']=upvotes\n",
    "    feat_mat['vote_ratio']=upvotes/(upvotes+downvotes+1)\n",
    "    \n",
    "    # Extract requester features\n",
    "    feat_mat['req_age']=np.log(train_data['requester_account_age_in_days_at_request']+1)\n",
    "    feat_mat['num_subs']=np.log(train_data['requester_number_of_subreddits_at_request']+1)\n",
    "    feat_mat['num_posts']=np.log(train_data['requester_number_of_posts_at_request']+1)\n",
    "    feat_mat['pizza_activity']=np.log(train_data['requester_number_of_posts_on_raop_at_request']+1)\n",
    "    feat_mat['pizza_comments']=np.log(train_data['requester_number_of_comments_in_raop_at_request']+1)\n",
    "    feat_mat['community_age'] = (pd.to_datetime(train_data['unix_timestamp_of_request_utc'],utc = True, unit = 's') - \\\n",
    "                                pd.to_datetime('2010-12-8', format='%Y-%m-%d')).astype('timedelta64[D]')\n",
    "    feat_mat['community_age'] = (feat_mat['community_age'] * 10./feat_mat.community_age.max()).astype(int)\n",
    "    \n",
    "    #feat_mat['karma']=(train_data['requester_upvotes_minus_downvotes_at_request']* 10.\\\n",
    "                                         #/train_data.requester_upvotes_minus_downvotes_at_request.max()).astype(int)\n",
    "\n",
    "    #feat_mat['posted_in_raop_before']= (train_data['requester_number_of_posts_on_raop_at_request'] > 0).astype(int)\n",
    "    \n",
    "    #feat_mat['posted_before']= (train_data['requester_number_of_posts_at_request'] > 0).astype(int)\n",
    "    \n",
    "    \n",
    "    # Extract post features\n",
    "    feat_mat['len_request']=np.log(train_data['request_text_edit_aware'].apply(len)+1)\n",
    "    feat_mat['len_title']=np.log(train_data['request_title'].apply(len)+1)\n",
    "    feat_mat['reciprocity'] = train_data['full_text'].apply(lambda x:1 if re.search(\"repay|pay.+back|pay.+forward|return.+favor\", x) \n",
    "                                               else 0)\n",
    "    feat_mat['image_in_text'] = train_data['full_text'].str.contains('imgur.com|.jpg|.png|.jpeg', case=False).apply(lambda x: 1 if x else 0)\n",
    "    feat_mat['politeness'] = train_data['full_text'].apply(lambda x: 1 if re.search(\"thank|appreciate|advance\", x) else 0)\n",
    "    \n",
    "    # Extract narrative features\n",
    "    #craving = re.compile(r'(friend|party|birthday|boyfriend|girlfriend|date|drinks|drunk|wasted|invite|invited|celebrate|celebrating|game|games|movie|beer|crave|craving)', re.IGNORECASE)\n",
    "    #family = re.compile(r'(husband|wife|family|parent|parents|mother|father|mom|mum|son|dad|daughter)', re.IGNORECASE)\n",
    "    #job = re.compile(r'(job|unemployment|employment|hire|hired|fired|interview|work|paycheck)', re.IGNORECASE)\n",
    "    #money = re.compile(r'(money|bill|bills|rent|bank|account|paycheck|due|broke|bills|deposit|cash|dollar|dollars|bucks|paid|payed|buy|check|spent|financial|poor|loan|credit|budget|day|now| \\\n",
    "        #time|week|until|last|month|tonight|today|next|night|when|tomorrow|first|after|while|before|long|hour|Friday|ago|still|due|past|soon|current|years|never|till|yesterday|morning|evening)', re.IGNORECASE)\n",
    "    #student = re.compile(r'(college|student|university|finals|study|studying|class|semester|school|roommate|project|tuition|dorm)', re.IGNORECASE)\n",
    "    #gratitude = re.compile(r'(thank|thanks|thankful|appreciate|grateful|gratitude|advance)', re.IGNORECASE)\n",
    "    # ratio of narrative words to length of full word\n",
    "    #feat_mat['money'] = train_data['full_text'].apply(lambda x: len(money.findall(x))/len(x.split()))\n",
    "    #feat_mat['job'] = train_data['full_text'].apply(lambda x: len(job.findall(x))/len(x.split()))\n",
    "    #feat_mat['student'] = train_data['full_text'].apply(lambda x: len(student.findall(x))/len(x.split()))\n",
    "    #feat_mat['family'] = train_data['full_text'].apply(lambda x: len(family.findall(x))/len(x.split()))\n",
    "    #feat_mat['craving'] = train_data['full_text'].apply(lambda x: len(craving.findall(x))/len(x.split()))\n",
    "    return feat_mat\n",
    "\n",
    "feat_mat=construct_ft_mat(train_data)\n",
    "dev_mat=construct_ft_mat(dev_data)"
   ]
  },
  {
   "cell_type": "code",
   "execution_count": 9,
   "metadata": {},
   "outputs": [],
   "source": [
    "# Convert dataframe to a numpy-array representation.\n",
    "t_mat=feat_mat.as_matrix()\n",
    "d_mat=dev_mat.as_matrix()"
   ]
  },
  {
   "cell_type": "code",
   "execution_count": 10,
   "metadata": {},
   "outputs": [],
   "source": [
    "# Extract text features from the post text by generating features from words\n",
    "vectorizer = TfidfVectorizer(min_df=5,ngram_range=(1,2), preprocessor=pre_process,stop_words='english',norm='l2',sublinear_tf=True) \n",
    "train_bag_of_words = vectorizer.fit_transform(train_data['full_text'])\n",
    "dev_bag_of_words = vectorizer.transform(dev_data['full_text'])"
   ]
  },
  {
   "cell_type": "code",
   "execution_count": 11,
   "metadata": {},
   "outputs": [
    {
     "name": "stdout",
     "output_type": "stream",
     "text": [
      "(3232, 873)\n"
     ]
    }
   ],
   "source": [
    "lsvc = LSVC(C=.85, penalty=\"l1\", dual=False,random_state=42).fit(train_bag_of_words,train_labels)\n",
    "model = SelectFromModel(lsvc, prefit=True)\n",
    "\n",
    "X_new = model.transform(train_bag_of_words)\n",
    "print(X_new.shape)\n",
    "\n",
    "d_new=model.transform(dev_bag_of_words)"
   ]
  },
  {
   "cell_type": "code",
   "execution_count": 12,
   "metadata": {
    "collapsed": true
   },
   "outputs": [],
   "source": [
    "no_features = 1000\n",
    "# NMF is able to use tf-idf\n",
    "tfidf_vectorizer = TfidfVectorizer(max_df=0.95, min_df=2, max_features=no_features, stop_words='english')\n",
    "tfidf = tfidf_vectorizer.fit_transform(train_data['full_text'])\n",
    "tfidf_feature_names = tfidf_vectorizer.get_feature_names()\n",
    "\n",
    "# LDA can only use raw term counts for LDA because it is a probabilistic graphical model\n",
    "tf_vectorizer = CountVectorizer(max_df=0.95, min_df=2, max_features=no_features, stop_words='english')\n",
    "tf = tf_vectorizer.fit_transform(train_data['full_text'])\n",
    "tf_feature_names = tf_vectorizer.get_feature_names()"
   ]
  },
  {
   "cell_type": "code",
   "execution_count": 15,
   "metadata": {},
   "outputs": [
    {
     "name": "stderr",
     "output_type": "stream",
     "text": [
      "/Users/arthur/anaconda/lib/python3.6/site-packages/sklearn/decomposition/online_lda.py:294: DeprecationWarning: n_topics has been renamed to n_components in version 0.19 and will be removed in 0.21\n",
      "  DeprecationWarning)\n"
     ]
    }
   ],
   "source": [
    "from sklearn.decomposition import NMF\n",
    "no_topics = 20\n",
    "\n",
    "# Run NMF\n",
    "nmf = NMF(n_components=no_topics, random_state=1, alpha=.1, l1_ratio=.5, init='nndsvd').fit(tfidf)\n",
    "\n",
    "# Run LDA\n",
    "lda = LDA(n_topics=no_topics, max_iter=5, learning_method='online', learning_offset=50.,random_state=0).fit(tf)\n"
   ]
  },
  {
   "cell_type": "code",
   "execution_count": 18,
   "metadata": {},
   "outputs": [
    {
     "name": "stdout",
     "output_type": "stream",
     "text": [
      "NMF Topics:\n",
      "\n",
      "Topic 0:\n",
      "ve help work time know like going little family thanks\n",
      "Topic 1:\n",
      "pizza craving like send buy want hut ll random free\n",
      "Topic 2:\n",
      "student college finals studying school poor kid appreciate students university\n",
      "Topic 3:\n",
      "http com imgur jpg www reddit proof comments pic picture\n",
      "Topic 4:\n",
      "pay forward ll promise paycheck soon check rent money thanks\n",
      "Topic 5:\n",
      "job lost new got celebrate paycheck months moved recently started\n",
      "Topic 6:\n",
      "hungry im help pretty dont nc ky right favor sure\n",
      "Topic 7:\n",
      "love pizza usa thanks forever night hot starving finals guys\n",
      "Topic 8:\n",
      "food money house starving stamps appreciated month days left ran\n",
      "Topic 9:\n",
      "really use appreciate right pizza thanks pick don sick haven\n",
      "Topic 10:\n",
      "tonight dinner kids family help pizza daughter uk thanks night\n",
      "Topic 11:\n",
      "day today make work long brighten lunch home bad bed\n",
      "Topic 12:\n",
      "birthday today celebrate party family girlfriend spent awesome enjoy amp\n",
      "Topic 13:\n",
      "ramen noodles eating past living weeks tired ve sick days\n",
      "Topic 14:\n",
      "paid friday week till favor don return rent account help\n",
      "Topic 15:\n",
      "broke car pretty im payday flat appreciated completely title help\n",
      "Topic 16:\n",
      "tomorrow night exams till morning thanks hi pregnant paid dominos\n",
      "Topic 17:\n",
      "eat house want thing friend today ohio don dogs days\n",
      "Topic 18:\n",
      "just story sob want moved got don new sad poor\n",
      "Topic 19:\n",
      "need help make ca young im single meat just payday\n",
      "\n",
      "LDA Topics:\n",
      "\n",
      "Topic 0:\n",
      "az friday dont boys electricity drunk help turned mother roommate\n",
      "Topic 1:\n",
      "pizza just help really food money broke love week don\n",
      "Topic 2:\n",
      "mom friend pizza just dad years family house home help\n",
      "Topic 3:\n",
      "lt gt happens college bad literally great 19 horrible just\n",
      "Topic 4:\n",
      "birthday celebrate party wondering til friday information glad sadly unemployed\n",
      "Topic 5:\n",
      "closed campus missed dining day break early london busy exam\n",
      "Topic 6:\n",
      "given texas tip payed video hell receive youtube sort comments\n",
      "Topic 7:\n",
      "boyfriend shot prove worth sub figured folks wrong jobless kind\n",
      "Topic 8:\n",
      "verification order code free paypal fixed gluten domino chicken makes\n",
      "Topic 9:\n",
      "loan went needed said food money ve lady didn fridge\n",
      "Topic 10:\n",
      "job ve pay just money food time got months month\n",
      "Topic 11:\n",
      "tuesday losing 50 car believe goes couple pictures delicious people\n",
      "Topic 12:\n",
      "homeless fiancee shelter inside hot day country uk outside bring\n",
      "Topic 13:\n",
      "pie young michigan slice virginia far tonight usa pizza gratitude\n",
      "Topic 14:\n",
      "minutes dont start say starts diet personal gluten com celebrate\n",
      "Topic 15:\n",
      "grocery wallet shopping 17 oh hours gas access 100 week\n",
      "Topic 16:\n",
      "want write song draw nyc choice pizza ll starving austin\n",
      "Topic 17:\n",
      "help just delicious pizza car leave pay little today nice\n",
      "Topic 18:\n",
      "pregnant anybody exams sadly movie wanna husband weeks budget wonderful\n",
      "Topic 19:\n",
      "com http pizza imgur www reddit jpg picture game post\n"
     ]
    }
   ],
   "source": [
    "# Derived topics with the top 10 words in each topic\n",
    "def display_topics(model, feature_names, no_top_words):\n",
    "    for topic_idx, topic in enumerate(model.components_):\n",
    "        print(\"Topic %d:\" % (topic_idx))\n",
    "        print(\" \".join([feature_names[i]\n",
    "                        for i in topic.argsort()[:-no_top_words - 1:-1]]))\n",
    "\n",
    "no_top_words = 10\n",
    "print(\"NMF Topics:\\n\")\n",
    "display_topics(nmf, tfidf_feature_names, no_top_words)\n",
    "print(\"\\nLDA Topics:\\n\")\n",
    "display_topics(lda, tf_feature_names, no_top_words)"
   ]
  },
  {
   "cell_type": "markdown",
   "metadata": {},
   "source": [
    "Based on the derived topics from NMF and LDA above, NMF seems to find more meaningful and cohesive topics compared to LDA. To gain a better understanding of the topic, we can try displaying the top documents in a topic as well."
   ]
  },
  {
   "cell_type": "code",
   "execution_count": 21,
   "metadata": {},
   "outputs": [
    {
     "name": "stderr",
     "output_type": "stream",
     "text": [
      "/Users/arthur/anaconda/lib/python3.6/site-packages/sklearn/decomposition/online_lda.py:294: DeprecationWarning: n_topics has been renamed to n_components in version 0.19 and will be removed in 0.21\n",
      "  DeprecationWarning)\n"
     ]
    },
    {
     "name": "stdout",
     "output_type": "stream",
     "text": [
      "Topic 0:\n",
      "help food just money\n",
      "Hey there, I am going hungry and would really appreciate a pizza from anyone willing. I'll give a little story about what has led me to be extremely poor (£9 to last until the end of August).\n",
      "\n",
      "I went to university this year, and moved out of my parent's home to forge a new life in Peckham, which is when everything started going horribly wrong. I hated my course, the people on my course seemingly went out of their way to make me feel uncomfortable (I'm quite shy, and very insecure).\n",
      "\n",
      "For years now, I've been fighting my demons, keeping them just below the surface - I've always felt like I was just about floating, reading to sink at any moment. Around Christmas, I did just that - sank like a stone. I fell into a major depressive episode that last months, culminating in what I can only describe as a mental breakdown over Easter. I became dependent on weed, never leaving my room or spending time sober other than to go to work on Sundays, and then I'd come home and get high again. Obviously, I dropped out of university.\n",
      "\n",
      "This, obviously, was a massive waste of money. It also didn't help that I'd lent one of my now ex-housemates £100 to help him pay his rent, which I know now that I will never see again (we live and learn). I have a £970 overdraft that is all gone, and although I've at least paid my rent for this month, I won't be getting paid until the end of August. I also have to pay a week worth of council tax (only £30 but too much for me) for the week before I enrolled, or I'll have a court date, and £40 of library fees tomorrow, but luckily my mum is bailing me out for that (she already bailed me out of last month's rent, so I already owe her £500).\n",
      "\n",
      "I've had to start working full time, eat butter sandwiches at work because it is all I can afford, and improvise for dinner (or just not eat). I'm extremely skinny anyway, and cannot afford this weight loss.\n",
      "\n",
      "I spend four hours commuting a day (I work in West London), come home, eat, sleep, get up at 6am to go to work again...I feel very lonely at the moment, and a cheesy, greasy pizza with meat or something would go a long way to providing me with a little comfort at the moment.\n",
      "\n",
      "Sorry for spilling this all out, I only meant to give a short sum out, but have ended up providing you with an essay! I'm not known for being concise...\n",
      "\n",
      "But yes, a pizza would be so very appreciated, and if the offerer wanted, I can return the pizza favour once I get paid. I would just like some meat and cheese in my life right now haha. Thanks for listening &lt;3 [REQUEST] London, UK  Extremely poor, tired of butter sandwiches!\n"
     ]
    },
    {
     "ename": "KeyError",
     "evalue": "2058",
     "output_type": "error",
     "traceback": [
      "\u001b[0;31m---------------------------------------------------------------------------\u001b[0m",
      "\u001b[0;31mKeyError\u001b[0m                                  Traceback (most recent call last)",
      "\u001b[0;32m<ipython-input-21-7de15d83fdec>\u001b[0m in \u001b[0;36m<module>\u001b[0;34m()\u001b[0m\n\u001b[1;32m     32\u001b[0m \u001b[0mno_top_words\u001b[0m \u001b[0;34m=\u001b[0m \u001b[0;36m4\u001b[0m\u001b[0;34m\u001b[0m\u001b[0m\n\u001b[1;32m     33\u001b[0m \u001b[0mno_top_documents\u001b[0m \u001b[0;34m=\u001b[0m \u001b[0;36m4\u001b[0m\u001b[0;34m\u001b[0m\u001b[0m\n\u001b[0;32m---> 34\u001b[0;31m \u001b[0mdisplay_topics\u001b[0m\u001b[0;34m(\u001b[0m\u001b[0mnmf_H\u001b[0m\u001b[0;34m,\u001b[0m \u001b[0mnmf_W\u001b[0m\u001b[0;34m,\u001b[0m \u001b[0mtfidf_feature_names\u001b[0m\u001b[0;34m,\u001b[0m \u001b[0mtrain_data\u001b[0m\u001b[0;34m[\u001b[0m\u001b[0;34m'full_text'\u001b[0m\u001b[0;34m]\u001b[0m\u001b[0;34m,\u001b[0m \u001b[0mno_top_words\u001b[0m\u001b[0;34m,\u001b[0m \u001b[0mno_top_documents\u001b[0m\u001b[0;34m)\u001b[0m\u001b[0;34m\u001b[0m\u001b[0m\n\u001b[0m\u001b[1;32m     35\u001b[0m \u001b[0mdisplay_topics\u001b[0m\u001b[0;34m(\u001b[0m\u001b[0mlda_H\u001b[0m\u001b[0;34m,\u001b[0m \u001b[0mlda_W\u001b[0m\u001b[0;34m,\u001b[0m \u001b[0mtf_feature_names\u001b[0m\u001b[0;34m,\u001b[0m \u001b[0mtrain_data\u001b[0m\u001b[0;34m[\u001b[0m\u001b[0;34m'full_text'\u001b[0m\u001b[0;34m]\u001b[0m\u001b[0;34m,\u001b[0m \u001b[0mno_top_words\u001b[0m\u001b[0;34m,\u001b[0m \u001b[0mno_top_documents\u001b[0m\u001b[0;34m)\u001b[0m\u001b[0;34m\u001b[0m\u001b[0m\n",
      "\u001b[0;32m<ipython-input-21-7de15d83fdec>\u001b[0m in \u001b[0;36mdisplay_topics\u001b[0;34m(H, W, feature_names, documents, no_top_words, no_top_documents)\u001b[0m\n\u001b[1;32m      6\u001b[0m         \u001b[0mtop_doc_indices\u001b[0m \u001b[0;34m=\u001b[0m \u001b[0mnp\u001b[0m\u001b[0;34m.\u001b[0m\u001b[0margsort\u001b[0m\u001b[0;34m(\u001b[0m \u001b[0mW\u001b[0m\u001b[0;34m[\u001b[0m\u001b[0;34m:\u001b[0m\u001b[0;34m,\u001b[0m\u001b[0mtopic_idx\u001b[0m\u001b[0;34m]\u001b[0m \u001b[0;34m)\u001b[0m\u001b[0;34m[\u001b[0m\u001b[0;34m:\u001b[0m\u001b[0;34m:\u001b[0m\u001b[0;34m-\u001b[0m\u001b[0;36m1\u001b[0m\u001b[0;34m]\u001b[0m\u001b[0;34m[\u001b[0m\u001b[0;36m0\u001b[0m\u001b[0;34m:\u001b[0m\u001b[0mno_top_documents\u001b[0m\u001b[0;34m]\u001b[0m\u001b[0;34m\u001b[0m\u001b[0m\n\u001b[1;32m      7\u001b[0m         \u001b[0;32mfor\u001b[0m \u001b[0mdoc_index\u001b[0m \u001b[0;32min\u001b[0m \u001b[0mtop_doc_indices\u001b[0m\u001b[0;34m:\u001b[0m\u001b[0;34m\u001b[0m\u001b[0m\n\u001b[0;32m----> 8\u001b[0;31m             \u001b[0mprint\u001b[0m\u001b[0;34m(\u001b[0m\u001b[0mdocuments\u001b[0m\u001b[0;34m[\u001b[0m\u001b[0mdoc_index\u001b[0m\u001b[0;34m]\u001b[0m\u001b[0;34m)\u001b[0m\u001b[0;34m\u001b[0m\u001b[0m\n\u001b[0m\u001b[1;32m      9\u001b[0m \u001b[0;34m\u001b[0m\u001b[0m\n\u001b[1;32m     10\u001b[0m \u001b[0;31m# NMF is able to use tf-idf\u001b[0m\u001b[0;34m\u001b[0m\u001b[0;34m\u001b[0m\u001b[0m\n",
      "\u001b[0;32m/Users/arthur/anaconda/lib/python3.6/site-packages/pandas/core/series.py\u001b[0m in \u001b[0;36m__getitem__\u001b[0;34m(self, key)\u001b[0m\n\u001b[1;32m    599\u001b[0m         \u001b[0mkey\u001b[0m \u001b[0;34m=\u001b[0m \u001b[0mcom\u001b[0m\u001b[0;34m.\u001b[0m\u001b[0m_apply_if_callable\u001b[0m\u001b[0;34m(\u001b[0m\u001b[0mkey\u001b[0m\u001b[0;34m,\u001b[0m \u001b[0mself\u001b[0m\u001b[0;34m)\u001b[0m\u001b[0;34m\u001b[0m\u001b[0m\n\u001b[1;32m    600\u001b[0m         \u001b[0;32mtry\u001b[0m\u001b[0;34m:\u001b[0m\u001b[0;34m\u001b[0m\u001b[0m\n\u001b[0;32m--> 601\u001b[0;31m             \u001b[0mresult\u001b[0m \u001b[0;34m=\u001b[0m \u001b[0mself\u001b[0m\u001b[0;34m.\u001b[0m\u001b[0mindex\u001b[0m\u001b[0;34m.\u001b[0m\u001b[0mget_value\u001b[0m\u001b[0;34m(\u001b[0m\u001b[0mself\u001b[0m\u001b[0;34m,\u001b[0m \u001b[0mkey\u001b[0m\u001b[0;34m)\u001b[0m\u001b[0;34m\u001b[0m\u001b[0m\n\u001b[0m\u001b[1;32m    602\u001b[0m \u001b[0;34m\u001b[0m\u001b[0m\n\u001b[1;32m    603\u001b[0m             \u001b[0;32mif\u001b[0m \u001b[0;32mnot\u001b[0m \u001b[0mis_scalar\u001b[0m\u001b[0;34m(\u001b[0m\u001b[0mresult\u001b[0m\u001b[0;34m)\u001b[0m\u001b[0;34m:\u001b[0m\u001b[0;34m\u001b[0m\u001b[0m\n",
      "\u001b[0;32m/Users/arthur/anaconda/lib/python3.6/site-packages/pandas/core/indexes/base.py\u001b[0m in \u001b[0;36mget_value\u001b[0;34m(self, series, key)\u001b[0m\n\u001b[1;32m   2426\u001b[0m         \u001b[0;32mtry\u001b[0m\u001b[0;34m:\u001b[0m\u001b[0;34m\u001b[0m\u001b[0m\n\u001b[1;32m   2427\u001b[0m             return self._engine.get_value(s, k,\n\u001b[0;32m-> 2428\u001b[0;31m                                           tz=getattr(series.dtype, 'tz', None))\n\u001b[0m\u001b[1;32m   2429\u001b[0m         \u001b[0;32mexcept\u001b[0m \u001b[0mKeyError\u001b[0m \u001b[0;32mas\u001b[0m \u001b[0me1\u001b[0m\u001b[0;34m:\u001b[0m\u001b[0;34m\u001b[0m\u001b[0m\n\u001b[1;32m   2430\u001b[0m             \u001b[0;32mif\u001b[0m \u001b[0mlen\u001b[0m\u001b[0;34m(\u001b[0m\u001b[0mself\u001b[0m\u001b[0;34m)\u001b[0m \u001b[0;34m>\u001b[0m \u001b[0;36m0\u001b[0m \u001b[0;32mand\u001b[0m \u001b[0mself\u001b[0m\u001b[0;34m.\u001b[0m\u001b[0minferred_type\u001b[0m \u001b[0;32min\u001b[0m \u001b[0;34m[\u001b[0m\u001b[0;34m'integer'\u001b[0m\u001b[0;34m,\u001b[0m \u001b[0;34m'boolean'\u001b[0m\u001b[0;34m]\u001b[0m\u001b[0;34m:\u001b[0m\u001b[0;34m\u001b[0m\u001b[0m\n",
      "\u001b[0;32mpandas/_libs/index.pyx\u001b[0m in \u001b[0;36mpandas._libs.index.IndexEngine.get_value (pandas/_libs/index.c:4363)\u001b[0;34m()\u001b[0m\n",
      "\u001b[0;32mpandas/_libs/index.pyx\u001b[0m in \u001b[0;36mpandas._libs.index.IndexEngine.get_value (pandas/_libs/index.c:4046)\u001b[0;34m()\u001b[0m\n",
      "\u001b[0;32mpandas/_libs/index.pyx\u001b[0m in \u001b[0;36mpandas._libs.index.IndexEngine.get_loc (pandas/_libs/index.c:5085)\u001b[0;34m()\u001b[0m\n",
      "\u001b[0;32mpandas/_libs/hashtable_class_helper.pxi\u001b[0m in \u001b[0;36mpandas._libs.hashtable.Int64HashTable.get_item (pandas/_libs/hashtable.c:13913)\u001b[0;34m()\u001b[0m\n",
      "\u001b[0;32mpandas/_libs/hashtable_class_helper.pxi\u001b[0m in \u001b[0;36mpandas._libs.hashtable.Int64HashTable.get_item (pandas/_libs/hashtable.c:13857)\u001b[0;34m()\u001b[0m\n",
      "\u001b[0;31mKeyError\u001b[0m: 2058"
     ]
    }
   ],
   "source": [
    "def display_topics(H, W, feature_names, documents, no_top_words, no_top_documents):\n",
    "    'The display_topics method prints out a numerical index as the topic name, prints the top words in the \\\n",
    "    topic and then prints the top documents in the topic. The top words and top documents have the highest \\\n",
    "    weights in the returned matrices. The argsort() method is used to sort the row or column of the matrix \\\n",
    "    and returns the indexes for the cells that have the highest weights in order.'\n",
    "    for topic_idx, topic in enumerate(H):\n",
    "        print(\"Topic %d:\" % (topic_idx))\n",
    "        print(\" \".join([feature_names[i]\n",
    "                        for i in topic.argsort()[:-no_top_words - 1:-1]]))\n",
    "        top_doc_indices = np.argsort( W[:,topic_idx] )[::-1][0:no_top_documents]\n",
    "        for doc_index in top_doc_indices:\n",
    "            print(documents[doc_index])\n",
    "\n",
    "# NMF is able to use tf-idf\n",
    "tfidf_vectorizer = TfidfVectorizer(max_df=0.95, min_df=2, stop_words='english')\n",
    "tfidf = tfidf_vectorizer.fit_transform(train_data['full_text'])\n",
    "tfidf_feature_names = tfidf_vectorizer.get_feature_names()\n",
    "\n",
    "# LDA can only use raw term counts for LDA because it is a probabilistic graphical model\n",
    "tf_vectorizer = CountVectorizer(max_df=0.95, min_df=2, stop_words='english')\n",
    "tf = tf_vectorizer.fit_transform(train_data['full_text'])\n",
    "tf_feature_names = tf_vectorizer.get_feature_names()\n",
    "\n",
    "no_topics = 2\n",
    "\n",
    "# Run NMF\n",
    "nmf_model = NMF(n_components=no_topics, random_state=1, alpha=.1, l1_ratio=.5, init='nndsvd').fit(tfidf)\n",
    "nmf_W = nmf_model.transform(tfidf)\n",
    "nmf_H = nmf_model.components_\n",
    "\n",
    "# Run LDA\n",
    "lda_model = LDA(n_topics=no_topics, max_iter=5, learning_method='online', learning_offset=50.,random_state=0).fit(tf)\n",
    "lda_W = lda_model.transform(tf)\n",
    "lda_H = lda_model.components_\n",
    "\n",
    "no_top_words = 4\n",
    "no_top_documents = 4\n",
    "display_topics(nmf_H, nmf_W, tfidf_feature_names, train_data['full_text'], no_top_words, no_top_documents)\n",
    "display_topics(lda_H, lda_W, tf_feature_names, train_data['full_text'], no_top_words, no_top_documents)\n"
   ]
  },
  {
   "cell_type": "code",
   "execution_count": 12,
   "metadata": {
    "collapsed": true
   },
   "outputs": [],
   "source": [
    "vectorizer_lda = CountVectorizer(min_df=10,ngram_range=(1,1), preprocessor=pre_process,stop_words='english') \n",
    "lda_bag_of_words = vectorizer_lda.fit_transform(train_data['full_text'])\n",
    "lda_devbag_of_words = vectorizer_lda.transform(dev_data['full_text'])"
   ]
  },
  {
   "cell_type": "code",
   "execution_count": 13,
   "metadata": {},
   "outputs": [
    {
     "name": "stdout",
     "output_type": "stream",
     "text": [
      "(3, 1580)\n"
     ]
    }
   ],
   "source": [
    "# LDA tells us what topics are present in any given document by observing all the words \n",
    "# in it and producing a topic distribution\n",
    "\n",
    "lda = LDA(n_components = 3, learning_method=\"batch\", max_iter=30,learning_decay=.7, random_state=42)\n",
    "train_topics = lda.fit_transform(lda_bag_of_words)\n",
    "print(lda.components_.shape)\n",
    "\n",
    "dev_topics=lda.transform(lda_devbag_of_words)"
   ]
  },
  {
   "cell_type": "code",
   "execution_count": 14,
   "metadata": {
    "collapsed": true
   },
   "outputs": [],
   "source": [
    "f_new=hstack([X_new,t_mat,train_topics, train_topic_features])\n",
    "dev_new=hstack([d_new,d_mat,dev_topics, dev_topic_features])"
   ]
  },
  {
   "cell_type": "code",
   "execution_count": 28,
   "metadata": {
    "collapsed": true
   },
   "outputs": [],
   "source": [
    "from sklearn.decomposition import NMF\n",
    "# NMF is able to use tf-idf\n",
    "tfidf_vectorizer = TfidfVectorizer(max_df=0.95, min_df=2, stop_words='english')\n",
    "tfidf = tfidf_vectorizer.fit_transform(train_data['full_text'])\n",
    "dev_tfidf = tfidf_vectorizer.transform(dev_data['full_text'])\n",
    "tfidf_feature_names = tfidf_vectorizer.get_feature_names()\n",
    "\n",
    "no_topics = 3\n",
    "\n",
    "# Run NMF\n",
    "nmf_model = NMF(n_components=no_topics, random_state=1, alpha=.1, l1_ratio=.5, init='nndsvd').fit(tfidf)\n",
    "nmf_train = nmf_model.transform(tfidf)\n",
    "nmf_dev = nmf_model.transform(dev_tfidf)"
   ]
  },
  {
   "cell_type": "code",
   "execution_count": 29,
   "metadata": {
    "collapsed": true
   },
   "outputs": [],
   "source": [
    "f_new=hstack([X_new,t_mat,nmf_train])\n",
    "dev_new=hstack([d_new,d_mat,nmf_dev])"
   ]
  },
  {
   "cell_type": "code",
   "execution_count": 15,
   "metadata": {},
   "outputs": [
    {
     "name": "stdout",
     "output_type": "stream",
     "text": [
      "{'C': 0.09497474747474748}\n"
     ]
    },
    {
     "data": {
      "text/plain": [
       "0.6863075657894737"
      ]
     },
     "execution_count": 15,
     "metadata": {},
     "output_type": "execute_result"
    }
   ],
   "source": [
    "lr = LogisticRegression()\n",
    "#parameters = {'C':[0.00001, 0.0001, 0.001, 0.01, 0.1, 1, 10, 100, 1000]}\n",
    "parameters = {'C':np.linspace(0.0005, 0.1, 100)}\n",
    "clf = GridSearchCV(lr, parameters)\n",
    "clf.fit(f_new, train_labels)\n",
    "pred_dev_prob = clf.predict_proba(dev_new)[:,1]\n",
    "pred_dev_labels = clf.predict(dev_new)\n",
    "\n",
    "print(clf.best_params_)\n",
    "roc_auc_score(dev_labels, pred_dev_prob, average='micro')"
   ]
  },
  {
   "cell_type": "code",
   "execution_count": 16,
   "metadata": {},
   "outputs": [
    {
     "name": "stdout",
     "output_type": "stream",
     "text": [
      "[0]\teval-auc:0.581164\ttrain-auc:0.806568\n",
      "[1]\teval-auc:0.588865\ttrain-auc:0.888404\n",
      "[2]\teval-auc:0.621332\ttrain-auc:0.925238\n",
      "[3]\teval-auc:0.633092\ttrain-auc:0.94247\n",
      "[4]\teval-auc:0.628869\ttrain-auc:0.948143\n",
      "[5]\teval-auc:0.642311\ttrain-auc:0.958036\n",
      "[6]\teval-auc:0.659104\ttrain-auc:0.967232\n",
      "[7]\teval-auc:0.66405\ttrain-auc:0.972512\n",
      "[8]\teval-auc:0.668729\ttrain-auc:0.978589\n",
      "[9]\teval-auc:0.666271\ttrain-auc:0.97898\n",
      "[10]\teval-auc:0.66699\ttrain-auc:0.98171\n",
      "[11]\teval-auc:0.672788\ttrain-auc:0.981569\n",
      "[12]\teval-auc:0.668104\ttrain-auc:0.982041\n",
      "[13]\teval-auc:0.668602\ttrain-auc:0.983463\n",
      "[14]\teval-auc:0.678364\ttrain-auc:0.984584\n",
      "[15]\teval-auc:0.674141\ttrain-auc:0.984253\n",
      "[16]\teval-auc:0.672845\ttrain-auc:0.98505\n",
      "[17]\teval-auc:0.674963\ttrain-auc:0.985674\n",
      "[18]\teval-auc:0.679515\ttrain-auc:0.98625\n",
      "[19]\teval-auc:0.678602\ttrain-auc:0.986309\n",
      "[20]\teval-auc:0.682418\ttrain-auc:0.987215\n",
      "[21]\teval-auc:0.686271\ttrain-auc:0.988013\n",
      "[22]\teval-auc:0.684737\ttrain-auc:0.987671\n",
      "[23]\teval-auc:0.687138\ttrain-auc:0.988843\n",
      "[24]\teval-auc:0.688511\ttrain-auc:0.989591\n",
      "[25]\teval-auc:0.685555\ttrain-auc:0.989729\n",
      "[26]\teval-auc:0.687582\ttrain-auc:0.990585\n",
      "[27]\teval-auc:0.688059\ttrain-auc:0.991132\n",
      "[28]\teval-auc:0.689153\ttrain-auc:0.991874\n",
      "[29]\teval-auc:0.689852\ttrain-auc:0.992376\n",
      "[30]\teval-auc:0.690818\ttrain-auc:0.992824\n",
      "[31]\teval-auc:0.693808\ttrain-auc:0.992662\n",
      "[32]\teval-auc:0.693183\ttrain-auc:0.993199\n",
      "[33]\teval-auc:0.694219\ttrain-auc:0.993834\n",
      "[34]\teval-auc:0.692566\ttrain-auc:0.994005\n",
      "[35]\teval-auc:0.69102\ttrain-auc:0.994072\n",
      "[36]\teval-auc:0.692089\ttrain-auc:0.994505\n",
      "[37]\teval-auc:0.692862\ttrain-auc:0.994727\n",
      "[38]\teval-auc:0.690765\ttrain-auc:0.995007\n",
      "[39]\teval-auc:0.689622\ttrain-auc:0.994865\n",
      "[40]\teval-auc:0.689901\ttrain-auc:0.994756\n",
      "[41]\teval-auc:0.69014\ttrain-auc:0.994958\n",
      "[42]\teval-auc:0.691011\ttrain-auc:0.995012\n",
      "[43]\teval-auc:0.689515\ttrain-auc:0.995073\n",
      "[44]\teval-auc:0.69014\ttrain-auc:0.995226\n",
      "[45]\teval-auc:0.690296\ttrain-auc:0.995599\n",
      "[46]\teval-auc:0.693018\ttrain-auc:0.995809\n",
      "[47]\teval-auc:0.693421\ttrain-auc:0.99609\n",
      "[48]\teval-auc:0.69491\ttrain-auc:0.996066\n",
      "[49]\teval-auc:0.697796\ttrain-auc:0.996329\n",
      "[50]\teval-auc:0.695938\ttrain-auc:0.996598\n",
      "[51]\teval-auc:0.698191\ttrain-auc:0.996878\n",
      "[52]\teval-auc:0.698306\ttrain-auc:0.997106\n",
      "[53]\teval-auc:0.699942\ttrain-auc:0.9974\n",
      "[54]\teval-auc:0.699786\ttrain-auc:0.997358\n",
      "[55]\teval-auc:0.699153\ttrain-auc:0.997343\n",
      "[56]\teval-auc:0.698635\ttrain-auc:0.997559\n",
      "[57]\teval-auc:0.69912\ttrain-auc:0.997724\n",
      "[58]\teval-auc:0.699864\ttrain-auc:0.997821\n",
      "[59]\teval-auc:0.699313\ttrain-auc:0.997809\n",
      "[60]\teval-auc:0.701102\ttrain-auc:0.99792\n",
      "[61]\teval-auc:0.701332\ttrain-auc:0.998065\n",
      "[62]\teval-auc:0.702072\ttrain-auc:0.998168\n",
      "[63]\teval-auc:0.702656\ttrain-auc:0.998178\n",
      "[64]\teval-auc:0.702738\ttrain-auc:0.998356\n",
      "[65]\teval-auc:0.702763\ttrain-auc:0.998362\n",
      "[66]\teval-auc:0.703109\ttrain-auc:0.998466\n",
      "[67]\teval-auc:0.703947\ttrain-auc:0.998512\n",
      "[68]\teval-auc:0.704178\ttrain-auc:0.998617\n",
      "[69]\teval-auc:0.704219\ttrain-auc:0.998694\n",
      "[70]\teval-auc:0.704079\ttrain-auc:0.998796\n",
      "[71]\teval-auc:0.703314\ttrain-auc:0.99879\n",
      "[72]\teval-auc:0.703734\ttrain-auc:0.99884\n",
      "[73]\teval-auc:0.704992\ttrain-auc:0.998919\n",
      "[74]\teval-auc:0.704819\ttrain-auc:0.998997\n",
      "[75]\teval-auc:0.70616\ttrain-auc:0.999064\n",
      "[76]\teval-auc:0.708281\ttrain-auc:0.999095\n",
      "[77]\teval-auc:0.708569\ttrain-auc:0.999155\n",
      "[78]\teval-auc:0.708709\ttrain-auc:0.999222\n",
      "[79]\teval-auc:0.708207\ttrain-auc:0.999286\n",
      "[80]\teval-auc:0.708462\ttrain-auc:0.999317\n",
      "[81]\teval-auc:0.708183\ttrain-auc:0.999365\n",
      "[82]\teval-auc:0.70861\ttrain-auc:0.999403\n",
      "[83]\teval-auc:0.708207\ttrain-auc:0.999419\n",
      "[84]\teval-auc:0.70847\ttrain-auc:0.999453\n",
      "[85]\teval-auc:0.708281\ttrain-auc:0.999476\n",
      "[86]\teval-auc:0.707179\ttrain-auc:0.999487\n",
      "[87]\teval-auc:0.707467\ttrain-auc:0.999494\n",
      "[88]\teval-auc:0.706908\ttrain-auc:0.999501\n",
      "[89]\teval-auc:0.706974\ttrain-auc:0.999533\n",
      "[90]\teval-auc:0.708495\ttrain-auc:0.999563\n",
      "[91]\teval-auc:0.708117\ttrain-auc:0.999608\n",
      "[92]\teval-auc:0.708923\ttrain-auc:0.999631\n",
      "[93]\teval-auc:0.708265\ttrain-auc:0.999652\n",
      "[94]\teval-auc:0.709679\ttrain-auc:0.999676\n",
      "[95]\teval-auc:0.709515\ttrain-auc:0.999695\n",
      "[96]\teval-auc:0.709959\ttrain-auc:0.999698\n",
      "[97]\teval-auc:0.709679\ttrain-auc:0.999714\n",
      "[98]\teval-auc:0.710592\ttrain-auc:0.999733\n",
      "[99]\teval-auc:0.710905\ttrain-auc:0.999741\n"
     ]
    }
   ],
   "source": [
    "\n",
    "#create dmatrices\n",
    "dtrain = xgb.DMatrix(f_new, train_labels)\n",
    "dtest = xgb.DMatrix(dev_new\n",
    "                         , dev_labels)\n",
    "\n",
    "#booster parameter\n",
    "param = {'max_depth':15, 'eta': .0188, 'silent': 1, 'objective': 'binary:logistic'\n",
    "         , 'scale_pos_weight': 3.06,'max_delta_step':1,'subsample':.7,'seed':42}#9 depth if sublin false\n",
    "param['nthread'] = 4\n",
    "param['eval_metric'] = 'auc'\n",
    "\n",
    "#specify validation set to watch performance\n",
    "evallist = [(dtest, 'eval'), (dtrain, 'train')]\n",
    "\n",
    "#train model\n",
    "num_round = 100\n",
    "bst = xgb.train(param.items(), dtrain, num_round, evallist)"
   ]
  },
  {
   "cell_type": "markdown",
   "metadata": {},
   "source": [
    "### Adding Sentiment Analysis on Text Body and Title"
   ]
  },
  {
   "cell_type": "code",
   "execution_count": 41,
   "metadata": {},
   "outputs": [
    {
     "name": "stderr",
     "output_type": "stream",
     "text": [
      "/Users/arthur/anaconda/lib/python3.6/site-packages/nltk/twitter/__init__.py:20: UserWarning: The twython library has not been installed. Some functionality from the twitter package will not be available.\n",
      "  warnings.warn(\"The twython library has not been installed. \"\n"
     ]
    },
    {
     "name": "stdout",
     "output_type": "stream",
     "text": [
      "      request_text_edit_awareneg  request_titleneg  \\\n",
      "183                        0.177             0.202   \n",
      "3483                       0.162             0.286   \n",
      "3430                       0.000             0.000   \n",
      "1974                       0.222             0.000   \n",
      "3721                       0.000             0.190   \n",
      "3609                       0.053             0.259   \n",
      "3902                       0.024             0.000   \n",
      "3546                       0.110             0.155   \n",
      "1488                       0.000             0.219   \n",
      "114                        0.055             0.000   \n",
      "395                        0.296             0.000   \n",
      "2896                       0.018             0.000   \n",
      "2638                       0.085             0.139   \n",
      "134                        0.000             0.483   \n",
      "350                        0.149             0.000   \n",
      "1915                       0.000             0.000   \n",
      "714                        0.096             0.267   \n",
      "1194                       0.055             0.359   \n",
      "2265                       0.034             0.256   \n",
      "3503                       0.068             0.412   \n",
      "457                        0.065             0.000   \n",
      "2309                       0.000             0.000   \n",
      "2697                       0.031             0.324   \n",
      "1031                       0.057             0.198   \n",
      "791                        0.110             0.000   \n",
      "2481                       0.049             0.132   \n",
      "1146                       0.083             0.000   \n",
      "3238                       0.305             0.060   \n",
      "3950                       0.062             0.000   \n",
      "3986                       0.116             0.156   \n",
      "...                          ...               ...   \n",
      "419                        0.000             0.000   \n",
      "3172                       0.153             0.000   \n",
      "1315                       0.069             0.000   \n",
      "89                         0.087             0.000   \n",
      "82                         0.114             0.000   \n",
      "3341                       0.371             0.353   \n",
      "3276                       0.056             0.000   \n",
      "1128                       0.000             0.278   \n",
      "3445                       0.144             0.000   \n",
      "2432                       0.013             0.000   \n",
      "1098                       0.046             0.075   \n",
      "1654                       0.061             0.093   \n",
      "459                        0.000             0.000   \n",
      "418                        0.000             0.000   \n",
      "473                        0.067             0.000   \n",
      "3725                       0.041             0.000   \n",
      "3973                       0.036             0.237   \n",
      "4020                       0.081             0.231   \n",
      "49                         0.135             0.152   \n",
      "278                        0.062             0.000   \n",
      "432                        0.121             0.285   \n",
      "3916                       0.061             0.000   \n",
      "1987                       0.000             0.117   \n",
      "1283                       0.073             0.000   \n",
      "3714                       0.061             0.000   \n",
      "3313                       0.087             0.000   \n",
      "3325                       0.037             0.066   \n",
      "1414                       0.060             0.000   \n",
      "1691                       0.128             0.366   \n",
      "1867                       0.041             0.235   \n",
      "\n",
      "      request_text_edit_awareneu  request_titleneu  \\\n",
      "183                        0.655             0.798   \n",
      "3483                       0.838             0.714   \n",
      "3430                       0.000             0.617   \n",
      "1974                       0.647             1.000   \n",
      "3721                       1.000             0.810   \n",
      "3609                       0.762             0.741   \n",
      "3902                       0.779             1.000   \n",
      "3546                       0.719             0.845   \n",
      "1488                       0.931             0.781   \n",
      "114                        0.861             1.000   \n",
      "395                        0.704             1.000   \n",
      "2896                       0.782             1.000   \n",
      "2638                       0.773             0.485   \n",
      "134                        1.000             0.517   \n",
      "350                        0.780             1.000   \n",
      "1915                       0.767             0.629   \n",
      "714                        0.804             0.733   \n",
      "1194                       0.758             0.641   \n",
      "2265                       0.860             0.548   \n",
      "3503                       0.602             0.588   \n",
      "457                        0.820             0.656   \n",
      "2309                       0.640             1.000   \n",
      "2697                       0.737             0.676   \n",
      "1031                       0.703             0.479   \n",
      "791                        0.890             1.000   \n",
      "2481                       0.881             0.868   \n",
      "1146                       0.689             1.000   \n",
      "3238                       0.543             0.667   \n",
      "3950                       0.746             0.722   \n",
      "3986                       0.611             0.625   \n",
      "...                          ...               ...   \n",
      "419                        0.722             1.000   \n",
      "3172                       0.720             0.734   \n",
      "1315                       0.808             1.000   \n",
      "89                         0.800             1.000   \n",
      "82                         0.687             0.724   \n",
      "3341                       0.629             0.647   \n",
      "3276                       0.797             0.720   \n",
      "1128                       0.572             0.722   \n",
      "3445                       0.828             1.000   \n",
      "2432                       0.806             1.000   \n",
      "1098                       0.837             0.801   \n",
      "1654                       0.736             0.678   \n",
      "459                        0.936             1.000   \n",
      "418                        0.541             0.814   \n",
      "473                        0.793             1.000   \n",
      "3725                       0.770             1.000   \n",
      "3973                       0.900             0.763   \n",
      "4020                       0.782             0.769   \n",
      "49                         0.656             0.621   \n",
      "278                        0.510             1.000   \n",
      "432                        0.826             0.715   \n",
      "3916                       0.767             1.000   \n",
      "1987                       0.706             0.338   \n",
      "1283                       0.819             1.000   \n",
      "3714                       0.798             1.000   \n",
      "3313                       0.714             1.000   \n",
      "3325                       0.859             0.934   \n",
      "1414                       0.638             1.000   \n",
      "1691                       0.721             0.634   \n",
      "1867                       0.797             0.765   \n",
      "\n",
      "      request_text_edit_awarepos  request_titlepos  \n",
      "183                        0.168             0.000  \n",
      "3483                       0.000             0.000  \n",
      "3430                       0.000             0.383  \n",
      "1974                       0.131             0.000  \n",
      "3721                       0.000             0.000  \n",
      "3609                       0.185             0.000  \n",
      "3902                       0.198             0.000  \n",
      "3546                       0.171             0.000  \n",
      "1488                       0.069             0.000  \n",
      "114                        0.085             0.000  \n",
      "395                        0.000             0.000  \n",
      "2896                       0.201             0.000  \n",
      "2638                       0.142             0.376  \n",
      "134                        0.000             0.000  \n",
      "350                        0.071             0.000  \n",
      "1915                       0.233             0.371  \n",
      "714                        0.100             0.000  \n",
      "1194                       0.186             0.000  \n",
      "2265                       0.106             0.197  \n",
      "3503                       0.330             0.000  \n",
      "457                        0.115             0.344  \n",
      "2309                       0.360             0.000  \n",
      "2697                       0.232             0.000  \n",
      "1031                       0.240             0.323  \n",
      "791                        0.000             0.000  \n",
      "2481                       0.070             0.000  \n",
      "1146                       0.228             0.000  \n",
      "3238                       0.151             0.273  \n",
      "3950                       0.192             0.278  \n",
      "3986                       0.273             0.218  \n",
      "...                          ...               ...  \n",
      "419                        0.278             0.000  \n",
      "3172                       0.127             0.266  \n",
      "1315                       0.123             0.000  \n",
      "89                         0.113             0.000  \n",
      "82                         0.199             0.276  \n",
      "3341                       0.000             0.000  \n",
      "3276                       0.147             0.280  \n",
      "1128                       0.428             0.000  \n",
      "3445                       0.028             0.000  \n",
      "2432                       0.180             0.000  \n",
      "1098                       0.118             0.124  \n",
      "1654                       0.203             0.229  \n",
      "459                        0.064             0.000  \n",
      "418                        0.459             0.186  \n",
      "473                        0.140             0.000  \n",
      "3725                       0.189             0.000  \n",
      "3973                       0.064             0.000  \n",
      "4020                       0.137             0.000  \n",
      "49                         0.209             0.228  \n",
      "278                        0.428             0.000  \n",
      "432                        0.053             0.000  \n",
      "3916                       0.171             0.000  \n",
      "1987                       0.294             0.545  \n",
      "1283                       0.108             0.000  \n",
      "3714                       0.142             0.000  \n",
      "3313                       0.198             0.000  \n",
      "3325                       0.105             0.000  \n",
      "1414                       0.303             0.000  \n",
      "1691                       0.150             0.000  \n",
      "1867                       0.162             0.000  \n",
      "\n",
      "[3232 rows x 6 columns]\n"
     ]
    }
   ],
   "source": [
    "from nltk.sentiment.vader import SentimentIntensityAnalyzer\n",
    "sia = SentimentIntensityAnalyzer()\n",
    "sentiment_metrics = ['neg', 'neu','pos']\n",
    "sentiment_data_train = pd.DataFrame()\n",
    "sentiment_data_dev = pd.DataFrame()\n",
    "# Return a float for sentiment strength based on the input text. \n",
    "# Positive values are positive valence, negative value are negative valence.\n",
    "for metrics in sentiment_metrics:\n",
    "    sentiment_data_train['request_text_edit_aware'+ metrics] = train_data['request_text_edit_aware'].apply(lambda x: sia.polarity_scores(x)[metrics])\n",
    "    sentiment_data_dev['request_text_edit_aware'+ metrics] = dev_data['request_text_edit_aware'].apply(lambda x: sia.polarity_scores(x)[metrics])\n",
    "    sentiment_data_train['request_title'+ metrics] = train_data['request_title'].apply(lambda x: sia.polarity_scores(x)[metrics])\n",
    "    sentiment_data_dev['request_title'+ metrics] = dev_data['request_title'].apply(lambda x: sia.polarity_scores(x)[metrics])\n",
    "\n",
    "sent_mat_train = sentiment_data_train.as_matrix()\n",
    "sent_mat_dev =sentiment_data_dev.as_matrix()\n",
    "print(sentiment_data_train)"
   ]
  },
  {
   "cell_type": "code",
   "execution_count": 42,
   "metadata": {
    "collapsed": true
   },
   "outputs": [],
   "source": [
    "# With LDA\n",
    "f_new=hstack([X_new,t_mat,train_topics, sent_mat_train])\n",
    "dev_new=hstack([d_new,d_mat,dev_topics, sent_mat_dev])"
   ]
  },
  {
   "cell_type": "code",
   "execution_count": 33,
   "metadata": {
    "collapsed": true
   },
   "outputs": [],
   "source": [
    "# With NMF\n",
    "f_new=hstack([X_new,t_mat,nmf_train, sent_mat_train])\n",
    "dev_new=hstack([d_new,d_mat,nmf_dev, sent_mat_dev])"
   ]
  },
  {
   "cell_type": "code",
   "execution_count": 43,
   "metadata": {},
   "outputs": [
    {
     "name": "stdout",
     "output_type": "stream",
     "text": [
      "{'C': 0.1}\n"
     ]
    },
    {
     "data": {
      "text/plain": [
       "0.6900575657894739"
      ]
     },
     "execution_count": 43,
     "metadata": {},
     "output_type": "execute_result"
    }
   ],
   "source": [
    "lr = LogisticRegression()\n",
    "#parameters = {'C':[0.00001, 0.0001, 0.001, 0.01, 0.1, 1, 10, 100, 1000]}\n",
    "parameters = {'C':np.linspace(0.0005, 0.1, 100)}\n",
    "clf = GridSearchCV(lr, parameters)\n",
    "clf.fit(f_new, train_labels)\n",
    "pred_dev_prob = clf.predict_proba(dev_new)[:,1]\n",
    "pred_dev_labels = clf.predict(dev_new)\n",
    "\n",
    "print(clf.best_params_)\n",
    "roc_auc_score(dev_labels, pred_dev_prob, average='micro')"
   ]
  },
  {
   "cell_type": "code",
   "execution_count": 44,
   "metadata": {},
   "outputs": [
    {
     "name": "stdout",
     "output_type": "stream",
     "text": [
      "[0]\teval-auc:0.573713\ttrain-auc:0.814951\n",
      "[1]\teval-auc:0.5925\ttrain-auc:0.904558\n",
      "[2]\teval-auc:0.620921\ttrain-auc:0.939711\n",
      "[3]\teval-auc:0.643479\ttrain-auc:0.960859\n",
      "[4]\teval-auc:0.641612\ttrain-auc:0.968663\n",
      "[5]\teval-auc:0.649852\ttrain-auc:0.96989\n",
      "[6]\teval-auc:0.65803\ttrain-auc:0.969359\n",
      "[7]\teval-auc:0.661086\ttrain-auc:0.972426\n",
      "[8]\teval-auc:0.663006\ttrain-auc:0.976213\n",
      "[9]\teval-auc:0.663676\ttrain-auc:0.979939\n",
      "[10]\teval-auc:0.655366\ttrain-auc:0.982069\n",
      "[11]\teval-auc:0.661637\ttrain-auc:0.984147\n",
      "[12]\teval-auc:0.652747\ttrain-auc:0.984551\n",
      "[13]\teval-auc:0.649585\ttrain-auc:0.985734\n",
      "[14]\teval-auc:0.654437\ttrain-auc:0.986891\n",
      "[15]\teval-auc:0.649942\ttrain-auc:0.986584\n",
      "[16]\teval-auc:0.65185\ttrain-auc:0.986838\n",
      "[17]\teval-auc:0.649868\ttrain-auc:0.988017\n",
      "[18]\teval-auc:0.651649\ttrain-auc:0.98895\n",
      "[19]\teval-auc:0.651706\ttrain-auc:0.989825\n",
      "[20]\teval-auc:0.653499\ttrain-auc:0.990844\n",
      "[21]\teval-auc:0.657134\ttrain-auc:0.991536\n",
      "[22]\teval-auc:0.654716\ttrain-auc:0.991585\n",
      "[23]\teval-auc:0.659803\ttrain-auc:0.992079\n",
      "[24]\teval-auc:0.659149\ttrain-auc:0.993045\n",
      "[25]\teval-auc:0.659194\ttrain-auc:0.992832\n",
      "[26]\teval-auc:0.662484\ttrain-auc:0.993289\n",
      "[27]\teval-auc:0.662784\ttrain-auc:0.993381\n",
      "[28]\teval-auc:0.664243\ttrain-auc:0.99351\n",
      "[29]\teval-auc:0.663302\ttrain-auc:0.994055\n",
      "[30]\teval-auc:0.664535\ttrain-auc:0.994378\n",
      "[31]\teval-auc:0.662105\ttrain-auc:0.994553\n",
      "[32]\teval-auc:0.663199\ttrain-auc:0.994741\n",
      "[33]\teval-auc:0.663372\ttrain-auc:0.994756\n",
      "[34]\teval-auc:0.663939\ttrain-auc:0.994996\n",
      "[35]\teval-auc:0.66229\ttrain-auc:0.995564\n",
      "[36]\teval-auc:0.660415\ttrain-auc:0.995905\n",
      "[37]\teval-auc:0.661373\ttrain-auc:0.996174\n",
      "[38]\teval-auc:0.660543\ttrain-auc:0.996485\n",
      "[39]\teval-auc:0.661686\ttrain-auc:0.996666\n",
      "[40]\teval-auc:0.66301\ttrain-auc:0.996912\n",
      "[41]\teval-auc:0.663618\ttrain-auc:0.997011\n",
      "[42]\teval-auc:0.66403\ttrain-auc:0.997142\n",
      "[43]\teval-auc:0.66315\ttrain-auc:0.997324\n",
      "[44]\teval-auc:0.662151\ttrain-auc:0.9974\n",
      "[45]\teval-auc:0.663824\ttrain-auc:0.997744\n",
      "[46]\teval-auc:0.667204\ttrain-auc:0.997854\n",
      "[47]\teval-auc:0.669062\ttrain-auc:0.998071\n",
      "[48]\teval-auc:0.668857\ttrain-auc:0.998221\n",
      "[49]\teval-auc:0.67153\ttrain-auc:0.998335\n",
      "[50]\teval-auc:0.670732\ttrain-auc:0.998421\n",
      "[51]\teval-auc:0.672262\ttrain-auc:0.998497\n",
      "[52]\teval-auc:0.674646\ttrain-auc:0.998613\n",
      "[53]\teval-auc:0.674737\ttrain-auc:0.998686\n",
      "[54]\teval-auc:0.675493\ttrain-auc:0.998722\n",
      "[55]\teval-auc:0.674655\ttrain-auc:0.998799\n",
      "[56]\teval-auc:0.673684\ttrain-auc:0.998839\n",
      "[57]\teval-auc:0.675263\ttrain-auc:0.998946\n",
      "[58]\teval-auc:0.675\ttrain-auc:0.999007\n",
      "[59]\teval-auc:0.674901\ttrain-auc:0.998996\n",
      "[60]\teval-auc:0.675584\ttrain-auc:0.998996\n",
      "[61]\teval-auc:0.676398\ttrain-auc:0.999053\n",
      "[62]\teval-auc:0.677484\ttrain-auc:0.999117\n",
      "[63]\teval-auc:0.676217\ttrain-auc:0.99919\n",
      "[64]\teval-auc:0.678898\ttrain-auc:0.999241\n",
      "[65]\teval-auc:0.677344\ttrain-auc:0.999302\n",
      "[66]\teval-auc:0.677582\ttrain-auc:0.999267\n",
      "[67]\teval-auc:0.678125\ttrain-auc:0.999303\n",
      "[68]\teval-auc:0.678257\ttrain-auc:0.999318\n",
      "[69]\teval-auc:0.679062\ttrain-auc:0.999333\n",
      "[70]\teval-auc:0.679391\ttrain-auc:0.999338\n",
      "[71]\teval-auc:0.679375\ttrain-auc:0.999339\n",
      "[72]\teval-auc:0.680329\ttrain-auc:0.999353\n",
      "[73]\teval-auc:0.681711\ttrain-auc:0.999382\n",
      "[74]\teval-auc:0.682475\ttrain-auc:0.999411\n",
      "[75]\teval-auc:0.682599\ttrain-auc:0.999415\n",
      "[76]\teval-auc:0.682229\ttrain-auc:0.999423\n",
      "[77]\teval-auc:0.683388\ttrain-auc:0.999446\n",
      "[78]\teval-auc:0.684613\ttrain-auc:0.999516\n",
      "[79]\teval-auc:0.685329\ttrain-auc:0.999561\n",
      "[80]\teval-auc:0.686011\ttrain-auc:0.999589\n",
      "[81]\teval-auc:0.685658\ttrain-auc:0.999623\n",
      "[82]\teval-auc:0.685666\ttrain-auc:0.99966\n",
      "[83]\teval-auc:0.685913\ttrain-auc:0.999679\n",
      "[84]\teval-auc:0.685567\ttrain-auc:0.999718\n",
      "[85]\teval-auc:0.685987\ttrain-auc:0.999718\n",
      "[86]\teval-auc:0.685592\ttrain-auc:0.999738\n",
      "[87]\teval-auc:0.685395\ttrain-auc:0.999754\n",
      "[88]\teval-auc:0.686044\ttrain-auc:0.99979\n",
      "[89]\teval-auc:0.687451\ttrain-auc:0.999806\n",
      "[90]\teval-auc:0.687771\ttrain-auc:0.999798\n",
      "[91]\teval-auc:0.686472\ttrain-auc:0.999821\n",
      "[92]\teval-auc:0.687434\ttrain-auc:0.99983\n",
      "[93]\teval-auc:0.686711\ttrain-auc:0.999835\n",
      "[94]\teval-auc:0.688067\ttrain-auc:0.999858\n",
      "[95]\teval-auc:0.688586\ttrain-auc:0.999866\n",
      "[96]\teval-auc:0.689359\ttrain-auc:0.999865\n",
      "[97]\teval-auc:0.689095\ttrain-auc:0.999873\n",
      "[98]\teval-auc:0.6906\ttrain-auc:0.999881\n",
      "[99]\teval-auc:0.689844\ttrain-auc:0.999879\n"
     ]
    }
   ],
   "source": [
    "#create dmatrices\n",
    "dtrain = xgb.DMatrix(f_new, train_labels)\n",
    "dtest = xgb.DMatrix(dev_new\n",
    "                         , dev_labels)\n",
    "\n",
    "#booster parameter\n",
    "param = {'max_depth':15, 'eta': .0188, 'silent': 1, 'objective': 'binary:logistic'\n",
    "         , 'scale_pos_weight': 3.06,'max_delta_step':1,'subsample':.7,'seed':42}#9 depth if sublin false\n",
    "param['nthread'] = 4\n",
    "param['eval_metric'] = 'auc'\n",
    "\n",
    "#specify validation set to watch performance\n",
    "evallist = [(dtest, 'eval'), (dtrain, 'train')]\n",
    "\n",
    "#train model\n",
    "num_round = 100\n",
    "bst = xgb.train(param.items(), dtrain, num_round, evallist)"
   ]
  },
  {
   "cell_type": "code",
   "execution_count": null,
   "metadata": {
    "collapsed": true
   },
   "outputs": [],
   "source": []
  }
 ],
 "metadata": {
  "kernelspec": {
   "display_name": "Python 3",
   "language": "python",
   "name": "python3"
  },
  "language_info": {
   "codemirror_mode": {
    "name": "ipython",
    "version": 3
   },
   "file_extension": ".py",
   "mimetype": "text/x-python",
   "name": "python",
   "nbconvert_exporter": "python",
   "pygments_lexer": "ipython3",
   "version": "3.6.1"
  }
 },
 "nbformat": 4,
 "nbformat_minor": 2
}
