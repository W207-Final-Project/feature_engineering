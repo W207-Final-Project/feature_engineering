{
 "cells": [
  {
   "cell_type": "code",
   "execution_count": 1,
   "metadata": {},
   "outputs": [
    {
     "name": "stderr",
     "output_type": "stream",
     "text": [
      "/Users/lauc136/anaconda3/lib/python3.6/site-packages/sklearn/cross_validation.py:41: DeprecationWarning: This module was deprecated in version 0.18 in favor of the model_selection module into which all the refactored classes and functions are moved. Also note that the interface of the new CV iterators are different from that of this module. This module will be removed in 0.20.\n",
      "  \"This module will be removed in 0.20.\", DeprecationWarning)\n",
      "/Users/lauc136/anaconda3/lib/python3.6/site-packages/sklearn/grid_search.py:42: DeprecationWarning: This module was deprecated in version 0.18 in favor of the model_selection module into which all the refactored classes and functions are moved. This module will be removed in 0.20.\n",
      "  DeprecationWarning)\n"
     ]
    }
   ],
   "source": [
    "%matplotlib inline\n",
    "import re\n",
    "import numpy as np\n",
    "import pandas as pd\n",
    "import os\n",
    "import matplotlib.pyplot as plt\n",
    "from wordcloud import WordCloud\n",
    "\n",
    "# SK-learn libraries for learning.\n",
    "from sklearn.pipeline import Pipeline\n",
    "from sklearn.neighbors import KNeighborsClassifier\n",
    "from sklearn.linear_model import LogisticRegression\n",
    "from sklearn.naive_bayes import BernoulliNB\n",
    "from sklearn.naive_bayes import MultinomialNB\n",
    "from sklearn.grid_search import GridSearchCV\n",
    "from sklearn.ensemble import RandomForestClassifier as RF\n",
    "from sklearn.svm import SVC\n",
    "from sklearn.svm import LinearSVC as LSVC\n",
    "from sklearn.decomposition import TruncatedSVD as TSVD\n",
    "from scipy.sparse import hstack\n",
    "from sklearn.feature_selection import SelectFromModel\n",
    "from sklearn.preprocessing import StandardScaler\n",
    "from sklearn.decomposition import PCA\n",
    "\n",
    "\n",
    "\n",
    "# SK-learn libraries for evaluation.\n",
    "from sklearn.metrics import confusion_matrix\n",
    "from sklearn import metrics\n",
    "from sklearn.metrics import classification_report\n",
    "from sklearn.metrics import roc_auc_score\n",
    "from sklearn.metrics import roc_curve\n",
    "from sklearn.metrics import auc\n",
    "\n",
    "\n",
    "# SK-learn libraries for feature extraction from text.\n",
    "from sklearn.feature_extraction.text import *\n",
    "\n",
    "# SK-learn libraries for model selection \n",
    "from sklearn.model_selection import train_test_split\n",
    "\n",
    "# json libraries to parse json file\n",
    "import json\n",
    "from pandas.io.json import json_normalize\n",
    "\n",
    "import gensim\n",
    "from gensim import utils"
   ]
  },
  {
   "cell_type": "markdown",
   "metadata": {},
   "source": [
    "# 0.1 Helper Function"
   ]
  },
  {
   "cell_type": "code",
   "execution_count": 2,
   "metadata": {
    "collapsed": true
   },
   "outputs": [],
   "source": [
    "def plot_roc(y_test, y_score):\n",
    "    \n",
    "    # Compute ROC curve and ROC area for each class\n",
    "    fpr = dict()\n",
    "    tpr = dict()\n",
    "    roc_auc = dict()\n",
    "    fpr[0], tpr[0], _ = roc_curve(y_test, y_score)\n",
    "    roc_auc[0] = auc(fpr[0], tpr[0])\n",
    "\n",
    "    plt.figure()\n",
    "    lw = 2\n",
    "    plt.plot(fpr[0], tpr[0], color='darkorange',\n",
    "             lw=lw, label='ROC curve (area = %0.2f)' % roc_auc[0])\n",
    "    plt.plot([0, 1], [0, 1], color='navy', lw=lw, linestyle='--')\n",
    "    plt.xlim([0.0, 1.0])\n",
    "    plt.ylim([0.0, 1.05])\n",
    "    plt.xlabel('False Positive Rate')\n",
    "    plt.ylabel('True Positive Rate')\n",
    "    plt.legend(loc=\"lower right\")\n",
    "    plt.show()\n"
   ]
  },
  {
   "cell_type": "code",
   "execution_count": 5,
   "metadata": {
    "collapsed": true
   },
   "outputs": [],
   "source": [
    "def construct_features(data):\n",
    "    features=pd.DataFrame()\n",
    "    \n",
    "    features['community_age'] = (pd.to_datetime(data['unix_timestamp_of_request_utc'],utc = True, unit = 's') - \\\n",
    "                                pd.to_datetime('2010-12-8', format='%Y-%m-%d')).astype('timedelta64[D]')\n",
    "    \n",
    "    features['community_age'] = (features['community_age'] * 10./features.community_age.max()).astype(int)\n",
    "\n",
    "    features['first_half_of_month']=(pd.to_datetime(data['unix_timestamp_of_request_utc'],unit = 's').dt.day <= 15).astype(int) \n",
    "\n",
    "    features['gratitude'] = data['request_text_edit_aware'].apply( \\\n",
    "                                    lambda x: 1 if re.search(\"thank|appreciate|advance|consider\", x) else 0)\n",
    "    features['include_image'] = data['request_text_edit_aware'].apply(lambda x: 1 if re.search(\"imgur.com|.jpg|.png|.jpeg\", x) else 0)\n",
    "\n",
    "    features['reciprocity'] = data['request_text_edit_aware'].apply(\\\n",
    "                                    lambda x:1 if re.search(\"repay|pay.+back|pay.+forward|return.+favor|reciprocate\", x) else 0)\n",
    "    features['len_request']= (data['request_text_edit_aware'].apply(len) > 100).astype(int)\n",
    "\n",
    "    features['karma']=(data.requester_upvotes_minus_downvotes_at_request - data.requester_upvotes_minus_downvotes_at_request.mean()) \\\n",
    "                                /data.requester_upvotes_minus_downvotes_at_request.std()\n",
    "    features['karma'] = ((features.karma - features.karma.min()) * 3).astype(int)\n",
    "\n",
    "    features['posted_in_raop_before']= (data['requester_number_of_posts_on_raop_at_request'] > 0).astype(int)\n",
    "    \n",
    "    features['posted_before']= (data['requester_number_of_posts_at_request'] > 0).astype(int)\n",
    "    \n",
    "    return features"
   ]
  },
  {
   "cell_type": "code",
   "execution_count": 218,
   "metadata": {
    "collapsed": true
   },
   "outputs": [],
   "source": [
    "money = [\"money\", \"now\", \"broke\", \"week\", \"until\", \"time\",\n",
    "          \"last\", \"day\", \"when\", \"today\", \"tonight\", \"paid\", \"next\",\n",
    "          \"first\", \"night\", \"after\", \"tomorrow\", \"month\", \"while\",\n",
    "          \"account\", \"before\", \"long\", \"Friday\", \"rent\", \"buy\",\n",
    "          \"bank\", \"still\", \"bills\", \"ago\", \"cash\", \"due\",\n",
    "          \"soon\", \"past\", \"never\", \"paycheck\", \"check\", \"spent\",\n",
    "          \"years\", \"poor\", \"till\", \"yesterday\", \"morning\", \"dollars\",\n",
    "          \"financial\", \"hour\", \"bill\", \"evening\", \"credit\",\n",
    "          \"budget\", \"loan\", \"bucks\", \"deposit\", \"dollar\", \"current\",\n",
    "          \"payed\"]\n",
    "job =[\"work\", \"job\", \"paycheck\", \"unemployment\", \"interview\",\n",
    "          \"fired\", \"employment\", \"hired\", \"hire\"]\n",
    "student = [\"college\", \"student\", \"school\", \"roommate\",\n",
    "          \"studying\", \"university\", \"finals\", \"semester\",\n",
    "          \"class\", \"study\", \"project\", \"dorm\", \"tuition\"]\n",
    "family =[\"family\", \"mom\", \"wife\", \"parents\", \"mother\", \"husband\",\n",
    "           \"dad\", \"son\", \"daughter\", \"father\", \"parent\",\n",
    "           \"mum\"]\n",
    "craving = [\"friend\", \"girlfriend\", \"craving\", \"birthday\",\n",
    "          \"boyfriend\", \"celebrate\", \"party\", \"game\", \"games\",\n",
    "          \"movie\", \"date\", \"drunk\", \"beer\", \"celebrating\", \"invited\",\n",
    "          \"drinks\", \"crave\", \"wasted\", \"invite\"]\n",
    "\n",
    "narratives = [money, job, student, family, craving]\n",
    "\n",
    "def find_narr(narr,s):\n",
    "    ct=0\n",
    "    for word in narr:\n",
    "        ct+=s.split().count(word)\n",
    "    #return ct/len(s.split())\n",
    "    return ct\n",
    "\n",
    "\n",
    "def construct_topic_features(data): \n",
    "    \n",
    "    data['full_text'] = data['request_text_edit_aware'] + ' ' + data['request_title']\n",
    "    clean_text = data['full_text'].apply(lambda s:preprocessor(s))\n",
    "\n",
    "    features = pd.DataFrame()\n",
    "\n",
    "    for n in narratives:\n",
    "        features[n[0]] = clean_text.apply(lambda s: find_narr(n,s))\n",
    "    return features"
   ]
  },
  {
   "cell_type": "markdown",
   "metadata": {},
   "source": [
    "# 1.0 LOAD DATA"
   ]
  },
  {
   "cell_type": "code",
   "execution_count": 206,
   "metadata": {
    "collapsed": true
   },
   "outputs": [],
   "source": [
    "# read json file\n",
    "train_json = json.load(open('train.json'))\n",
    "\n",
    "# normalize data and put in a dataframe\n",
    "train_json_df = json_normalize(train_json)\n",
    "\n",
    "# read json file\n",
    "test_json = json.load(open('test.json'))\n",
    "\n",
    "# normalize data and put in a dataframe\n",
    "test_json_df = json_normalize(test_json)"
   ]
  },
  {
   "cell_type": "code",
   "execution_count": 207,
   "metadata": {
    "collapsed": true
   },
   "outputs": [],
   "source": [
    "columns = test_json_df.columns.values\n",
    "columns = np.append(columns, ['requester_received_pizza'])\n",
    "\n",
    "train_json_with_test_df = train_json_df[columns]\n"
   ]
  },
  {
   "cell_type": "markdown",
   "metadata": {},
   "source": [
    "# 2.0 EDA"
   ]
  },
  {
   "cell_type": "code",
   "execution_count": 9,
   "metadata": {},
   "outputs": [
    {
     "data": {
      "text/html": [
       "<div>\n",
       "<style>\n",
       "    .dataframe thead tr:only-child th {\n",
       "        text-align: right;\n",
       "    }\n",
       "\n",
       "    .dataframe thead th {\n",
       "        text-align: left;\n",
       "    }\n",
       "\n",
       "    .dataframe tbody tr th {\n",
       "        vertical-align: top;\n",
       "    }\n",
       "</style>\n",
       "<table border=\"1\" class=\"dataframe\">\n",
       "  <thead>\n",
       "    <tr style=\"text-align: right;\">\n",
       "      <th></th>\n",
       "      <th>requester_account_age_in_days_at_request</th>\n",
       "      <th>requester_days_since_first_post_on_raop_at_request</th>\n",
       "      <th>requester_number_of_comments_at_request</th>\n",
       "      <th>requester_number_of_comments_in_raop_at_request</th>\n",
       "      <th>requester_number_of_posts_at_request</th>\n",
       "      <th>requester_number_of_posts_on_raop_at_request</th>\n",
       "      <th>requester_number_of_subreddits_at_request</th>\n",
       "      <th>requester_upvotes_minus_downvotes_at_request</th>\n",
       "      <th>requester_upvotes_plus_downvotes_at_request</th>\n",
       "      <th>unix_timestamp_of_request</th>\n",
       "      <th>unix_timestamp_of_request_utc</th>\n",
       "    </tr>\n",
       "  </thead>\n",
       "  <tbody>\n",
       "    <tr>\n",
       "      <th>count</th>\n",
       "      <td>994.000000</td>\n",
       "      <td>994.000000</td>\n",
       "      <td>994.000000</td>\n",
       "      <td>994.000000</td>\n",
       "      <td>994.000000</td>\n",
       "      <td>994.000000</td>\n",
       "      <td>994.000000</td>\n",
       "      <td>994.000000</td>\n",
       "      <td>9.940000e+02</td>\n",
       "      <td>9.940000e+02</td>\n",
       "      <td>9.940000e+02</td>\n",
       "    </tr>\n",
       "    <tr>\n",
       "      <th>mean</th>\n",
       "      <td>276.766844</td>\n",
       "      <td>28.563757</td>\n",
       "      <td>126.528169</td>\n",
       "      <td>1.429577</td>\n",
       "      <td>23.437626</td>\n",
       "      <td>0.141851</td>\n",
       "      <td>19.509054</td>\n",
       "      <td>1372.060362</td>\n",
       "      <td>4.923700e+03</td>\n",
       "      <td>1.338609e+09</td>\n",
       "      <td>1.338606e+09</td>\n",
       "    </tr>\n",
       "    <tr>\n",
       "      <th>std</th>\n",
       "      <td>312.791210</td>\n",
       "      <td>96.767955</td>\n",
       "      <td>202.328504</td>\n",
       "      <td>5.914937</td>\n",
       "      <td>52.502996</td>\n",
       "      <td>0.526249</td>\n",
       "      <td>21.352374</td>\n",
       "      <td>5419.691555</td>\n",
       "      <td>4.216637e+04</td>\n",
       "      <td>2.317988e+07</td>\n",
       "      <td>2.317956e+07</td>\n",
       "    </tr>\n",
       "    <tr>\n",
       "      <th>min</th>\n",
       "      <td>0.000000</td>\n",
       "      <td>0.000000</td>\n",
       "      <td>0.000000</td>\n",
       "      <td>0.000000</td>\n",
       "      <td>0.000000</td>\n",
       "      <td>0.000000</td>\n",
       "      <td>0.000000</td>\n",
       "      <td>-39.000000</td>\n",
       "      <td>0.000000e+00</td>\n",
       "      <td>1.306095e+09</td>\n",
       "      <td>1.306091e+09</td>\n",
       "    </tr>\n",
       "    <tr>\n",
       "      <th>25%</th>\n",
       "      <td>39.110437</td>\n",
       "      <td>0.000000</td>\n",
       "      <td>1.000000</td>\n",
       "      <td>0.000000</td>\n",
       "      <td>1.000000</td>\n",
       "      <td>0.000000</td>\n",
       "      <td>3.000000</td>\n",
       "      <td>23.250000</td>\n",
       "      <td>4.500000e+01</td>\n",
       "      <td>1.316329e+09</td>\n",
       "      <td>1.316325e+09</td>\n",
       "    </tr>\n",
       "    <tr>\n",
       "      <th>50%</th>\n",
       "      <td>179.528218</td>\n",
       "      <td>0.000000</td>\n",
       "      <td>35.000000</td>\n",
       "      <td>0.000000</td>\n",
       "      <td>6.000000</td>\n",
       "      <td>0.000000</td>\n",
       "      <td>13.000000</td>\n",
       "      <td>285.500000</td>\n",
       "      <td>5.620000e+02</td>\n",
       "      <td>1.336384e+09</td>\n",
       "      <td>1.336381e+09</td>\n",
       "    </tr>\n",
       "    <tr>\n",
       "      <th>75%</th>\n",
       "      <td>396.927688</td>\n",
       "      <td>0.000000</td>\n",
       "      <td>155.000000</td>\n",
       "      <td>0.000000</td>\n",
       "      <td>24.000000</td>\n",
       "      <td>0.000000</td>\n",
       "      <td>28.000000</td>\n",
       "      <td>1382.750000</td>\n",
       "      <td>2.937250e+03</td>\n",
       "      <td>1.359247e+09</td>\n",
       "      <td>1.359247e+09</td>\n",
       "    </tr>\n",
       "    <tr>\n",
       "      <th>max</th>\n",
       "      <td>2124.362650</td>\n",
       "      <td>785.457685</td>\n",
       "      <td>990.000000</td>\n",
       "      <td>88.000000</td>\n",
       "      <td>627.000000</td>\n",
       "      <td>5.000000</td>\n",
       "      <td>128.000000</td>\n",
       "      <td>155010.000000</td>\n",
       "      <td>1.286864e+06</td>\n",
       "      <td>1.381297e+09</td>\n",
       "      <td>1.381268e+09</td>\n",
       "    </tr>\n",
       "  </tbody>\n",
       "</table>\n",
       "</div>"
      ],
      "text/plain": [
       "       requester_account_age_in_days_at_request  \\\n",
       "count                                994.000000   \n",
       "mean                                 276.766844   \n",
       "std                                  312.791210   \n",
       "min                                    0.000000   \n",
       "25%                                   39.110437   \n",
       "50%                                  179.528218   \n",
       "75%                                  396.927688   \n",
       "max                                 2124.362650   \n",
       "\n",
       "       requester_days_since_first_post_on_raop_at_request  \\\n",
       "count                                         994.000000    \n",
       "mean                                           28.563757    \n",
       "std                                            96.767955    \n",
       "min                                             0.000000    \n",
       "25%                                             0.000000    \n",
       "50%                                             0.000000    \n",
       "75%                                             0.000000    \n",
       "max                                           785.457685    \n",
       "\n",
       "       requester_number_of_comments_at_request  \\\n",
       "count                               994.000000   \n",
       "mean                                126.528169   \n",
       "std                                 202.328504   \n",
       "min                                   0.000000   \n",
       "25%                                   1.000000   \n",
       "50%                                  35.000000   \n",
       "75%                                 155.000000   \n",
       "max                                 990.000000   \n",
       "\n",
       "       requester_number_of_comments_in_raop_at_request  \\\n",
       "count                                       994.000000   \n",
       "mean                                          1.429577   \n",
       "std                                           5.914937   \n",
       "min                                           0.000000   \n",
       "25%                                           0.000000   \n",
       "50%                                           0.000000   \n",
       "75%                                           0.000000   \n",
       "max                                          88.000000   \n",
       "\n",
       "       requester_number_of_posts_at_request  \\\n",
       "count                            994.000000   \n",
       "mean                              23.437626   \n",
       "std                               52.502996   \n",
       "min                                0.000000   \n",
       "25%                                1.000000   \n",
       "50%                                6.000000   \n",
       "75%                               24.000000   \n",
       "max                              627.000000   \n",
       "\n",
       "       requester_number_of_posts_on_raop_at_request  \\\n",
       "count                                    994.000000   \n",
       "mean                                       0.141851   \n",
       "std                                        0.526249   \n",
       "min                                        0.000000   \n",
       "25%                                        0.000000   \n",
       "50%                                        0.000000   \n",
       "75%                                        0.000000   \n",
       "max                                        5.000000   \n",
       "\n",
       "       requester_number_of_subreddits_at_request  \\\n",
       "count                                 994.000000   \n",
       "mean                                   19.509054   \n",
       "std                                    21.352374   \n",
       "min                                     0.000000   \n",
       "25%                                     3.000000   \n",
       "50%                                    13.000000   \n",
       "75%                                    28.000000   \n",
       "max                                   128.000000   \n",
       "\n",
       "       requester_upvotes_minus_downvotes_at_request  \\\n",
       "count                                    994.000000   \n",
       "mean                                    1372.060362   \n",
       "std                                     5419.691555   \n",
       "min                                      -39.000000   \n",
       "25%                                       23.250000   \n",
       "50%                                      285.500000   \n",
       "75%                                     1382.750000   \n",
       "max                                   155010.000000   \n",
       "\n",
       "       requester_upvotes_plus_downvotes_at_request  unix_timestamp_of_request  \\\n",
       "count                                 9.940000e+02               9.940000e+02   \n",
       "mean                                  4.923700e+03               1.338609e+09   \n",
       "std                                   4.216637e+04               2.317988e+07   \n",
       "min                                   0.000000e+00               1.306095e+09   \n",
       "25%                                   4.500000e+01               1.316329e+09   \n",
       "50%                                   5.620000e+02               1.336384e+09   \n",
       "75%                                   2.937250e+03               1.359247e+09   \n",
       "max                                   1.286864e+06               1.381297e+09   \n",
       "\n",
       "       unix_timestamp_of_request_utc  \n",
       "count                   9.940000e+02  \n",
       "mean                    1.338606e+09  \n",
       "std                     2.317956e+07  \n",
       "min                     1.306091e+09  \n",
       "25%                     1.316325e+09  \n",
       "50%                     1.336381e+09  \n",
       "75%                     1.359247e+09  \n",
       "max                     1.381268e+09  "
      ]
     },
     "execution_count": 9,
     "metadata": {},
     "output_type": "execute_result"
    }
   ],
   "source": [
    "train_json_with_test_df[train_json_with_test_df.requester_received_pizza ==1].describe()"
   ]
  },
  {
   "cell_type": "code",
   "execution_count": 10,
   "metadata": {},
   "outputs": [
    {
     "data": {
      "text/html": [
       "<div>\n",
       "<style>\n",
       "    .dataframe thead tr:only-child th {\n",
       "        text-align: right;\n",
       "    }\n",
       "\n",
       "    .dataframe thead th {\n",
       "        text-align: left;\n",
       "    }\n",
       "\n",
       "    .dataframe tbody tr th {\n",
       "        vertical-align: top;\n",
       "    }\n",
       "</style>\n",
       "<table border=\"1\" class=\"dataframe\">\n",
       "  <thead>\n",
       "    <tr style=\"text-align: right;\">\n",
       "      <th></th>\n",
       "      <th>requester_account_age_in_days_at_request</th>\n",
       "      <th>requester_days_since_first_post_on_raop_at_request</th>\n",
       "      <th>requester_number_of_comments_at_request</th>\n",
       "      <th>requester_number_of_comments_in_raop_at_request</th>\n",
       "      <th>requester_number_of_posts_at_request</th>\n",
       "      <th>requester_number_of_posts_on_raop_at_request</th>\n",
       "      <th>requester_number_of_subreddits_at_request</th>\n",
       "      <th>requester_upvotes_minus_downvotes_at_request</th>\n",
       "      <th>requester_upvotes_plus_downvotes_at_request</th>\n",
       "      <th>unix_timestamp_of_request</th>\n",
       "      <th>unix_timestamp_of_request_utc</th>\n",
       "    </tr>\n",
       "  </thead>\n",
       "  <tbody>\n",
       "    <tr>\n",
       "      <th>count</th>\n",
       "      <td>3046.000000</td>\n",
       "      <td>3046.000000</td>\n",
       "      <td>3046.000000</td>\n",
       "      <td>3046.000000</td>\n",
       "      <td>3046.000000</td>\n",
       "      <td>3046.000000</td>\n",
       "      <td>3046.000000</td>\n",
       "      <td>3046.000000</td>\n",
       "      <td>3046.000000</td>\n",
       "      <td>3.046000e+03</td>\n",
       "      <td>3.046000e+03</td>\n",
       "    </tr>\n",
       "    <tr>\n",
       "      <th>mean</th>\n",
       "      <td>247.348502</td>\n",
       "      <td>12.453199</td>\n",
       "      <td>111.368352</td>\n",
       "      <td>0.389035</td>\n",
       "      <td>21.002298</td>\n",
       "      <td>0.038083</td>\n",
       "      <td>17.609324</td>\n",
       "      <td>1090.904465</td>\n",
       "      <td>3358.015430</td>\n",
       "      <td>1.344206e+09</td>\n",
       "      <td>1.344203e+09</td>\n",
       "    </tr>\n",
       "    <tr>\n",
       "      <th>std</th>\n",
       "      <td>299.802716</td>\n",
       "      <td>59.190392</td>\n",
       "      <td>190.172257</td>\n",
       "      <td>1.944889</td>\n",
       "      <td>50.353551</td>\n",
       "      <td>0.218656</td>\n",
       "      <td>21.843488</td>\n",
       "      <td>2956.582633</td>\n",
       "      <td>17467.638203</td>\n",
       "      <td>2.321784e+07</td>\n",
       "      <td>2.321705e+07</td>\n",
       "    </tr>\n",
       "    <tr>\n",
       "      <th>min</th>\n",
       "      <td>0.000000</td>\n",
       "      <td>0.000000</td>\n",
       "      <td>0.000000</td>\n",
       "      <td>0.000000</td>\n",
       "      <td>0.000000</td>\n",
       "      <td>0.000000</td>\n",
       "      <td>0.000000</td>\n",
       "      <td>-173.000000</td>\n",
       "      <td>0.000000</td>\n",
       "      <td>1.297723e+09</td>\n",
       "      <td>1.297723e+09</td>\n",
       "    </tr>\n",
       "    <tr>\n",
       "      <th>25%</th>\n",
       "      <td>0.005729</td>\n",
       "      <td>0.000000</td>\n",
       "      <td>0.000000</td>\n",
       "      <td>0.000000</td>\n",
       "      <td>0.000000</td>\n",
       "      <td>0.000000</td>\n",
       "      <td>1.000000</td>\n",
       "      <td>1.000000</td>\n",
       "      <td>4.000000</td>\n",
       "      <td>1.322381e+09</td>\n",
       "      <td>1.322381e+09</td>\n",
       "    </tr>\n",
       "    <tr>\n",
       "      <th>50%</th>\n",
       "      <td>144.698495</td>\n",
       "      <td>0.000000</td>\n",
       "      <td>20.000000</td>\n",
       "      <td>0.000000</td>\n",
       "      <td>4.000000</td>\n",
       "      <td>0.000000</td>\n",
       "      <td>10.000000</td>\n",
       "      <td>135.500000</td>\n",
       "      <td>270.500000</td>\n",
       "      <td>1.344057e+09</td>\n",
       "      <td>1.344053e+09</td>\n",
       "    </tr>\n",
       "    <tr>\n",
       "      <th>75%</th>\n",
       "      <td>385.869005</td>\n",
       "      <td>0.000000</td>\n",
       "      <td>134.000000</td>\n",
       "      <td>0.000000</td>\n",
       "      <td>21.000000</td>\n",
       "      <td>0.000000</td>\n",
       "      <td>27.000000</td>\n",
       "      <td>1082.500000</td>\n",
       "      <td>2134.250000</td>\n",
       "      <td>1.365886e+09</td>\n",
       "      <td>1.365882e+09</td>\n",
       "    </tr>\n",
       "    <tr>\n",
       "      <th>max</th>\n",
       "      <td>2809.750787</td>\n",
       "      <td>739.771007</td>\n",
       "      <td>994.000000</td>\n",
       "      <td>52.000000</td>\n",
       "      <td>867.000000</td>\n",
       "      <td>3.000000</td>\n",
       "      <td>186.000000</td>\n",
       "      <td>87911.000000</td>\n",
       "      <td>789287.000000</td>\n",
       "      <td>1.381552e+09</td>\n",
       "      <td>1.381523e+09</td>\n",
       "    </tr>\n",
       "  </tbody>\n",
       "</table>\n",
       "</div>"
      ],
      "text/plain": [
       "       requester_account_age_in_days_at_request  \\\n",
       "count                               3046.000000   \n",
       "mean                                 247.348502   \n",
       "std                                  299.802716   \n",
       "min                                    0.000000   \n",
       "25%                                    0.005729   \n",
       "50%                                  144.698495   \n",
       "75%                                  385.869005   \n",
       "max                                 2809.750787   \n",
       "\n",
       "       requester_days_since_first_post_on_raop_at_request  \\\n",
       "count                                        3046.000000    \n",
       "mean                                           12.453199    \n",
       "std                                            59.190392    \n",
       "min                                             0.000000    \n",
       "25%                                             0.000000    \n",
       "50%                                             0.000000    \n",
       "75%                                             0.000000    \n",
       "max                                           739.771007    \n",
       "\n",
       "       requester_number_of_comments_at_request  \\\n",
       "count                              3046.000000   \n",
       "mean                                111.368352   \n",
       "std                                 190.172257   \n",
       "min                                   0.000000   \n",
       "25%                                   0.000000   \n",
       "50%                                  20.000000   \n",
       "75%                                 134.000000   \n",
       "max                                 994.000000   \n",
       "\n",
       "       requester_number_of_comments_in_raop_at_request  \\\n",
       "count                                      3046.000000   \n",
       "mean                                          0.389035   \n",
       "std                                           1.944889   \n",
       "min                                           0.000000   \n",
       "25%                                           0.000000   \n",
       "50%                                           0.000000   \n",
       "75%                                           0.000000   \n",
       "max                                          52.000000   \n",
       "\n",
       "       requester_number_of_posts_at_request  \\\n",
       "count                           3046.000000   \n",
       "mean                              21.002298   \n",
       "std                               50.353551   \n",
       "min                                0.000000   \n",
       "25%                                0.000000   \n",
       "50%                                4.000000   \n",
       "75%                               21.000000   \n",
       "max                              867.000000   \n",
       "\n",
       "       requester_number_of_posts_on_raop_at_request  \\\n",
       "count                                   3046.000000   \n",
       "mean                                       0.038083   \n",
       "std                                        0.218656   \n",
       "min                                        0.000000   \n",
       "25%                                        0.000000   \n",
       "50%                                        0.000000   \n",
       "75%                                        0.000000   \n",
       "max                                        3.000000   \n",
       "\n",
       "       requester_number_of_subreddits_at_request  \\\n",
       "count                                3046.000000   \n",
       "mean                                   17.609324   \n",
       "std                                    21.843488   \n",
       "min                                     0.000000   \n",
       "25%                                     1.000000   \n",
       "50%                                    10.000000   \n",
       "75%                                    27.000000   \n",
       "max                                   186.000000   \n",
       "\n",
       "       requester_upvotes_minus_downvotes_at_request  \\\n",
       "count                                   3046.000000   \n",
       "mean                                    1090.904465   \n",
       "std                                     2956.582633   \n",
       "min                                     -173.000000   \n",
       "25%                                        1.000000   \n",
       "50%                                      135.500000   \n",
       "75%                                     1082.500000   \n",
       "max                                    87911.000000   \n",
       "\n",
       "       requester_upvotes_plus_downvotes_at_request  unix_timestamp_of_request  \\\n",
       "count                                  3046.000000               3.046000e+03   \n",
       "mean                                   3358.015430               1.344206e+09   \n",
       "std                                   17467.638203               2.321784e+07   \n",
       "min                                       0.000000               1.297723e+09   \n",
       "25%                                       4.000000               1.322381e+09   \n",
       "50%                                     270.500000               1.344057e+09   \n",
       "75%                                    2134.250000               1.365886e+09   \n",
       "max                                  789287.000000               1.381552e+09   \n",
       "\n",
       "       unix_timestamp_of_request_utc  \n",
       "count                   3.046000e+03  \n",
       "mean                    1.344203e+09  \n",
       "std                     2.321705e+07  \n",
       "min                     1.297723e+09  \n",
       "25%                     1.322381e+09  \n",
       "50%                     1.344053e+09  \n",
       "75%                     1.365882e+09  \n",
       "max                     1.381523e+09  "
      ]
     },
     "execution_count": 10,
     "metadata": {},
     "output_type": "execute_result"
    }
   ],
   "source": [
    "train_json_with_test_df[train_json_with_test_df.requester_received_pizza ==0].describe()"
   ]
  },
  {
   "cell_type": "markdown",
   "metadata": {},
   "source": [
    "## Sample data"
   ]
  },
  {
   "cell_type": "code",
   "execution_count": 19,
   "metadata": {},
   "outputs": [
    {
     "name": "stdout",
     "output_type": "stream",
     "text": [
      "training data shape: (3232,)\n",
      "dev data shape: (808,)\n"
     ]
    }
   ],
   "source": [
    "train_data = train_json_with_test_df.request_text_edit_aware.as_matrix()\n",
    "train_labels = train_json_df.requester_received_pizza.astype(int).as_matrix()\n",
    "\n",
    "train_data, dev_data, train_labels, dev_labels = \\\n",
    "            train_test_split(train_data, train_labels, test_size=0.2, random_state=42)\n",
    "    \n",
    "print('training data shape:', train_data.shape)\n",
    "print('dev data shape:', dev_data.shape)"
   ]
  },
  {
   "cell_type": "code",
   "execution_count": 20,
   "metadata": {
    "scrolled": false
   },
   "outputs": [
    {
     "name": "stdout",
     "output_type": "stream",
     "text": [
      "-----------------------------------------------\n",
      "This request receives pizza : Sample 1\n",
      "money:3\n",
      "work:0\n",
      "college:0\n",
      "family:0\n",
      "friend:0\n",
      "gratitude : 0\n",
      "include_image : 0\n",
      "reciprocity : 0\n",
      "-----------------------------------------------\n",
      "My power was out for about 3 hours earlier this afternoon. I keep trying to watch DVD's (Twister...I mean when in Rome, right?) but as soon as I get halfway in the power either flickers on and off or stays off for an extended period of time. I don't feel up to going out for food either since I've been sick for about 3 days now and Hurricane Irene is being a bitch...\n",
      "\n",
      "Thank you all!\n",
      "\n",
      "\n",
      "-----------------------------------------------\n",
      "This request receives pizza : Sample 2\n",
      "money:3\n",
      "work:1\n",
      "college:0\n",
      "family:0\n",
      "friend:0\n",
      "gratitude : 0\n",
      "include_image : 0\n",
      "reciprocity : 0\n",
      "-----------------------------------------------\n",
      "I'm lucky that internet comes part and parcel with my rent. I work retail grocery and summer hours are murder on the wallet. I have to hustle managers just to get a good 20-25 hours a week, when I used to push the part time hour limit. \n",
      "\n",
      "I hate begging, but my stomach is scoffing at me and calling me a proud asshole. So here I am :). Just one is all I ask.\n",
      "\n",
      "\n",
      "-----------------------------------------------\n",
      "This request receives pizza : Sample 3\n",
      "money:13\n",
      "work:0\n",
      "college:0\n",
      "family:0\n",
      "friend:0\n",
      "gratitude : 1\n",
      "include_image : 0\n",
      "reciprocity : 0\n",
      "-----------------------------------------------\n",
      "Hey RAoP\n",
      "\n",
      "This is a throwaway account but I'd be happy to PM you from my real account as verification. I've given before and never received.\n",
      "\n",
      "First up I'd like to say that pizza is NOT necessary and we won't starve without it. Not even a bit. We've got some leftovers in the freezer and a bunch of odds and ends in the cupboards and even a bunch of friends who'd take us out to dinner or have us over if we asked (but we'd feel bad asking because we're old enough to be meant to be beyond this!). So, absolutely no worries if no-one can give. \n",
      "\n",
      "I'm asking because a bunch of unexpected grown up expenses just ambushed us. My boyfriend's grandfather died unexpectedly and we wanted to go to the funeral - but it was 5 hours away and we didn't have a car. So we bought a cheap car and made it to the funeral, but it turns out that car ownership is super expensive. Rego is nearly $1000! Add insurance, NRMA membership (needed cos we weren't sure whether our little bomb of a car would make the drive and we didnt want to be stranded in the australian outback forever), random fees for vehicle inspections and more random fees just for existing add up to be the value of the car again! What. The. Hell. (yes, I *have* lived a sheltered life, thank you for asking.)\n",
      "\n",
      "Add that to the billion and one other things we're saving up for/need to pay (rent, bills, house deposit, wedding, honeymoon maybe, helping our families) and it's come as a bit of a shock to our financial system :P\n",
      "We literally have $0.67 in the bank and a bit of change in cash until pay day. This is an odd and disconcerting feeling. \n",
      "\n",
      "What would pizza mean to us? Laughter and joy. The pleasure of knowing that there are good people who care about strangers. A memory to carry with us both when things are hard and when things are good and we can give again. A small easing of financial stress for the next few days. \n",
      "\n",
      "I might also pull the request later because like I said - it's most definitely not a do or die type situation. And anyway, my credit card's taken such a pounding this week, what harm is pizza going to do? :P\n",
      "\n",
      "But thanks for reading anyway, RAoP!\n",
      "\n",
      "Also, please and thank you ;)\n",
      "\n",
      "\n",
      "-----------------------------------------------\n",
      "This request receives pizza : Sample 4\n",
      "money:1\n",
      "work:0\n",
      "college:0\n",
      "family:0\n",
      "friend:0\n",
      "gratitude : 0\n",
      "include_image : 0\n",
      "reciprocity : 0\n",
      "-----------------------------------------------\n",
      "I'm in Covington.  If anyone would give the gift of pizza, I'd be most most appreciative.  I'm a broke writer who only had ramen in his house.  Thanks!\n",
      "\n",
      "\n",
      "-----------------------------------------------\n",
      "This request receives pizza : Sample 5\n",
      "money:0\n",
      "work:0\n",
      "college:0\n",
      "family:0\n",
      "friend:1\n",
      "gratitude : 0\n",
      "include_image : 0\n",
      "reciprocity : 0\n",
      "-----------------------------------------------\n",
      "I could really use a pizza right now.  It's my friend and I, and we have nothing to eat / no money.. and his car is in the shop.  So if one of you fine gentlemen , or fine ladies, could give us delicious, hot, circular-shaped heaven.. We would be most grateful.\n",
      "\n",
      "\n",
      "-----------------------------------------------\n",
      "This request receives pizza : Sample 6\n",
      "money:3\n",
      "work:0\n",
      "college:0\n",
      "family:0\n",
      "friend:0\n",
      "gratitude : 0\n",
      "include_image : 0\n",
      "reciprocity : 1\n",
      "-----------------------------------------------\n",
      "My gf of 4 years and I just broke up and i'm trying to do any random thing that might help slowly fill the void. Unfortunately I was unprepared for this and it has cost me quite a bit already. If someone could get me even just a small pizza to munch on while I continue to pack up her things from my room, i'd be eternally grateful and return the favor to either you or some other unlucky pizza redditor come pay day.\n",
      "\n",
      "\n",
      "-----------------------------------------------\n",
      "This request receives pizza : Sample 7\n",
      "money:3\n",
      "work:0\n",
      "college:0\n",
      "family:1\n",
      "friend:0\n",
      "gratitude : 1\n",
      "include_image : 0\n",
      "reciprocity : 0\n",
      "-----------------------------------------------\n",
      "Hello fellow redditors things have been tough but I know they will get better eventually. Was wondering if a kind and thoughtful soul could help a family of 5 with a decent meal this Friday evening. Food is almost nil around here and will not be able to buy any until Monday. There are 5 of us. 2 adults, and 3 children if anyone can help. We have a pizza hut that is not too far from the house so an egift card would be perfect. I want to thank you all so much for reading my post.\n",
      "\n",
      " ((Hugs))\n",
      "\n",
      "\n",
      "-----------------------------------------------\n",
      "This request receives pizza : Sample 8\n",
      "money:2\n",
      "work:0\n",
      "college:0\n",
      "family:0\n",
      "friend:1\n",
      "gratitude : 1\n",
      "include_image : 1\n",
      "reciprocity : 1\n",
      "-----------------------------------------------\n",
      "Local purveyor of pizza slices, [Luigi's Slice] (https://www.facebook.com/luigisfungarden), has $2 pepperoni and cheese slices on Tuesdays. While I could have procured one of these, it would've left me flat broke for the rest of the week. Last night, willpower was working overtime, and I pulled through.\n",
      "\n",
      "... This morning, I just had a bowl of Grape Nuts — which I typically do enjoy — but for whatever reason, the image of Luigi's perfectly spiced oregano-laden sauce stabbed my brain, and subsequently my gut, relentlessly.\n",
      "\n",
      "Today is $3 for any slice, and I feel my willpower waning hard. At this point, any pizza would suffice — it is merely convenient (and awesome) that the cheaper option is also among the best in the area.\n",
      "\n",
      "Any help to satisfy this pizza craving would be much appreciated, I promise to pay it forward (in-kind, to the extent I'm able) by next $2 Tuesday!\n",
      "\n",
      "\n",
      "-----------------------------------------------\n",
      "This request receives pizza : Sample 9\n",
      "money:8\n",
      "work:2\n",
      "college:0\n",
      "family:0\n",
      "friend:0\n",
      "gratitude : 0\n",
      "include_image : 0\n",
      "reciprocity : 0\n",
      "-----------------------------------------------\n",
      "In between paychecks and no food left in the apt. I have been trying to ration the food I had left to last until next week. Turns out I miss calculated. I have been out of a job for about 2 months now and just got another one a couple weeks ago, my next paycheck should be enough to cover everything, but until then I'm flat broke and can't even afford the gas to put in my bike to get to work. A nice hot meal other than the ramen Ive been eating would be nice right now. Any help?\n",
      "\n",
      "\n",
      "-----------------------------------------------\n",
      "This request receives pizza : Sample 10\n",
      "money:1\n",
      "work:0\n",
      "college:0\n",
      "family:0\n",
      "friend:0\n",
      "gratitude : 0\n",
      "include_image : 0\n",
      "reciprocity : 0\n",
      "-----------------------------------------------\n",
      "Horrible day at work, shitty relationship, and roommates from hell. I just want to believe in life again! Please make my night. \n",
      "\n",
      "\n",
      "-----------------------------------------------\n",
      "This request doesn't receive pizza : Sample 1\n",
      "money:4\n",
      "work:0\n",
      "college:0\n",
      "family:0\n",
      "friend:0\n",
      "gratitude : 0\n",
      "include_image : 0\n",
      "reciprocity : 0\n",
      "-----------------------------------------------\n",
      "Posting from my phone (contract expires next Wednesday) as we have no wifi. Girlfriend and I met on the Internet, have been in a long-distance relationship (with monthly visits) for ten months. Just moved into a new apartment with her last week. I'm the happiest I've been in a long time, but we are pretty tight on money. I'm job-hunting, she works at a minimum wage fast food restaurant (she brings food back from her job, which is how we eat right now). A pizza or two would be nice if anyone has a few extra bucks lying around. We can handle the delivery guy's tip. Thanks. \n",
      "\n",
      "\n",
      "-----------------------------------------------\n",
      "This request doesn't receive pizza : Sample 2\n",
      "money:0\n",
      "work:0\n",
      "college:0\n",
      "family:0\n",
      "friend:0\n",
      "gratitude : 0\n",
      "include_image : 0\n",
      "reciprocity : 0\n",
      "-----------------------------------------------\n",
      "Biochemistry is a hell of a major. \n",
      "\n",
      "\n",
      "-----------------------------------------------\n",
      "This request doesn't receive pizza : Sample 3\n",
      "money:4\n",
      "work:1\n",
      "college:0\n",
      "family:0\n",
      "friend:0\n",
      "gratitude : 0\n",
      "include_image : 0\n",
      "reciprocity : 0\n",
      "-----------------------------------------------\n",
      "So I made this throwaway because I just feel bad about having to post here, but it's a last resort.  I've been unemployed for a few months and my cash is just winding low.  I'm in the midst of classes that have been taking up my time and preventing me from finding a new job and I'm starting to really stress out about having to pay rent in ~10 days.  I'm not expecting anything, but I figured I'd try for a pizza.  I have a verification code.\n",
      "\n",
      "\n",
      "-----------------------------------------------\n",
      "This request doesn't receive pizza : Sample 4\n",
      "money:7\n",
      "work:0\n",
      "college:1\n",
      "family:0\n",
      "friend:0\n",
      "gratitude : 0\n",
      "include_image : 0\n",
      "reciprocity : 0\n",
      "-----------------------------------------------\n",
      "I'm a full time student that also works full time, which means I never get time off! I'm enjoying the first day off I've had in over 3 months, but I have no food in the fridge and I don't get paid til wed! I'd be so grateful for a pizza right now &lt;3&lt;3\n",
      "\n",
      "\n",
      "-----------------------------------------------\n",
      "This request doesn't receive pizza : Sample 5\n",
      "money:7\n",
      "work:1\n",
      "college:0\n",
      "family:0\n",
      "friend:0\n",
      "gratitude : 0\n",
      "include_image : 0\n",
      "reciprocity : 0\n",
      "-----------------------------------------------\n",
      "Hi guys, never done this before so I don't know if it will work or not but worth a shot is it not? Basically the situation is as follows.. I am in Wellington, New Zealand. I am hungover because last night I was out in town drinking and watching the warriors lose to manly in the NRL grand final :( used up most of my spare money taxing home and now I am looking at a fairly empty fridge/pantry.. My car is 30 mins walk away and it is PISSING down with rain which I don't really wanna brave to go to the super market.\n",
      "\n",
      "Pretty much wondering if a kickass random stranger would hook me up with a pizza to cure my hangover and cheer me up after yesterdays loss. Will be sure to pay it on in the future to another needy individual.\n",
      "\n",
      "Thankyou THR - you are the greatest!\n",
      "\n",
      "\n",
      "-----------------------------------------------\n",
      "This request doesn't receive pizza : Sample 6\n",
      "money:3\n",
      "work:1\n",
      "college:0\n",
      "family:1\n",
      "friend:0\n",
      "gratitude : 0\n",
      "include_image : 0\n",
      "reciprocity : 0\n",
      "-----------------------------------------------\n",
      "I just want to start off by saying how wonderful this community is. I've been looking at some of these posts on here, and how helpful and giving those within the community have been, and it really warms my heart to know there are people like that out there in the world.\n",
      "\n",
      "I'm wondering if there a chance someone would be willing to help me out as well. I'm a stay at home mom, raising my three little ones, Jason (6) and Michelle and Christina (both 3 1/2), while my husband works. Sadly, he lost his job about a year ago, and with this economy, he has only been able to pick up jobs here and there, and we're getting towards the end of our savings.\n",
      "\n",
      "I would love to be able to sit down with a nice pizza dinner one night, and just be able to relax and enjoy the company of one another, that is, before the little ones start crying again. Pizza used to be a luxury purchase for us before, now it is almost impossible.\n",
      "\n",
      "Anyone with a soft spot in their heart able to help out?\n",
      "\n",
      "Thanks\n",
      "\n",
      "\n",
      "\n",
      "-----------------------------------------------\n",
      "This request doesn't receive pizza : Sample 7\n",
      "money:5\n",
      "work:0\n",
      "college:2\n",
      "family:0\n",
      "friend:0\n",
      "gratitude : 0\n",
      "include_image : 0\n",
      "reciprocity : 1\n",
      "-----------------------------------------------\n",
      "Basically don't have much cash for the next two weeks until the next part of my student grant comes in. \n",
      "\n",
      "Near the end of a massive design engineering project and it's getting pretty stressful. \n",
      "\n",
      "Not much in the cupboards and i've been eating rice and beans for the past few days. Thanks r/frugal.\n",
      "\n",
      "Would love a tasty pizza and I'll pay back into the community once I get a bit more cash. \n",
      "\n",
      "Peace\n",
      "\n",
      "\n",
      "-----------------------------------------------\n",
      "This request doesn't receive pizza : Sample 8\n",
      "money:15\n",
      "work:0\n",
      "college:0\n",
      "family:1\n",
      "friend:0\n",
      "gratitude : 0\n",
      "include_image : 0\n",
      "reciprocity : 1\n",
      "-----------------------------------------------\n",
      "My bank account is frozen due to 'suspicious activity' which is a mistake on the bank's part but they said there's nothing they can do for 5-6 days on top of that the electricity in my apartment just got turned back on due to a power line getting struck a few days ago and all of the food in my fridge is bad now. I was planning on shopping tonight but with my account frozen, I can't. \n",
      "\n",
      "I spent the last bit of money I had on-hand to buy my 4 and a half month old son some formula and put some gas into my car. A pizza would do wonders for me tonight. \n",
      "\n",
      "I'll gladly pay it forward when my bank account becomes unfrozen \n",
      "\n",
      "\n",
      "-----------------------------------------------\n",
      "This request doesn't receive pizza : Sample 9\n",
      "money:1\n",
      "work:0\n",
      "college:0\n",
      "family:0\n",
      "friend:0\n",
      "gratitude : 0\n",
      "include_image : 0\n",
      "reciprocity : 0\n",
      "-----------------------------------------------\n",
      "Have enough for a few meals for the next 2 days, but would love to have a nice pizza!\n",
      "\n",
      "\n",
      "-----------------------------------------------\n",
      "This request doesn't receive pizza : Sample 10\n",
      "money:2\n",
      "work:0\n",
      "college:0\n",
      "family:0\n",
      "friend:0\n",
      "gratitude : 0\n",
      "include_image : 0\n",
      "reciprocity : 0\n",
      "-----------------------------------------------\n",
      "I've been living off peanut butter for almost a week now. Times are very tough and I'm just hoping someone has some money to spare for a pizza. I just found this site and I love the idea of people helping people. If you have and can help out, please do.\n",
      "\n",
      "\n"
     ]
    }
   ],
   "source": [
    "import random\n",
    "num_examples=10\n",
    "    \n",
    "# for each label, display a number of examples \n",
    "for i in range(2):\n",
    "\n",
    "    # find the indexes of the corresponding label \n",
    "    index = np.where(train_labels == i)\n",
    "\n",
    "    for j in range(num_examples):\n",
    "\n",
    "        # print the training data for that label\n",
    "        if i == 0:\n",
    "            title = \"This request receives pizza\"\n",
    "        else:\n",
    "            title = \"This request doesn't receive pizza\"\n",
    "        print(\"-----------------------------------------------\" )\n",
    "        print(\"{} : Sample {}\".format(title, j+1))\n",
    "        \n",
    "        for k in narratives:\n",
    "            print(\"{}:{}\".format(k[0], find_narr(k, train_data[index[0][j]])))\n",
    "        \n",
    "        print(\"gratitude : {}\".format(1 if re.search(\"thank|appreciate|advance|consider\", train_data[index[0][j]]) else 0))\n",
    "        print(\"include_image : {}\".format(1 if re.search(\"http|www|screenshot|photo|image\", train_data[index[0][j]]) else 0))\n",
    "        print(\"reciprocity : {}\".format(1 if re.search(\"repay|pay.+back|pay.+forward|return.+favor|reciprocate\", train_data[index[0][j]]) else 0))\n",
    "\n",
    "        print(\"-----------------------------------------------\")\n",
    "        print(train_data[index[0][j]])\n",
    "        print(\"\\n\")"
   ]
  },
  {
   "cell_type": "code",
   "execution_count": 18,
   "metadata": {},
   "outputs": [
    {
     "data": {
      "text/plain": [
       "<matplotlib.axes._subplots.AxesSubplot at 0x1a21a6b5f8>"
      ]
     },
     "execution_count": 18,
     "metadata": {},
     "output_type": "execute_result"
    },
    {
     "data": {
      "image/png": "[encoded data removed]",
      "text/plain": [
       "<matplotlib.figure.Figure at 0x1a2192ee48>"
      ]
     },
     "metadata": {},
     "output_type": "display_data"
    }
   ],
   "source": [
    "import seaborn as sns\n",
    "\n",
    "f, ax = plt.subplots(figsize=(10, 8))\n",
    "corr = train_json_with_test_df.corr()\n",
    "sns.heatmap(corr, mask=np.zeros_like(corr, dtype=np.bool), cmap=sns.diverging_palette(220, 10, as_cmap=True),\n",
    "            square=True, ax=ax)"
   ]
  },
  {
   "cell_type": "code",
   "execution_count": 265,
   "metadata": {},
   "outputs": [
    {
     "name": "stdout",
     "output_type": "stream",
     "text": [
      "training data shape: (3232, 18)\n",
      "dev data shape: (808, 18)\n"
     ]
    }
   ],
   "source": [
    "train_data = train_json_with_test_df\n",
    "train_labels = train_json_df.requester_received_pizza.astype(int).as_matrix()\n",
    "\n",
    "train_data, dev_data, train_labels, dev_labels = \\\n",
    "            train_test_split(train_data, train_labels, test_size=0.2, random_state=42)\n",
    "    \n",
    "print('training data shape:', train_data.shape)\n",
    "print('dev data shape:', dev_data.shape)"
   ]
  },
  {
   "cell_type": "code",
   "execution_count": 362,
   "metadata": {},
   "outputs": [
    {
     "data": {
      "text/plain": [
       "<matplotlib.axes._subplots.AxesSubplot at 0x1a2430cf28>"
      ]
     },
     "execution_count": 362,
     "metadata": {},
     "output_type": "execute_result"
    },
    {
     "data": {
      "image/png": "[encoded data removed]",
      "text/plain": [
       "<matplotlib.figure.Figure at 0x1a20239978>"
      ]
     },
     "metadata": {},
     "output_type": "display_data"
    }
   ],
   "source": [
    "train_features = construct_more_features(train_data)\n",
    "\n",
    "train_features['requester_received_pizza'] = train_labels\n",
    "\n",
    "f, ax = plt.subplots(figsize=(10, 8))\n",
    "corr = train_features.corr()\n",
    "sns.heatmap(corr, mask=np.zeros_like(corr, dtype=np.bool), cmap=sns.diverging_palette(220, 10, as_cmap=True),\n",
    "            square=True, ax=ax)"
   ]
  },
  {
   "cell_type": "markdown",
   "metadata": {},
   "source": [
    "# 2.0 EDA - Logistic Regression"
   ]
  },
  {
   "cell_type": "code",
   "execution_count": 25,
   "metadata": {
    "collapsed": true
   },
   "outputs": [],
   "source": [
    "def preprocessor_old(s):\n",
    "    \n",
    "    if len(s) > 0:\n",
    "        \n",
    "        # change the data to lower case \n",
    "        s = s.lower()\n",
    "        \n",
    "        # change name pattern, for exmaple, emmy c. lau to emmyclau\n",
    "        name_pattern = re.compile(r'(\\w+)\\s(\\w)\\.\\s(\\w+)')\n",
    "        s= re.sub(name_pattern, r'\\1\\2\\3', s)\n",
    "        \n",
    "        # change email pattern, for exmaple, emmylau@berkeley.edu to emmylauberkeleyedu\n",
    "        email_pattern = re.compile(r'(\\w+)@(\\w+)\\.(\\w+)')\n",
    "        s= re.sub(email_pattern, r'\\1\\2\\3', s)\n",
    "        \n",
    "        # change url pattern, for example, http://yahoo.com to URL\n",
    "        url_pattern = re.compile(r'(http|ftp|https)://([\\w_-]+(?:(?:\\.[\\w_-]+)+))([\\w.,@?^=%&:/~+#-]*[\\w@?^=%&/~+#-])?')\n",
    "        s= re.sub(url_pattern, r'URL', s)\n",
    "        \n",
    "        # remove the leading '_'\n",
    "        s = re.sub(r'\\b_', '', s)\n",
    "        \n",
    "        # replace all non-word character to ' ' \n",
    "        s = re.sub(r'\\W+', ' ', s)\n",
    "        \n",
    "        # replace all numeric sequence to '####'\n",
    "        s = re.sub(r'\\d+', '####', s)\n",
    "        \n",
    "        # truncate all words to the first 5 characters \n",
    "        s = \" \".join(x[:5]  for x in s.split(' ') )        \n",
    "    return s "
   ]
  },
  {
   "cell_type": "code",
   "execution_count": 26,
   "metadata": {
    "collapsed": true
   },
   "outputs": [],
   "source": [
    "import string\n",
    "from nltk.stem.porter import PorterStemmer\n",
    "from nltk.stem import SnowballStemmer\n",
    "\n",
    "def preprocessor(s):\n",
    "    \n",
    "    if len(s) > 0:\n",
    "        \n",
    "        s=s.lower()\n",
    "        \n",
    "        # replace all non-word character to ' ' \n",
    "        s = re.sub(r'\\W+', ' ', s)\n",
    "        \n",
    "        # replace all numeric sequence to '####'\n",
    "        s = re.sub(r'\\d+', '####', s)\n",
    "        \n",
    "        #p_stemmer = PorterStemmer()\n",
    "        #s = ' '.join([p_stemmer.stem(i) for i in s.split()])\n",
    "        \n",
    "        s_stemmer = SnowballStemmer('english')\n",
    "        s = ' '.join([s_stemmer.stem(i) for i in s.split()])\n",
    "        \n",
    "        \n",
    "        \n",
    "    return s\n",
    "    "
   ]
  },
  {
   "cell_type": "markdown",
   "metadata": {},
   "source": [
    "## 2.1 Just Bag Of Words"
   ]
  },
  {
   "cell_type": "code",
   "execution_count": 27,
   "metadata": {},
   "outputs": [
    {
     "name": "stdout",
     "output_type": "stream",
     "text": [
      "training data shape: (3232,)\n",
      "dev data shape: (808,)\n"
     ]
    }
   ],
   "source": [
    "train_data = train_json_df.request_text_edit_aware.as_matrix()\n",
    "train_labels = train_json_df.requester_received_pizza.astype(int).as_matrix()\n",
    "\n",
    "train_data, dev_data, train_labels, dev_labels = \\\n",
    "            train_test_split(train_data, train_labels, test_size=0.2, random_state=42)\n",
    "    \n",
    "print('training data shape:', train_data.shape)\n",
    "print('dev data shape:', dev_data.shape)"
   ]
  },
  {
   "cell_type": "code",
   "execution_count": 28,
   "metadata": {},
   "outputs": [
    {
     "name": "stdout",
     "output_type": "stream",
     "text": [
      "(3232, 3713)\n",
      "{'C': 0.0078787878787878792}\n"
     ]
    },
    {
     "data": {
      "text/plain": [
       "0.55511364087419723"
      ]
     },
     "execution_count": 28,
     "metadata": {},
     "output_type": "execute_result"
    }
   ],
   "source": [
    "vectorizer = CountVectorizer(min_df = 2, stop_words='english', ngram_range = (1, 1), preprocessor=preprocessor)\n",
    "train_bag_of_words = vectorizer.fit_transform(train_data)\n",
    "dev_bag_of_words = vectorizer.transform(dev_data)\n",
    "print(train_bag_of_words.shape)\n",
    "\n",
    "lr = LogisticRegression(tol=0.01)\n",
    "#parameters = {'C':[0.00001, 0.0001, 0.001, 0.01, 0.1, 1, 10, 100, 1000]}\n",
    "parameters = {'C':np.linspace(0.005, 0.1, 100)}\n",
    "clf = GridSearchCV(lr, parameters)\n",
    "clf.fit(train_bag_of_words, train_labels) \n",
    "pred_dev_prob = clf.predict_proba(dev_bag_of_words)[:,1]\n",
    "pred_dev_labels = clf.predict(dev_bag_of_words)\n",
    "\n",
    "print(clf.best_params_)\n",
    "roc_auc_score(dev_labels, pred_dev_prob, average='micro')"
   ]
  },
  {
   "cell_type": "code",
   "execution_count": 29,
   "metadata": {},
   "outputs": [
    {
     "name": "stdout",
     "output_type": "stream",
     "text": [
      "Request receives pizza = 211\n",
      "Request failed to predict receiving pizza = 209\n"
     ]
    },
    {
     "data": {
      "text/plain": [
       "array([1, 1, 1, 1, 1, 1, 1, 1, 1, 1, 1, 1, 1, 1, 1, 1, 1, 1, 1, 1, 1, 1, 1,\n",
       "       1, 1, 1, 1, 1, 1, 1, 1, 1, 1, 1, 1, 1, 1, 1, 1, 1, 1, 1, 1, 1, 1, 1,\n",
       "       1, 1, 0, 1, 1, 1, 1, 1, 1, 1, 1, 1, 1, 1, 1, 1, 1, 1, 1, 1, 1, 1, 1,\n",
       "       1, 1, 1, 1, 1, 1, 1, 1, 1, 1, 1, 1, 1, 1, 1, 1, 0, 1, 1, 1, 1, 1, 1,\n",
       "       1, 1, 1, 1, 1, 1, 1, 1, 1, 1, 1, 1, 1, 1, 1, 1, 1, 1, 1, 1, 1, 1, 1,\n",
       "       1, 1, 1, 1, 1, 1, 1, 1, 1, 1, 1, 1, 1, 1, 1, 1, 1, 1, 1, 1, 1, 1, 1,\n",
       "       1, 1, 1, 1, 1, 1, 1, 1, 1, 1, 1, 1, 1, 1, 1, 1, 1, 1, 1, 1, 1, 1, 1,\n",
       "       1, 1, 1, 1, 1, 1, 1, 1, 1, 1, 1, 1, 1, 1, 1, 1, 1, 1, 1, 1, 1, 1, 1,\n",
       "       1, 1, 1, 1, 1, 1, 1, 1, 1, 1, 1, 1, 1, 1, 1, 1, 1, 1, 1, 1, 1, 1, 1,\n",
       "       1, 1, 1, 1])"
      ]
     },
     "execution_count": 29,
     "metadata": {},
     "output_type": "execute_result"
    }
   ],
   "source": [
    "print(\"Request receives pizza = {}\".format(np.sum(dev_labels)))\n",
    "print(\"Request failed to predict receiving pizza = {}\".format(np.sum(dev_labels[dev_labels != pred_dev_labels])))\n",
    "dev_labels[dev_labels != pred_dev_labels]"
   ]
  },
  {
   "cell_type": "code",
   "execution_count": 30,
   "metadata": {},
   "outputs": [
    {
     "data": {
      "image/png": "[encoded data removed]",
      "text/plain": [
       "<matplotlib.figure.Figure at 0x1a21abcba8>"
      ]
     },
     "metadata": {},
     "output_type": "display_data"
    },
    {
     "data": {
      "text/plain": [
       "array([[595,   2],\n",
       "       [209,   2]])"
      ]
     },
     "execution_count": 30,
     "metadata": {},
     "output_type": "execute_result"
    }
   ],
   "source": [
    "plot_roc(dev_labels, pred_dev_prob)\n",
    "confusion_matrix(dev_labels, pred_dev_labels)"
   ]
  },
  {
   "cell_type": "markdown",
   "metadata": {},
   "source": [
    "## 2.2 Bag of words + additional features"
   ]
  },
  {
   "cell_type": "code",
   "execution_count": 31,
   "metadata": {},
   "outputs": [
    {
     "name": "stdout",
     "output_type": "stream",
     "text": [
      "(4040, 4174)\n",
      "(4040, 9)\n"
     ]
    }
   ],
   "source": [
    "# training labels\n",
    "train_labels = train_json_with_test_df.requester_received_pizza.astype(int)\n",
    "\n",
    "# text factors\n",
    "vectorizer = CountVectorizer(min_df = 2, stop_words='english', ngram_range = (1, 1), preprocessor=preprocessor)\n",
    "train_bag_of_words = vectorizer.fit_transform(train_json_with_test_df.request_text_edit_aware.as_matrix(), train_labels)\n",
    "\n",
    "# other factors\n",
    "train_other_data = train_json_with_test_df[['requester_account_age_in_days_at_request', \\\n",
    "                                    'requester_days_since_first_post_on_raop_at_request', \\\n",
    "                                    'requester_number_of_comments_at_request', \\\n",
    "                                    'requester_number_of_comments_in_raop_at_request', \\\n",
    "                                    'requester_number_of_posts_at_request', \\\n",
    "                                    'requester_number_of_posts_on_raop_at_request', \\\n",
    "                                    'requester_number_of_subreddits_at_request', \\\n",
    "                                    'requester_upvotes_minus_downvotes_at_request', \\\n",
    "                                    'requester_upvotes_plus_downvotes_at_request']].as_matrix()\n",
    "\n",
    "print(train_bag_of_words.shape)\n",
    "print(train_other_data.shape)\n",
    "train_data = np.hstack((train_bag_of_words.todense(), train_other_data))\n",
    "\n",
    "\n",
    "# split the training data into training data and dev data \n",
    "train_data, dev_data, train_labels, dev_labels = \\\n",
    "            train_test_split(train_data, train_labels, test_size=0.2, random_state=42)\n",
    "    "
   ]
  },
  {
   "cell_type": "code",
   "execution_count": 32,
   "metadata": {},
   "outputs": [
    {
     "name": "stdout",
     "output_type": "stream",
     "text": [
      "{'C': 0.0088383838383838381}\n"
     ]
    },
    {
     "data": {
      "text/plain": [
       "0.57231655909881163"
      ]
     },
     "execution_count": 32,
     "metadata": {},
     "output_type": "execute_result"
    }
   ],
   "source": [
    "lr = LogisticRegression()\n",
    "#parameters = {'C':[0.00001, 0.0001, 0.001, 0.01, 0.1, 1, 10, 100, 1000]}\n",
    "parameters = {'C':np.linspace(0.005, 0.1, 100)}\n",
    "clf = GridSearchCV(lr, parameters)\n",
    "clf.fit(train_data, train_labels)\n",
    "pred_dev_prob = clf.predict_proba(dev_data)[:,1]\n",
    "pred_dev_labels = clf.predict(dev_data)\n",
    "\n",
    "\n",
    "print(clf.best_params_)\n",
    "roc_auc_score(dev_labels, pred_dev_prob, average='micro')"
   ]
  },
  {
   "cell_type": "code",
   "execution_count": 33,
   "metadata": {},
   "outputs": [
    {
     "name": "stdout",
     "output_type": "stream",
     "text": [
      "Request receives pizza = 211\n",
      "Request failed to predict receiving pizza = 198\n"
     ]
    }
   ],
   "source": [
    "print(\"Request receives pizza = {}\".format(np.sum(dev_labels)))\n",
    "print(\"Request failed to predict receiving pizza = {}\".format(np.sum(dev_labels[dev_labels != pred_dev_labels])))"
   ]
  },
  {
   "cell_type": "code",
   "execution_count": 34,
   "metadata": {},
   "outputs": [
    {
     "data": {
      "image/png": "[encoded data removed]",
      "text/plain": [
       "<matplotlib.figure.Figure at 0x1a216b3a20>"
      ]
     },
     "metadata": {},
     "output_type": "display_data"
    },
    {
     "data": {
      "text/plain": [
       "array([[592,   5],\n",
       "       [198,  13]])"
      ]
     },
     "execution_count": 34,
     "metadata": {},
     "output_type": "execute_result"
    }
   ],
   "source": [
    "plot_roc(dev_labels, pred_dev_prob)\n",
    "confusion_matrix(dev_labels, pred_dev_labels)"
   ]
  },
  {
   "cell_type": "markdown",
   "metadata": {},
   "source": [
    "## 2.3 Just Topics with NMF "
   ]
  },
  {
   "cell_type": "code",
   "execution_count": 389,
   "metadata": {},
   "outputs": [
    {
     "name": "stdout",
     "output_type": "stream",
     "text": [
      "training data shape: (3232,)\n",
      "dev data shape: (808,)\n"
     ]
    }
   ],
   "source": [
    "train_data = train_json_df.request_text_edit_aware.as_matrix()\n",
    "train_labels = train_json_df.requester_received_pizza.astype(int).as_matrix()\n",
    "\n",
    "train_data, dev_data, train_labels, dev_labels = \\\n",
    "            train_test_split(train_data, train_labels, test_size=0.2, random_state=42)\n",
    "    \n",
    "print('training data shape:', train_data.shape)\n",
    "print('dev data shape:', dev_data.shape)"
   ]
  },
  {
   "cell_type": "code",
   "execution_count": 390,
   "metadata": {
    "collapsed": true
   },
   "outputs": [],
   "source": [
    "TfidfTransformer;\n",
    "from sklearn.decomposition import NMF;\n",
    "from sklearn.preprocessing import normalize;\n",
    "import pandas as pd;\n",
    "\n",
    "vectorizer = CountVectorizer(analyzer='word', stop_words='english');\n",
    "train_bag_of_words = vectorizer.fit_transform(train_data);\n",
    "dev_bag_of_words = vectorizer.transform(dev_data)\n",
    "\n",
    "transformer = TfidfTransformer(smooth_idf=False, norm='l1');\n",
    "train_tfidf = transformer.fit_transform(train_bag_of_words);\n",
    "dev_tfidf = transformer.transform(dev_bag_of_words)"
   ]
  },
  {
   "cell_type": "code",
   "execution_count": 391,
   "metadata": {},
   "outputs": [
    {
     "data": {
      "text/plain": [
       "NMF(alpha=0.0, beta_loss='frobenius', init='nndsvd', l1_ratio=0.0,\n",
       "  max_iter=200, n_components=20, random_state=None, shuffle=False,\n",
       "  solver='cd', tol=0.0001, verbose=0)"
      ]
     },
     "execution_count": 391,
     "metadata": {},
     "output_type": "execute_result"
    }
   ],
   "source": [
    "num_topics=20\n",
    "model = NMF(n_components=num_topics, init='nndsvd');\n",
    "\n",
    "#fit the model\n",
    "model.fit(train_tfidf)"
   ]
  },
  {
   "cell_type": "code",
   "execution_count": 392,
   "metadata": {},
   "outputs": [
    {
     "data": {
      "text/html": [
       "<div>\n",
       "<style>\n",
       "    .dataframe thead tr:only-child th {\n",
       "        text-align: right;\n",
       "    }\n",
       "\n",
       "    .dataframe thead th {\n",
       "        text-align: left;\n",
       "    }\n",
       "\n",
       "    .dataframe tbody tr th {\n",
       "        vertical-align: top;\n",
       "    }\n",
       "</style>\n",
       "<table border=\"1\" class=\"dataframe\">\n",
       "  <thead>\n",
       "    <tr style=\"text-align: right;\">\n",
       "      <th></th>\n",
       "      <th>Topic # 01</th>\n",
       "      <th>Topic # 02</th>\n",
       "      <th>Topic # 03</th>\n",
       "      <th>Topic # 04</th>\n",
       "      <th>Topic # 05</th>\n",
       "      <th>Topic # 06</th>\n",
       "      <th>Topic # 07</th>\n",
       "      <th>Topic # 08</th>\n",
       "      <th>Topic # 09</th>\n",
       "      <th>Topic # 10</th>\n",
       "      <th>Topic # 11</th>\n",
       "      <th>Topic # 12</th>\n",
       "      <th>Topic # 13</th>\n",
       "      <th>Topic # 14</th>\n",
       "      <th>Topic # 15</th>\n",
       "      <th>Topic # 16</th>\n",
       "      <th>Topic # 17</th>\n",
       "      <th>Topic # 18</th>\n",
       "      <th>Topic # 19</th>\n",
       "      <th>Topic # 20</th>\n",
       "    </tr>\n",
       "  </thead>\n",
       "  <tbody>\n",
       "    <tr>\n",
       "      <th>0</th>\n",
       "      <td>money</td>\n",
       "      <td>pizza</td>\n",
       "      <td>thank</td>\n",
       "      <td>appreciated</td>\n",
       "      <td>love</td>\n",
       "      <td>hungry</td>\n",
       "      <td>buy</td>\n",
       "      <td>appreciate</td>\n",
       "      <td>thanks</td>\n",
       "      <td>edit</td>\n",
       "      <td>forward</td>\n",
       "      <td>eat</td>\n",
       "      <td>doing</td>\n",
       "      <td>california</td>\n",
       "      <td>just</td>\n",
       "      <td>generous</td>\n",
       "      <td>favor</td>\n",
       "      <td>test</td>\n",
       "      <td>halp</td>\n",
       "      <td>forever</td>\n",
       "    </tr>\n",
       "    <tr>\n",
       "      <th>1</th>\n",
       "      <td>food</td>\n",
       "      <td>like</td>\n",
       "      <td>consideration</td>\n",
       "      <td>greatly</td>\n",
       "      <td>pie</td>\n",
       "      <td>help</td>\n",
       "      <td>cheese</td>\n",
       "      <td>greatly</td>\n",
       "      <td>help</td>\n",
       "      <td>nevermind</td>\n",
       "      <td>pay</td>\n",
       "      <td>help</td>\n",
       "      <td>right</td>\n",
       "      <td>illustrator</td>\n",
       "      <td>want</td>\n",
       "      <td>pie</td>\n",
       "      <td>return</td>\n",
       "      <td>studying</td>\n",
       "      <td>liek</td>\n",
       "      <td>lt</td>\n",
       "    </tr>\n",
       "    <tr>\n",
       "      <th>2</th>\n",
       "      <td>really</td>\n",
       "      <td>good</td>\n",
       "      <td>reddit</td>\n",
       "      <td>reciprocated</td>\n",
       "      <td>family</td>\n",
       "      <td>student</td>\n",
       "      <td>people</td>\n",
       "      <td>really</td>\n",
       "      <td>redditors</td>\n",
       "      <td>location</td>\n",
       "      <td>ll</td>\n",
       "      <td>broke</td>\n",
       "      <td>tonight</td>\n",
       "      <td>adding</td>\n",
       "      <td>student</td>\n",
       "      <td>feeling</td>\n",
       "      <td>friday</td>\n",
       "      <td>nighter</td>\n",
       "      <td>college</td>\n",
       "      <td>ll</td>\n",
       "    </tr>\n",
       "    <tr>\n",
       "      <th>3</th>\n",
       "      <td>don</td>\n",
       "      <td>celebrate</td>\n",
       "      <td>hope</td>\n",
       "      <td>payed</td>\n",
       "      <td>wired</td>\n",
       "      <td>broke</td>\n",
       "      <td>works</td>\n",
       "      <td>college</td>\n",
       "      <td>yall</td>\n",
       "      <td>adding</td>\n",
       "      <td>asap</td>\n",
       "      <td>house</td>\n",
       "      <td>sure</td>\n",
       "      <td>location</td>\n",
       "      <td>college</td>\n",
       "      <td>amazing</td>\n",
       "      <td>says</td>\n",
       "      <td>pulling</td>\n",
       "      <td>pizzas</td>\n",
       "      <td>long</td>\n",
       "    </tr>\n",
       "    <tr>\n",
       "      <th>4</th>\n",
       "      <td>day</td>\n",
       "      <td>haven</td>\n",
       "      <td>guys</td>\n",
       "      <td>later</td>\n",
       "      <td>really</td>\n",
       "      <td>pretty</td>\n",
       "      <td>week</td>\n",
       "      <td>brother</td>\n",
       "      <td>advance</td>\n",
       "      <td>pie</td>\n",
       "      <td>means</td>\n",
       "      <td>boyfriend</td>\n",
       "      <td>ve</td>\n",
       "      <td>say</td>\n",
       "      <td>sob</td>\n",
       "      <td>cookout</td>\n",
       "      <td>title</td>\n",
       "      <td>awww</td>\n",
       "      <td>cook</td>\n",
       "      <td>friend</td>\n",
       "    </tr>\n",
       "    <tr>\n",
       "      <th>5</th>\n",
       "      <td>today</td>\n",
       "      <td>hut</td>\n",
       "      <td>pizzareceived</td>\n",
       "      <td>help</td>\n",
       "      <td>tonight</td>\n",
       "      <td>blasting</td>\n",
       "      <td>soul</td>\n",
       "      <td>thanks</td>\n",
       "      <td>lexically</td>\n",
       "      <td>spelling</td>\n",
       "      <td>money</td>\n",
       "      <td>year</td>\n",
       "      <td>craving</td>\n",
       "      <td>like</td>\n",
       "      <td>story</td>\n",
       "      <td>starving</td>\n",
       "      <td>person</td>\n",
       "      <td>promises</td>\n",
       "      <td>apartment</td>\n",
       "      <td>gonna</td>\n",
       "    </tr>\n",
       "    <tr>\n",
       "      <th>6</th>\n",
       "      <td>paid</td>\n",
       "      <td>craving</td>\n",
       "      <td>raop</td>\n",
       "      <td>max</td>\n",
       "      <td>sister</td>\n",
       "      <td>college</td>\n",
       "      <td>great</td>\n",
       "      <td>reading</td>\n",
       "      <td>mwaahhh</td>\n",
       "      <td>error</td>\n",
       "      <td>friday</td>\n",
       "      <td>poor</td>\n",
       "      <td>really</td>\n",
       "      <td>cool</td>\n",
       "      <td>craving</td>\n",
       "      <td>sir</td>\n",
       "      <td>reddit</td>\n",
       "      <td>pass</td>\n",
       "      <td>moved</td>\n",
       "      <td>com</td>\n",
       "    </tr>\n",
       "    <tr>\n",
       "      <th>7</th>\n",
       "      <td>job</td>\n",
       "      <td>really</td>\n",
       "      <td>advance</td>\n",
       "      <td>super</td>\n",
       "      <td>forever</td>\n",
       "      <td>music</td>\n",
       "      <td>hopefully</td>\n",
       "      <td>student</td>\n",
       "      <td>wa</td>\n",
       "      <td>imagine</td>\n",
       "      <td>paid</td>\n",
       "      <td>college</td>\n",
       "      <td>honesty</td>\n",
       "      <td>live</td>\n",
       "      <td>pie</td>\n",
       "      <td>redditor</td>\n",
       "      <td>random</td>\n",
       "      <td>use</td>\n",
       "      <td>recently</td>\n",
       "      <td>http</td>\n",
       "    </tr>\n",
       "    <tr>\n",
       "      <th>8</th>\n",
       "      <td>week</td>\n",
       "      <td>nice</td>\n",
       "      <td>suffolk</td>\n",
       "      <td>monies</td>\n",
       "      <td>gift</td>\n",
       "      <td>nice</td>\n",
       "      <td>advance</td>\n",
       "      <td>home</td>\n",
       "      <td>reading</td>\n",
       "      <td>night</td>\n",
       "      <td>week</td>\n",
       "      <td>today</td>\n",
       "      <td>visiting</td>\n",
       "      <td>hope</td>\n",
       "      <td>hut</td>\n",
       "      <td>looking</td>\n",
       "      <td>paid</td>\n",
       "      <td>yeah</td>\n",
       "      <td>know</td>\n",
       "      <td>imgur</td>\n",
       "    </tr>\n",
       "    <tr>\n",
       "      <th>9</th>\n",
       "      <td>work</td>\n",
       "      <td>cheese</td>\n",
       "      <td>hopefully</td>\n",
       "      <td>weeks</td>\n",
       "      <td>reading</td>\n",
       "      <td>say</td>\n",
       "      <td>coupon</td>\n",
       "      <td>dope</td>\n",
       "      <td>wants</td>\n",
       "      <td>bestow</td>\n",
       "      <td>possible</td>\n",
       "      <td>kids</td>\n",
       "      <td>awkward</td>\n",
       "      <td>im</td>\n",
       "      <td>say</td>\n",
       "      <td>offer</td>\n",
       "      <td>offer</td>\n",
       "      <td>tonight</td>\n",
       "      <td>don</td>\n",
       "      <td>guys</td>\n",
       "    </tr>\n",
       "    <tr>\n",
       "      <th>10</th>\n",
       "      <td>make</td>\n",
       "      <td>reddit</td>\n",
       "      <td>weeks</td>\n",
       "      <td>pulling</td>\n",
       "      <td>says</td>\n",
       "      <td>super</td>\n",
       "      <td>groceries</td>\n",
       "      <td>right</td>\n",
       "      <td>hoping</td>\n",
       "      <td>great</td>\n",
       "      <td>throwing</td>\n",
       "      <td>having</td>\n",
       "      <td>drastic</td>\n",
       "      <td>send</td>\n",
       "      <td>poor</td>\n",
       "      <td>nice</td>\n",
       "      <td>send</td>\n",
       "      <td>really</td>\n",
       "      <td>plaise</td>\n",
       "      <td>course</td>\n",
       "    </tr>\n",
       "    <tr>\n",
       "      <th>11</th>\n",
       "      <td>ve</td>\n",
       "      <td>family</td>\n",
       "      <td>nighters</td>\n",
       "      <td>nighter</td>\n",
       "      <td>action</td>\n",
       "      <td>sooooo</td>\n",
       "      <td>kind</td>\n",
       "      <td>picky</td>\n",
       "      <td>looking</td>\n",
       "      <td>forgot</td>\n",
       "      <td>happy</td>\n",
       "      <td>bad</td>\n",
       "      <td>live</td>\n",
       "      <td>tingling</td>\n",
       "      <td>got</td>\n",
       "      <td>afford</td>\n",
       "      <td>going</td>\n",
       "      <td>math</td>\n",
       "      <td>everybody</td>\n",
       "      <td>draw</td>\n",
       "    </tr>\n",
       "    <tr>\n",
       "      <th>12</th>\n",
       "      <td>broke</td>\n",
       "      <td>awesome</td>\n",
       "      <td>soul</td>\n",
       "      <td>paid</td>\n",
       "      <td>firehouse</td>\n",
       "      <td>im</td>\n",
       "      <td>able</td>\n",
       "      <td>roommates</td>\n",
       "      <td>got</td>\n",
       "      <td>wishes</td>\n",
       "      <td>title</td>\n",
       "      <td>grumbling</td>\n",
       "      <td>feel</td>\n",
       "      <td>milpitas</td>\n",
       "      <td>sad</td>\n",
       "      <td>today</td>\n",
       "      <td>guys</td>\n",
       "      <td>college</td>\n",
       "      <td>catch</td>\n",
       "      <td>night</td>\n",
       "    </tr>\n",
       "    <tr>\n",
       "      <th>13</th>\n",
       "      <td>friday</td>\n",
       "      <td>people</td>\n",
       "      <td>use</td>\n",
       "      <td>title</td>\n",
       "      <td>little</td>\n",
       "      <td>black</td>\n",
       "      <td>im</td>\n",
       "      <td>nighters</td>\n",
       "      <td>guys</td>\n",
       "      <td>usa</td>\n",
       "      <td>says</td>\n",
       "      <td>finished</td>\n",
       "      <td>sitting</td>\n",
       "      <td>ebt</td>\n",
       "      <td>special</td>\n",
       "      <td>soooo</td>\n",
       "      <td>course</td>\n",
       "      <td>study</td>\n",
       "      <td>breaking</td>\n",
       "      <td>savior</td>\n",
       "    </tr>\n",
       "    <tr>\n",
       "      <th>14</th>\n",
       "      <td>days</td>\n",
       "      <td>gift</td>\n",
       "      <td>ny</td>\n",
       "      <td>hugely</td>\n",
       "      <td>title</td>\n",
       "      <td>monies</td>\n",
       "      <td>unfortunately</td>\n",
       "      <td>super</td>\n",
       "      <td>pretty</td>\n",
       "      <td>surprised</td>\n",
       "      <td>paycheck</td>\n",
       "      <td>student</td>\n",
       "      <td>pockets</td>\n",
       "      <td>steaming</td>\n",
       "      <td>really</td>\n",
       "      <td>shopping</td>\n",
       "      <td>paycheck</td>\n",
       "      <td>finals</td>\n",
       "      <td>couch</td>\n",
       "      <td>grateful</td>\n",
       "    </tr>\n",
       "    <tr>\n",
       "      <th>15</th>\n",
       "      <td>time</td>\n",
       "      <td>cheer</td>\n",
       "      <td>responds</td>\n",
       "      <td>finals</td>\n",
       "      <td>pockets</td>\n",
       "      <td>money</td>\n",
       "      <td>second</td>\n",
       "      <td>hey</td>\n",
       "      <td>dinner</td>\n",
       "      <td>father</td>\n",
       "      <td>better</td>\n",
       "      <td>dinner</td>\n",
       "      <td>plans</td>\n",
       "      <td>cold</td>\n",
       "      <td>pizza</td>\n",
       "      <td>anybody</td>\n",
       "      <td>gladly</td>\n",
       "      <td>looking</td>\n",
       "      <td>starving</td>\n",
       "      <td>stomachs</td>\n",
       "    </tr>\n",
       "    <tr>\n",
       "      <th>16</th>\n",
       "      <td>help</td>\n",
       "      <td>right</td>\n",
       "      <td>try</td>\n",
       "      <td>noodles</td>\n",
       "      <td>meals</td>\n",
       "      <td>nom</td>\n",
       "      <td>forgot</td>\n",
       "      <td>spelling</td>\n",
       "      <td>low</td>\n",
       "      <td>trek</td>\n",
       "      <td>promise</td>\n",
       "      <td>raining</td>\n",
       "      <td>dinner</td>\n",
       "      <td>inbetween</td>\n",
       "      <td>packing</td>\n",
       "      <td>posting</td>\n",
       "      <td>payday</td>\n",
       "      <td>digestive</td>\n",
       "      <td>watching</td>\n",
       "      <td>mfm5b</td>\n",
       "    </tr>\n",
       "    <tr>\n",
       "      <th>17</th>\n",
       "      <td>like</td>\n",
       "      <td>use</td>\n",
       "      <td>kind</td>\n",
       "      <td>grearly</td>\n",
       "      <td>volunteer</td>\n",
       "      <td>food</td>\n",
       "      <td>30</td>\n",
       "      <td>imagine</td>\n",
       "      <td>mturk</td>\n",
       "      <td>star</td>\n",
       "      <td>request</td>\n",
       "      <td>tummy</td>\n",
       "      <td>promise</td>\n",
       "      <td>dublin</td>\n",
       "      <td>finals</td>\n",
       "      <td>addition</td>\n",
       "      <td>way</td>\n",
       "      <td>students</td>\n",
       "      <td>leave</td>\n",
       "      <td>paint</td>\n",
       "    </tr>\n",
       "    <tr>\n",
       "      <th>18</th>\n",
       "      <td>got</td>\n",
       "      <td>send</td>\n",
       "      <td>live</td>\n",
       "      <td>handstands</td>\n",
       "      <td>year</td>\n",
       "      <td>ll</td>\n",
       "      <td>helpful</td>\n",
       "      <td>kindness</td>\n",
       "      <td>cash</td>\n",
       "      <td>crazy</td>\n",
       "      <td>craving</td>\n",
       "      <td>dont</td>\n",
       "      <td>finished</td>\n",
       "      <td>dumps</td>\n",
       "      <td>kids</td>\n",
       "      <td>grateful</td>\n",
       "      <td>week</td>\n",
       "      <td>sob</td>\n",
       "      <td>trying</td>\n",
       "      <td>ms</td>\n",
       "    </tr>\n",
       "    <tr>\n",
       "      <th>19</th>\n",
       "      <td>house</td>\n",
       "      <td>charity</td>\n",
       "      <td>georgia</td>\n",
       "      <td>tomorrow</td>\n",
       "      <td>wanna</td>\n",
       "      <td>anymoney</td>\n",
       "      <td>dominoes</td>\n",
       "      <td>error</td>\n",
       "      <td>tonight</td>\n",
       "      <td>soul</td>\n",
       "      <td>feeling</td>\n",
       "      <td>going</td>\n",
       "      <td>fridge</td>\n",
       "      <td>happy</td>\n",
       "      <td>moved</td>\n",
       "      <td>super</td>\n",
       "      <td>cash</td>\n",
       "      <td>ass</td>\n",
       "      <td>im</td>\n",
       "      <td>desired</td>\n",
       "    </tr>\n",
       "  </tbody>\n",
       "</table>\n",
       "</div>"
      ],
      "text/plain": [
       "   Topic # 01 Topic # 02     Topic # 03    Topic # 04 Topic # 05 Topic # 06  \\\n",
       "0       money      pizza          thank   appreciated       love     hungry   \n",
       "1        food       like  consideration       greatly        pie       help   \n",
       "2      really       good         reddit  reciprocated     family    student   \n",
       "3         don  celebrate           hope         payed      wired      broke   \n",
       "4         day      haven           guys         later     really     pretty   \n",
       "5       today        hut  pizzareceived          help    tonight   blasting   \n",
       "6        paid    craving           raop           max     sister    college   \n",
       "7         job     really        advance         super    forever      music   \n",
       "8        week       nice        suffolk        monies       gift       nice   \n",
       "9        work     cheese      hopefully         weeks    reading        say   \n",
       "10       make     reddit          weeks       pulling       says      super   \n",
       "11         ve     family       nighters       nighter     action     sooooo   \n",
       "12      broke    awesome           soul          paid  firehouse         im   \n",
       "13     friday     people            use         title     little      black   \n",
       "14       days       gift             ny        hugely      title     monies   \n",
       "15       time      cheer       responds        finals    pockets      money   \n",
       "16       help      right            try       noodles      meals        nom   \n",
       "17       like        use           kind       grearly  volunteer       food   \n",
       "18        got       send           live    handstands       year         ll   \n",
       "19      house    charity        georgia      tomorrow      wanna   anymoney   \n",
       "\n",
       "       Topic # 07  Topic # 08 Topic # 09 Topic # 10 Topic # 11 Topic # 12  \\\n",
       "0             buy  appreciate     thanks       edit    forward        eat   \n",
       "1          cheese     greatly       help  nevermind        pay       help   \n",
       "2          people      really  redditors   location         ll      broke   \n",
       "3           works     college       yall     adding       asap      house   \n",
       "4            week     brother    advance        pie      means  boyfriend   \n",
       "5            soul      thanks  lexically   spelling      money       year   \n",
       "6           great     reading    mwaahhh      error     friday       poor   \n",
       "7       hopefully     student         wa    imagine       paid    college   \n",
       "8         advance        home    reading      night       week      today   \n",
       "9          coupon        dope      wants     bestow   possible       kids   \n",
       "10      groceries       right     hoping      great   throwing     having   \n",
       "11           kind       picky    looking     forgot      happy        bad   \n",
       "12           able   roommates        got     wishes      title  grumbling   \n",
       "13             im    nighters       guys        usa       says   finished   \n",
       "14  unfortunately       super     pretty  surprised   paycheck    student   \n",
       "15         second         hey     dinner     father     better     dinner   \n",
       "16         forgot    spelling        low       trek    promise    raining   \n",
       "17             30     imagine      mturk       star    request      tummy   \n",
       "18        helpful    kindness       cash      crazy    craving       dont   \n",
       "19       dominoes       error    tonight       soul    feeling      going   \n",
       "\n",
       "   Topic # 13   Topic # 14 Topic # 15 Topic # 16 Topic # 17 Topic # 18  \\\n",
       "0       doing   california       just   generous      favor       test   \n",
       "1       right  illustrator       want        pie     return   studying   \n",
       "2     tonight       adding    student    feeling     friday    nighter   \n",
       "3        sure     location    college    amazing       says    pulling   \n",
       "4          ve          say        sob    cookout      title       awww   \n",
       "5     craving         like      story   starving     person   promises   \n",
       "6      really         cool    craving        sir     reddit       pass   \n",
       "7     honesty         live        pie   redditor     random        use   \n",
       "8    visiting         hope        hut    looking       paid       yeah   \n",
       "9     awkward           im        say      offer      offer    tonight   \n",
       "10    drastic         send       poor       nice       send     really   \n",
       "11       live     tingling        got     afford      going       math   \n",
       "12       feel     milpitas        sad      today       guys    college   \n",
       "13    sitting          ebt    special      soooo     course      study   \n",
       "14    pockets     steaming     really   shopping   paycheck     finals   \n",
       "15      plans         cold      pizza    anybody     gladly    looking   \n",
       "16     dinner    inbetween    packing    posting     payday  digestive   \n",
       "17    promise       dublin     finals   addition        way   students   \n",
       "18   finished        dumps       kids   grateful       week        sob   \n",
       "19     fridge        happy      moved      super       cash        ass   \n",
       "\n",
       "   Topic # 19 Topic # 20  \n",
       "0        halp    forever  \n",
       "1        liek         lt  \n",
       "2     college         ll  \n",
       "3      pizzas       long  \n",
       "4        cook     friend  \n",
       "5   apartment      gonna  \n",
       "6       moved        com  \n",
       "7    recently       http  \n",
       "8        know      imgur  \n",
       "9         don       guys  \n",
       "10     plaise     course  \n",
       "11  everybody       draw  \n",
       "12      catch      night  \n",
       "13   breaking     savior  \n",
       "14      couch   grateful  \n",
       "15   starving   stomachs  \n",
       "16   watching      mfm5b  \n",
       "17      leave      paint  \n",
       "18     trying         ms  \n",
       "19         im    desired  "
      ]
     },
     "execution_count": 392,
     "metadata": {},
     "output_type": "execute_result"
    }
   ],
   "source": [
    "def get_topics(model, n_top_words):\n",
    "    \n",
    "    #the word ids obtained need to be reverse-mapped to the words so we can print the topic names.\n",
    "    feat_names = vectorizer.get_feature_names()\n",
    "    \n",
    "    word_dict = {};\n",
    "    for i in range(num_topics):\n",
    "        \n",
    "        #for each topic, obtain the largest values, and add the words they map to into the dictionary.\n",
    "        words_ids = model.components_[i].argsort()[:-20 - 1:-1]\n",
    "        words = [feat_names[key] for key in words_ids]\n",
    "        word_dict['Topic # ' + '{:02d}'.format(i+1)] = words;\n",
    "    \n",
    "    return pd.DataFrame(word_dict);\n",
    "get_topics(model, 20)"
   ]
  },
  {
   "cell_type": "code",
   "execution_count": 39,
   "metadata": {
    "collapsed": true
   },
   "outputs": [],
   "source": [
    "train_data_with_topics = model.transform(train_tfidf)\n",
    "dev_data_with_topics = model.transform(dev_tfidf)"
   ]
  },
  {
   "cell_type": "code",
   "execution_count": 40,
   "metadata": {},
   "outputs": [
    {
     "data": {
      "text/plain": [
       "array([], shape=(0, 20), dtype=float64)"
      ]
     },
     "execution_count": 40,
     "metadata": {},
     "output_type": "execute_result"
    }
   ],
   "source": [
    "dev_data_with_topics[[]]"
   ]
  },
  {
   "cell_type": "code",
   "execution_count": 41,
   "metadata": {},
   "outputs": [
    {
     "name": "stdout",
     "output_type": "stream",
     "text": [
      "success rate for topic #1 = 0.2311262376237624\n",
      "success rate for topic #2 = 0.18347772277227722\n",
      "success rate for topic #3 = 0.11695544554455446\n",
      "success rate for topic #4 = 0.10179455445544554\n",
      "success rate for topic #5 = 0.10798267326732673\n",
      "success rate for topic #6 = 0.11045792079207921\n",
      "success rate for topic #7 = 0.10426980198019802\n",
      "success rate for topic #8 = 0.10024752475247525\n",
      "success rate for topic #9 = 0.13675742574257427\n",
      "success rate for topic #10 = 0.14077970297029702\n",
      "success rate for topic #11 = 0.13521039603960397\n",
      "success rate for topic #12 = 0.12097772277227722\n",
      "success rate for topic #13 = 0.09034653465346534\n",
      "success rate for topic #14 = 0.08570544554455446\n",
      "success rate for topic #15 = 0.11231435643564357\n",
      "success rate for topic #16 = 0.08787128712871287\n",
      "success rate for topic #17 = 0.08106435643564357\n",
      "success rate for topic #18 = 0.0853960396039604\n",
      "success rate for topic #19 = 0.1630569306930693\n",
      "success rate for topic #20 = 0.08879950495049505\n"
     ]
    }
   ],
   "source": [
    "for i in range(0, num_topics, 1):\n",
    "    print(\"success rate for topic #{} = {}\".format(i+1, \\\n",
    "                                    np.sum(train_labels[train_data_with_topics[:, i] > 0])/train_labels.size))"
   ]
  },
  {
   "cell_type": "code",
   "execution_count": 48,
   "metadata": {},
   "outputs": [
    {
     "name": "stdout",
     "output_type": "stream",
     "text": [
      "{'C': 0.00050000000000000001}\n"
     ]
    },
    {
     "data": {
      "text/plain": [
       "0.51440456627529429"
      ]
     },
     "execution_count": 48,
     "metadata": {},
     "output_type": "execute_result"
    }
   ],
   "source": [
    "#just use the first 2 topics to classify\n",
    "\n",
    "lr = LogisticRegression()\n",
    "#parameters = {'C':[0.00001, 0.0001, 0.001, 0.01, 0.1, 1, 10, 100, 1000]}\n",
    "parameters = {'C':np.linspace(0.0005, 0.1, 100)}\n",
    "clf = GridSearchCV(lr, parameters)\n",
    "clf.fit(train_data_with_topics, train_labels)\n",
    "pred_dev_prob = clf.predict_proba(dev_data_with_topics)[:,1]\n",
    "pred_dev_labels = clf.predict(dev_data_with_topics)\n",
    "\n",
    "print(clf.best_params_)\n",
    "roc_auc_score(dev_labels, pred_dev_prob, average='micro')"
   ]
  },
  {
   "cell_type": "code",
   "execution_count": 49,
   "metadata": {},
   "outputs": [
    {
     "name": "stdout",
     "output_type": "stream",
     "text": [
      "Request receives pizza = 211\n",
      "Request failed to predict receiving pizza = 211\n"
     ]
    }
   ],
   "source": [
    "print(\"Request receives pizza = {}\".format(np.sum(dev_labels)))\n",
    "print(\"Request failed to predict receiving pizza = {}\".format(np.sum(dev_labels[dev_labels != pred_dev_labels])))"
   ]
  },
  {
   "cell_type": "code",
   "execution_count": 50,
   "metadata": {},
   "outputs": [
    {
     "data": {
      "image/png": "[encoded data removed]",
      "text/plain": [
       "<matplotlib.figure.Figure at 0x1a2433e0f0>"
      ]
     },
     "metadata": {},
     "output_type": "display_data"
    },
    {
     "data": {
      "text/plain": [
       "array([[597,   0],\n",
       "       [211,   0]])"
      ]
     },
     "execution_count": 50,
     "metadata": {},
     "output_type": "execute_result"
    }
   ],
   "source": [
    "plot_roc(dev_labels, pred_dev_prob)\n",
    "confusion_matrix(dev_labels, pred_dev_labels)"
   ]
  },
  {
   "cell_type": "markdown",
   "metadata": {},
   "source": [
    "## 2.3.1 Just Topics with LDA"
   ]
  },
  {
   "cell_type": "code",
   "execution_count": 395,
   "metadata": {},
   "outputs": [
    {
     "name": "stdout",
     "output_type": "stream",
     "text": [
      "training data shape: (3232, 18)\n",
      "dev data shape: (808, 18)\n"
     ]
    }
   ],
   "source": [
    "train_data = train_json_with_test_df\n",
    "train_labels = train_json_df.requester_received_pizza.astype(int).as_matrix()\n",
    "\n",
    "train_data, dev_data, train_labels, dev_labels = \\\n",
    "            train_test_split(train_data, train_labels, test_size=0.2, random_state=42)\n",
    "    \n",
    "print('training data shape:', train_data.shape)\n",
    "print('dev data shape:', dev_data.shape)"
   ]
  },
  {
   "cell_type": "code",
   "execution_count": 397,
   "metadata": {},
   "outputs": [
    {
     "name": "stderr",
     "output_type": "stream",
     "text": [
      "/Users/lauc136/anaconda3/lib/python3.6/site-packages/ipykernel/__main__.py:1: SettingWithCopyWarning: \n",
      "A value is trying to be set on a copy of a slice from a DataFrame.\n",
      "Try using .loc[row_indexer,col_indexer] = value instead\n",
      "\n",
      "See the caveats in the documentation: http://pandas.pydata.org/pandas-docs/stable/indexing.html#indexing-view-versus-copy\n",
      "  if __name__ == '__main__':\n",
      "/Users/lauc136/anaconda3/lib/python3.6/site-packages/ipykernel/__main__.py:2: SettingWithCopyWarning: \n",
      "A value is trying to be set on a copy of a slice from a DataFrame.\n",
      "Try using .loc[row_indexer,col_indexer] = value instead\n",
      "\n",
      "See the caveats in the documentation: http://pandas.pydata.org/pandas-docs/stable/indexing.html#indexing-view-versus-copy\n",
      "  from ipykernel import kernelapp as app\n"
     ]
    }
   ],
   "source": [
    "train_data['full_text'] = train_data['request_text_edit_aware'] + ' ' + train_data['request_title']\n",
    "dev_data['full_text'] = dev_data['request_text_edit_aware'] + ' ' + dev_data['request_title']\n",
    "        "
   ]
  },
  {
   "cell_type": "code",
   "execution_count": 398,
   "metadata": {},
   "outputs": [],
   "source": [
    "vectorizer_lda = CountVectorizer(min_df=10,ngram_range=(1,1), preprocessor=preprocessor,stop_words='english') \n",
    "lda_bag_of_words = vectorizer_lda.fit_transform(train_data['full_text'])\n",
    "lda_devbag_of_words = vectorizer_lda.transform(dev_data['full_text'])"
   ]
  },
  {
   "cell_type": "code",
   "execution_count": 399,
   "metadata": {
    "collapsed": true
   },
   "outputs": [],
   "source": [
    "from sklearn.decomposition import LatentDirichletAllocation as LDA\n",
    "\n",
    "num_topics=3\n",
    "lda = LDA(n_components=num_topics, learning_method=\"batch\", max_iter=30,learning_decay=.7, random_state=42)\n",
    "\n",
    "train_lda_topics = lda.fit_transform(lda_bag_of_words)\n",
    "dev_lda_topics=lda.transform(lda_devbag_of_words)\n"
   ]
  },
  {
   "cell_type": "code",
   "execution_count": 400,
   "metadata": {},
   "outputs": [
    {
     "data": {
      "text/html": [
       "<div>\n",
       "<style>\n",
       "    .dataframe thead tr:only-child th {\n",
       "        text-align: right;\n",
       "    }\n",
       "\n",
       "    .dataframe thead th {\n",
       "        text-align: left;\n",
       "    }\n",
       "\n",
       "    .dataframe tbody tr th {\n",
       "        vertical-align: top;\n",
       "    }\n",
       "</style>\n",
       "<table border=\"1\" class=\"dataframe\">\n",
       "  <thead>\n",
       "    <tr style=\"text-align: right;\">\n",
       "      <th></th>\n",
       "      <th>Topic # 01</th>\n",
       "      <th>Topic # 02</th>\n",
       "      <th>Topic # 03</th>\n",
       "    </tr>\n",
       "  </thead>\n",
       "  <tbody>\n",
       "    <tr>\n",
       "      <th>0</th>\n",
       "      <td>attending</td>\n",
       "      <td>aloud</td>\n",
       "      <td>attending</td>\n",
       "    </tr>\n",
       "    <tr>\n",
       "      <th>1</th>\n",
       "      <td>backwoods</td>\n",
       "      <td>afflicted</td>\n",
       "      <td>backwoods</td>\n",
       "    </tr>\n",
       "    <tr>\n",
       "      <th>2</th>\n",
       "      <td>altruistic</td>\n",
       "      <td>backwoods</td>\n",
       "      <td>afflicted</td>\n",
       "    </tr>\n",
       "    <tr>\n",
       "      <th>3</th>\n",
       "      <td>booted</td>\n",
       "      <td>accident</td>\n",
       "      <td>20euros</td>\n",
       "    </tr>\n",
       "    <tr>\n",
       "      <th>4</th>\n",
       "      <td>andy</td>\n",
       "      <td>borrowing</td>\n",
       "      <td>bitch</td>\n",
       "    </tr>\n",
       "    <tr>\n",
       "      <th>5</th>\n",
       "      <td>6months</td>\n",
       "      <td>bonded</td>\n",
       "      <td>airman</td>\n",
       "    </tr>\n",
       "    <tr>\n",
       "      <th>6</th>\n",
       "      <td>awkward</td>\n",
       "      <td>bowls</td>\n",
       "      <td>accident</td>\n",
       "    </tr>\n",
       "    <tr>\n",
       "      <th>7</th>\n",
       "      <td>bowls</td>\n",
       "      <td>altruistic</td>\n",
       "      <td>answer</td>\n",
       "    </tr>\n",
       "    <tr>\n",
       "      <th>8</th>\n",
       "      <td>antoons</td>\n",
       "      <td>appreciation</td>\n",
       "      <td>assistant</td>\n",
       "    </tr>\n",
       "    <tr>\n",
       "      <th>9</th>\n",
       "      <td>answer</td>\n",
       "      <td>appreciating</td>\n",
       "      <td>appreciating</td>\n",
       "    </tr>\n",
       "    <tr>\n",
       "      <th>10</th>\n",
       "      <td>blacklight</td>\n",
       "      <td>4chan</td>\n",
       "      <td>best</td>\n",
       "    </tr>\n",
       "    <tr>\n",
       "      <th>11</th>\n",
       "      <td>ace</td>\n",
       "      <td>assistant</td>\n",
       "      <td>altruistic</td>\n",
       "    </tr>\n",
       "    <tr>\n",
       "      <th>12</th>\n",
       "      <td>benjaminbexson</td>\n",
       "      <td>addicts</td>\n",
       "      <td>awkward</td>\n",
       "    </tr>\n",
       "    <tr>\n",
       "      <th>13</th>\n",
       "      <td>ambulatory</td>\n",
       "      <td>blacklight</td>\n",
       "      <td>borrowing</td>\n",
       "    </tr>\n",
       "    <tr>\n",
       "      <th>14</th>\n",
       "      <td>bragging</td>\n",
       "      <td>attending</td>\n",
       "      <td>4chan</td>\n",
       "    </tr>\n",
       "    <tr>\n",
       "      <th>15</th>\n",
       "      <td>areas</td>\n",
       "      <td>awkward</td>\n",
       "      <td>11p</td>\n",
       "    </tr>\n",
       "    <tr>\n",
       "      <th>16</th>\n",
       "      <td>afflicted</td>\n",
       "      <td>bitch</td>\n",
       "      <td>asleep</td>\n",
       "    </tr>\n",
       "    <tr>\n",
       "      <th>17</th>\n",
       "      <td>4chan</td>\n",
       "      <td>30hrs</td>\n",
       "      <td>bleh</td>\n",
       "    </tr>\n",
       "    <tr>\n",
       "      <th>18</th>\n",
       "      <td>bitching</td>\n",
       "      <td>anime</td>\n",
       "      <td>accomplished</td>\n",
       "    </tr>\n",
       "    <tr>\n",
       "      <th>19</th>\n",
       "      <td>agencies</td>\n",
       "      <td>1800</td>\n",
       "      <td>3000</td>\n",
       "    </tr>\n",
       "  </tbody>\n",
       "</table>\n",
       "</div>"
      ],
      "text/plain": [
       "        Topic # 01    Topic # 02    Topic # 03\n",
       "0        attending         aloud     attending\n",
       "1        backwoods     afflicted     backwoods\n",
       "2       altruistic     backwoods     afflicted\n",
       "3           booted      accident       20euros\n",
       "4             andy     borrowing         bitch\n",
       "5          6months        bonded        airman\n",
       "6          awkward         bowls      accident\n",
       "7            bowls    altruistic        answer\n",
       "8          antoons  appreciation     assistant\n",
       "9           answer  appreciating  appreciating\n",
       "10      blacklight         4chan          best\n",
       "11             ace     assistant    altruistic\n",
       "12  benjaminbexson       addicts       awkward\n",
       "13      ambulatory    blacklight     borrowing\n",
       "14        bragging     attending         4chan\n",
       "15           areas       awkward           11p\n",
       "16       afflicted         bitch        asleep\n",
       "17           4chan         30hrs          bleh\n",
       "18        bitching         anime  accomplished\n",
       "19        agencies          1800          3000"
      ]
     },
     "execution_count": 400,
     "metadata": {},
     "output_type": "execute_result"
    }
   ],
   "source": [
    "get_topics(lda, 20)"
   ]
  },
  {
   "cell_type": "code",
   "execution_count": 401,
   "metadata": {},
   "outputs": [
    {
     "name": "stdout",
     "output_type": "stream",
     "text": [
      "{'C': 0.00050000000000000001}\n"
     ]
    },
    {
     "data": {
      "text/plain": [
       "0.56182174696547504"
      ]
     },
     "execution_count": 401,
     "metadata": {},
     "output_type": "execute_result"
    }
   ],
   "source": [
    "lr = LogisticRegression()\n",
    "#parameters = {'C':[0.00001, 0.0001, 0.001, 0.01, 0.1, 1, 10, 100, 1000]}\n",
    "parameters = {'C':np.linspace(0.0005, 0.1, 100)}\n",
    "clf = GridSearchCV(lr, parameters)\n",
    "clf.fit(train_lda_topics, train_labels)\n",
    "pred_dev_prob = clf.predict_proba(dev_lda_topics)[:,1]\n",
    "pred_dev_labels = clf.predict(dev_lda_topics)\n",
    "\n",
    "print(clf.best_params_)\n",
    "roc_auc_score(dev_labels, pred_dev_prob, average='micro')"
   ]
  },
  {
   "cell_type": "code",
   "execution_count": 402,
   "metadata": {},
   "outputs": [
    {
     "name": "stdout",
     "output_type": "stream",
     "text": [
      "Request receives pizza = 211\n",
      "Request failed to predict receiving pizza = 211\n"
     ]
    }
   ],
   "source": [
    "print(\"Request receives pizza = {}\".format(np.sum(dev_labels)))\n",
    "print(\"Request failed to predict receiving pizza = {}\".format(np.sum(dev_labels[dev_labels != pred_dev_labels])))"
   ]
  },
  {
   "cell_type": "code",
   "execution_count": 403,
   "metadata": {},
   "outputs": [
    {
     "data": {
      "image/png": "[encoded data removed]",
      "text/plain": [
       "<matplotlib.figure.Figure at 0x1a20652f98>"
      ]
     },
     "metadata": {},
     "output_type": "display_data"
    },
    {
     "data": {
      "text/plain": [
       "array([[597,   0],\n",
       "       [211,   0]])"
      ]
     },
     "execution_count": 403,
     "metadata": {},
     "output_type": "execute_result"
    }
   ],
   "source": [
    "plot_roc(dev_labels, pred_dev_prob)\n",
    "confusion_matrix(dev_labels, pred_dev_labels)"
   ]
  },
  {
   "cell_type": "markdown",
   "metadata": {},
   "source": [
    "## 2.4 Just Topics (from the Stanford Paper)"
   ]
  },
  {
   "cell_type": "code",
   "execution_count": 51,
   "metadata": {},
   "outputs": [
    {
     "name": "stdout",
     "output_type": "stream",
     "text": [
      "training data shape: (3232, 32)\n",
      "dev data shape: (808, 32)\n"
     ]
    }
   ],
   "source": [
    "train_data = train_json_df\n",
    "train_labels = train_json_df.requester_received_pizza.astype(int).as_matrix()\n",
    "\n",
    "train_data, dev_data, train_labels, dev_labels = \\\n",
    "            train_test_split(train_data, train_labels, test_size=0.2, random_state=42)\n",
    "    \n",
    "print('training data shape:', train_data.shape)\n",
    "print('dev data shape:', dev_data.shape)\n"
   ]
  },
  {
   "cell_type": "code",
   "execution_count": 52,
   "metadata": {},
   "outputs": [
    {
     "name": "stderr",
     "output_type": "stream",
     "text": [
      "/Users/lauc136/anaconda3/lib/python3.6/site-packages/ipykernel/__main__.py:36: SettingWithCopyWarning: \n",
      "A value is trying to be set on a copy of a slice from a DataFrame.\n",
      "Try using .loc[row_indexer,col_indexer] = value instead\n",
      "\n",
      "See the caveats in the documentation: http://pandas.pydata.org/pandas-docs/stable/indexing.html#indexing-view-versus-copy\n"
     ]
    }
   ],
   "source": [
    "train_topic_features = construct_topic_features(train_data)\n",
    "dev_topic_features = construct_topic_features(dev_data)\n",
    "\n"
   ]
  },
  {
   "cell_type": "code",
   "execution_count": 53,
   "metadata": {},
   "outputs": [
    {
     "name": "stdout",
     "output_type": "stream",
     "text": [
      "{'C': 1e-06}\n"
     ]
    },
    {
     "data": {
      "text/plain": [
       "0.60391610501163007"
      ]
     },
     "execution_count": 53,
     "metadata": {},
     "output_type": "execute_result"
    }
   ],
   "source": [
    "lr = LogisticRegression(tol=0.01)\n",
    "parameters = {'C':[0.000001, 0.00001, 0.01, 0.1, 1]}\n",
    "clf = GridSearchCV(lr, parameters)\n",
    "clf.fit(train_topic_features, train_labels)\n",
    "pred_dev_prob = clf.predict_proba(dev_topic_features)[:,0]\n",
    "pred_dev_labels = clf.predict(dev_topic_features)\n",
    "\n",
    "print(clf.best_params_)\n",
    "roc_auc_score(dev_labels, pred_dev_prob, average='micro')"
   ]
  },
  {
   "cell_type": "code",
   "execution_count": 54,
   "metadata": {},
   "outputs": [
    {
     "name": "stdout",
     "output_type": "stream",
     "text": [
      "Request receives pizza = 211\n",
      "Request failed to predict receiving pizza = 211\n"
     ]
    }
   ],
   "source": [
    "print(\"Request receives pizza = {}\".format(np.sum(dev_labels)))\n",
    "print(\"Request failed to predict receiving pizza = {}\".format(np.sum(dev_labels[dev_labels != pred_dev_labels])))"
   ]
  },
  {
   "cell_type": "code",
   "execution_count": 55,
   "metadata": {},
   "outputs": [
    {
     "data": {
      "image/png": "[encoded data removed]",
      "text/plain": [
       "<matplotlib.figure.Figure at 0x1a242b7e10>"
      ]
     },
     "metadata": {},
     "output_type": "display_data"
    },
    {
     "data": {
      "text/plain": [
       "array([[597,   0],\n",
       "       [211,   0]])"
      ]
     },
     "execution_count": 55,
     "metadata": {},
     "output_type": "execute_result"
    }
   ],
   "source": [
    "plot_roc(dev_labels, pred_dev_prob)\n",
    "confusion_matrix(dev_labels, pred_dev_labels)"
   ]
  },
  {
   "cell_type": "markdown",
   "metadata": {},
   "source": [
    "## 2.5 Just Non-Text Features (from the Stanford Paper)"
   ]
  },
  {
   "cell_type": "code",
   "execution_count": 56,
   "metadata": {},
   "outputs": [
    {
     "name": "stdout",
     "output_type": "stream",
     "text": [
      "training data shape: (3232, 32)\n",
      "dev data shape: (808, 32)\n"
     ]
    }
   ],
   "source": [
    "train_data = train_json_df\n",
    "train_labels = train_json_df.requester_received_pizza.astype(int).as_matrix()\n",
    "\n",
    "train_data, dev_data, train_labels, dev_labels = \\\n",
    "            train_test_split(train_data, train_labels, test_size=0.2, random_state=42)\n",
    "    \n",
    "print('training data shape:', train_data.shape)\n",
    "print('dev data shape:', dev_data.shape)"
   ]
  },
  {
   "cell_type": "code",
   "execution_count": 57,
   "metadata": {
    "collapsed": true
   },
   "outputs": [],
   "source": [
    "train_features = construct_features(train_data)\n",
    "dev_features = construct_features(dev_data)"
   ]
  },
  {
   "cell_type": "code",
   "execution_count": 58,
   "metadata": {},
   "outputs": [
    {
     "name": "stdout",
     "output_type": "stream",
     "text": [
      "{'C': 0.20909090909090911}\n"
     ]
    },
    {
     "data": {
      "text/plain": [
       "0.66926655393873002"
      ]
     },
     "execution_count": 58,
     "metadata": {},
     "output_type": "execute_result"
    }
   ],
   "source": [
    "lr = LogisticRegression(tol=0.01)\n",
    "#parameters = {'C':[0.0001, 0.001, 0.01, 0.1, 1]}\n",
    "parameters = {'C':np.linspace(0.05, 0.5, 100)}\n",
    "clf = GridSearchCV(lr, parameters)\n",
    "clf.fit(train_features, train_labels)\n",
    "pred_dev_prob = clf.predict_proba(dev_features)[:,1]\n",
    "pred_dev_labels = clf.predict(dev_features)\n",
    "\n",
    "print(clf.best_params_)\n",
    "roc_auc_score(dev_labels, pred_dev_prob, average='micro')"
   ]
  },
  {
   "cell_type": "code",
   "execution_count": 59,
   "metadata": {},
   "outputs": [
    {
     "name": "stdout",
     "output_type": "stream",
     "text": [
      "Request receives pizza = 211\n",
      "Request failed to predict receiving pizza = 200\n"
     ]
    }
   ],
   "source": [
    "print(\"Request receives pizza = {}\".format(np.sum(dev_labels)))\n",
    "print(\"Request failed to predict receiving pizza = {}\".format(np.sum(dev_labels[dev_labels != pred_dev_labels])))"
   ]
  },
  {
   "cell_type": "code",
   "execution_count": 60,
   "metadata": {},
   "outputs": [
    {
     "data": {
      "image/png": "[encoded data removed]",
      "text/plain": [
       "<matplotlib.figure.Figure at 0x1a246d9550>"
      ]
     },
     "metadata": {},
     "output_type": "display_data"
    },
    {
     "data": {
      "text/plain": [
       "array([[593,   4],\n",
       "       [200,  11]])"
      ]
     },
     "execution_count": 60,
     "metadata": {},
     "output_type": "execute_result"
    }
   ],
   "source": [
    "plot_roc(dev_labels, pred_dev_prob)\n",
    "confusion_matrix(dev_labels, pred_dev_labels)"
   ]
  },
  {
   "cell_type": "markdown",
   "metadata": {},
   "source": [
    "## 2.6 Topics + Bag of Words (from the Stanford Paper)"
   ]
  },
  {
   "cell_type": "code",
   "execution_count": 61,
   "metadata": {},
   "outputs": [
    {
     "name": "stdout",
     "output_type": "stream",
     "text": [
      "training data shape: (3232, 32)\n",
      "dev data shape: (808, 32)\n"
     ]
    }
   ],
   "source": [
    "train_data = train_json_df\n",
    "train_labels = train_json_df.requester_received_pizza.astype(int).as_matrix()\n",
    "\n",
    "train_data, dev_data, train_labels, dev_labels = \\\n",
    "            train_test_split(train_data, train_labels, test_size=0.2, random_state=42)\n",
    "    \n",
    "print('training data shape:', train_data.shape)\n",
    "print('dev data shape:', dev_data.shape)"
   ]
  },
  {
   "cell_type": "code",
   "execution_count": 62,
   "metadata": {},
   "outputs": [
    {
     "name": "stderr",
     "output_type": "stream",
     "text": [
      "/Users/lauc136/anaconda3/lib/python3.6/site-packages/ipykernel/__main__.py:36: SettingWithCopyWarning: \n",
      "A value is trying to be set on a copy of a slice from a DataFrame.\n",
      "Try using .loc[row_indexer,col_indexer] = value instead\n",
      "\n",
      "See the caveats in the documentation: http://pandas.pydata.org/pandas-docs/stable/indexing.html#indexing-view-versus-copy\n"
     ]
    }
   ],
   "source": [
    "train_topic_features = construct_topic_features(train_data)\n",
    "dev_topic_features = construct_topic_features(dev_data)\n"
   ]
  },
  {
   "cell_type": "code",
   "execution_count": 63,
   "metadata": {
    "collapsed": true
   },
   "outputs": [],
   "source": [
    "vectorizer = TfidfVectorizer(min_df=5,ngram_range=(1,2), preprocessor=preprocessor,stop_words='english',norm='l2',sublinear_tf=True) \n",
    "train_bag_of_words = vectorizer.fit_transform(train_data['full_text'])\n",
    "dev_bag_of_words = vectorizer.transform(dev_data['full_text'])"
   ]
  },
  {
   "cell_type": "code",
   "execution_count": 64,
   "metadata": {
    "collapsed": true
   },
   "outputs": [],
   "source": [
    "train_features = hstack([train_topic_features, train_bag_of_words])\n",
    "dev_features = hstack([dev_topic_features, dev_bag_of_words])"
   ]
  },
  {
   "cell_type": "code",
   "execution_count": 65,
   "metadata": {},
   "outputs": [
    {
     "name": "stdout",
     "output_type": "stream",
     "text": [
      "{'C': 0.0001}\n"
     ]
    },
    {
     "data": {
      "text/plain": [
       "0.60415823191788331"
      ]
     },
     "execution_count": 65,
     "metadata": {},
     "output_type": "execute_result"
    }
   ],
   "source": [
    "lr = LogisticRegression(tol=0.01)\n",
    "parameters = {'C':[0.0001, 0.001, 0.01, 0.1, 1]}\n",
    "#parameters = {'C':np.linspace(0.05, 0.5, 100)}\n",
    "clf = GridSearchCV(lr, parameters)\n",
    "clf.fit(train_features, train_labels)\n",
    "pred_dev_prob = clf.predict_proba(dev_features)[:,0]\n",
    "pred_dev_labels = clf.predict(dev_features)\n",
    "\n",
    "print(clf.best_params_)\n",
    "roc_auc_score(dev_labels, pred_dev_prob, average='micro')"
   ]
  },
  {
   "cell_type": "code",
   "execution_count": 66,
   "metadata": {},
   "outputs": [
    {
     "name": "stdout",
     "output_type": "stream",
     "text": [
      "Request receives pizza = 211\n",
      "Request failed to predict receiving pizza = 211\n"
     ]
    }
   ],
   "source": [
    "print(\"Request receives pizza = {}\".format(np.sum(dev_labels)))\n",
    "print(\"Request failed to predict receiving pizza = {}\".format(np.sum(dev_labels[dev_labels != pred_dev_labels])))"
   ]
  },
  {
   "cell_type": "code",
   "execution_count": 67,
   "metadata": {},
   "outputs": [
    {
     "data": {
      "image/png": "[encoded data removed]",
      "text/plain": [
       "<matplotlib.figure.Figure at 0x1a21e5cf60>"
      ]
     },
     "metadata": {},
     "output_type": "display_data"
    },
    {
     "data": {
      "text/plain": [
       "array([[597,   0],\n",
       "       [211,   0]])"
      ]
     },
     "execution_count": 67,
     "metadata": {},
     "output_type": "execute_result"
    }
   ],
   "source": [
    "plot_roc(dev_labels, pred_dev_prob)\n",
    "confusion_matrix(dev_labels, pred_dev_labels)"
   ]
  },
  {
   "cell_type": "markdown",
   "metadata": {},
   "source": [
    "## 2.7 Non-Text Features + Topics (from the Stanford Paper)"
   ]
  },
  {
   "cell_type": "code",
   "execution_count": 68,
   "metadata": {},
   "outputs": [
    {
     "name": "stdout",
     "output_type": "stream",
     "text": [
      "training data shape: (3232, 32)\n",
      "dev data shape: (808, 32)\n"
     ]
    }
   ],
   "source": [
    "train_data = train_json_df\n",
    "train_labels = train_json_df.requester_received_pizza.astype(int).as_matrix()\n",
    "\n",
    "train_data, dev_data, train_labels, dev_labels = \\\n",
    "            train_test_split(train_data, train_labels, test_size=0.2, random_state=42)\n",
    "    \n",
    "print('training data shape:', train_data.shape)\n",
    "print('dev data shape:', dev_data.shape)"
   ]
  },
  {
   "cell_type": "code",
   "execution_count": 69,
   "metadata": {},
   "outputs": [
    {
     "name": "stderr",
     "output_type": "stream",
     "text": [
      "/Users/lauc136/anaconda3/lib/python3.6/site-packages/ipykernel/__main__.py:36: SettingWithCopyWarning: \n",
      "A value is trying to be set on a copy of a slice from a DataFrame.\n",
      "Try using .loc[row_indexer,col_indexer] = value instead\n",
      "\n",
      "See the caveats in the documentation: http://pandas.pydata.org/pandas-docs/stable/indexing.html#indexing-view-versus-copy\n"
     ]
    }
   ],
   "source": [
    "train_topic_features = construct_topic_features(train_data)\n",
    "dev_topic_features = construct_topic_features(dev_data)\n"
   ]
  },
  {
   "cell_type": "code",
   "execution_count": 70,
   "metadata": {
    "collapsed": true
   },
   "outputs": [],
   "source": [
    "train_other_features = construct_features(train_data)\n",
    "dev_other_features = construct_features(dev_data)"
   ]
  },
  {
   "cell_type": "code",
   "execution_count": 71,
   "metadata": {
    "collapsed": true
   },
   "outputs": [],
   "source": [
    "train_features = hstack([train_other_features, train_topic_features])\n",
    "dev_features = hstack([dev_other_features, dev_topic_features])"
   ]
  },
  {
   "cell_type": "code",
   "execution_count": 72,
   "metadata": {},
   "outputs": [
    {
     "name": "stdout",
     "output_type": "stream",
     "text": [
      "{'C': 0.14999999999999999}\n"
     ]
    },
    {
     "data": {
      "text/plain": [
       "0.68208737208951553"
      ]
     },
     "execution_count": 72,
     "metadata": {},
     "output_type": "execute_result"
    }
   ],
   "source": [
    "lr = LogisticRegression(tol=0.01)\n",
    "#parameters = {'C':[0.0001, 0.001, 0.01, 0.1, 1]}\n",
    "parameters = {'C':np.linspace(0.05, 0.5, 100)}\n",
    "clf = GridSearchCV(lr, parameters)\n",
    "clf.fit(train_features, train_labels)\n",
    "pred_dev_prob = clf.predict_proba(dev_features)[:,1]\n",
    "pred_dev_labels = clf.predict(dev_features)\n",
    "\n",
    "print(clf.best_params_)\n",
    "roc_auc_score(dev_labels, pred_dev_prob, average='micro')"
   ]
  },
  {
   "cell_type": "code",
   "execution_count": 73,
   "metadata": {},
   "outputs": [
    {
     "name": "stdout",
     "output_type": "stream",
     "text": [
      "Request receives pizza = 211\n",
      "Request failed to predict receiving pizza = 189\n"
     ]
    }
   ],
   "source": [
    "print(\"Request receives pizza = {}\".format(np.sum(dev_labels)))\n",
    "print(\"Request failed to predict receiving pizza = {}\".format(np.sum(dev_labels[dev_labels != pred_dev_labels])))"
   ]
  },
  {
   "cell_type": "code",
   "execution_count": 74,
   "metadata": {},
   "outputs": [
    {
     "data": {
      "image/png": "[encoded data removed]",
      "text/plain": [
       "<matplotlib.figure.Figure at 0x1a242b7710>"
      ]
     },
     "metadata": {},
     "output_type": "display_data"
    },
    {
     "data": {
      "text/plain": [
       "array([[589,   8],\n",
       "       [189,  22]])"
      ]
     },
     "execution_count": 74,
     "metadata": {},
     "output_type": "execute_result"
    }
   ],
   "source": [
    "plot_roc(dev_labels, pred_dev_prob)\n",
    "confusion_matrix(dev_labels, pred_dev_labels)"
   ]
  },
  {
   "cell_type": "markdown",
   "metadata": {},
   "source": [
    "## 2.8 Non-Text Features + Topics + Bag Of Words (from the Stanford Paper)"
   ]
  },
  {
   "cell_type": "code",
   "execution_count": 75,
   "metadata": {},
   "outputs": [
    {
     "name": "stdout",
     "output_type": "stream",
     "text": [
      "training data shape: (3232, 32)\n",
      "dev data shape: (808, 32)\n"
     ]
    }
   ],
   "source": [
    "train_data = train_json_df\n",
    "train_labels = train_json_df.requester_received_pizza.astype(int).as_matrix()\n",
    "\n",
    "train_data, dev_data, train_labels, dev_labels = \\\n",
    "            train_test_split(train_data, train_labels, test_size=0.2, random_state=42)\n",
    "    \n",
    "print('training data shape:', train_data.shape)\n",
    "print('dev data shape:', dev_data.shape)"
   ]
  },
  {
   "cell_type": "code",
   "execution_count": 76,
   "metadata": {},
   "outputs": [
    {
     "name": "stderr",
     "output_type": "stream",
     "text": [
      "/Users/lauc136/anaconda3/lib/python3.6/site-packages/ipykernel/__main__.py:36: SettingWithCopyWarning: \n",
      "A value is trying to be set on a copy of a slice from a DataFrame.\n",
      "Try using .loc[row_indexer,col_indexer] = value instead\n",
      "\n",
      "See the caveats in the documentation: http://pandas.pydata.org/pandas-docs/stable/indexing.html#indexing-view-versus-copy\n"
     ]
    }
   ],
   "source": [
    "train_topic_features = construct_topic_features(train_data)\n",
    "dev_topic_features = construct_topic_features(dev_data)\n"
   ]
  },
  {
   "cell_type": "code",
   "execution_count": 77,
   "metadata": {
    "collapsed": true
   },
   "outputs": [],
   "source": [
    "train_other_features = construct_features(train_data)\n",
    "dev_other_features = construct_features(dev_data)"
   ]
  },
  {
   "cell_type": "code",
   "execution_count": 78,
   "metadata": {
    "collapsed": true
   },
   "outputs": [],
   "source": [
    "vectorizer = TfidfVectorizer(min_df=5,ngram_range=(1,2), preprocessor=preprocessor,stop_words='english',norm='l2',sublinear_tf=True) \n",
    "train_bag_of_words = vectorizer.fit_transform(train_data['full_text'])\n",
    "dev_bag_of_words = vectorizer.transform(dev_data['full_text'])"
   ]
  },
  {
   "cell_type": "code",
   "execution_count": 80,
   "metadata": {},
   "outputs": [],
   "source": [
    "train_features = hstack([train_other_features, train_topic_features, train_bag_of_words])\n",
    "dev_features = hstack([dev_other_features, dev_topic_features, dev_bag_of_words])"
   ]
  },
  {
   "cell_type": "code",
   "execution_count": 81,
   "metadata": {},
   "outputs": [
    {
     "name": "stdout",
     "output_type": "stream",
     "text": [
      "{'C': 1.0454545454545454}\n"
     ]
    },
    {
     "data": {
      "text/plain": [
       "0.68046393102955538"
      ]
     },
     "execution_count": 81,
     "metadata": {},
     "output_type": "execute_result"
    }
   ],
   "source": [
    "lr = LogisticRegression(tol=0.01)\n",
    "#parameters = {'C':[0.01, 0.1, 1, 10, 100]}\n",
    "parameters = {'C':np.linspace(0.5, 5, 100)}\n",
    "clf = GridSearchCV(lr, parameters)\n",
    "clf.fit(train_features, train_labels)\n",
    "pred_dev_prob = clf.predict_proba(dev_features)[:,1]\n",
    "pred_dev_labels = clf.predict(dev_features)\n",
    "\n",
    "print(clf.best_params_)\n",
    "roc_auc_score(dev_labels, pred_dev_prob, average='micro')"
   ]
  },
  {
   "cell_type": "code",
   "execution_count": 82,
   "metadata": {},
   "outputs": [
    {
     "name": "stdout",
     "output_type": "stream",
     "text": [
      "Request receives pizza = 211\n",
      "Request failed to predict receiving pizza = 180\n"
     ]
    }
   ],
   "source": [
    "print(\"Request receives pizza = {}\".format(np.sum(dev_labels)))\n",
    "print(\"Request failed to predict receiving pizza = {}\".format(np.sum(dev_labels[dev_labels != pred_dev_labels])))"
   ]
  },
  {
   "cell_type": "code",
   "execution_count": 83,
   "metadata": {},
   "outputs": [
    {
     "data": {
      "image/png": "[encoded data removed]",
      "text/plain": [
       "<matplotlib.figure.Figure at 0x1a2b1aa908>"
      ]
     },
     "metadata": {},
     "output_type": "display_data"
    },
    {
     "data": {
      "text/plain": [
       "array([[580,  17],\n",
       "       [180,  31]])"
      ]
     },
     "execution_count": 83,
     "metadata": {},
     "output_type": "execute_result"
    }
   ],
   "source": [
    "plot_roc(dev_labels, pred_dev_prob)\n",
    "confusion_matrix(dev_labels, pred_dev_labels)"
   ]
  },
  {
   "cell_type": "markdown",
   "metadata": {},
   "source": [
    "## 2.8 More Non-Text Features "
   ]
  },
  {
   "cell_type": "code",
   "execution_count": 84,
   "metadata": {},
   "outputs": [
    {
     "name": "stdout",
     "output_type": "stream",
     "text": [
      "training data shape: (3232, 32)\n",
      "dev data shape: (808, 32)\n"
     ]
    }
   ],
   "source": [
    "train_data = train_json_df\n",
    "train_labels = train_json_df.requester_received_pizza.astype(int).as_matrix()\n",
    "\n",
    "train_data, dev_data, train_labels, dev_labels = \\\n",
    "            train_test_split(train_data, train_labels, test_size=0.2, random_state=42)\n",
    "    \n",
    "print('training data shape:', train_data.shape)\n",
    "print('dev data shape:', dev_data.shape)"
   ]
  },
  {
   "cell_type": "code",
   "execution_count": 85,
   "metadata": {
    "collapsed": true
   },
   "outputs": [],
   "source": [
    "def time_of_day(s):\n",
    "    if s > 5 and s <= 12:\n",
    "        return \"morning\"\n",
    "    elif s > 12 and s <= 18:\n",
    "        return \"afternoon\"\n",
    "    elif s > 18 and s <= 23:\n",
    "        return \"night\"\n",
    "    else:\n",
    "        return \"latenight\"\n",
    "    \n",
    "    \n",
    "def day_of_week(s):\n",
    "    if s >= 0 and s <= 3:\n",
    "        return \"weekday\"\n",
    "    else:\n",
    "        return \"weekend\"\n",
    "    \n",
    "def season(month):\n",
    "    if month>=3 and month<=5:\n",
    "        return \"spring\"\n",
    "    elif month>=6 and month <=8:\n",
    "        return \"summer\"\n",
    "    elif month>=9 and month <=11:\n",
    "        return \"fall\"\n",
    "    else:\n",
    "        return \"winter\""
   ]
  },
  {
   "cell_type": "code",
   "execution_count": 86,
   "metadata": {
    "collapsed": true
   },
   "outputs": [],
   "source": [
    "def construct_more_features(data):\n",
    "\n",
    "    features=construct_features(data)\n",
    "    \n",
    "    # additional non-text features\n",
    "    features['spring'] = ((pd.to_datetime(data['unix_timestamp_of_request_utc'],unit = 's')).dt.month.apply(season) == \"spring\").astype(int) \n",
    "    features['summer'] = ((pd.to_datetime(data['unix_timestamp_of_request_utc'],unit = 's')).dt.month.apply(season) == \"summer\").astype(int)\n",
    "    features['fall'] = ((pd.to_datetime(data['unix_timestamp_of_request_utc'],unit = 's')).dt.month.apply(season) == \"fall\").astype(int)\n",
    "    features['winter'] = ((pd.to_datetime(data['unix_timestamp_of_request_utc'],unit = 's')).dt.month.apply(season) == \"winter\").astype(int)\n",
    "        \n",
    "\n",
    "    features['posted_before_more']= (data['requester_number_of_posts_at_request'] > 100).astype(int)\n",
    "    features['comments'] = (data['requester_number_of_comments_at_request'] > 20).astype(int)\n",
    "    features['raop_comments'] = (data['requester_number_of_comments_in_raop_at_request'] > 10).astype(int)\n",
    "    features['posted_in_raop_before_more']= (data['requester_number_of_posts_on_raop_at_request'] > 3).astype(int)\n",
    "    \n",
    "    #features['upvotes_minus_downvotes']= data['requester_upvotes_minus_downvotes_at_request'] > \n",
    "    #features['upvotes_plus_downvotes_at_request']=np.log(train_data['requester_upvotes_plus_downvotes_at_request']+1)\n",
    "    #upvotes=data.apply(lambda row: (row['requester_upvotes_plus_downvotes_at_request'] + row['requester_upvotes_minus_downvotes_at_request'])/2,axis=1)\n",
    "    #downvotes=data.apply(lambda row: (row['requester_upvotes_plus_downvotes_at_request']- row['requester_upvotes_minus_downvotes_at_request'])/2,axis=1)\n",
    "    #features['vote_ratio']=upvotes/(upvotes+downvotes+1)\n",
    "    \n",
    "    return features"
   ]
  },
  {
   "cell_type": "code",
   "execution_count": 87,
   "metadata": {
    "collapsed": true
   },
   "outputs": [],
   "source": [
    "train_features = construct_more_features(train_data)\n",
    "dev_features = construct_more_features(dev_data)"
   ]
  },
  {
   "cell_type": "code",
   "execution_count": 88,
   "metadata": {},
   "outputs": [
    {
     "name": "stdout",
     "output_type": "stream",
     "text": [
      "{'C': 0.22272727272727272}\n"
     ]
    },
    {
     "data": {
      "text/plain": [
       "0.68074972016480495"
      ]
     },
     "execution_count": 88,
     "metadata": {},
     "output_type": "execute_result"
    }
   ],
   "source": [
    "lr = LogisticRegression(tol=0.01)\n",
    "#parameters = {'C':[0.0001, 0.001, 0.01, 0.1, 1]}\n",
    "parameters = {'C':np.linspace(0.05, 0.5, 100)}\n",
    "clf = GridSearchCV(lr, parameters)\n",
    "clf.fit(train_features, train_labels)\n",
    "pred_dev_prob = clf.predict_proba(dev_features)[:,1]\n",
    "pred_dev_labels = clf.predict(dev_features)\n",
    "\n",
    "print(clf.best_params_)\n",
    "roc_auc_score(dev_labels, pred_dev_prob, average='micro')"
   ]
  },
  {
   "cell_type": "code",
   "execution_count": 89,
   "metadata": {},
   "outputs": [
    {
     "name": "stdout",
     "output_type": "stream",
     "text": [
      "Request receives pizza = 211\n",
      "Request failed to predict receiving pizza = 191\n"
     ]
    }
   ],
   "source": [
    "print(\"Request receives pizza = {}\".format(np.sum(dev_labels)))\n",
    "print(\"Request failed to predict receiving pizza = {}\".format(np.sum(dev_labels[dev_labels != pred_dev_labels])))"
   ]
  },
  {
   "cell_type": "code",
   "execution_count": 90,
   "metadata": {},
   "outputs": [
    {
     "data": {
      "image/png": "[encoded data removed]",
      "text/plain": [
       "<matplotlib.figure.Figure at 0x1a341a59e8>"
      ]
     },
     "metadata": {},
     "output_type": "display_data"
    },
    {
     "data": {
      "text/plain": [
       "array([[592,   5],\n",
       "       [191,  20]])"
      ]
     },
     "execution_count": 90,
     "metadata": {},
     "output_type": "execute_result"
    }
   ],
   "source": [
    "plot_roc(dev_labels, pred_dev_prob)\n",
    "confusion_matrix(dev_labels, pred_dev_labels)"
   ]
  },
  {
   "cell_type": "markdown",
   "metadata": {
    "collapsed": true
   },
   "source": [
    "## 2.9 More Non-Text Features + + Topics + Bag Of Words "
   ]
  },
  {
   "cell_type": "code",
   "execution_count": 267,
   "metadata": {},
   "outputs": [
    {
     "name": "stdout",
     "output_type": "stream",
     "text": [
      "training data shape: (3232, 18)\n",
      "dev data shape: (808, 18)\n"
     ]
    }
   ],
   "source": [
    "train_data = train_json_with_test_df\n",
    "train_labels = train_json_df.requester_received_pizza.astype(int).as_matrix()\n",
    "\n",
    "train_data, dev_data, train_labels, dev_labels = \\\n",
    "            train_test_split(train_data, train_labels, test_size=0.2, random_state=42)\n",
    "    \n",
    "print('training data shape:', train_data.shape)\n",
    "print('dev data shape:', dev_data.shape)"
   ]
  },
  {
   "cell_type": "code",
   "execution_count": 268,
   "metadata": {
    "collapsed": true
   },
   "outputs": [],
   "source": [
    "def time_of_day(s):\n",
    "    if s > 5 and s <= 12:\n",
    "        return \"morning\"\n",
    "    elif s > 12 and s <= 18:\n",
    "        return \"afternoon\"\n",
    "    elif s > 18 and s <= 23:\n",
    "        return \"night\"\n",
    "    else:\n",
    "        return \"latenight\"\n",
    "    \n",
    "    \n",
    "def day_of_week(s):\n",
    "    if s >= 0 and s <= 3:\n",
    "        return \"weekday\"\n",
    "    else:\n",
    "        return \"weekend\"\n",
    "    \n",
    "def season(month):\n",
    "    if month>=3 and month<=5:\n",
    "        return \"spring\"\n",
    "    elif month>=6 and month <=8:\n",
    "        return \"summer\"\n",
    "    elif month>=9 and month <=11:\n",
    "        return \"fall\"\n",
    "    else:\n",
    "        return \"winter\""
   ]
  },
  {
   "cell_type": "code",
   "execution_count": 340,
   "metadata": {
    "collapsed": true
   },
   "outputs": [],
   "source": [
    "def construct_more_features(data):\n",
    "\n",
    "    features=construct_features(data)\n",
    "    \n",
    "    # additional non-text features\n",
    "    features['spring'] = ((pd.to_datetime(data['unix_timestamp_of_request_utc'],unit = 's')).dt.month.apply(season) == \"spring\").astype(int) \n",
    "    features['summer'] = ((pd.to_datetime(data['unix_timestamp_of_request_utc'],unit = 's')).dt.month.apply(season) == \"summer\").astype(int)\n",
    "    features['fall'] = ((pd.to_datetime(data['unix_timestamp_of_request_utc'],unit = 's')).dt.month.apply(season) == \"fall\").astype(int)\n",
    "    features['winter'] = ((pd.to_datetime(data['unix_timestamp_of_request_utc'],unit = 's')).dt.month.apply(season) == \"winter\").astype(int)\n",
    "        \n",
    "\n",
    "    features['posted_before_more']= (data['requester_number_of_posts_at_request'] > 100).astype(int)\n",
    "    features['comments'] = (data['requester_number_of_comments_at_request'] > 20).astype(int)\n",
    "    features['raop_comments'] = (data['requester_number_of_comments_in_raop_at_request'] > 10).astype(int)\n",
    "    features['posted_in_raop_before_more']= (data['requester_number_of_posts_on_raop_at_request'] > 3).astype(int)\n",
    "    \n",
    "    #features['requester_days_since_first_post_on_raop_at_request'] = (data['requester_days_since_first_post_on_raop_at_request'] > 100).astype(int)\n",
    "    \n",
    "    #features['upvotes_minus_downvotes']= data['requester_upvotes_minus_downvotes_at_request'] > \n",
    "    #features['upvotes_plus_downvotes_at_request']=np.log(train_data['requester_upvotes_plus_downvotes_at_request']+1)\n",
    "    #upvotes=data.apply(lambda row: (row['requester_upvotes_plus_downvotes_at_request'] + row['requester_upvotes_minus_downvotes_at_request'])/2,axis=1)\n",
    "    #downvotes=data.apply(lambda row: (row['requester_upvotes_plus_downvotes_at_request']- row['requester_upvotes_minus_downvotes_at_request'])/2,axis=1)\n",
    "    #features['vote_ratio']=upvotes/(upvotes+downvotes+1)\n",
    "    \n",
    "    return features"
   ]
  },
  {
   "cell_type": "code",
   "execution_count": 341,
   "metadata": {},
   "outputs": [
    {
     "name": "stderr",
     "output_type": "stream",
     "text": [
      "/Users/lauc136/anaconda3/lib/python3.6/site-packages/ipykernel/__main__.py:36: SettingWithCopyWarning: \n",
      "A value is trying to be set on a copy of a slice from a DataFrame.\n",
      "Try using .loc[row_indexer,col_indexer] = value instead\n",
      "\n",
      "See the caveats in the documentation: http://pandas.pydata.org/pandas-docs/stable/indexing.html#indexing-view-versus-copy\n"
     ]
    }
   ],
   "source": [
    "train_topic_features = construct_topic_features(train_data)\n",
    "dev_topic_features = construct_topic_features(dev_data)\n",
    "\n"
   ]
  },
  {
   "cell_type": "code",
   "execution_count": 342,
   "metadata": {
    "collapsed": true
   },
   "outputs": [],
   "source": [
    "train_other_features = construct_more_features(train_data)\n",
    "dev_other_features = construct_more_features(dev_data)"
   ]
  },
  {
   "cell_type": "code",
   "execution_count": 343,
   "metadata": {},
   "outputs": [],
   "source": [
    "vectorizer = TfidfVectorizer(min_df=5,ngram_range=(1,2), preprocessor=preprocessor,stop_words='english',norm='l2',sublinear_tf=True)\n",
    "train_bag_of_words = vectorizer.fit_transform(train_data['full_text'])\n",
    "dev_bag_of_words = vectorizer.transform(dev_data['full_text'])"
   ]
  },
  {
   "cell_type": "code",
   "execution_count": 344,
   "metadata": {},
   "outputs": [],
   "source": [
    "train_features = hstack([train_other_features, train_topic_features, train_bag_of_words])\n",
    "dev_features = hstack([dev_other_features, dev_topic_features, dev_bag_of_words])"
   ]
  },
  {
   "cell_type": "code",
   "execution_count": 345,
   "metadata": {},
   "outputs": [
    {
     "name": "stdout",
     "output_type": "stream",
     "text": [
      "{'C': 0.3545454545454545}\n"
     ]
    },
    {
     "data": {
      "text/plain": [
       "0.69834956774393298"
      ]
     },
     "execution_count": 345,
     "metadata": {},
     "output_type": "execute_result"
    }
   ],
   "source": [
    "lr = LogisticRegression(tol=0.01)\n",
    "#parameters = {'C':[0.01, 0.1, 1, 10, 100]}\n",
    "parameters = {'C':np.linspace(0.1, 1, 100)}\n",
    "clf = GridSearchCV(lr, parameters)\n",
    "clf.fit(train_features, train_labels)\n",
    "pred_dev_prob = clf.predict_proba(dev_features)[:,1]\n",
    "pred_dev_labels = clf.predict(dev_features)\n",
    "\n",
    "print(clf.best_params_)\n",
    "roc_auc_score(dev_labels, pred_dev_prob, average='micro')"
   ]
  },
  {
   "cell_type": "code",
   "execution_count": 346,
   "metadata": {},
   "outputs": [
    {
     "name": "stdout",
     "output_type": "stream",
     "text": [
      "Request receives pizza = 211\n",
      "Request failed to predict receiving pizza = 178\n"
     ]
    }
   ],
   "source": [
    "print(\"Request receives pizza = {}\".format(np.sum(dev_labels)))\n",
    "print(\"Request failed to predict receiving pizza = {}\".format(np.sum(dev_labels[dev_labels != pred_dev_labels])))"
   ]
  },
  {
   "cell_type": "code",
   "execution_count": 347,
   "metadata": {},
   "outputs": [
    {
     "data": {
      "image/png": "[encoded data removed]",
      "text/plain": [
       "<matplotlib.figure.Figure at 0x1a218a07f0>"
      ]
     },
     "metadata": {},
     "output_type": "display_data"
    },
    {
     "data": {
      "text/plain": [
       "array([[584,  13],\n",
       "       [178,  33]])"
      ]
     },
     "execution_count": 347,
     "metadata": {},
     "output_type": "execute_result"
    }
   ],
   "source": [
    "plot_roc(dev_labels, pred_dev_prob)\n",
    "confusion_matrix(dev_labels, pred_dev_labels)"
   ]
  },
  {
   "cell_type": "markdown",
   "metadata": {},
   "source": [
    "## 2.10 More Non-Text Features + Topics + Bag Of Words + LDA Topics "
   ]
  },
  {
   "cell_type": "code",
   "execution_count": null,
   "metadata": {
    "collapsed": true
   },
   "outputs": [],
   "source": [
    "train_data = train_json_with_test_df\n",
    "train_labels = train_json_df.requester_received_pizza.astype(int).as_matrix()\n",
    "\n",
    "train_data, dev_data, train_labels, dev_labels = \\\n",
    "            train_test_split(train_data, train_labels, test_size=0.2, random_state=42)\n",
    "    \n",
    "print('training data shape:', train_data.shape)\n",
    "print('dev data shape:', dev_data.shape)"
   ]
  },
  {
   "cell_type": "code",
   "execution_count": 348,
   "metadata": {},
   "outputs": [
    {
     "name": "stderr",
     "output_type": "stream",
     "text": [
      "/Users/lauc136/anaconda3/lib/python3.6/site-packages/ipykernel/__main__.py:36: SettingWithCopyWarning: \n",
      "A value is trying to be set on a copy of a slice from a DataFrame.\n",
      "Try using .loc[row_indexer,col_indexer] = value instead\n",
      "\n",
      "See the caveats in the documentation: http://pandas.pydata.org/pandas-docs/stable/indexing.html#indexing-view-versus-copy\n"
     ]
    }
   ],
   "source": [
    "train_topic_features = construct_topic_features(train_data)\n",
    "dev_topic_features = construct_topic_features(dev_data)"
   ]
  },
  {
   "cell_type": "code",
   "execution_count": 349,
   "metadata": {
    "collapsed": true
   },
   "outputs": [],
   "source": [
    "train_other_features = construct_more_features(train_data)\n",
    "dev_other_features = construct_more_features(dev_data)"
   ]
  },
  {
   "cell_type": "code",
   "execution_count": 350,
   "metadata": {
    "collapsed": true
   },
   "outputs": [],
   "source": [
    "vectorizer = TfidfVectorizer(min_df=5,ngram_range=(1,2), preprocessor=preprocessor,stop_words='english',norm='l2',sublinear_tf=True)\n",
    "train_bag_of_words = vectorizer.fit_transform(train_data['full_text'])\n",
    "dev_bag_of_words = vectorizer.transform(dev_data['full_text'])"
   ]
  },
  {
   "cell_type": "code",
   "execution_count": 351,
   "metadata": {},
   "outputs": [],
   "source": [
    "vectorizer_lda = CountVectorizer(min_df=10,ngram_range=(1,1), preprocessor=preprocessor,stop_words='english') \n",
    "lda_bag_of_words = vectorizer_lda.fit_transform(train_data['full_text'])\n",
    "lda_devbag_of_words = vectorizer_lda.transform(dev_data['full_text'])"
   ]
  },
  {
   "cell_type": "code",
   "execution_count": 352,
   "metadata": {
    "collapsed": true
   },
   "outputs": [],
   "source": [
    "from sklearn.decomposition import LatentDirichletAllocation as LDA\n",
    "lda = LDA(n_components=3, learning_method=\"batch\", max_iter=30,learning_decay=.7, random_state=42)\n",
    "\n",
    "train_lda_topics = lda.fit_transform(lda_bag_of_words)\n",
    "dev_lda_topics=lda.transform(lda_devbag_of_words)\n",
    "\n",
    "train_features = hstack([train_other_features, train_topic_features, train_lda_topics, train_bag_of_words])\n",
    "dev_features = hstack([dev_other_features, dev_topic_features, dev_lda_topics, dev_bag_of_words])"
   ]
  },
  {
   "cell_type": "code",
   "execution_count": 353,
   "metadata": {},
   "outputs": [
    {
     "name": "stdout",
     "output_type": "stream",
     "text": [
      "{'C': 0.23636363636363636}\n"
     ]
    },
    {
     "data": {
      "text/plain": [
       "0.70081052974191649"
      ]
     },
     "execution_count": 353,
     "metadata": {},
     "output_type": "execute_result"
    }
   ],
   "source": [
    "lr = LogisticRegression(tol=0.01)\n",
    "#parameters = {'C':[0.01, 0.1, 1, 10, 100]}\n",
    "parameters = {'C':np.linspace(0.1, 1, 100)}\n",
    "clf = GridSearchCV(lr, parameters)\n",
    "clf.fit(train_features, train_labels)\n",
    "pred_dev_prob = clf.predict_proba(dev_features)[:,1]\n",
    "pred_dev_labels = clf.predict(dev_features)\n",
    "\n",
    "print(clf.best_params_)\n",
    "roc_auc_score(dev_labels, pred_dev_prob, average='micro')"
   ]
  },
  {
   "cell_type": "code",
   "execution_count": 354,
   "metadata": {},
   "outputs": [
    {
     "name": "stdout",
     "output_type": "stream",
     "text": [
      "Request receives pizza = 211\n",
      "Request failed to predict receiving pizza = 181\n"
     ]
    }
   ],
   "source": [
    "print(\"Request receives pizza = {}\".format(np.sum(dev_labels)))\n",
    "print(\"Request failed to predict receiving pizza = {}\".format(np.sum(dev_labels[dev_labels != pred_dev_labels])))"
   ]
  },
  {
   "cell_type": "code",
   "execution_count": 355,
   "metadata": {},
   "outputs": [
    {
     "data": {
      "image/png": "[encoded data removed]",
      "text/plain": [
       "<matplotlib.figure.Figure at 0x1a1e889f28>"
      ]
     },
     "metadata": {},
     "output_type": "display_data"
    },
    {
     "data": {
      "text/plain": [
       "array([[586,  11],\n",
       "       [181,  30]])"
      ]
     },
     "execution_count": 355,
     "metadata": {},
     "output_type": "execute_result"
    }
   ],
   "source": [
    "plot_roc(dev_labels, pred_dev_prob)\n",
    "confusion_matrix(dev_labels, pred_dev_labels)"
   ]
  },
  {
   "cell_type": "code",
   "execution_count": null,
   "metadata": {
    "collapsed": true
   },
   "outputs": [],
   "source": []
  },
  {
   "cell_type": "code",
   "execution_count": null,
   "metadata": {
    "collapsed": true
   },
   "outputs": [],
   "source": []
  },
  {
   "cell_type": "code",
   "execution_count": null,
   "metadata": {
    "collapsed": true
   },
   "outputs": [],
   "source": []
  },
  {
   "cell_type": "code",
   "execution_count": null,
   "metadata": {
    "collapsed": true
   },
   "outputs": [],
   "source": []
  },
  {
   "cell_type": "code",
   "execution_count": null,
   "metadata": {
    "collapsed": true
   },
   "outputs": [],
   "source": []
  },
  {
   "cell_type": "code",
   "execution_count": null,
   "metadata": {
    "collapsed": true
   },
   "outputs": [],
   "source": []
  },
  {
   "cell_type": "code",
   "execution_count": null,
   "metadata": {
    "collapsed": true
   },
   "outputs": [],
   "source": []
  },
  {
   "cell_type": "code",
   "execution_count": null,
   "metadata": {
    "collapsed": true
   },
   "outputs": [],
   "source": []
  },
  {
   "cell_type": "code",
   "execution_count": null,
   "metadata": {
    "collapsed": true
   },
   "outputs": [],
   "source": []
  },
  {
   "cell_type": "markdown",
   "metadata": {},
   "source": [
    "# 3.0 Try to augment the dataset to balance the 2 classes"
   ]
  },
  {
   "cell_type": "code",
   "execution_count": 405,
   "metadata": {},
   "outputs": [
    {
     "name": "stdout",
     "output_type": "stream",
     "text": [
      "training data shape: (3232, 18)\n",
      "dev data shape: (808, 18)\n"
     ]
    }
   ],
   "source": [
    "train_data = train_json_with_test_df\n",
    "train_labels = train_json_df.requester_received_pizza.astype(int).as_matrix()\n",
    "\n",
    "train_data, dev_data, train_labels, dev_labels = \\\n",
    "            train_test_split(train_data, train_labels, test_size=0.2, random_state=42)\n",
    "    \n",
    "print('training data shape:', train_data.shape)\n",
    "print('dev data shape:', dev_data.shape)"
   ]
  },
  {
   "cell_type": "code",
   "execution_count": 406,
   "metadata": {
    "collapsed": true
   },
   "outputs": [],
   "source": [
    "train_other_features = construct_more_features(train_data)\n",
    "dev_other_features = construct_more_features(dev_data)"
   ]
  },
  {
   "cell_type": "code",
   "execution_count": 409,
   "metadata": {},
   "outputs": [
    {
     "name": "stderr",
     "output_type": "stream",
     "text": [
      "/Users/lauc136/anaconda3/lib/python3.6/site-packages/ipykernel/__main__.py:1: SettingWithCopyWarning: \n",
      "A value is trying to be set on a copy of a slice from a DataFrame.\n",
      "Try using .loc[row_indexer,col_indexer] = value instead\n",
      "\n",
      "See the caveats in the documentation: http://pandas.pydata.org/pandas-docs/stable/indexing.html#indexing-view-versus-copy\n",
      "  if __name__ == '__main__':\n",
      "/Users/lauc136/anaconda3/lib/python3.6/site-packages/ipykernel/__main__.py:2: SettingWithCopyWarning: \n",
      "A value is trying to be set on a copy of a slice from a DataFrame.\n",
      "Try using .loc[row_indexer,col_indexer] = value instead\n",
      "\n",
      "See the caveats in the documentation: http://pandas.pydata.org/pandas-docs/stable/indexing.html#indexing-view-versus-copy\n",
      "  from ipykernel import kernelapp as app\n"
     ]
    }
   ],
   "source": [
    "train_data['full_text'] = train_data['request_text_edit_aware'] + ' ' + train_data['request_title']\n",
    "dev_data['full_text'] = dev_data['request_text_edit_aware'] + ' ' + dev_data['request_title']\n",
    "       "
   ]
  },
  {
   "cell_type": "code",
   "execution_count": 418,
   "metadata": {},
   "outputs": [],
   "source": [
    "# mean for each non-text feature that receives pizza \n",
    "other_features_mean = train_other_features[train_labels == 1].mean()\n",
    "other_features_std = train_other_features[train_labels == 1].std()\n",
    "\n",
    "mean_text_len = train_data[train_labels == 1]['full_text'].apply(lambda x: len(x.split())).mean()\n",
    "std_text_len = train_data[train_labels == 1]['full_text'].apply(lambda x: len(x.split())).std()\n",
    "\n",
    "mean_utc_time = train_data[train_labels == 1]['unix_timestamp_of_request_utc'].mean()\n",
    "std_utc_time = train_data[train_labels == 1]['unix_timestamp_of_request_utc'].std()\n",
    "\n",
    "mean_posted_in_raop_before = train_data[train_labels == 1]['requester_number_of_posts_on_raop_at_request'].mean()\n",
    "std_posted_in_raop_before = train_data[train_labels == 1]['requester_number_of_posts_on_raop_at_request'].std()\n"
   ]
  },
  {
   "cell_type": "code",
   "execution_count": 415,
   "metadata": {},
   "outputs": [],
   "source": [
    "vectorizer = CountVectorizer(min_df = 2, ngram_range=(1,1), preprocessor=preprocessor,stop_words='english')\n",
    "train_bag_of_words = vectorizer.fit_transform(train_data.full_text)\n",
    "dev_bag_of_words = vectorizer.transform(dev_data.full_text)"
   ]
  },
  {
   "cell_type": "code",
   "execution_count": 419,
   "metadata": {},
   "outputs": [
    {
     "ename": "IndentationError",
     "evalue": "unexpected indent (<ipython-input-419-5db40f289ff3>, line 26)",
     "output_type": "error",
     "traceback": [
      "\u001b[0;36m  File \u001b[0;32m\"<ipython-input-419-5db40f289ff3>\"\u001b[0;36m, line \u001b[0;32m26\u001b[0m\n\u001b[0;31m    include_image = np.random.choice(2, 1, p = [1-other_features_mean.include_image, other_features_mean.include_image])[0]\u001b[0m\n\u001b[0m    ^\u001b[0m\n\u001b[0;31mIndentationError\u001b[0m\u001b[0;31m:\u001b[0m unexpected indent\n"
     ]
    }
   ],
   "source": [
    "augment_sample_size = 1000\n",
    "\n",
    "# probability for bag of words\n",
    "nb = MultinomialNB()\n",
    "nb.fit(train_bag_of_words, train_labels)\n",
    "\n",
    "prob = np.zeros(nb.feature_log_prob_.shape)\n",
    "\n",
    "for i in range(nb.feature_log_prob_.shape[0]): \n",
    "    for j in range(nb.feature_log_prob_.shape[1]):\n",
    "        prob[i,j] = np.exp(nb.feature_log_prob_[i][j])\n",
    "\n",
    "\n",
    "# generate new samples\n",
    "new_train_other = pd.DataFrame(columns = ['community_age', 'first_half_of_month', 'gratitude', 'include_image', \\\n",
    "                                         'reciprocity', 'len_request', 'karma', 'posted_in_raop_before', \\\n",
    "                                         'posted_before', ])\n",
    "new_train_text = pd.DataFrame(columns = ['request_text_edit_aware'])\n",
    "\n",
    "\n",
    "for i in range(augment_sample_size):\n",
    "    \n",
    "    # generate other features\n",
    "    community_age = int(other_features_std.community_age * np.random.rand() + other_features_mean.community_age)\n",
    "    first_half_of_month = np.random.choice(2, 1, p = [1-other_features_mean.first_half_of_month, other_features_mean.first_half_of_month])[0]\n",
    "\n",
    "gratitude = np.random.choice(2, 1, p = [1-other_features_mean.gratitude, other_features_mean.gratitude])[0]\n",
    "    include_image = np.random.choice(2, 1, p = [1-other_features_mean.include_image, other_features_mean.include_image])[0]\n",
    "reciprocity = np.random.choice(2, 1, p = [1-other_features_mean.reciprocity, other_features_mean.reciprocity])[0]\n",
    "    \n",
    "    length = int(std_text_len * np.random.rand() + mean_text_len)\n",
    "    len_request = int(length > 100)\n",
    "    karma = int(other_features_std.karma * np.random.rand() + other_features_mean.karma)\n",
    "    \n",
    "    requester_number_of_posts_on_raop_at_request = int(std_posted_in_raop_before * np.random.rand() + mean_posted_in_raop_before)\n",
    "    posted_in_raop_before = int(requester_number_of_posts_on_raop_at_request > 0)\n",
    "    \n",
    "    posted_before = np.random.choice(2, 1, p = [1-other_features_mean.posted_before, other_features_mean.posted_before])[0]\n",
    "    \n",
    "    \n",
    "    # additional non-text features\n",
    "    utc = int(std_utc_time * np.random.rand() + mean_utc_time)\n",
    "    spring =\n",
    "    \n",
    "    \n",
    "    features['spring'] = ((pd.to_datetime(utc,unit = 's')).dt.month.apply(season) == \"spring\").astype(int) \n",
    "    features['summer'] = ((pd.to_datetime(utc,unit = 's')).dt.month.apply(season) == \"summer\").astype(int)\n",
    "    features['fall'] = ((pd.to_datetime(utc,unit = 's')).dt.month.apply(season) == \"fall\").astype(int)\n",
    "    features['winter'] = ((pd.to_datetime(utc,unit = 's')).dt.month.apply(season) == \"winter\").astype(int)\n",
    "        \n",
    "\n",
    "    posted_before_more = np.random.choice(2, 1, p = [1-other_features_mean.requester_number_of_posts_at_request, \\\n",
    "                                                     other_features_mean.requester_number_of_posts_at_request])[0]   \n",
    "    \n",
    "    comments = np.random.choice(2, 1, p = [1-other_features_mean.requester_number_of_comments_at_request, \\\n",
    "                                           other_features_mean.requester_number_of_comments_at_request])[0] \n",
    "    \n",
    "    raop_comments = np.random.choice(2, 1, p = [1-other_features_mean.requester_number_of_comments_in_raop_at_request, \\\n",
    "                                           other_features_mean.requester_number_of_comments_in_raop_at_request])[0] \n",
    "    \n",
    "    posted_in_raop_before_more = int(requester_number_of_posts_on_raop_at_request > 3)\n",
    "    \n",
    "\n",
    "    \n",
    "    \n",
    "    \n",
    "    new_train_other.loc[i] = [community_age, first_half_of_month, gratitude, include_image, \\\n",
    "                                reciprocity, len_request, karma, posted_in_raop_before, \\\n",
    "                                posted_before, money, work, college, family, friend]\n",
    "    \n",
    "    # generate text\n",
    "    new_text = []\n",
    "    for j in np.random.choice(len(vectorizer.vocabulary_), size=length, p=prob[1,:]):\n",
    "        new_text.append(list(vectorizer.vocabulary_.keys())[list(vectorizer.vocabulary_.values()).index(j)])\n",
    "    \n",
    "    new_train_text.loc[i] = \" \".join(new_text)\n",
    "    \n",
    "new_train_other = new_train_other.astype(int)"
   ]
  },
  {
   "cell_type": "code",
   "execution_count": null,
   "metadata": {
    "collapsed": true
   },
   "outputs": [],
   "source": []
  },
  {
   "cell_type": "code",
   "execution_count": null,
   "metadata": {
    "collapsed": true
   },
   "outputs": [],
   "source": []
  },
  {
   "cell_type": "code",
   "execution_count": null,
   "metadata": {
    "collapsed": true
   },
   "outputs": [],
   "source": []
  },
  {
   "cell_type": "code",
   "execution_count": null,
   "metadata": {
    "collapsed": true
   },
   "outputs": [],
   "source": []
  },
  {
   "cell_type": "code",
   "execution_count": null,
   "metadata": {
    "collapsed": true
   },
   "outputs": [],
   "source": []
  },
  {
   "cell_type": "code",
   "execution_count": null,
   "metadata": {
    "collapsed": true
   },
   "outputs": [],
   "source": []
  },
  {
   "cell_type": "code",
   "execution_count": null,
   "metadata": {
    "collapsed": true
   },
   "outputs": [],
   "source": []
  },
  {
   "cell_type": "code",
   "execution_count": null,
   "metadata": {
    "collapsed": true
   },
   "outputs": [],
   "source": []
  },
  {
   "cell_type": "code",
   "execution_count": null,
   "metadata": {
    "collapsed": true
   },
   "outputs": [],
   "source": []
  },
  {
   "cell_type": "code",
   "execution_count": null,
   "metadata": {
    "collapsed": true
   },
   "outputs": [],
   "source": []
  },
  {
   "cell_type": "code",
   "execution_count": null,
   "metadata": {
    "collapsed": true
   },
   "outputs": [],
   "source": []
  },
  {
   "cell_type": "code",
   "execution_count": null,
   "metadata": {
    "collapsed": true
   },
   "outputs": [],
   "source": []
  },
  {
   "cell_type": "code",
   "execution_count": null,
   "metadata": {
    "collapsed": true
   },
   "outputs": [],
   "source": []
  },
  {
   "cell_type": "code",
   "execution_count": null,
   "metadata": {
    "collapsed": true
   },
   "outputs": [],
   "source": []
  },
  {
   "cell_type": "code",
   "execution_count": null,
   "metadata": {
    "collapsed": true
   },
   "outputs": [],
   "source": []
  },
  {
   "cell_type": "code",
   "execution_count": null,
   "metadata": {
    "collapsed": true
   },
   "outputs": [],
   "source": []
  },
  {
   "cell_type": "code",
   "execution_count": null,
   "metadata": {
    "collapsed": true
   },
   "outputs": [],
   "source": []
  },
  {
   "cell_type": "code",
   "execution_count": null,
   "metadata": {
    "collapsed": true
   },
   "outputs": [],
   "source": []
  },
  {
   "cell_type": "code",
   "execution_count": null,
   "metadata": {
    "collapsed": true
   },
   "outputs": [],
   "source": []
  },
  {
   "cell_type": "code",
   "execution_count": null,
   "metadata": {
    "collapsed": true
   },
   "outputs": [],
   "source": []
  },
  {
   "cell_type": "code",
   "execution_count": null,
   "metadata": {
    "collapsed": true
   },
   "outputs": [],
   "source": []
  },
  {
   "cell_type": "markdown",
   "metadata": {},
   "source": [
    "# 4.0 EDA - XGABoost "
   ]
  },
  {
   "cell_type": "markdown",
   "metadata": {},
   "source": [
    "## 4.1 Just Non-Text Features"
   ]
  },
  {
   "cell_type": "code",
   "execution_count": 675,
   "metadata": {},
   "outputs": [
    {
     "name": "stdout",
     "output_type": "stream",
     "text": [
      "training data shape: (3232, 32)\n",
      "dev data shape: (808, 32)\n"
     ]
    }
   ],
   "source": [
    "train_data = train_json_df\n",
    "train_labels = train_json_df.requester_received_pizza.astype(int).as_matrix()\n",
    "\n",
    "train_data, dev_data, train_labels, dev_labels = \\\n",
    "            train_test_split(train_data, train_labels, test_size=0.2, random_state=42)\n",
    "    \n",
    "print('training data shape:', train_data.shape)\n",
    "print('dev data shape:', dev_data.shape)"
   ]
  },
  {
   "cell_type": "code",
   "execution_count": 680,
   "metadata": {},
   "outputs": [
    {
     "name": "stderr",
     "output_type": "stream",
     "text": [
      "/Users/lauc136/anaconda3/lib/python3.6/site-packages/ipykernel/__main__.py:1: SettingWithCopyWarning: \n",
      "A value is trying to be set on a copy of a slice from a DataFrame.\n",
      "Try using .loc[row_indexer,col_indexer] = value instead\n",
      "\n",
      "See the caveats in the documentation: http://pandas.pydata.org/pandas-docs/stable/indexing.html#indexing-view-versus-copy\n",
      "  if __name__ == '__main__':\n",
      "/Users/lauc136/anaconda3/lib/python3.6/site-packages/ipykernel/__main__.py:2: SettingWithCopyWarning: \n",
      "A value is trying to be set on a copy of a slice from a DataFrame.\n",
      "Try using .loc[row_indexer,col_indexer] = value instead\n",
      "\n",
      "See the caveats in the documentation: http://pandas.pydata.org/pandas-docs/stable/indexing.html#indexing-view-versus-copy\n",
      "  from ipykernel import kernelapp as app\n"
     ]
    }
   ],
   "source": [
    "train_data['full_text']=train_data['request_text_edit_aware'] +' '+train_data['request_title']\n",
    "dev_data['full_text']=dev_data['request_text_edit_aware'] +' '+dev_data['request_title']"
   ]
  },
  {
   "cell_type": "code",
   "execution_count": 685,
   "metadata": {
    "collapsed": true
   },
   "outputs": [],
   "source": [
    "def construct_features(data):\n",
    "    features=pd.DataFrame()\n",
    "    \n",
    "    features['community_age'] = (pd.to_datetime(data['unix_timestamp_of_request_utc'],utc = True, unit = 's') - \\\n",
    "                                pd.to_datetime('2010-12-8', format='%Y-%m-%d')).astype('timedelta64[D]')\n",
    "    \n",
    "    features['community_age'] = (features['community_age'] * 10./features.community_age.max()).astype(int)\n",
    "\n",
    "    features['first_half_of_month']=(pd.to_datetime(data['unix_timestamp_of_request_utc'],unit = 's').dt.day <= 15).astype(int) \n",
    "\n",
    "    features['gratitude'] = data['request_text_edit_aware'].apply( \\\n",
    "                                    lambda x: 1 if re.search(\"thank|appreciate|advance|consider\", x) else 0)\n",
    "    features['include_image'] = data['request_text_edit_aware'].apply(lambda x: 1 if re.search(\"http|www|screenshot|photo|image\", x) else 0)\n",
    "\n",
    "    features['reciprocity'] = data['request_text_edit_aware'].apply(\\\n",
    "                                    lambda x:1 if re.search(\"repay|pay.+back|pay.+forward|return.+favor|reciprocate\", x) else 0)\n",
    "    features['len_request']= data['request_text_edit_aware'].apply(len)\n",
    "\n",
    "    features['karma']=(data['requester_upvotes_minus_downvotes_at_request']* 10.\\\n",
    "                                         /data.requester_upvotes_minus_downvotes_at_request.max()).astype(int)\n",
    "\n",
    "    features['posted_in_raop_before']= data['requester_number_of_posts_on_raop_at_request']\n",
    "    \n",
    "    features['posted_before']= data['requester_number_of_posts_at_request']\n",
    "  "
   ]
  },
  {
   "cell_type": "code",
   "execution_count": 686,
   "metadata": {
    "collapsed": true
   },
   "outputs": [],
   "source": [
    "#https://www.timeanddate.com/calendar/aboutseasons.html\n",
    "def ts_to_season(month):\n",
    "    if month>=3 and month<=5:\n",
    "        return \"spring\"\n",
    "    elif month>=6 and month <=8:\n",
    "        return \"summer\"\n",
    "    elif month>=9 and month <=11:\n",
    "        return \"fall\"\n",
    "    else:\n",
    "        return \"winter\""
   ]
  },
  {
   "cell_type": "code",
   "execution_count": 687,
   "metadata": {
    "collapsed": true
   },
   "outputs": [],
   "source": [
    "train_other_features = construct_features(train_data)\n",
    "dev_other_features = construct_features(dev_data)"
   ]
  },
  {
   "cell_type": "code",
   "execution_count": 688,
   "metadata": {},
   "outputs": [
    {
     "name": "stdout",
     "output_type": "stream",
     "text": [
      "[0]\teval-auc:0.599161\ttrain-auc:0.713412\n",
      "[1]\teval-auc:0.60962\ttrain-auc:0.718666\n",
      "[2]\teval-auc:0.612367\ttrain-auc:0.720399\n",
      "[3]\teval-auc:0.614304\ttrain-auc:0.721679\n",
      "[4]\teval-auc:0.612327\ttrain-auc:0.72237\n",
      "[5]\teval-auc:0.612144\ttrain-auc:0.72306\n",
      "[6]\teval-auc:0.610481\ttrain-auc:0.722961\n",
      "[7]\teval-auc:0.612942\ttrain-auc:0.723237\n",
      "[8]\teval-auc:0.614804\ttrain-auc:0.723947\n",
      "[9]\teval-auc:0.612704\ttrain-auc:0.724271\n",
      "[10]\teval-auc:0.612061\ttrain-auc:0.72478\n",
      "[11]\teval-auc:0.613299\ttrain-auc:0.725311\n",
      "[12]\teval-auc:0.612426\ttrain-auc:0.725408\n",
      "[13]\teval-auc:0.611744\ttrain-auc:0.725988\n",
      "[14]\teval-auc:0.613093\ttrain-auc:0.726298\n",
      "[15]\teval-auc:0.613859\ttrain-auc:0.726844\n",
      "[16]\teval-auc:0.614078\ttrain-auc:0.727167\n",
      "[17]\teval-auc:0.613887\ttrain-auc:0.727562\n",
      "[18]\teval-auc:0.612569\ttrain-auc:0.727744\n",
      "[19]\teval-auc:0.612958\ttrain-auc:0.727791\n",
      "[20]\teval-auc:0.612799\ttrain-auc:0.727771\n",
      "[21]\teval-auc:0.61295\ttrain-auc:0.727719\n",
      "[22]\teval-auc:0.613649\ttrain-auc:0.728001\n",
      "[23]\teval-auc:0.614665\ttrain-auc:0.727904\n",
      "[24]\teval-auc:0.61453\ttrain-auc:0.728294\n",
      "[25]\teval-auc:0.614379\ttrain-auc:0.72848\n",
      "[26]\teval-auc:0.613966\ttrain-auc:0.728654\n",
      "[27]\teval-auc:0.614078\ttrain-auc:0.728898\n",
      "[28]\teval-auc:0.61372\ttrain-auc:0.728889\n",
      "[29]\teval-auc:0.613871\ttrain-auc:0.729039\n",
      "[30]\teval-auc:0.614514\ttrain-auc:0.72911\n",
      "[31]\teval-auc:0.613895\ttrain-auc:0.72933\n",
      "[32]\teval-auc:0.612601\ttrain-auc:0.729314\n",
      "[33]\teval-auc:0.613061\ttrain-auc:0.729385\n",
      "[34]\teval-auc:0.613808\ttrain-auc:0.729515\n",
      "[35]\teval-auc:0.613867\ttrain-auc:0.7297\n",
      "[36]\teval-auc:0.614812\ttrain-auc:0.73003\n",
      "[37]\teval-auc:0.61397\ttrain-auc:0.729883\n",
      "[38]\teval-auc:0.614359\ttrain-auc:0.730016\n",
      "[39]\teval-auc:0.613843\ttrain-auc:0.730121\n",
      "[40]\teval-auc:0.613843\ttrain-auc:0.730324\n",
      "[41]\teval-auc:0.613661\ttrain-auc:0.730364\n",
      "[42]\teval-auc:0.613121\ttrain-auc:0.730465\n",
      "[43]\teval-auc:0.613756\ttrain-auc:0.730571\n",
      "[44]\teval-auc:0.613986\ttrain-auc:0.730611\n",
      "[45]\teval-auc:0.614034\ttrain-auc:0.730808\n",
      "[46]\teval-auc:0.61447\ttrain-auc:0.730936\n",
      "[47]\teval-auc:0.614661\ttrain-auc:0.731036\n",
      "[48]\teval-auc:0.614518\ttrain-auc:0.731081\n",
      "[49]\teval-auc:0.613494\ttrain-auc:0.731139\n",
      "[50]\teval-auc:0.613788\ttrain-auc:0.731228\n",
      "[51]\teval-auc:0.613303\ttrain-auc:0.731318\n",
      "[52]\teval-auc:0.613494\ttrain-auc:0.731493\n",
      "[53]\teval-auc:0.613526\ttrain-auc:0.731647\n",
      "[54]\teval-auc:0.613399\ttrain-auc:0.731777\n",
      "[55]\teval-auc:0.613097\ttrain-auc:0.731878\n",
      "[56]\teval-auc:0.613042\ttrain-auc:0.731812\n",
      "[57]\teval-auc:0.613748\ttrain-auc:0.73205\n",
      "[58]\teval-auc:0.613605\ttrain-auc:0.732165\n",
      "[59]\teval-auc:0.613653\ttrain-auc:0.732129\n",
      "[60]\teval-auc:0.613954\ttrain-auc:0.732211\n",
      "[61]\teval-auc:0.613137\ttrain-auc:0.732265\n",
      "[62]\teval-auc:0.612938\ttrain-auc:0.732364\n",
      "[63]\teval-auc:0.612438\ttrain-auc:0.732653\n",
      "[64]\teval-auc:0.612279\ttrain-auc:0.732799\n",
      "[65]\teval-auc:0.612708\ttrain-auc:0.73298\n",
      "[66]\teval-auc:0.612708\ttrain-auc:0.733142\n",
      "[67]\teval-auc:0.612208\ttrain-auc:0.7332\n",
      "[68]\teval-auc:0.612319\ttrain-auc:0.733116\n",
      "[69]\teval-auc:0.612129\ttrain-auc:0.733339\n",
      "[70]\teval-auc:0.612192\ttrain-auc:0.733414\n",
      "[71]\teval-auc:0.611613\ttrain-auc:0.733516\n",
      "[72]\teval-auc:0.610866\ttrain-auc:0.733565\n",
      "[73]\teval-auc:0.611104\ttrain-auc:0.733688\n",
      "[74]\teval-auc:0.611525\ttrain-auc:0.733865\n",
      "[75]\teval-auc:0.611748\ttrain-auc:0.733915\n",
      "[76]\teval-auc:0.61189\ttrain-auc:0.733895\n",
      "[77]\teval-auc:0.612454\ttrain-auc:0.734\n",
      "[78]\teval-auc:0.612291\ttrain-auc:0.734033\n",
      "[79]\teval-auc:0.611894\ttrain-auc:0.734178\n",
      "[80]\teval-auc:0.61199\ttrain-auc:0.734283\n",
      "[81]\teval-auc:0.612029\ttrain-auc:0.734343\n",
      "[82]\teval-auc:0.611783\ttrain-auc:0.734335\n",
      "[83]\teval-auc:0.611744\ttrain-auc:0.734365\n",
      "[84]\teval-auc:0.611688\ttrain-auc:0.734376\n",
      "[85]\teval-auc:0.611529\ttrain-auc:0.734444\n",
      "[86]\teval-auc:0.611537\ttrain-auc:0.734477\n",
      "[87]\teval-auc:0.611831\ttrain-auc:0.734503\n",
      "[88]\teval-auc:0.611648\ttrain-auc:0.734614\n",
      "[89]\teval-auc:0.61145\ttrain-auc:0.73473\n",
      "[90]\teval-auc:0.611259\ttrain-auc:0.734758\n",
      "[91]\teval-auc:0.611275\ttrain-auc:0.734833\n",
      "[92]\teval-auc:0.610934\ttrain-auc:0.734914\n",
      "[93]\teval-auc:0.611434\ttrain-auc:0.735058\n",
      "[94]\teval-auc:0.610751\ttrain-auc:0.735033\n",
      "[95]\teval-auc:0.610966\ttrain-auc:0.735007\n",
      "[96]\teval-auc:0.610378\ttrain-auc:0.735035\n",
      "[97]\teval-auc:0.610569\ttrain-auc:0.735112\n",
      "[98]\teval-auc:0.610303\ttrain-auc:0.735228\n",
      "[99]\teval-auc:0.610176\ttrain-auc:0.735249\n",
      "[100]\teval-auc:0.610112\ttrain-auc:0.735297\n",
      "[101]\teval-auc:0.610072\ttrain-auc:0.735357\n",
      "[102]\teval-auc:0.610247\ttrain-auc:0.735413\n",
      "[103]\teval-auc:0.610422\ttrain-auc:0.73542\n",
      "[104]\teval-auc:0.61012\ttrain-auc:0.73546\n",
      "[105]\teval-auc:0.610279\ttrain-auc:0.735567\n",
      "[106]\teval-auc:0.610001\ttrain-auc:0.735664\n",
      "[107]\teval-auc:0.610168\ttrain-auc:0.735825\n",
      "[108]\teval-auc:0.610192\ttrain-auc:0.735889\n",
      "[109]\teval-auc:0.610065\ttrain-auc:0.735942\n",
      "[110]\teval-auc:0.609421\ttrain-auc:0.736065\n",
      "[111]\teval-auc:0.609334\ttrain-auc:0.736104\n",
      "[112]\teval-auc:0.609112\ttrain-auc:0.736174\n",
      "[113]\teval-auc:0.609088\ttrain-auc:0.736182\n",
      "[114]\teval-auc:0.608985\ttrain-auc:0.736279\n",
      "[115]\teval-auc:0.609414\ttrain-auc:0.736346\n",
      "[116]\teval-auc:0.609414\ttrain-auc:0.73651\n",
      "[117]\teval-auc:0.609175\ttrain-auc:0.736476\n",
      "[118]\teval-auc:0.609175\ttrain-auc:0.736495\n",
      "[119]\teval-auc:0.609199\ttrain-auc:0.736596\n",
      "[120]\teval-auc:0.609128\ttrain-auc:0.736628\n",
      "[121]\teval-auc:0.608898\ttrain-auc:0.736672\n",
      "[122]\teval-auc:0.608723\ttrain-auc:0.736734\n",
      "[123]\teval-auc:0.608389\ttrain-auc:0.73681\n",
      "[124]\teval-auc:0.608445\ttrain-auc:0.736852\n",
      "[125]\teval-auc:0.608834\ttrain-auc:0.736915\n",
      "[126]\teval-auc:0.60885\ttrain-auc:0.736942\n",
      "[127]\teval-auc:0.608771\ttrain-auc:0.736998\n",
      "[128]\teval-auc:0.608731\ttrain-auc:0.737055\n",
      "[129]\teval-auc:0.608382\ttrain-auc:0.737068\n",
      "[130]\teval-auc:0.60862\ttrain-auc:0.737171\n",
      "[131]\teval-auc:0.608382\ttrain-auc:0.737251\n",
      "[132]\teval-auc:0.608207\ttrain-auc:0.737349\n",
      "[133]\teval-auc:0.608517\ttrain-auc:0.737399\n",
      "[134]\teval-auc:0.608294\ttrain-auc:0.737486\n",
      "[135]\teval-auc:0.608405\ttrain-auc:0.737553\n",
      "[136]\teval-auc:0.608302\ttrain-auc:0.737576\n",
      "[137]\teval-auc:0.607786\ttrain-auc:0.737618\n",
      "[138]\teval-auc:0.607929\ttrain-auc:0.73766\n",
      "[139]\teval-auc:0.607818\ttrain-auc:0.737715\n",
      "[140]\teval-auc:0.607373\ttrain-auc:0.737737\n",
      "[141]\teval-auc:0.607143\ttrain-auc:0.737844\n",
      "[142]\teval-auc:0.606786\ttrain-auc:0.737876\n",
      "[143]\teval-auc:0.606778\ttrain-auc:0.737901\n",
      "[144]\teval-auc:0.606897\ttrain-auc:0.73796\n",
      "[145]\teval-auc:0.60708\ttrain-auc:0.737971\n",
      "[146]\teval-auc:0.607326\ttrain-auc:0.73803\n",
      "[147]\teval-auc:0.607215\ttrain-auc:0.738066\n",
      "[148]\teval-auc:0.606976\ttrain-auc:0.738102\n",
      "[149]\teval-auc:0.607088\ttrain-auc:0.738201\n",
      "[150]\teval-auc:0.606961\ttrain-auc:0.73824\n",
      "[151]\teval-auc:0.606714\ttrain-auc:0.738281\n",
      "[152]\teval-auc:0.606587\ttrain-auc:0.738299\n",
      "[153]\teval-auc:0.606175\ttrain-auc:0.738319\n",
      "[154]\teval-auc:0.606095\ttrain-auc:0.738382\n",
      "[155]\teval-auc:0.605603\ttrain-auc:0.738443\n",
      "[156]\teval-auc:0.60546\ttrain-auc:0.738486\n",
      "[157]\teval-auc:0.605833\ttrain-auc:0.738501\n",
      "[158]\teval-auc:0.605786\ttrain-auc:0.738587\n",
      "[159]\teval-auc:0.605738\ttrain-auc:0.738635\n",
      "[160]\teval-auc:0.606111\ttrain-auc:0.738673\n",
      "[161]\teval-auc:0.60596\ttrain-auc:0.738703\n",
      "[162]\teval-auc:0.605825\ttrain-auc:0.738743\n",
      "[163]\teval-auc:0.605849\ttrain-auc:0.738747\n",
      "[164]\teval-auc:0.605905\ttrain-auc:0.738832\n",
      "[165]\teval-auc:0.6055\ttrain-auc:0.738872\n",
      "[166]\teval-auc:0.605381\ttrain-auc:0.73888\n",
      "[167]\teval-auc:0.604928\ttrain-auc:0.738923\n",
      "[168]\teval-auc:0.605151\ttrain-auc:0.738972\n",
      "[169]\teval-auc:0.60496\ttrain-auc:0.739039\n",
      "[170]\teval-auc:0.605079\ttrain-auc:0.739104\n",
      "[171]\teval-auc:0.604904\ttrain-auc:0.739139\n",
      "[172]\teval-auc:0.605008\ttrain-auc:0.739201\n",
      "[173]\teval-auc:0.604857\ttrain-auc:0.739308\n",
      "[174]\teval-auc:0.604865\ttrain-auc:0.739321\n",
      "[175]\teval-auc:0.604682\ttrain-auc:0.739403\n",
      "[176]\teval-auc:0.605103\ttrain-auc:0.739476\n",
      "[177]\teval-auc:0.604722\ttrain-auc:0.739502\n",
      "[178]\teval-auc:0.604134\ttrain-auc:0.739561\n",
      "[179]\teval-auc:0.604301\ttrain-auc:0.739587\n",
      "[180]\teval-auc:0.604293\ttrain-auc:0.739611\n",
      "[181]\teval-auc:0.603682\ttrain-auc:0.739701\n",
      "[182]\teval-auc:0.603507\ttrain-auc:0.739754\n",
      "[183]\teval-auc:0.603325\ttrain-auc:0.739785\n",
      "[184]\teval-auc:0.603293\ttrain-auc:0.73984\n",
      "[185]\teval-auc:0.603142\ttrain-auc:0.739895\n",
      "[186]\teval-auc:0.603118\ttrain-auc:0.73995\n",
      "[187]\teval-auc:0.60319\ttrain-auc:0.739978\n",
      "[188]\teval-auc:0.603595\ttrain-auc:0.740036\n",
      "[189]\teval-auc:0.603499\ttrain-auc:0.740082\n",
      "[190]\teval-auc:0.603277\ttrain-auc:0.740023\n",
      "[191]\teval-auc:0.603102\ttrain-auc:0.740083\n",
      "[192]\teval-auc:0.603055\ttrain-auc:0.740121\n",
      "[193]\teval-auc:0.603071\ttrain-auc:0.740187\n",
      "[194]\teval-auc:0.60315\ttrain-auc:0.740217\n"
     ]
    },
    {
     "name": "stdout",
     "output_type": "stream",
     "text": [
      "[195]\teval-auc:0.602936\ttrain-auc:0.740218\n",
      "[196]\teval-auc:0.603158\ttrain-auc:0.740256\n",
      "[197]\teval-auc:0.603174\ttrain-auc:0.740291\n",
      "[198]\teval-auc:0.603206\ttrain-auc:0.740355\n",
      "[199]\teval-auc:0.603333\ttrain-auc:0.740369\n",
      "[200]\teval-auc:0.603396\ttrain-auc:0.740398\n",
      "[201]\teval-auc:0.603571\ttrain-auc:0.740447\n",
      "[202]\teval-auc:0.603269\ttrain-auc:0.740471\n",
      "[203]\teval-auc:0.603237\ttrain-auc:0.740511\n",
      "[204]\teval-auc:0.603785\ttrain-auc:0.740541\n",
      "[205]\teval-auc:0.603134\ttrain-auc:0.740591\n",
      "[206]\teval-auc:0.603309\ttrain-auc:0.740612\n",
      "[207]\teval-auc:0.603055\ttrain-auc:0.740675\n",
      "[208]\teval-auc:0.603285\ttrain-auc:0.740718\n",
      "[209]\teval-auc:0.603174\ttrain-auc:0.740747\n",
      "[210]\teval-auc:0.603245\ttrain-auc:0.740803\n",
      "[211]\teval-auc:0.603047\ttrain-auc:0.740791\n",
      "[212]\teval-auc:0.603404\ttrain-auc:0.740844\n",
      "[213]\teval-auc:0.603039\ttrain-auc:0.740877\n",
      "[214]\teval-auc:0.603134\ttrain-auc:0.740917\n",
      "[215]\teval-auc:0.603015\ttrain-auc:0.741054\n",
      "[216]\teval-auc:0.60288\ttrain-auc:0.741063\n",
      "[217]\teval-auc:0.602904\ttrain-auc:0.741081\n",
      "[218]\teval-auc:0.602666\ttrain-auc:0.741124\n",
      "[219]\teval-auc:0.602626\ttrain-auc:0.741149\n",
      "[220]\teval-auc:0.602737\ttrain-auc:0.74121\n",
      "[221]\teval-auc:0.602539\ttrain-auc:0.741242\n",
      "[222]\teval-auc:0.602348\ttrain-auc:0.741254\n",
      "[223]\teval-auc:0.60269\ttrain-auc:0.74126\n",
      "[224]\teval-auc:0.602388\ttrain-auc:0.74132\n",
      "[225]\teval-auc:0.601935\ttrain-auc:0.741336\n",
      "[226]\teval-auc:0.602309\ttrain-auc:0.741372\n",
      "[227]\teval-auc:0.602309\ttrain-auc:0.741393\n",
      "[228]\teval-auc:0.602189\ttrain-auc:0.741437\n",
      "[229]\teval-auc:0.602221\ttrain-auc:0.741477\n",
      "[230]\teval-auc:0.602062\ttrain-auc:0.741501\n",
      "[231]\teval-auc:0.602229\ttrain-auc:0.74153\n",
      "[232]\teval-auc:0.601801\ttrain-auc:0.741544\n",
      "[233]\teval-auc:0.601999\ttrain-auc:0.741555\n",
      "[234]\teval-auc:0.602023\ttrain-auc:0.741606\n",
      "[235]\teval-auc:0.601697\ttrain-auc:0.741651\n",
      "[236]\teval-auc:0.601634\ttrain-auc:0.741682\n",
      "[237]\teval-auc:0.600991\ttrain-auc:0.741715\n",
      "[238]\teval-auc:0.601253\ttrain-auc:0.741745\n",
      "[239]\teval-auc:0.601197\ttrain-auc:0.741773\n",
      "[240]\teval-auc:0.601475\ttrain-auc:0.741797\n",
      "[241]\teval-auc:0.601157\ttrain-auc:0.741846\n",
      "[242]\teval-auc:0.601443\ttrain-auc:0.741899\n",
      "[243]\teval-auc:0.601165\ttrain-auc:0.741952\n",
      "[244]\teval-auc:0.600927\ttrain-auc:0.741973\n",
      "[245]\teval-auc:0.600983\ttrain-auc:0.742021\n",
      "[246]\teval-auc:0.600943\ttrain-auc:0.742056\n",
      "[247]\teval-auc:0.600681\ttrain-auc:0.742091\n",
      "[248]\teval-auc:0.600729\ttrain-auc:0.742087\n",
      "[249]\teval-auc:0.600761\ttrain-auc:0.742118\n",
      "[250]\teval-auc:0.600753\ttrain-auc:0.74215\n",
      "[251]\teval-auc:0.600602\ttrain-auc:0.742166\n",
      "[252]\teval-auc:0.600427\ttrain-auc:0.74219\n",
      "[253]\teval-auc:0.60011\ttrain-auc:0.742215\n",
      "[254]\teval-auc:0.600689\ttrain-auc:0.742235\n",
      "[255]\teval-auc:0.600427\ttrain-auc:0.742272\n",
      "[256]\teval-auc:0.600006\ttrain-auc:0.742263\n",
      "[257]\teval-auc:0.60007\ttrain-auc:0.742272\n",
      "[258]\teval-auc:0.599943\ttrain-auc:0.742315\n",
      "[259]\teval-auc:0.599863\ttrain-auc:0.742323\n",
      "[260]\teval-auc:0.600348\ttrain-auc:0.742324\n",
      "[261]\teval-auc:0.599903\ttrain-auc:0.742407\n",
      "[262]\teval-auc:0.59957\ttrain-auc:0.742418\n",
      "[263]\teval-auc:0.599562\ttrain-auc:0.742482\n",
      "[264]\teval-auc:0.599292\ttrain-auc:0.742471\n",
      "[265]\teval-auc:0.599562\ttrain-auc:0.742577\n",
      "[266]\teval-auc:0.599911\ttrain-auc:0.742601\n",
      "[267]\teval-auc:0.599832\ttrain-auc:0.742604\n",
      "[268]\teval-auc:0.599387\ttrain-auc:0.742635\n",
      "[269]\teval-auc:0.599681\ttrain-auc:0.742649\n",
      "[270]\teval-auc:0.599482\ttrain-auc:0.742708\n",
      "[271]\teval-auc:0.599736\ttrain-auc:0.742735\n",
      "[272]\teval-auc:0.599887\ttrain-auc:0.74277\n",
      "[273]\teval-auc:0.599721\ttrain-auc:0.742763\n",
      "[274]\teval-auc:0.599403\ttrain-auc:0.742778\n",
      "[275]\teval-auc:0.599292\ttrain-auc:0.742795\n",
      "[276]\teval-auc:0.599387\ttrain-auc:0.742842\n",
      "[277]\teval-auc:0.599435\ttrain-auc:0.742878\n",
      "[278]\teval-auc:0.599506\ttrain-auc:0.742869\n",
      "[279]\teval-auc:0.599308\ttrain-auc:0.742913\n",
      "[280]\teval-auc:0.5993\ttrain-auc:0.742927\n",
      "[281]\teval-auc:0.599443\ttrain-auc:0.742957\n",
      "[282]\teval-auc:0.599244\ttrain-auc:0.742995\n",
      "[283]\teval-auc:0.599284\ttrain-auc:0.743014\n",
      "[284]\teval-auc:0.599149\ttrain-auc:0.743062\n",
      "[285]\teval-auc:0.599117\ttrain-auc:0.743087\n",
      "[286]\teval-auc:0.599244\ttrain-auc:0.743135\n",
      "[287]\teval-auc:0.599078\ttrain-auc:0.743184\n",
      "[288]\teval-auc:0.598958\ttrain-auc:0.743212\n",
      "[289]\teval-auc:0.598593\ttrain-auc:0.743248\n",
      "[290]\teval-auc:0.598895\ttrain-auc:0.743247\n",
      "[291]\teval-auc:0.598927\ttrain-auc:0.743291\n",
      "[292]\teval-auc:0.599308\ttrain-auc:0.743337\n",
      "[293]\teval-auc:0.599054\ttrain-auc:0.743369\n",
      "[294]\teval-auc:0.59907\ttrain-auc:0.743416\n",
      "[295]\teval-auc:0.598863\ttrain-auc:0.743403\n",
      "[296]\teval-auc:0.598951\ttrain-auc:0.743425\n",
      "[297]\teval-auc:0.598903\ttrain-auc:0.74343\n",
      "[298]\teval-auc:0.598958\ttrain-auc:0.743477\n",
      "[299]\teval-auc:0.598966\ttrain-auc:0.743487\n",
      "[300]\teval-auc:0.599101\ttrain-auc:0.743554\n",
      "[301]\teval-auc:0.599284\ttrain-auc:0.743559\n",
      "[302]\teval-auc:0.598895\ttrain-auc:0.743604\n",
      "[303]\teval-auc:0.598514\ttrain-auc:0.743617\n",
      "[304]\teval-auc:0.598506\ttrain-auc:0.743634\n",
      "[305]\teval-auc:0.598435\ttrain-auc:0.743663\n",
      "[306]\teval-auc:0.598188\ttrain-auc:0.743682\n",
      "[307]\teval-auc:0.598577\ttrain-auc:0.743718\n",
      "[308]\teval-auc:0.59872\ttrain-auc:0.743754\n",
      "[309]\teval-auc:0.59876\ttrain-auc:0.743742\n",
      "[310]\teval-auc:0.599109\ttrain-auc:0.743782\n",
      "[311]\teval-auc:0.598808\ttrain-auc:0.743798\n",
      "[312]\teval-auc:0.59899\ttrain-auc:0.743837\n",
      "[313]\teval-auc:0.598776\ttrain-auc:0.743843\n",
      "[314]\teval-auc:0.598744\ttrain-auc:0.743864\n",
      "[315]\teval-auc:0.598847\ttrain-auc:0.743859\n",
      "[316]\teval-auc:0.598704\ttrain-auc:0.743875\n",
      "[317]\teval-auc:0.598562\ttrain-auc:0.743884\n",
      "[318]\teval-auc:0.598538\ttrain-auc:0.743912\n",
      "[319]\teval-auc:0.598466\ttrain-auc:0.743928\n",
      "[320]\teval-auc:0.598498\ttrain-auc:0.743934\n",
      "[321]\teval-auc:0.598323\ttrain-auc:0.743957\n",
      "[322]\teval-auc:0.598141\ttrain-auc:0.74399\n",
      "[323]\teval-auc:0.598085\ttrain-auc:0.743994\n",
      "[324]\teval-auc:0.598315\ttrain-auc:0.744025\n",
      "[325]\teval-auc:0.598323\ttrain-auc:0.744043\n",
      "[326]\teval-auc:0.598149\ttrain-auc:0.744083\n",
      "[327]\teval-auc:0.59803\ttrain-auc:0.744095\n",
      "[328]\teval-auc:0.598014\ttrain-auc:0.744143\n",
      "[329]\teval-auc:0.598149\ttrain-auc:0.744142\n",
      "[330]\teval-auc:0.5983\ttrain-auc:0.74416\n",
      "[331]\teval-auc:0.598061\ttrain-auc:0.744176\n",
      "[332]\teval-auc:0.597815\ttrain-auc:0.744208\n",
      "[333]\teval-auc:0.598069\ttrain-auc:0.744235\n",
      "[334]\teval-auc:0.597934\ttrain-auc:0.744232\n",
      "[335]\teval-auc:0.597911\ttrain-auc:0.744257\n",
      "[336]\teval-auc:0.597768\ttrain-auc:0.744278\n",
      "[337]\teval-auc:0.597863\ttrain-auc:0.744293\n",
      "[338]\teval-auc:0.597982\ttrain-auc:0.744352\n",
      "[339]\teval-auc:0.597799\ttrain-auc:0.744357\n",
      "[340]\teval-auc:0.597784\ttrain-auc:0.744398\n",
      "[341]\teval-auc:0.597696\ttrain-auc:0.744424\n",
      "[342]\teval-auc:0.597664\ttrain-auc:0.744474\n",
      "[343]\teval-auc:0.598053\ttrain-auc:0.744499\n",
      "[344]\teval-auc:0.598069\ttrain-auc:0.744523\n",
      "[345]\teval-auc:0.598006\ttrain-auc:0.744539\n",
      "[346]\teval-auc:0.598014\ttrain-auc:0.744552\n",
      "[347]\teval-auc:0.598236\ttrain-auc:0.74458\n",
      "[348]\teval-auc:0.598141\ttrain-auc:0.7446\n",
      "[349]\teval-auc:0.598498\ttrain-auc:0.744595\n",
      "[350]\teval-auc:0.598109\ttrain-auc:0.744626\n",
      "[351]\teval-auc:0.59795\ttrain-auc:0.744644\n",
      "[352]\teval-auc:0.598252\ttrain-auc:0.744639\n",
      "[353]\teval-auc:0.598014\ttrain-auc:0.744667\n",
      "[354]\teval-auc:0.598085\ttrain-auc:0.744652\n",
      "[355]\teval-auc:0.598204\ttrain-auc:0.744666\n",
      "[356]\teval-auc:0.598149\ttrain-auc:0.744683\n",
      "[357]\teval-auc:0.597815\ttrain-auc:0.744703\n",
      "[358]\teval-auc:0.59718\ttrain-auc:0.744713\n",
      "[359]\teval-auc:0.597601\ttrain-auc:0.744769\n",
      "[360]\teval-auc:0.597831\ttrain-auc:0.744777\n",
      "[361]\teval-auc:0.597871\ttrain-auc:0.74484\n",
      "[362]\teval-auc:0.597823\ttrain-auc:0.74481\n",
      "[363]\teval-auc:0.597887\ttrain-auc:0.744821\n",
      "[364]\teval-auc:0.597577\ttrain-auc:0.744848\n",
      "[365]\teval-auc:0.597355\ttrain-auc:0.74487\n",
      "[366]\teval-auc:0.597315\ttrain-auc:0.744867\n",
      "[367]\teval-auc:0.597371\ttrain-auc:0.744909\n",
      "[368]\teval-auc:0.597331\ttrain-auc:0.744891\n",
      "[369]\teval-auc:0.597585\ttrain-auc:0.744964\n",
      "[370]\teval-auc:0.597641\ttrain-auc:0.744945\n",
      "[371]\teval-auc:0.597585\ttrain-auc:0.744977\n",
      "[372]\teval-auc:0.597585\ttrain-auc:0.745006\n",
      "[373]\teval-auc:0.597839\ttrain-auc:0.745004\n",
      "[374]\teval-auc:0.597784\ttrain-auc:0.745024\n",
      "[375]\teval-auc:0.597847\ttrain-auc:0.745042\n",
      "[376]\teval-auc:0.59772\ttrain-auc:0.745064\n",
      "[377]\teval-auc:0.59772\ttrain-auc:0.745058\n",
      "[378]\teval-auc:0.597649\ttrain-auc:0.745092\n",
      "[379]\teval-auc:0.597641\ttrain-auc:0.745106\n",
      "[380]\teval-auc:0.597871\ttrain-auc:0.745148\n",
      "[381]\teval-auc:0.59768\ttrain-auc:0.745152\n",
      "[382]\teval-auc:0.597736\ttrain-auc:0.745165\n",
      "[383]\teval-auc:0.597863\ttrain-auc:0.7452\n",
      "[384]\teval-auc:0.597752\ttrain-auc:0.745221\n",
      "[385]\teval-auc:0.597736\ttrain-auc:0.74522\n",
      "[386]\teval-auc:0.597911\ttrain-auc:0.74527\n"
     ]
    },
    {
     "name": "stdout",
     "output_type": "stream",
     "text": [
      "[387]\teval-auc:0.597903\ttrain-auc:0.745287\n",
      "[388]\teval-auc:0.597807\ttrain-auc:0.745322\n",
      "[389]\teval-auc:0.597982\ttrain-auc:0.745339\n",
      "[390]\teval-auc:0.598236\ttrain-auc:0.745354\n",
      "[391]\teval-auc:0.59826\ttrain-auc:0.745353\n",
      "[392]\teval-auc:0.598141\ttrain-auc:0.745376\n",
      "[393]\teval-auc:0.597895\ttrain-auc:0.745393\n",
      "[394]\teval-auc:0.597974\ttrain-auc:0.745432\n",
      "[395]\teval-auc:0.598093\ttrain-auc:0.74546\n",
      "[396]\teval-auc:0.597903\ttrain-auc:0.745469\n",
      "[397]\teval-auc:0.597871\ttrain-auc:0.74547\n",
      "[398]\teval-auc:0.59768\ttrain-auc:0.745498\n",
      "[399]\teval-auc:0.597974\ttrain-auc:0.74552\n",
      "[400]\teval-auc:0.598093\ttrain-auc:0.745552\n",
      "[401]\teval-auc:0.598022\ttrain-auc:0.74555\n",
      "[402]\teval-auc:0.597855\ttrain-auc:0.74557\n",
      "[403]\teval-auc:0.598061\ttrain-auc:0.745606\n",
      "[404]\teval-auc:0.598038\ttrain-auc:0.745619\n",
      "[405]\teval-auc:0.597958\ttrain-auc:0.745628\n",
      "[406]\teval-auc:0.597926\ttrain-auc:0.745644\n",
      "[407]\teval-auc:0.597736\ttrain-auc:0.745647\n",
      "[408]\teval-auc:0.597855\ttrain-auc:0.745633\n",
      "[409]\teval-auc:0.597903\ttrain-auc:0.745662\n",
      "[410]\teval-auc:0.597934\ttrain-auc:0.745656\n",
      "[411]\teval-auc:0.598077\ttrain-auc:0.74568\n",
      "[412]\teval-auc:0.598188\ttrain-auc:0.745723\n",
      "[413]\teval-auc:0.598173\ttrain-auc:0.745716\n",
      "[414]\teval-auc:0.598077\ttrain-auc:0.745733\n",
      "[415]\teval-auc:0.597712\ttrain-auc:0.74574\n",
      "[416]\teval-auc:0.597736\ttrain-auc:0.745731\n",
      "[417]\teval-auc:0.597823\ttrain-auc:0.745765\n",
      "[418]\teval-auc:0.59776\ttrain-auc:0.745771\n",
      "[419]\teval-auc:0.597728\ttrain-auc:0.74578\n",
      "[420]\teval-auc:0.597585\ttrain-auc:0.745793\n",
      "[421]\teval-auc:0.597522\ttrain-auc:0.745803\n",
      "[422]\teval-auc:0.597283\ttrain-auc:0.74582\n",
      "[423]\teval-auc:0.597363\ttrain-auc:0.745839\n",
      "[424]\teval-auc:0.597585\ttrain-auc:0.745846\n",
      "[425]\teval-auc:0.597752\ttrain-auc:0.745859\n",
      "[426]\teval-auc:0.598085\ttrain-auc:0.745862\n",
      "[427]\teval-auc:0.597887\ttrain-auc:0.74589\n",
      "[428]\teval-auc:0.598268\ttrain-auc:0.745888\n",
      "[429]\teval-auc:0.597831\ttrain-auc:0.745911\n",
      "[430]\teval-auc:0.59795\ttrain-auc:0.745937\n",
      "[431]\teval-auc:0.597895\ttrain-auc:0.745975\n",
      "[432]\teval-auc:0.597553\ttrain-auc:0.745978\n",
      "[433]\teval-auc:0.597752\ttrain-auc:0.745983\n",
      "[434]\teval-auc:0.597585\ttrain-auc:0.745988\n",
      "[435]\teval-auc:0.597839\ttrain-auc:0.746003\n",
      "[436]\teval-auc:0.597537\ttrain-auc:0.74602\n",
      "[437]\teval-auc:0.597537\ttrain-auc:0.745997\n",
      "[438]\teval-auc:0.597704\ttrain-auc:0.746034\n",
      "[439]\teval-auc:0.597633\ttrain-auc:0.746052\n",
      "[440]\teval-auc:0.597236\ttrain-auc:0.746063\n",
      "[441]\teval-auc:0.59745\ttrain-auc:0.746083\n",
      "[442]\teval-auc:0.597585\ttrain-auc:0.746087\n",
      "[443]\teval-auc:0.59753\ttrain-auc:0.746098\n",
      "[444]\teval-auc:0.59753\ttrain-auc:0.746141\n",
      "[445]\teval-auc:0.59772\ttrain-auc:0.746137\n",
      "[446]\teval-auc:0.597752\ttrain-auc:0.746141\n",
      "[447]\teval-auc:0.597641\ttrain-auc:0.746158\n",
      "[448]\teval-auc:0.597474\ttrain-auc:0.746186\n",
      "[449]\teval-auc:0.597593\ttrain-auc:0.74618\n",
      "[450]\teval-auc:0.597617\ttrain-auc:0.746187\n",
      "[451]\teval-auc:0.597593\ttrain-auc:0.746212\n",
      "[452]\teval-auc:0.597633\ttrain-auc:0.746233\n",
      "[453]\teval-auc:0.597657\ttrain-auc:0.746234\n",
      "[454]\teval-auc:0.597815\ttrain-auc:0.746257\n",
      "[455]\teval-auc:0.59772\ttrain-auc:0.746291\n",
      "[456]\teval-auc:0.597791\ttrain-auc:0.746296\n",
      "[457]\teval-auc:0.597958\ttrain-auc:0.746337\n",
      "[458]\teval-auc:0.597696\ttrain-auc:0.746339\n",
      "[459]\teval-auc:0.59803\ttrain-auc:0.746357\n",
      "[460]\teval-auc:0.597863\ttrain-auc:0.746354\n",
      "[461]\teval-auc:0.598014\ttrain-auc:0.746359\n",
      "[462]\teval-auc:0.59803\ttrain-auc:0.746384\n",
      "[463]\teval-auc:0.598014\ttrain-auc:0.746419\n",
      "[464]\teval-auc:0.59799\ttrain-auc:0.746411\n",
      "[465]\teval-auc:0.598006\ttrain-auc:0.746424\n",
      "[466]\teval-auc:0.597847\ttrain-auc:0.746436\n",
      "[467]\teval-auc:0.59753\ttrain-auc:0.746454\n",
      "[468]\teval-auc:0.597498\ttrain-auc:0.746456\n",
      "[469]\teval-auc:0.597395\ttrain-auc:0.746488\n",
      "[470]\teval-auc:0.597474\ttrain-auc:0.746491\n",
      "[471]\teval-auc:0.597704\ttrain-auc:0.746506\n",
      "[472]\teval-auc:0.597617\ttrain-auc:0.746522\n",
      "[473]\teval-auc:0.597815\ttrain-auc:0.746531\n",
      "[474]\teval-auc:0.598014\ttrain-auc:0.746524\n",
      "[475]\teval-auc:0.597395\ttrain-auc:0.746514\n",
      "[476]\teval-auc:0.597664\ttrain-auc:0.746559\n",
      "[477]\teval-auc:0.597672\ttrain-auc:0.746568\n",
      "[478]\teval-auc:0.597855\ttrain-auc:0.746559\n",
      "[479]\teval-auc:0.597815\ttrain-auc:0.74658\n",
      "[480]\teval-auc:0.597784\ttrain-auc:0.746573\n",
      "[481]\teval-auc:0.597879\ttrain-auc:0.746598\n",
      "[482]\teval-auc:0.597887\ttrain-auc:0.746625\n",
      "[483]\teval-auc:0.597641\ttrain-auc:0.746628\n",
      "[484]\teval-auc:0.597704\ttrain-auc:0.746636\n",
      "[485]\teval-auc:0.597561\ttrain-auc:0.746654\n",
      "[486]\teval-auc:0.597815\ttrain-auc:0.746655\n",
      "[487]\teval-auc:0.59772\ttrain-auc:0.74666\n",
      "[488]\teval-auc:0.597585\ttrain-auc:0.746675\n",
      "[489]\teval-auc:0.597577\ttrain-auc:0.74667\n",
      "[490]\teval-auc:0.597776\ttrain-auc:0.746694\n",
      "[491]\teval-auc:0.597395\ttrain-auc:0.74669\n",
      "[492]\teval-auc:0.597307\ttrain-auc:0.746712\n",
      "[493]\teval-auc:0.597426\ttrain-auc:0.746736\n",
      "[494]\teval-auc:0.597593\ttrain-auc:0.746779\n",
      "[495]\teval-auc:0.597942\ttrain-auc:0.74676\n",
      "[496]\teval-auc:0.597426\ttrain-auc:0.746777\n",
      "[497]\teval-auc:0.597125\ttrain-auc:0.746798\n",
      "[498]\teval-auc:0.597379\ttrain-auc:0.746791\n",
      "[499]\teval-auc:0.597228\ttrain-auc:0.746813\n"
     ]
    }
   ],
   "source": [
    "import xgboost as xgb\n",
    "\n",
    "#create dmatrices\n",
    "dtrain = xgb.DMatrix(train_other_features, train_labels)\n",
    "dtest = xgb.DMatrix(dev_other_features, dev_labels)\n",
    "\n",
    "#booster parameter\n",
    "param = {'max_depth':15, 'eta': .015, 'silent': 1, 'objective': 'binary:logistic'\n",
    "         , 'scale_pos_weight': 3.06,'max_delta_step':1,'subsample':.9,'seed':42}#9 depth if sublin false\n",
    "param['nthread'] = 4\n",
    "param['eval_metric'] = 'auc'\n",
    "\n",
    "#specify validation set to watch performance\n",
    "evallist = [(dtest, 'eval'), (dtrain, 'train')]\n",
    "\n",
    "#train model\n",
    "num_round = 500\n",
    "bst = xgb.train(param.items(), dtrain, num_round, evallist)"
   ]
  },
  {
   "cell_type": "code",
   "execution_count": null,
   "metadata": {
    "collapsed": true
   },
   "outputs": [],
   "source": []
  },
  {
   "cell_type": "code",
   "execution_count": null,
   "metadata": {
    "collapsed": true
   },
   "outputs": [],
   "source": []
  },
  {
   "cell_type": "code",
   "execution_count": null,
   "metadata": {
    "collapsed": true
   },
   "outputs": [],
   "source": []
  },
  {
   "cell_type": "code",
   "execution_count": null,
   "metadata": {
    "collapsed": true
   },
   "outputs": [],
   "source": []
  },
  {
   "cell_type": "code",
   "execution_count": null,
   "metadata": {
    "collapsed": true
   },
   "outputs": [],
   "source": []
  },
  {
   "cell_type": "code",
   "execution_count": null,
   "metadata": {
    "collapsed": true
   },
   "outputs": [],
   "source": []
  },
  {
   "cell_type": "code",
   "execution_count": null,
   "metadata": {
    "collapsed": true
   },
   "outputs": [],
   "source": []
  },
  {
   "cell_type": "code",
   "execution_count": null,
   "metadata": {
    "collapsed": true
   },
   "outputs": [],
   "source": []
  },
  {
   "cell_type": "code",
   "execution_count": null,
   "metadata": {
    "collapsed": true
   },
   "outputs": [],
   "source": []
  },
  {
   "cell_type": "code",
   "execution_count": null,
   "metadata": {
    "collapsed": true
   },
   "outputs": [],
   "source": []
  },
  {
   "cell_type": "code",
   "execution_count": null,
   "metadata": {
    "collapsed": true
   },
   "outputs": [],
   "source": []
  },
  {
   "cell_type": "code",
   "execution_count": null,
   "metadata": {
    "collapsed": true
   },
   "outputs": [],
   "source": []
  },
  {
   "cell_type": "code",
   "execution_count": null,
   "metadata": {
    "collapsed": true
   },
   "outputs": [],
   "source": []
  }
 ],
 "metadata": {
  "kernelspec": {
   "display_name": "Python [conda env:anaconda3]",
   "language": "python",
   "name": "conda-env-anaconda3-py"
  },
  "language_info": {
   "codemirror_mode": {
    "name": "ipython",
    "version": 3
   },
   "file_extension": ".py",
   "mimetype": "text/x-python",
   "name": "python",
   "nbconvert_exporter": "python",
   "pygments_lexer": "ipython3",
   "version": "3.6.4"
  }
 },
 "nbformat": 4,
 "nbformat_minor": 2
}
