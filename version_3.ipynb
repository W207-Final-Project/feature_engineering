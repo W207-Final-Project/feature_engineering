{
 "cells": [
  {
   "cell_type": "markdown",
   "metadata": {},
   "source": [
    "# Project 4: Final Project - Random Acts of Pizza\n",
    "### Predicting altruism through free pizza\n",
    "\n",
    "This project is originated from the Kaggle competition https://www.kaggle.com/c/random-acts-of-pizza. We will create an algorithm to predict which requests will recieve pizza and which on will not.  The competition contains a dataset with 5671 textual requests for pizza from the Reddit community Random Acts of Pizza together with their outcome (successful/unsuccessful) and meta-data. This data was collected and graciously shared by Althoff et al (http://www.timalthoff.com/). \n",
    "\n",
    "**Reference Paper:**\n",
    "Tim Althoff, Cristian Danescu-Niculescu-Mizil, Dan Jurafsky. How to Ask for a Favor: A Case Study on the Success of Altruistic Requests, Proceedings of ICWSM, 2014. (http://cs.stanford.edu/~althoff/raop-dataset/altruistic_requests_icwsm.pdf)"
   ]
  },
  {
   "cell_type": "code",
   "execution_count": 1,
   "metadata": {},
   "outputs": [
    {
     "name": "stderr",
     "output_type": "stream",
     "text": [
      "/Users/arthur/anaconda/lib/python3.6/site-packages/sklearn/cross_validation.py:44: DeprecationWarning: This module was deprecated in version 0.18 in favor of the model_selection module into which all the refactored classes and functions are moved. Also note that the interface of the new CV iterators are different from that of this module. This module will be removed in 0.20.\n",
      "  \"This module will be removed in 0.20.\", DeprecationWarning)\n",
      "/Users/arthur/anaconda/lib/python3.6/site-packages/sklearn/grid_search.py:43: DeprecationWarning: This module was deprecated in version 0.18 in favor of the model_selection module into which all the refactored classes and functions are moved. This module will be removed in 0.20.\n",
      "  DeprecationWarning)\n"
     ]
    }
   ],
   "source": [
    "# This tells matplotlib not to try opening a new window for each plot.\n",
    "%matplotlib inline\n",
    "\n",
    "# General libraries.\n",
    "import re\n",
    "import numpy as np\n",
    "import pandas as pd\n",
    "import matplotlib.pyplot as plt\n",
    "from wordcloud import WordCloud\n",
    "import nltk\n",
    "from nltk.tokenize import sent_tokenize, word_tokenize\n",
    "from nltk.corpus import stopwords\n",
    "\n",
    "# SK-learn libraries for learning.\n",
    "from sklearn.pipeline import Pipeline\n",
    "from sklearn.neighbors import KNeighborsClassifier\n",
    "from sklearn.linear_model import LogisticRegression\n",
    "from sklearn.naive_bayes import BernoulliNB\n",
    "from sklearn.naive_bayes import MultinomialNB\n",
    "from sklearn.grid_search import GridSearchCV\n",
    "from sklearn.svm import SVC\n",
    "from pandas.tseries.holiday import USFederalHolidayCalendar\n",
    "\n",
    "# SK-learn libraries for evaluation.\n",
    "from sklearn.metrics import confusion_matrix\n",
    "from sklearn import metrics\n",
    "from sklearn.metrics import classification_report\n",
    "from sklearn.metrics import roc_auc_score\n",
    "\n",
    "# SK-learn libraries for feature extraction from text.\n",
    "from sklearn.feature_extraction.text import *\n",
    "\n",
    "# SK-learn libraries for model selection \n",
    "from sklearn.model_selection import train_test_split\n",
    "\n",
    "# json libraries to parse json file\n",
    "import json\n",
    "from pandas.io.json import json_normalize"
   ]
  },
  {
   "cell_type": "code",
   "execution_count": 2,
   "metadata": {},
   "outputs": [
    {
     "name": "stdout",
     "output_type": "stream",
     "text": [
      "Train shape:  (4040, 32)\n",
      "Test shape:  (1631, 17)\n"
     ]
    }
   ],
   "source": [
    "# read json file\n",
    "train_json = json.load(open('train.json'))\n",
    "\n",
    "# normalize data and put in a dataframe\n",
    "train_json_df = json_normalize(train_json)\n",
    "\n",
    "# read json file\n",
    "test_json = json.load(open('test.json'))\n",
    "\n",
    "# normalize data and put in a dataframe\n",
    "test_json_df = json_normalize(test_json)\n",
    "\n",
    "print(\"Train shape: \", train_json_df.shape)\n",
    "print(\"Test shape: \", test_json_df.shape)"
   ]
  },
  {
   "cell_type": "code",
   "execution_count": 3,
   "metadata": {},
   "outputs": [
    {
     "name": "stdout",
     "output_type": "stream",
     "text": [
      "(4040,)\n"
     ]
    }
   ],
   "source": [
    "train_labels = train_json_df['requester_received_pizza']\n",
    "print(train_labels.shape)\n"
   ]
  },
  {
   "cell_type": "code",
   "execution_count": 4,
   "metadata": {},
   "outputs": [
    {
     "name": "stdout",
     "output_type": "stream",
     "text": [
      "training data shape: (3232, 32)\n",
      "dev data shape: (808, 32)\n",
      "train label shape: (3232,)\n",
      "dev label shape: (808,)\n"
     ]
    }
   ],
   "source": [
    "# split the training data into training data and dev data \n",
    "train_json_df, dev_data, train_labels, dev_labels = \\\n",
    "            train_test_split(train_json_df, train_labels, test_size=0.2, random_state=42)\n",
    "    \n",
    "\n",
    "print('training data shape:', train_json_df.shape)\n",
    "print('dev data shape:', dev_data.shape)\n",
    "print('train label shape:', train_labels.shape)\n",
    "print('dev label shape:', dev_labels.shape)\n",
    "#print('test data shape:', test_data.shape)"
   ]
  },
  {
   "cell_type": "code",
   "execution_count": 5,
   "metadata": {
    "collapsed": true
   },
   "outputs": [],
   "source": [
    "# Since we want to predict whether a request will be fulfilled in realtime, we only need the *_at_request columns\n",
    "train_json_df= train_json_df.drop(['number_of_downvotes_of_request_at_retrieval', 'number_of_upvotes_of_request_at_retrieval',\n",
    "                           'request_number_of_comments_at_retrieval', 'requester_account_age_in_days_at_retrieval',\n",
    "                           'requester_days_since_first_post_on_raop_at_retrieval', 'requester_number_of_comments_at_retrieval',\n",
    "                           'requester_number_of_comments_in_raop_at_retrieval', 'requester_number_of_posts_at_retrieval',\n",
    "                           'requester_number_of_posts_on_raop_at_retrieval', 'requester_upvotes_minus_downvotes_at_retrieval',\n",
    "                           'requester_upvotes_plus_downvotes_at_retrieval'], axis = 1)\n",
    "\n",
    "dev_data= dev_data.drop(['number_of_downvotes_of_request_at_retrieval', 'number_of_upvotes_of_request_at_retrieval',\n",
    "                           'request_number_of_comments_at_retrieval', 'requester_account_age_in_days_at_retrieval',\n",
    "                           'requester_days_since_first_post_on_raop_at_retrieval', 'requester_number_of_comments_at_retrieval',\n",
    "                           'requester_number_of_comments_in_raop_at_retrieval', 'requester_number_of_posts_at_retrieval',\n",
    "                           'requester_number_of_posts_on_raop_at_retrieval', 'requester_upvotes_minus_downvotes_at_retrieval',\n",
    "                           'requester_upvotes_plus_downvotes_at_retrieval'], axis = 1)"
   ]
  },
  {
   "cell_type": "markdown",
   "metadata": {},
   "source": [
    "#### Baseline"
   ]
  },
  {
   "cell_type": "code",
   "execution_count": 6,
   "metadata": {},
   "outputs": [],
   "source": [
    "train_json_df = train_json_df.drop(['request_text','requester_received_pizza',\n",
    "                            'giver_username_if_known', 'post_was_edited',\n",
    "                            'request_id', 'request_text_edit_aware',\n",
    "                            'request_title',\n",
    "                            'requester_subreddits_at_request',\n",
    "                            'unix_timestamp_of_request_utc',\n",
    "                            'unix_timestamp_of_request',\n",
    "                            'requester_username', 'requester_user_flair'], axis = 1)\n",
    "dev_data = dev_data.drop(['request_text','requester_received_pizza',\n",
    "                            'giver_username_if_known', 'post_was_edited',\n",
    "                            'request_id', 'request_text_edit_aware',\n",
    "                            'request_title',\n",
    "                            'requester_subreddits_at_request',\n",
    "                            'unix_timestamp_of_request_utc',\n",
    "                            'unix_timestamp_of_request',\n",
    "                            'requester_username', 'requester_user_flair'], axis = 1)"
   ]
  },
  {
   "cell_type": "code",
   "execution_count": 7,
   "metadata": {},
   "outputs": [
    {
     "name": "stdout",
     "output_type": "stream",
     "text": [
      "dev AUC: 0.603\n"
     ]
    }
   ],
   "source": [
    "lr = LogisticRegression()\n",
    "lr.fit(train_json_df, train_labels)\n",
    "\n",
    "dev_preds = lr.predict(dev_data)\n",
    "dev_probs = lr.predict_proba(dev_data)\n",
    "dev_AUC = metrics.roc_auc_score(dev_labels, dev_probs[:,1])\n",
    "\n",
    "print(\"dev AUC:\", \"{:.3f}\".format(dev_AUC))"
   ]
  },
  {
   "cell_type": "markdown",
   "metadata": {},
   "source": [
    "### EDA"
   ]
  },
  {
   "cell_type": "code",
   "execution_count": 6,
   "metadata": {},
   "outputs": [],
   "source": [
    "# Adding time features\n",
    "train_json_df['date'] = pd.to_datetime(train_json_df[\"unix_timestamp_of_request_utc\"], unit = 's')\n",
    "dev_data['date'] = pd.to_datetime(dev_data[\"unix_timestamp_of_request_utc\"], unit = 's')\n",
    "\n",
    "# Add month\n",
    "train_json_df['month'] = train_json_df['date'].dt.month\n",
    "dev_data['month'] = dev_data['date'].dt.month\n",
    "\n",
    "# Add hour\n",
    "train_json_df['hour'] = train_json_df['date'].dt.hour\n",
    "dev_data['hour'] = dev_data['date'].dt.hour\n",
    "\n",
    "# Add weekday\n",
    "train_json_df['day_of_week'] = train_json_df['date'].dt.weekday\n",
    "dev_data['day_of_week'] = dev_data['date'].dt.weekday\n",
    "\n",
    "# Add portion of month - first 15 days seems to have higher fulfillment rates\n",
    "\n",
    "# May need to turn these features into dummy variables for every hour, every day of the week"
   ]
  },
  {
   "cell_type": "code",
   "execution_count": 7,
   "metadata": {},
   "outputs": [
    {
     "data": {
      "image/png": "[encoded data removed]",
      "text/plain": [
       "<matplotlib.figure.Figure at 0x112ec3630>"
      ]
     },
     "metadata": {},
     "output_type": "display_data"
    },
    {
     "data": {
      "image/png": "[encoded data removed]",
      "text/plain": [
       "<matplotlib.figure.Figure at 0x11632f710>"
      ]
     },
     "metadata": {},
     "output_type": "display_data"
    }
   ],
   "source": [
    "df = pd.DataFrame()\n",
    "df['day']=train_json_df['date'].dt.day\n",
    "df['result'] = train_json_df[\"requester_received_pizza\"]\n",
    "df['day', 'result'] = df.groupby('day').count().plot().set_title('Number of Requests by Time of Day')\n",
    "df['day', 'result'] = df.groupby('day').mean().plot().set_title('Percent of Fulfilled Requests by Time of Day')"
   ]
  },
  {
   "cell_type": "code",
   "execution_count": 14,
   "metadata": {},
   "outputs": [
    {
     "name": "stdout",
     "output_type": "stream",
     "text": [
      "requester_account_age_in_days_at_request\n",
      "Fulfilled Mean: 272.75\n",
      "Unfulfilled Mean: 248.47\n",
      "\n",
      "requester_days_since_first_post_on_raop_at_request\n",
      "Fulfilled Mean: 28.12\n",
      "Unfulfilled Mean: 13.31\n",
      "\n",
      "requester_number_of_comments_at_request\n",
      "Fulfilled Mean: 119.44\n",
      "Unfulfilled Mean: 109.8\n",
      "\n",
      "requester_number_of_comments_in_raop_at_request\n",
      "Fulfilled Mean: 1.35\n",
      "Unfulfilled Mean: 0.39\n",
      "\n",
      "requester_number_of_posts_at_request\n",
      "Fulfilled Mean: 24.12\n",
      "Unfulfilled Mean: 21.19\n",
      "\n",
      "requester_number_of_posts_on_raop_at_request\n",
      "Fulfilled Mean: 0.14\n",
      "Unfulfilled Mean: 0.04\n",
      "\n",
      "requester_number_of_subreddits_at_request\n",
      "Fulfilled Mean: 19.31\n",
      "Unfulfilled Mean: 17.66\n",
      "\n",
      "requester_upvotes_minus_downvotes_at_request\n",
      "Fulfilled Mean: 1394.78\n",
      "Unfulfilled Mean: 1065.77\n",
      "\n",
      "requester_upvotes_plus_downvotes_at_request\n",
      "Fulfilled Mean: 5329.09\n",
      "Unfulfilled Mean: 3194.45\n",
      "\n",
      "unix_timestamp_of_request\n",
      "Fulfilled Mean: 1338236697.99\n",
      "Unfulfilled Mean: 1343968092.9\n",
      "\n",
      "unix_timestamp_of_request_utc\n",
      "Fulfilled Mean: 1338233737.08\n",
      "Unfulfilled Mean: 1343964922.13\n",
      "\n",
      "month\n",
      "Fulfilled Mean: 6.77\n",
      "Unfulfilled Mean: 6.93\n",
      "\n",
      "hour\n",
      "Fulfilled Mean: 13.35\n",
      "Unfulfilled Mean: 12.97\n",
      "\n",
      "day_of_week\n",
      "Fulfilled Mean: 2.8\n",
      "Unfulfilled Mean: 2.96\n",
      "\n",
      "weekend\n",
      "Fulfilled Mean: 0.0\n",
      "Unfulfilled Mean: 0.0\n",
      "\n"
     ]
    }
   ],
   "source": [
    "# Look at other metadata and see if there are significant differences between fullfilled and unfulfilled requests\n",
    "def mean_calc(feature):\n",
    "    print(feature)\n",
    "    print('Fulfilled Mean: ' + str(round(train_json_df[feature][train_labels].mean(),2)))\n",
    "    print('Unfulfilled Mean: ' + str(round(train_json_df[feature][np.logical_not(train_labels)].mean(),2)) + '\\n')\n",
    "\n",
    "# Create new df with just the features that have numeric values\n",
    "numerics = ['int16', 'int32', 'int64', 'float16', 'float32', 'float64']\n",
    "numeric_feat = train_json_df.select_dtypes(include=numerics)\n",
    "\n",
    "for feat in numeric_feat.columns.values:\n",
    "    mean_calc(feat)\n"
   ]
  },
  {
   "cell_type": "markdown",
   "metadata": {},
   "source": [
    "#### Features of importance:\n",
    "##### requester_account_age_in_days_at_request: \n",
    "successful accounts are older\n",
    "\n",
    "##### requester_days_since_first_post_on_raop_at_request:\n",
    "successful accounts aren’t as frequent of posters as their counterparts\n",
    "\n",
    "##### requester_number_of_comments_at_request, requester_number_of_comments_in_raop_at_request\n",
    "successful accounts are more active commentators in general and within RAOP\n",
    "\n",
    "##### requester_number_of_posts_on_raop_at_request\n",
    "successful accounts have posted less on RAOP than their counterparts\n",
    "\n",
    "##### requester_number_of_subreddits_at_request, requester_upvotes_minus_downvotes_at_request, requester_upvotes_plus_downvotes_at_request\n",
    "successful accounts are more active AND more supportive than their counterparts"
   ]
  },
  {
   "cell_type": "code",
   "execution_count": 15,
   "metadata": {},
   "outputs": [],
   "source": [
    "# Calculate user activity on raop in relation to overall Reddit activity\n",
    "train_json_df['comment_ratio']= train_json_df['requester_number_of_comments_in_raop_at_request']/train_json_df['requester_number_of_comments_at_request']\n",
    "train_json_df['post_ratio']=train_json_df['requester_number_of_posts_on_raop_at_request']/train_json_df['requester_number_of_posts_at_request']\n",
    "\n",
    "\n",
    "# Calculate number of upvotes and downvotes\n",
    "train_json_df['upvotes'] = train_json_df['requester_upvotes_plus_downvotes_at_request']+ train_json_df['requester_upvotes_minus_downvotes_at_request']/2\n",
    "train_json_df['downvotes'] = train_json_df['requester_upvotes_plus_downvotes_at_request'] - train_json_df['upvotes']\n",
    "\n",
    "# Calculate upvote to downvote ratio\n",
    "train_json_df['upvotes ratio'] = train_json_df['upvotes']/train_json_df['requester_upvotes_plus_downvotes_at_request']"
   ]
  },
  {
   "cell_type": "code",
   "execution_count": 9,
   "metadata": {},
   "outputs": [
    {
     "data": {
      "text/plain": [
       "count    3232.000000\n",
       "mean      112.135210\n",
       "std       189.987043\n",
       "min         0.000000\n",
       "25%         0.000000\n",
       "50%        22.000000\n",
       "75%       134.000000\n",
       "max       994.000000\n",
       "Name: requester_number_of_comments_at_request, dtype: float64"
      ]
     },
     "execution_count": 9,
     "metadata": {},
     "output_type": "execute_result"
    }
   ],
   "source": [
    "train_json_df['requester_number_of_comments_at_request'].describe()"
   ]
  },
  {
   "cell_type": "code",
   "execution_count": 10,
   "metadata": {},
   "outputs": [
    {
     "data": {
      "text/plain": [
       "count    3232.000000\n",
       "mean       21.896349\n",
       "std        51.810980\n",
       "min         0.000000\n",
       "25%         0.000000\n",
       "50%         4.000000\n",
       "75%        22.000000\n",
       "max       867.000000\n",
       "Name: requester_number_of_posts_at_request, dtype: float64"
      ]
     },
     "execution_count": 10,
     "metadata": {},
     "output_type": "execute_result"
    }
   ],
   "source": [
    "train_json_df['requester_number_of_posts_at_request'].describe()"
   ]
  },
  {
   "cell_type": "code",
   "execution_count": 11,
   "metadata": {},
   "outputs": [
    {
     "data": {
      "text/plain": [
       "count    3.232000e+03\n",
       "mean     3.711598e+03\n",
       "std      2.512499e+04\n",
       "min      0.000000e+00\n",
       "25%      7.000000e+00\n",
       "50%      3.345000e+02\n",
       "75%      2.277250e+03\n",
       "max      1.286864e+06\n",
       "Name: requester_upvotes_plus_downvotes_at_request, dtype: float64"
      ]
     },
     "execution_count": 11,
     "metadata": {},
     "output_type": "execute_result"
    }
   ],
   "source": [
    "train_json_df['requester_upvotes_plus_downvotes_at_request'].describe()"
   ]
  },
  {
   "cell_type": "code",
   "execution_count": 16,
   "metadata": {
    "collapsed": true
   },
   "outputs": [],
   "source": [
    "# Since some of the denominators are zero, use average ratio for all infinity and null values \n",
    "train_json_df.loc[train_json_df['comment_ratio'] == np.inf, 'comment_ratio'] = train_json_df.loc[train_json_df['comment_ratio'] != np.inf, 'comment_ratio'].mean(skipna = True)\n",
    "    \n",
    "train_json_df.loc[pd.isnull(train_json_df['comment_ratio']), 'comment_ratio'] = train_json_df.loc[pd.notnull(train_json_df['comment_ratio']), 'comment_ratio'].mean(skipna = True)\n",
    "\n",
    "train_json_df.loc[train_json_df['post_ratio'] == np.inf, 'post_ratio'] = train_json_df.loc[train_json_df['post_ratio'] != np.inf, 'post_ratio'].mean(skipna = True)\n",
    "    \n",
    "train_json_df.loc[pd.isnull(train_json_df['post_ratio']), 'post_ratio'] = train_json_df.loc[pd.notnull(train_json_df['post_ratio']), 'post_ratio'].mean(skipna = True)\n",
    "\n",
    "train_json_df.loc[train_json_df['upvotes ratio'] == np.inf, 'upvotes ratio'] = train_json_df.loc[train_json_df['upvotes ratio'] != np.inf, 'upvotes ratio'].mean(skipna = True)\n",
    "    \n",
    "train_json_df.loc[pd.isnull(train_json_df['upvotes ratio']), 'upvotes ratio'] = train_json_df.loc[pd.notnull(train_json_df['upvotes ratio']), 'upvotes ratio'].mean(skipna = True)"
   ]
  },
  {
   "cell_type": "code",
   "execution_count": 17,
   "metadata": {
    "collapsed": true
   },
   "outputs": [],
   "source": [
    "# Do the same for dev_data\n",
    "dev_data['comment_ratio']= dev_data['requester_number_of_comments_in_raop_at_request']/dev_data['requester_number_of_comments_at_request']\n",
    "dev_data['post_ratio']=dev_data['requester_number_of_posts_on_raop_at_request']/dev_data['requester_number_of_posts_at_request']\n",
    "dev_data['upvotes'] = dev_data['requester_upvotes_plus_downvotes_at_request']+ dev_data['requester_upvotes_minus_downvotes_at_request']/2\n",
    "dev_data['downvotes'] = dev_data['requester_upvotes_plus_downvotes_at_request'] - dev_data['upvotes']\n",
    "dev_data['upvotes ratio'] = dev_data['upvotes']/dev_data['requester_upvotes_plus_downvotes_at_request']\n",
    "\n",
    "dev_data.loc[dev_data['comment_ratio'] == np.inf, 'comment_ratio'] = dev_data.loc[dev_data['comment_ratio'] != np.inf, 'comment_ratio'].mean(skipna = True)\n",
    "    \n",
    "dev_data.loc[pd.isnull(dev_data['comment_ratio']), 'comment_ratio'] = dev_data.loc[pd.notnull(dev_data['comment_ratio']), 'comment_ratio'].mean(skipna = True)\n",
    "\n",
    "dev_data.loc[dev_data['post_ratio'] == np.inf, 'post_ratio'] = dev_data.loc[dev_data['post_ratio'] != np.inf, 'post_ratio'].mean(skipna = True)\n",
    "    \n",
    "dev_data.loc[pd.isnull(dev_data['post_ratio']), 'post_ratio'] = dev_data.loc[pd.notnull(dev_data['post_ratio']), 'post_ratio'].mean(skipna = True)\n",
    "\n",
    "dev_data.loc[dev_data['upvotes ratio'] == np.inf, 'upvotes ratio'] = dev_data.loc[dev_data['upvotes ratio'] != np.inf, 'upvotes ratio'].mean(skipna = True)\n",
    "    \n",
    "dev_data.loc[pd.isnull(dev_data['upvotes ratio']), 'upvotes ratio'] = dev_data.loc[pd.notnull(dev_data['upvotes ratio']), 'upvotes ratio'].mean(skipna = True)"
   ]
  },
  {
   "cell_type": "markdown",
   "metadata": {},
   "source": [
    "#### Text Field Analyses"
   ]
  },
  {
   "cell_type": "code",
   "execution_count": null,
   "metadata": {
    "collapsed": true
   },
   "outputs": [],
   "source": [
    "# Look at punctuation, words"
   ]
  },
  {
   "cell_type": "code",
   "execution_count": 18,
   "metadata": {},
   "outputs": [
    {
     "name": "stdout",
     "output_type": "stream",
     "text": [
      "title_length\n",
      "Fulfilled Mean: 16.8\n",
      "Unfulfilled Mean: 16.48\n",
      "\n"
     ]
    }
   ],
   "source": [
    "# Get number of words in title\n",
    "train_json_df['title_length'] = train_json_df['request_title'].apply(lambda x: len(word_tokenize(x)))\n",
    "mean_calc('title_length')"
   ]
  },
  {
   "cell_type": "code",
   "execution_count": 19,
   "metadata": {},
   "outputs": [
    {
     "name": "stdout",
     "output_type": "stream",
     "text": [
      "request_text_length\n",
      "Fulfilled Mean: 103.95\n",
      "Unfulfilled Mean: 83.14\n",
      "\n"
     ]
    }
   ],
   "source": [
    "# Get number of words in request text\n",
    "train_json_df['request_text_length'] = train_json_df['request_text_edit_aware'].apply(lambda x: len(word_tokenize(x)))\n",
    "mean_calc('request_text_length')"
   ]
  },
  {
   "cell_type": "markdown",
   "metadata": {},
   "source": [
    "While there doesn't seem like there's much of a difference in title length between fulfilled and unfulfilled requests, request text length seems to differ quite a bit. Thus, we should add this feature."
   ]
  },
  {
   "cell_type": "code",
   "execution_count": 20,
   "metadata": {
    "collapsed": true
   },
   "outputs": [],
   "source": [
    "dev_data['request_text_length'] = dev_data['request_text_edit_aware'].apply(lambda x: len(word_tokenize(x)))"
   ]
  },
  {
   "cell_type": "code",
   "execution_count": 21,
   "metadata": {},
   "outputs": [
    {
     "name": "stdout",
     "output_type": "stream",
     "text": [
      "request_num_sent\n",
      "Fulfilled Mean: 5.6\n",
      "Unfulfilled Mean: 4.67\n",
      "\n"
     ]
    }
   ],
   "source": [
    "train_json_df['request_num_sent'] = train_json_df['request_text_edit_aware'].apply(lambda x: len(sent_tokenize(x)))\n",
    "mean_calc('request_num_sent')"
   ]
  },
  {
   "cell_type": "code",
   "execution_count": 22,
   "metadata": {},
   "outputs": [],
   "source": [
    "dev_data['request_num_sent'] = dev_data['request_text_edit_aware'].apply(lambda x: len(sent_tokenize(x)))"
   ]
  },
  {
   "cell_type": "code",
   "execution_count": 26,
   "metadata": {},
   "outputs": [
    {
     "data": {
      "text/plain": [
       "array(['giver_username_if_known', 'post_was_edited', 'request_id',\n",
       "       'request_text', 'request_text_edit_aware', 'request_title',\n",
       "       'requester_account_age_in_days_at_request',\n",
       "       'requester_days_since_first_post_on_raop_at_request',\n",
       "       'requester_number_of_comments_at_request',\n",
       "       'requester_number_of_comments_in_raop_at_request',\n",
       "       'requester_number_of_posts_at_request',\n",
       "       'requester_number_of_posts_on_raop_at_request',\n",
       "       'requester_number_of_subreddits_at_request',\n",
       "       'requester_received_pizza', 'requester_subreddits_at_request',\n",
       "       'requester_upvotes_minus_downvotes_at_request',\n",
       "       'requester_upvotes_plus_downvotes_at_request',\n",
       "       'requester_user_flair', 'requester_username',\n",
       "       'unix_timestamp_of_request', 'unix_timestamp_of_request_utc',\n",
       "       'date', 'month', 'hour', 'day_of_week', 'weekend', 'comment_ratio',\n",
       "       'post_ratio', 'upvotes', 'downvotes', 'upvotes ratio',\n",
       "       'title_length', 'request_text_length', 'request_num_sent',\n",
       "       'has_image', 'gratitude', 'reciprocity'], dtype=object)"
      ]
     },
     "execution_count": 26,
     "metadata": {},
     "output_type": "execute_result"
    }
   ],
   "source": [
    "train_df.columns.values"
   ]
  },
  {
   "cell_type": "code",
   "execution_count": 23,
   "metadata": {},
   "outputs": [],
   "source": [
    "train_data = train_json_df.drop(['request_text', 'title_length','requester_received_pizza',\n",
    "                            'giver_username_if_known', 'post_was_edited',\n",
    "                            'request_id', 'request_text_edit_aware',\n",
    "                            'request_title',\n",
    "                            'requester_subreddits_at_request',\n",
    "                            'unix_timestamp_of_request_utc',\n",
    "                            'unix_timestamp_of_request',\n",
    "                            'requester_username', 'requester_user_flair',\n",
    "                            'date'\n",
    "                            ],\n",
    "                           axis = 1)\n",
    "\n",
    "dev_data = dev_data.drop(['request_text', 'requester_received_pizza',\n",
    "                            'giver_username_if_known', 'post_was_edited',\n",
    "                            'request_id', 'request_text_edit_aware',\n",
    "                            'request_title',\n",
    "                            'requester_subreddits_at_request',\n",
    "                            'unix_timestamp_of_request_utc',\n",
    "                            'unix_timestamp_of_request',\n",
    "                            'requester_username', 'requester_user_flair',\n",
    "                            'date'\n",
    "                            ],\n",
    "                           axis = 1)"
   ]
  },
  {
   "cell_type": "code",
   "execution_count": 24,
   "metadata": {},
   "outputs": [
    {
     "data": {
      "text/plain": [
       "(3232, 20)"
      ]
     },
     "execution_count": 24,
     "metadata": {},
     "output_type": "execute_result"
    }
   ],
   "source": [
    "train_data.shape"
   ]
  },
  {
   "cell_type": "code",
   "execution_count": 25,
   "metadata": {},
   "outputs": [
    {
     "data": {
      "text/plain": [
       "(808, 20)"
      ]
     },
     "execution_count": 25,
     "metadata": {},
     "output_type": "execute_result"
    }
   ],
   "source": [
    "dev_data.shape"
   ]
  },
  {
   "cell_type": "code",
   "execution_count": 26,
   "metadata": {},
   "outputs": [
    {
     "data": {
      "text/plain": [
       "requester_account_age_in_days_at_request              0\n",
       "requester_days_since_first_post_on_raop_at_request    0\n",
       "requester_number_of_comments_at_request               0\n",
       "requester_number_of_comments_in_raop_at_request       0\n",
       "requester_number_of_posts_at_request                  0\n",
       "requester_number_of_posts_on_raop_at_request          0\n",
       "requester_number_of_subreddits_at_request             0\n",
       "requester_upvotes_minus_downvotes_at_request          0\n",
       "requester_upvotes_plus_downvotes_at_request           0\n",
       "month                                                 0\n",
       "hour                                                  0\n",
       "day_of_week                                           0\n",
       "weekend                                               0\n",
       "comment_ratio                                         0\n",
       "post_ratio                                            0\n",
       "upvotes                                               0\n",
       "downvotes                                             0\n",
       "upvotes ratio                                         0\n",
       "request_text_length                                   0\n",
       "request_num_sent                                      0\n",
       "dtype: int64"
      ]
     },
     "execution_count": 26,
     "metadata": {},
     "output_type": "execute_result"
    }
   ],
   "source": [
    "dev_data.isnull().sum()"
   ]
  },
  {
   "cell_type": "code",
   "execution_count": 27,
   "metadata": {},
   "outputs": [
    {
     "name": "stdout",
     "output_type": "stream",
     "text": [
      "dev AUC: 0.620\n"
     ]
    }
   ],
   "source": [
    "lr = LogisticRegression()\n",
    "lr.fit(train_data, train_labels)\n",
    "\n",
    "dev_preds = lr.predict(dev_data)\n",
    "dev_probs = lr.predict_proba(dev_data)\n",
    "dev_AUC = metrics.roc_auc_score(dev_labels, dev_probs[:,1])\n",
    "\n",
    "print(\"dev AUC:\", \"{:.3f}\".format(dev_AUC))"
   ]
  },
  {
   "cell_type": "code",
   "execution_count": 23,
   "metadata": {},
   "outputs": [
    {
     "name": "stderr",
     "output_type": "stream",
     "text": [
      "/Users/arthur/anaconda/lib/python3.6/site-packages/sklearn/utils/validation.py:526: DataConversionWarning: A column-vector y was passed when a 1d array was expected. Please change the shape of y to (n_samples, ), for example using ravel().\n",
      "  y = column_or_1d(y, warn=True)\n"
     ]
    },
    {
     "ename": "ValueError",
     "evalue": "Input X must be non-negative",
     "output_type": "error",
     "traceback": [
      "\u001b[0;31m---------------------------------------------------------------------------\u001b[0m",
      "\u001b[0;31mValueError\u001b[0m                                Traceback (most recent call last)",
      "\u001b[0;32m<ipython-input-23-4c9e62534161>\u001b[0m in \u001b[0;36m<module>\u001b[0;34m()\u001b[0m\n\u001b[1;32m      9\u001b[0m \u001b[0;34m\u001b[0m\u001b[0m\n\u001b[1;32m     10\u001b[0m \u001b[0;31m# train the MultinomialNB\u001b[0m\u001b[0;34m\u001b[0m\u001b[0;34m\u001b[0m\u001b[0m\n\u001b[0;32m---> 11\u001b[0;31m \u001b[0mnb\u001b[0m\u001b[0;34m.\u001b[0m\u001b[0mfit\u001b[0m\u001b[0;34m(\u001b[0m\u001b[0mtrain_data\u001b[0m\u001b[0;34m,\u001b[0m \u001b[0mtrain_labels\u001b[0m\u001b[0;34m)\u001b[0m\u001b[0;34m\u001b[0m\u001b[0m\n\u001b[0m\u001b[1;32m     12\u001b[0m \u001b[0;34m\u001b[0m\u001b[0m\n\u001b[1;32m     13\u001b[0m \u001b[0mpred_dev_prob\u001b[0m \u001b[0;34m=\u001b[0m \u001b[0mnb\u001b[0m\u001b[0;34m.\u001b[0m\u001b[0mpredict_proba\u001b[0m\u001b[0;34m(\u001b[0m\u001b[0mdev_data\u001b[0m\u001b[0;34m)\u001b[0m\u001b[0;34m[\u001b[0m\u001b[0;34m:\u001b[0m\u001b[0;34m,\u001b[0m\u001b[0;36m0\u001b[0m\u001b[0;34m]\u001b[0m\u001b[0;34m\u001b[0m\u001b[0m\n",
      "\u001b[0;32m/Users/arthur/anaconda/lib/python3.6/site-packages/sklearn/naive_bayes.py\u001b[0m in \u001b[0;36mfit\u001b[0;34m(self, X, y, sample_weight)\u001b[0m\n\u001b[1;32m    585\u001b[0m         self.feature_count_ = np.zeros((n_effective_classes, n_features),\n\u001b[1;32m    586\u001b[0m                                        dtype=np.float64)\n\u001b[0;32m--> 587\u001b[0;31m         \u001b[0mself\u001b[0m\u001b[0;34m.\u001b[0m\u001b[0m_count\u001b[0m\u001b[0;34m(\u001b[0m\u001b[0mX\u001b[0m\u001b[0;34m,\u001b[0m \u001b[0mY\u001b[0m\u001b[0;34m)\u001b[0m\u001b[0;34m\u001b[0m\u001b[0m\n\u001b[0m\u001b[1;32m    588\u001b[0m         \u001b[0mself\u001b[0m\u001b[0;34m.\u001b[0m\u001b[0m_update_feature_log_prob\u001b[0m\u001b[0;34m(\u001b[0m\u001b[0;34m)\u001b[0m\u001b[0;34m\u001b[0m\u001b[0m\n\u001b[1;32m    589\u001b[0m         \u001b[0mself\u001b[0m\u001b[0;34m.\u001b[0m\u001b[0m_update_class_log_prior\u001b[0m\u001b[0;34m(\u001b[0m\u001b[0mclass_prior\u001b[0m\u001b[0;34m=\u001b[0m\u001b[0mclass_prior\u001b[0m\u001b[0;34m)\u001b[0m\u001b[0;34m\u001b[0m\u001b[0m\n",
      "\u001b[0;32m/Users/arthur/anaconda/lib/python3.6/site-packages/sklearn/naive_bayes.py\u001b[0m in \u001b[0;36m_count\u001b[0;34m(self, X, Y)\u001b[0m\n\u001b[1;32m    688\u001b[0m         \u001b[0;34m\"\"\"Count and smooth feature occurrences.\"\"\"\u001b[0m\u001b[0;34m\u001b[0m\u001b[0m\n\u001b[1;32m    689\u001b[0m         \u001b[0;32mif\u001b[0m \u001b[0mnp\u001b[0m\u001b[0;34m.\u001b[0m\u001b[0many\u001b[0m\u001b[0;34m(\u001b[0m\u001b[0;34m(\u001b[0m\u001b[0mX\u001b[0m\u001b[0;34m.\u001b[0m\u001b[0mdata\u001b[0m \u001b[0;32mif\u001b[0m \u001b[0missparse\u001b[0m\u001b[0;34m(\u001b[0m\u001b[0mX\u001b[0m\u001b[0;34m)\u001b[0m \u001b[0;32melse\u001b[0m \u001b[0mX\u001b[0m\u001b[0;34m)\u001b[0m \u001b[0;34m<\u001b[0m \u001b[0;36m0\u001b[0m\u001b[0;34m)\u001b[0m\u001b[0;34m:\u001b[0m\u001b[0;34m\u001b[0m\u001b[0m\n\u001b[0;32m--> 690\u001b[0;31m             \u001b[0;32mraise\u001b[0m \u001b[0mValueError\u001b[0m\u001b[0;34m(\u001b[0m\u001b[0;34m\"Input X must be non-negative\"\u001b[0m\u001b[0;34m)\u001b[0m\u001b[0;34m\u001b[0m\u001b[0m\n\u001b[0m\u001b[1;32m    691\u001b[0m         \u001b[0mself\u001b[0m\u001b[0;34m.\u001b[0m\u001b[0mfeature_count_\u001b[0m \u001b[0;34m+=\u001b[0m \u001b[0msafe_sparse_dot\u001b[0m\u001b[0;34m(\u001b[0m\u001b[0mY\u001b[0m\u001b[0;34m.\u001b[0m\u001b[0mT\u001b[0m\u001b[0;34m,\u001b[0m \u001b[0mX\u001b[0m\u001b[0;34m)\u001b[0m\u001b[0;34m\u001b[0m\u001b[0m\n\u001b[1;32m    692\u001b[0m         \u001b[0mself\u001b[0m\u001b[0;34m.\u001b[0m\u001b[0mclass_count_\u001b[0m \u001b[0;34m+=\u001b[0m \u001b[0mY\u001b[0m\u001b[0;34m.\u001b[0m\u001b[0msum\u001b[0m\u001b[0;34m(\u001b[0m\u001b[0maxis\u001b[0m\u001b[0;34m=\u001b[0m\u001b[0;36m0\u001b[0m\u001b[0;34m)\u001b[0m\u001b[0;34m\u001b[0m\u001b[0m\n",
      "\u001b[0;31mValueError\u001b[0m: Input X must be non-negative"
     ]
    }
   ],
   "source": [
    "# create MultinomialNB\n",
    "nb = MultinomialNB()\n",
    "    \n",
    "# test the best value for alpha\n",
    "#parameters = {'alpha': np.linspace(0.01, 10, 100)}\n",
    "\n",
    "# create GridSearchCV to find the best alpha\n",
    "#clf = GridSearchCV(nb, parameters)\n",
    "    \n",
    "# train the MultinomialNB\n",
    "nb.fit(train_data, train_labels)\n",
    "\n",
    "pred_dev_prob = nb.predict_proba(dev_data)[:,0]\n",
    "\n",
    "print(nb.best_params_)\n",
    "print(\"auc score using CountVectorizer & MultinomialNB = {}\".format(roc_auc_score(dev_labels, pred_dev_prob, average='micro')))"
   ]
  },
  {
   "cell_type": "code",
   "execution_count": 33,
   "metadata": {},
   "outputs": [
    {
     "data": {
      "text/plain": [
       "giver_username_if_known                                                                             N/A\n",
       "post_was_edited                                                                                   False\n",
       "request_id                                                                                     t3_jwijt\n",
       "request_text                                          My power was out for about 3 hours earlier thi...\n",
       "request_text_edit_aware                               My power was out for about 3 hours earlier thi...\n",
       "request_title                                         [REQUEST] My Saturday Night: Hurricane Irene i...\n",
       "requester_account_age_in_days_at_request                                                        5.81191\n",
       "requester_days_since_first_post_on_raop_at_request                                                    0\n",
       "requester_number_of_comments_at_request                                                              58\n",
       "requester_number_of_comments_in_raop_at_request                                                       0\n",
       "requester_number_of_posts_at_request                                                                  4\n",
       "requester_number_of_posts_on_raop_at_request                                                          0\n",
       "requester_number_of_subreddits_at_request                                                             6\n",
       "requester_received_pizza                                                                          False\n",
       "requester_subreddits_at_request                       [LadyBoners, circlejerk, pics, reddit.com, vid...\n",
       "requester_upvotes_minus_downvotes_at_request                                                       1885\n",
       "requester_upvotes_plus_downvotes_at_request                                                       11555\n",
       "requester_user_flair                                                                               None\n",
       "requester_username                                                                             NewToUni\n",
       "unix_timestamp_of_request                                                                   1.31449e+09\n",
       "unix_timestamp_of_request_utc                                                               1.31449e+09\n",
       "date                                                                                2011-08-27 23:09:13\n",
       "month                                                                                                 8\n",
       "hour                                                                                                 23\n",
       "day_of_week                                                                                    Saturday\n",
       "weekend                                                                                               0\n",
       "comment_ratio                                                                                         0\n",
       "post_ratio                                                                                            0\n",
       "upvotes                                                                                         12497.5\n",
       "downvotes                                                                                        -942.5\n",
       "upvotes ratio                                                                                   1.08157\n",
       "title_length                                                                                         40\n",
       "request_text_length                                                                                  89\n",
       "request_num_sent                                                                                      5\n",
       "filtered                                              [My, power, 3, hours, earlier, afternoon, ., I...\n",
       "Name: 1610, dtype: object"
      ]
     },
     "execution_count": 33,
     "metadata": {},
     "output_type": "execute_result"
    }
   ],
   "source": [
    "# Filter our stopwords in request text\n",
    "filtered_sent = []\n",
    "for text in train_json_df['request_text_edit_aware']:\n",
    "    stop_words = set(stopwords.words(\"english\"))\n",
    "    words = word_tokenize(text)\n",
    "    filtered = []\n",
    "    for w in words:\n",
    "        if w not in stop_words:\n",
    "            filtered.append(w)\n",
    "    filtered_sent.append(filtered)\n",
    "train_json_df['filtered'] = filtered_sent\n"
   ]
  },
  {
   "cell_type": "code",
   "execution_count": 52,
   "metadata": {},
   "outputs": [
    {
     "name": "stdout",
     "output_type": "stream",
     "text": [
      "I\n",
      "'m\n",
      "lucki\n",
      "internet\n",
      "come\n",
      "part\n",
      "parcel\n",
      "rent\n",
      ".\n",
      "I\n",
      "work\n",
      "retail\n",
      "groceri\n",
      "summer\n",
      "hour\n",
      "murder\n",
      "wallet\n",
      ".\n",
      "I\n",
      "hustl\n",
      "manag\n",
      "get\n",
      "good\n",
      "20-25\n",
      "hour\n",
      "week\n",
      ",\n",
      "I\n",
      "use\n",
      "push\n",
      "part\n",
      "time\n",
      "hour\n",
      "limit\n",
      ".\n",
      "I\n",
      "hate\n",
      "beg\n",
      ",\n",
      "stomach\n",
      "scof\n",
      "call\n",
      "proud\n",
      "asshol\n",
      ".\n",
      "So\n",
      "I\n",
      ":\n",
      ")\n",
      ".\n",
      "just\n",
      "one\n",
      "I\n",
      "ask\n",
      ".\n"
     ]
    }
   ],
   "source": [
    "# Stemming\n",
    "from nltk.stem import PorterStemmer\n",
    "ps = PorterStemmer()\n",
    "for l in train_json_df['filtered'][2:3]:\n",
    "    for word in l:\n",
    "        print(ps.stem(word))"
   ]
  }
 ],
 "metadata": {
  "kernelspec": {
   "display_name": "Python 3",
   "language": "python",
   "name": "python3"
  },
  "language_info": {
   "codemirror_mode": {
    "name": "ipython",
    "version": 3
   },
   "file_extension": ".py",
   "mimetype": "text/x-python",
   "name": "python",
   "nbconvert_exporter": "python",
   "pygments_lexer": "ipython3",
   "version": "3.6.1"
  }
 },
 "nbformat": 4,
 "nbformat_minor": 2
}
